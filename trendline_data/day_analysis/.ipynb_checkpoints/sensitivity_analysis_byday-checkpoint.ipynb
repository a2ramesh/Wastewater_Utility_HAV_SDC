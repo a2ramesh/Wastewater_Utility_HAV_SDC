{
 "cells": [
  {
   "cell_type": "markdown",
   "id": "c1fd5102",
   "metadata": {},
   "source": [
    "## Aim 1 Analysis (units of days)\n",
    "\n",
    "Sensitivity, PPV, NPV, sensitivity analysis of varying numbers of shedding individuals"
   ]
  },
  {
   "cell_type": "code",
   "execution_count": 13,
   "id": "4c86a10d",
   "metadata": {},
   "outputs": [],
   "source": [
    "import pandas as pd\n",
    "import numpy as np\n",
    "import altair as alt\n",
    "import matplotlib.pyplot as plt"
   ]
  },
  {
   "cell_type": "markdown",
   "id": "046fa359",
   "metadata": {},
   "source": [
    "### Description of Data\n",
    "\n",
    "The data used in this analysis depicts cases, wastewater signal and estimated number of individuals shedding from September 10th 2023 to July 13th 2024. \n",
    "\n",
    "The columns are as follows:\n",
    "\n",
    "1. `day` : the day being described\n",
    "2. `testing_day`: whether or not the wastewater at Point Loma was tested for HAV on that day-  1 if tested, 0 if not\n",
    "3. `case` : whether or not there was a case with an episode date of that day\n",
    "4. `num_shedding` : the number of people estimated to be shedding on that day\n",
    "5. `wastewater_signal` : 1 if wastewater was positive for HAV nucleic acids on that day, 0 if not"
   ]
  },
  {
   "cell_type": "code",
   "execution_count": 12,
   "id": "b23cfa8d",
   "metadata": {},
   "outputs": [],
   "source": [
    "aim1_daily = pd.read_csv(\"aim1_daily.csv\")"
   ]
  },
  {
   "cell_type": "code",
   "execution_count": 4,
   "id": "c7e19b65",
   "metadata": {},
   "outputs": [
    {
     "data": {
      "text/html": [
       "<div>\n",
       "<style scoped>\n",
       "    .dataframe tbody tr th:only-of-type {\n",
       "        vertical-align: middle;\n",
       "    }\n",
       "\n",
       "    .dataframe tbody tr th {\n",
       "        vertical-align: top;\n",
       "    }\n",
       "\n",
       "    .dataframe thead th {\n",
       "        text-align: right;\n",
       "    }\n",
       "</style>\n",
       "<table border=\"1\" class=\"dataframe\">\n",
       "  <thead>\n",
       "    <tr style=\"text-align: right;\">\n",
       "      <th></th>\n",
       "      <th>day</th>\n",
       "      <th>testing_day</th>\n",
       "      <th>case</th>\n",
       "      <th>num_shedding</th>\n",
       "      <th>wastewater_signal</th>\n",
       "    </tr>\n",
       "  </thead>\n",
       "  <tbody>\n",
       "    <tr>\n",
       "      <th>0</th>\n",
       "      <td>10-Sep-2023</td>\n",
       "      <td>1</td>\n",
       "      <td>0</td>\n",
       "      <td>0</td>\n",
       "      <td>0</td>\n",
       "    </tr>\n",
       "    <tr>\n",
       "      <th>1</th>\n",
       "      <td>11-Sep-2023</td>\n",
       "      <td>1</td>\n",
       "      <td>0</td>\n",
       "      <td>0</td>\n",
       "      <td>0</td>\n",
       "    </tr>\n",
       "    <tr>\n",
       "      <th>2</th>\n",
       "      <td>12-Sep-2023</td>\n",
       "      <td>0</td>\n",
       "      <td>0</td>\n",
       "      <td>0</td>\n",
       "      <td>0</td>\n",
       "    </tr>\n",
       "    <tr>\n",
       "      <th>3</th>\n",
       "      <td>13-Sep-2023</td>\n",
       "      <td>1</td>\n",
       "      <td>0</td>\n",
       "      <td>0</td>\n",
       "      <td>0</td>\n",
       "    </tr>\n",
       "    <tr>\n",
       "      <th>4</th>\n",
       "      <td>14-Sep-2023</td>\n",
       "      <td>0</td>\n",
       "      <td>0</td>\n",
       "      <td>0</td>\n",
       "      <td>0</td>\n",
       "    </tr>\n",
       "    <tr>\n",
       "      <th>5</th>\n",
       "      <td>15-Sep-2023</td>\n",
       "      <td>0</td>\n",
       "      <td>0</td>\n",
       "      <td>0</td>\n",
       "      <td>0</td>\n",
       "    </tr>\n",
       "    <tr>\n",
       "      <th>6</th>\n",
       "      <td>16-Sep-2023</td>\n",
       "      <td>0</td>\n",
       "      <td>0</td>\n",
       "      <td>0</td>\n",
       "      <td>0</td>\n",
       "    </tr>\n",
       "    <tr>\n",
       "      <th>7</th>\n",
       "      <td>17-Sep-2023</td>\n",
       "      <td>1</td>\n",
       "      <td>0</td>\n",
       "      <td>0</td>\n",
       "      <td>0</td>\n",
       "    </tr>\n",
       "    <tr>\n",
       "      <th>8</th>\n",
       "      <td>18-Sep-2023</td>\n",
       "      <td>1</td>\n",
       "      <td>0</td>\n",
       "      <td>0</td>\n",
       "      <td>0</td>\n",
       "    </tr>\n",
       "    <tr>\n",
       "      <th>9</th>\n",
       "      <td>19-Sep-2023</td>\n",
       "      <td>0</td>\n",
       "      <td>0</td>\n",
       "      <td>0</td>\n",
       "      <td>0</td>\n",
       "    </tr>\n",
       "  </tbody>\n",
       "</table>\n",
       "</div>"
      ],
      "text/plain": [
       "           day  testing_day  case  num_shedding  wastewater_signal\n",
       "0  10-Sep-2023            1     0             0                  0\n",
       "1  11-Sep-2023            1     0             0                  0\n",
       "2  12-Sep-2023            0     0             0                  0\n",
       "3  13-Sep-2023            1     0             0                  0\n",
       "4  14-Sep-2023            0     0             0                  0\n",
       "5  15-Sep-2023            0     0             0                  0\n",
       "6  16-Sep-2023            0     0             0                  0\n",
       "7  17-Sep-2023            1     0             0                  0\n",
       "8  18-Sep-2023            1     0             0                  0\n",
       "9  19-Sep-2023            0     0             0                  0"
      ]
     },
     "execution_count": 4,
     "metadata": {},
     "output_type": "execute_result"
    }
   ],
   "source": [
    "aim1_daily.head(10)"
   ]
  },
  {
   "cell_type": "code",
   "execution_count": 8,
   "id": "1c8bf56b",
   "metadata": {},
   "outputs": [
    {
     "data": {
      "text/plain": [
       "308"
      ]
     },
     "execution_count": 8,
     "metadata": {},
     "output_type": "execute_result"
    }
   ],
   "source": [
    "# Number of days represented\n",
    "aim1_daily.shape[0]"
   ]
  },
  {
   "cell_type": "code",
   "execution_count": 9,
   "id": "5fde841d",
   "metadata": {},
   "outputs": [
    {
     "data": {
      "text/html": [
       "<div>\n",
       "<style scoped>\n",
       "    .dataframe tbody tr th:only-of-type {\n",
       "        vertical-align: middle;\n",
       "    }\n",
       "\n",
       "    .dataframe tbody tr th {\n",
       "        vertical-align: top;\n",
       "    }\n",
       "\n",
       "    .dataframe thead th {\n",
       "        text-align: right;\n",
       "    }\n",
       "</style>\n",
       "<table border=\"1\" class=\"dataframe\">\n",
       "  <thead>\n",
       "    <tr style=\"text-align: right;\">\n",
       "      <th></th>\n",
       "      <th>day</th>\n",
       "      <th>testing_day</th>\n",
       "      <th>case</th>\n",
       "      <th>num_shedding</th>\n",
       "      <th>wastewater_signal</th>\n",
       "    </tr>\n",
       "  </thead>\n",
       "  <tbody>\n",
       "    <tr>\n",
       "      <th>0</th>\n",
       "      <td>10-Sep-2023</td>\n",
       "      <td>1</td>\n",
       "      <td>0</td>\n",
       "      <td>0</td>\n",
       "      <td>0</td>\n",
       "    </tr>\n",
       "    <tr>\n",
       "      <th>1</th>\n",
       "      <td>11-Sep-2023</td>\n",
       "      <td>1</td>\n",
       "      <td>0</td>\n",
       "      <td>0</td>\n",
       "      <td>0</td>\n",
       "    </tr>\n",
       "    <tr>\n",
       "      <th>3</th>\n",
       "      <td>13-Sep-2023</td>\n",
       "      <td>1</td>\n",
       "      <td>0</td>\n",
       "      <td>0</td>\n",
       "      <td>0</td>\n",
       "    </tr>\n",
       "    <tr>\n",
       "      <th>7</th>\n",
       "      <td>17-Sep-2023</td>\n",
       "      <td>1</td>\n",
       "      <td>0</td>\n",
       "      <td>0</td>\n",
       "      <td>0</td>\n",
       "    </tr>\n",
       "    <tr>\n",
       "      <th>8</th>\n",
       "      <td>18-Sep-2023</td>\n",
       "      <td>1</td>\n",
       "      <td>0</td>\n",
       "      <td>0</td>\n",
       "      <td>0</td>\n",
       "    </tr>\n",
       "  </tbody>\n",
       "</table>\n",
       "</div>"
      ],
      "text/plain": [
       "           day  testing_day  case  num_shedding  wastewater_signal\n",
       "0  10-Sep-2023            1     0             0                  0\n",
       "1  11-Sep-2023            1     0             0                  0\n",
       "3  13-Sep-2023            1     0             0                  0\n",
       "7  17-Sep-2023            1     0             0                  0\n",
       "8  18-Sep-2023            1     0             0                  0"
      ]
     },
     "execution_count": 9,
     "metadata": {},
     "output_type": "execute_result"
    }
   ],
   "source": [
    "# Selecting only testing days\n",
    "aim1 = aim1_daily[aim1_daily['testing_day'] == 1]\n",
    "aim1.head()"
   ]
  },
  {
   "cell_type": "code",
   "execution_count": 10,
   "id": "4d96f73a",
   "metadata": {},
   "outputs": [
    {
     "data": {
      "text/plain": [
       "131"
      ]
     },
     "execution_count": 10,
     "metadata": {},
     "output_type": "execute_result"
    }
   ],
   "source": [
    "# Number of testing days\n",
    "aim1.shape[0]"
   ]
  },
  {
   "cell_type": "code",
   "execution_count": 11,
   "id": "0c0919ac",
   "metadata": {},
   "outputs": [
    {
     "data": {
      "text/plain": [
       "day                  object\n",
       "testing_day           int64\n",
       "case                  int64\n",
       "num_shedding          int64\n",
       "wastewater_signal     int64\n",
       "dtype: object"
      ]
     },
     "execution_count": 11,
     "metadata": {},
     "output_type": "execute_result"
    }
   ],
   "source": [
    "aim1.dtypes"
   ]
  },
  {
   "cell_type": "markdown",
   "id": "be31e95d",
   "metadata": {},
   "source": [
    "First, finding **true positives (TP)**, **true negatives (TN)**, **false positives (FP)** and **false negatives (FN)**\n",
    "- True positives (TP) will be defined as days when Hepatitis A virus is detected in wastewater and there are cases of individuals shedding the virus. \n",
    "- False negatives (FN) will be defined as days when the virus is not detected in wastewater, but there are still cases of individuals shedding the virus. \n",
    "- True negatives (TN) will be defined as days with no virus detections in wastewater and no individuals shedding the virus. \n",
    "- False positives (FP) will be defined as days when the virus is detected in wastewater, but no individuals are shedding virus"
   ]
  },
  {
   "cell_type": "code",
   "execution_count": 27,
   "id": "e5c8ad62",
   "metadata": {},
   "outputs": [],
   "source": [
    "tp = aim1[(aim1['wastewater_signal'] == 1) & (aim1['num_shedding'] > 0)]\n",
    "fn = aim1[(aim1['wastewater_signal'] == 0) & (aim1['num_shedding'] > 0)]\n",
    "tn = aim1[(aim1['wastewater_signal'] == 0) & (aim1['num_shedding'] == 0)]\n",
    "fp = aim1[(aim1['wastewater_signal'] == 1) & (aim1['num_shedding'] == 0)]"
   ]
  },
  {
   "cell_type": "code",
   "execution_count": 28,
   "id": "f5f1c5cc",
   "metadata": {},
   "outputs": [
    {
     "data": {
      "text/plain": [
       "43"
      ]
     },
     "execution_count": 28,
     "metadata": {},
     "output_type": "execute_result"
    }
   ],
   "source": [
    "len(tp)"
   ]
  },
  {
   "cell_type": "code",
   "execution_count": 29,
   "id": "a6208aec",
   "metadata": {},
   "outputs": [
    {
     "data": {
      "text/plain": [
       "18"
      ]
     },
     "execution_count": 29,
     "metadata": {},
     "output_type": "execute_result"
    }
   ],
   "source": [
    "len(fn)"
   ]
  },
  {
   "cell_type": "code",
   "execution_count": 30,
   "id": "8912d61b",
   "metadata": {},
   "outputs": [
    {
     "data": {
      "text/plain": [
       "44"
      ]
     },
     "execution_count": 30,
     "metadata": {},
     "output_type": "execute_result"
    }
   ],
   "source": [
    "len(tn)"
   ]
  },
  {
   "cell_type": "code",
   "execution_count": 31,
   "id": "4107f12a",
   "metadata": {},
   "outputs": [
    {
     "data": {
      "text/plain": [
       "26"
      ]
     },
     "execution_count": 31,
     "metadata": {},
     "output_type": "execute_result"
    }
   ],
   "source": [
    "len(fp)"
   ]
  },
  {
   "cell_type": "markdown",
   "id": "96a6e799",
   "metadata": {},
   "source": [
    "### Sensitivity Overall\n",
    "\n",
    "Sensitivity will be defined as the probability of a wastewater detection given that one or more persons are shedding the virus (TP / (TP+FN))"
   ]
  },
  {
   "cell_type": "code",
   "execution_count": 9,
   "id": "6385cdce",
   "metadata": {},
   "outputs": [
    {
     "data": {
      "text/plain": [
       "0.7049180327868853"
      ]
     },
     "execution_count": 9,
     "metadata": {},
     "output_type": "execute_result"
    }
   ],
   "source": [
    "sensitivity = len(tp) / (len(tp) +len(fn))\n",
    "sensitivity"
   ]
  },
  {
   "cell_type": "markdown",
   "id": "948a1719",
   "metadata": {},
   "source": [
    "### Positive Predictive Value\n",
    "Positive predictive value (PPV) will be the probability that at least one person is shedding the virus when a wastewater detection occurs (TP / (TP+FP))"
   ]
  },
  {
   "cell_type": "code",
   "execution_count": 10,
   "id": "c9745725",
   "metadata": {},
   "outputs": [
    {
     "data": {
      "text/plain": [
       "0.6231884057971014"
      ]
     },
     "execution_count": 10,
     "metadata": {},
     "output_type": "execute_result"
    }
   ],
   "source": [
    "ppv = len(tp) / (len(tp) + len(fp))\n",
    "ppv"
   ]
  },
  {
   "cell_type": "markdown",
   "id": "6b5d10c7",
   "metadata": {},
   "source": [
    "### Negative Predictive Value\n",
    "Negative predictive value (NPV) will be the probability that no persons are shedding the virus in the absence of wastewater detections (TN / (TN+FN))"
   ]
  },
  {
   "cell_type": "code",
   "execution_count": 11,
   "id": "e3899b9f",
   "metadata": {},
   "outputs": [
    {
     "data": {
      "text/plain": [
       "0.7096774193548387"
      ]
     },
     "execution_count": 11,
     "metadata": {},
     "output_type": "execute_result"
    }
   ],
   "source": [
    "npv = len(tn) / (len(tn) + len(fn))\n",
    "npv"
   ]
  },
  {
   "cell_type": "markdown",
   "id": "a255f14d",
   "metadata": {},
   "source": [
    "### Sensitivity for Specific Numbers of People Shedding\n",
    "For this, the definitions of true positive (TP), false negative (FN), true negative (TN), and false positive (FP) will be adjusted based on the specified number of cases shedding. \n",
    "- True positives (TP) will be defined as days when Hepatitis A virus is detected in wastewater and at least the specified number of cases are shedding the virus.\n",
    "- False negatives (FN) will be days when the virus is not detected in wastewater, but at least the specified number of cases are shedding the virus. \n",
    "- True negatives (TN) will be days with no virus detections and fewer than the specified number of cases shedding the virus. \n",
    "- False positives (FP) will be days when the virus is detected in wastewater, but fewer than the specified number of cases are shedding the virus."
   ]
  },
  {
   "cell_type": "code",
   "execution_count": 12,
   "id": "0d231eb7",
   "metadata": {},
   "outputs": [
    {
     "data": {
      "text/plain": [
       "4"
      ]
     },
     "execution_count": 12,
     "metadata": {},
     "output_type": "execute_result"
    }
   ],
   "source": [
    "# Finding the maximum number of individuals assumed to be shedding at any given time in our data\n",
    "max_shedding = aim1['num_shedding'].max()\n",
    "max_shedding"
   ]
  },
  {
   "cell_type": "markdown",
   "id": "541ddfbc",
   "metadata": {},
   "source": [
    "**Since the max number of individuals shedding at any given time is 4 based on our assumptions and criteria, we will do the sensitivity analysis for 2, 3 and 4 individuals shedding**"
   ]
  },
  {
   "cell_type": "code",
   "execution_count": 13,
   "id": "b2743390",
   "metadata": {},
   "outputs": [],
   "source": [
    "# Functions for tp, fn, tn, fp with varying thresholds\n",
    "def tp(threshold, data):\n",
    "    df = data[(data['wastewater_signal'] == 1) & (data['num_shedding'] >= threshold)]\n",
    "    return df.shape[0]\n",
    "\n",
    "def fn(threshold, data):\n",
    "    df = data[(data['wastewater_signal'] == 0) & (data['num_shedding'] >= threshold)]\n",
    "    return df.shape[0]\n",
    "\n",
    "def tn(threshold, data):\n",
    "    df = data[(data['wastewater_signal'] == 0) & (data['num_shedding'] < threshold)]\n",
    "    return df.shape[0]\n",
    "\n",
    "def fp(threshold, data):\n",
    "    df = data[(data['wastewater_signal'] == 1) & (data['num_shedding'] < threshold)]\n",
    "    return df.shape[0]  "
   ]
  },
  {
   "cell_type": "code",
   "execution_count": 14,
   "id": "8ed3727b",
   "metadata": {},
   "outputs": [],
   "source": [
    "# Sensitivity, PPV, NPV functions\n",
    "def sensitivity(threshold, data):\n",
    "    return (tp(threshold, data) / (tp(threshold, data) + fn(threshold, data)))\n",
    "\n",
    "def ppv(threshold, data):\n",
    "    return tp(threshold, data) / (tp(threshold, data) + fp(threshold, data))\n",
    "\n",
    "def npv(threshold, data):\n",
    "    return tn(threshold, data) / (tn(threshold, data) + fn(threshold, data))"
   ]
  },
  {
   "cell_type": "code",
   "execution_count": 15,
   "id": "9202710e",
   "metadata": {},
   "outputs": [
    {
     "name": "stdout",
     "output_type": "stream",
     "text": [
      "sensitivity: 0.8421052631578947, ppv: 0.2318840579710145, npv: 0.9516129032258065\n"
     ]
    }
   ],
   "source": [
    "# For 2 individuals\n",
    "sensitivity_2 = sensitivity(2, aim1)\n",
    "ppv_2 = ppv(2, aim1)\n",
    "npv_2 = npv(2, aim1)\n",
    "print(f'sensitivity: {sensitivity_2}, ppv: {ppv_2}, npv: {npv_2}')"
   ]
  },
  {
   "cell_type": "code",
   "execution_count": 16,
   "id": "fcc13b7d",
   "metadata": {},
   "outputs": [
    {
     "name": "stdout",
     "output_type": "stream",
     "text": [
      "sensitivity: 0.8333333333333334, ppv: 0.21739130434782608, npv: 0.9516129032258065\n"
     ]
    }
   ],
   "source": [
    "# For 3 individuals\n",
    "sensitivity_3 = sensitivity(3, aim1)\n",
    "ppv_3 = ppv(3, aim1)\n",
    "npv_3 = npv(3, aim1)\n",
    "print(f'sensitivity: {sensitivity_3}, ppv: {ppv_3}, npv: {npv_3}')"
   ]
  },
  {
   "cell_type": "code",
   "execution_count": 17,
   "id": "b7268886",
   "metadata": {},
   "outputs": [
    {
     "name": "stdout",
     "output_type": "stream",
     "text": [
      "sensitivity: 0.9166666666666666, ppv: 0.15942028985507245, npv: 0.9838709677419355\n"
     ]
    }
   ],
   "source": [
    "# For 4 individuals\n",
    "sensitivity_4 = sensitivity(4, aim1)\n",
    "ppv_4 = ppv(4, aim1)\n",
    "npv_4 = npv(4, aim1)\n",
    "print(f'sensitivity: {sensitivity_4}, ppv: {ppv_4}, npv: {npv_4}')"
   ]
  },
  {
   "cell_type": "markdown",
   "id": "cbf01a16",
   "metadata": {},
   "source": [
    "### Conclusions\n",
    "\n",
    "- Moderately high sensitivity, PPV and NPV for detecting a single case shedding\n",
    "- decline in PPV as number of individuals shedding increases\n",
    "- increase in sensitivity for higher number of people shedding"
   ]
  },
  {
   "cell_type": "markdown",
   "id": "e7c0cff4",
   "metadata": {},
   "source": [
    "## Plotting"
   ]
  },
  {
   "cell_type": "code",
   "execution_count": 32,
   "id": "df0957b6",
   "metadata": {},
   "outputs": [
    {
     "data": {
      "text/html": [
       "\n",
       "<style>\n",
       "  #altair-viz-ef1f1674f5374b37932785e778152db8.vega-embed {\n",
       "    width: 100%;\n",
       "    display: flex;\n",
       "  }\n",
       "\n",
       "  #altair-viz-ef1f1674f5374b37932785e778152db8.vega-embed details,\n",
       "  #altair-viz-ef1f1674f5374b37932785e778152db8.vega-embed details summary {\n",
       "    position: relative;\n",
       "  }\n",
       "</style>\n",
       "<div id=\"altair-viz-ef1f1674f5374b37932785e778152db8\"></div>\n",
       "<script type=\"text/javascript\">\n",
       "  var VEGA_DEBUG = (typeof VEGA_DEBUG == \"undefined\") ? {} : VEGA_DEBUG;\n",
       "  (function(spec, embedOpt){\n",
       "    let outputDiv = document.currentScript.previousElementSibling;\n",
       "    if (outputDiv.id !== \"altair-viz-ef1f1674f5374b37932785e778152db8\") {\n",
       "      outputDiv = document.getElementById(\"altair-viz-ef1f1674f5374b37932785e778152db8\");\n",
       "    }\n",
       "    const paths = {\n",
       "      \"vega\": \"https://cdn.jsdelivr.net/npm/vega@5?noext\",\n",
       "      \"vega-lib\": \"https://cdn.jsdelivr.net/npm/vega-lib?noext\",\n",
       "      \"vega-lite\": \"https://cdn.jsdelivr.net/npm/vega-lite@5.16.3?noext\",\n",
       "      \"vega-embed\": \"https://cdn.jsdelivr.net/npm/vega-embed@6?noext\",\n",
       "    };\n",
       "\n",
       "    function maybeLoadScript(lib, version) {\n",
       "      var key = `${lib.replace(\"-\", \"\")}_version`;\n",
       "      return (VEGA_DEBUG[key] == version) ?\n",
       "        Promise.resolve(paths[lib]) :\n",
       "        new Promise(function(resolve, reject) {\n",
       "          var s = document.createElement('script');\n",
       "          document.getElementsByTagName(\"head\")[0].appendChild(s);\n",
       "          s.async = true;\n",
       "          s.onload = () => {\n",
       "            VEGA_DEBUG[key] = version;\n",
       "            return resolve(paths[lib]);\n",
       "          };\n",
       "          s.onerror = () => reject(`Error loading script: ${paths[lib]}`);\n",
       "          s.src = paths[lib];\n",
       "        });\n",
       "    }\n",
       "\n",
       "    function showError(err) {\n",
       "      outputDiv.innerHTML = `<div class=\"error\" style=\"color:red;\">${err}</div>`;\n",
       "      throw err;\n",
       "    }\n",
       "\n",
       "    function displayChart(vegaEmbed) {\n",
       "      vegaEmbed(outputDiv, spec, embedOpt)\n",
       "        .catch(err => showError(`Javascript Error: ${err.message}<br>This usually means there's a typo in your chart specification. See the javascript console for the full traceback.`));\n",
       "    }\n",
       "\n",
       "    if(typeof define === \"function\" && define.amd) {\n",
       "      requirejs.config({paths});\n",
       "      require([\"vega-embed\"], displayChart, err => showError(`Error loading script: ${err.message}`));\n",
       "    } else {\n",
       "      maybeLoadScript(\"vega\", \"5\")\n",
       "        .then(() => maybeLoadScript(\"vega-lite\", \"5.16.3\"))\n",
       "        .then(() => maybeLoadScript(\"vega-embed\", \"6\"))\n",
       "        .catch(showError)\n",
       "        .then(() => displayChart(vegaEmbed));\n",
       "    }\n",
       "  })({\"config\": {\"view\": {\"continuousWidth\": 300, \"continuousHeight\": 300}}, \"vconcat\": [{\"layer\": [{\"mark\": {\"type\": \"circle\"}, \"encoding\": {\"color\": {\"value\": \"green\"}, \"tooltip\": [{\"field\": \"day\", \"type\": \"temporal\"}, {\"field\": \"case\", \"type\": \"quantitative\"}], \"x\": {\"axis\": {\"title\": \"Date\"}, \"field\": \"day\", \"type\": \"temporal\"}, \"y\": {\"axis\": {\"title\": \"Hep A Cases\"}, \"field\": \"case\", \"type\": \"quantitative\"}}, \"title\": \"Daily Hepatitis A Cases VS Wastewater Signal\"}, {\"mark\": {\"type\": \"bar\", \"color\": \"green\", \"opacity\": 0.2}, \"encoding\": {\"color\": {\"value\": \"orange\"}, \"tooltip\": [{\"field\": \"day\", \"type\": \"temporal\"}, {\"field\": \"wastewater_signal\", \"type\": \"quantitative\"}], \"x\": {\"axis\": {\"title\": \"Date\"}, \"field\": \"day\", \"type\": \"temporal\"}, \"y\": {\"axis\": {\"title\": \"Wastewater Signal\"}, \"field\": \"wastewater_signal\", \"scale\": {\"domain\": [0, 1]}, \"type\": \"quantitative\"}}}], \"data\": {\"name\": \"data-e6b9df1f773f360f3f7dbce2bd941b97\"}, \"height\": 200, \"resolve\": {\"scale\": {\"y\": \"independent\"}}, \"width\": 1500}, {\"data\": {\"name\": \"data-326914fc76172e9b820e7d688e713c21\"}, \"mark\": {\"type\": \"bar\"}, \"encoding\": {\"color\": {\"field\": \"type\", \"legend\": {\"title\": \"Legend\"}, \"scale\": {\"domain\": [\"case\", \"wastewater_signal\"], \"range\": [\"green\", \"orange\"]}, \"type\": \"nominal\"}, \"y\": {\"axis\": {\"labels\": false, \"title\": null}, \"field\": \"value\", \"type\": \"quantitative\"}}, \"height\": 50, \"width\": 50}], \"$schema\": \"https://vega.github.io/schema/vega-lite/v5.16.3.json\", \"datasets\": {\"data-e6b9df1f773f360f3f7dbce2bd941b97\": [{\"day\": \"10-Sep-2023\", \"testing_day\": 1, \"case\": 0, \"num_shedding\": 0, \"wastewater_signal\": 0}, {\"day\": \"11-Sep-2023\", \"testing_day\": 1, \"case\": 0, \"num_shedding\": 0, \"wastewater_signal\": 0}, {\"day\": \"12-Sep-2023\", \"testing_day\": 0, \"case\": 0, \"num_shedding\": 0, \"wastewater_signal\": 0}, {\"day\": \"13-Sep-2023\", \"testing_day\": 1, \"case\": 0, \"num_shedding\": 0, \"wastewater_signal\": 0}, {\"day\": \"14-Sep-2023\", \"testing_day\": 0, \"case\": 0, \"num_shedding\": 0, \"wastewater_signal\": 0}, {\"day\": \"15-Sep-2023\", \"testing_day\": 0, \"case\": 0, \"num_shedding\": 0, \"wastewater_signal\": 0}, {\"day\": \"16-Sep-2023\", \"testing_day\": 0, \"case\": 0, \"num_shedding\": 0, \"wastewater_signal\": 0}, {\"day\": \"17-Sep-2023\", \"testing_day\": 1, \"case\": 0, \"num_shedding\": 0, \"wastewater_signal\": 0}, {\"day\": \"18-Sep-2023\", \"testing_day\": 1, \"case\": 0, \"num_shedding\": 0, \"wastewater_signal\": 0}, {\"day\": \"19-Sep-2023\", \"testing_day\": 0, \"case\": 0, \"num_shedding\": 0, \"wastewater_signal\": 0}, {\"day\": \"20-Sep-2023\", \"testing_day\": 1, \"case\": 0, \"num_shedding\": 0, \"wastewater_signal\": 0}, {\"day\": \"21-Sep-2023\", \"testing_day\": 0, \"case\": 0, \"num_shedding\": 0, \"wastewater_signal\": 0}, {\"day\": \"22-Sep-2023\", \"testing_day\": 0, \"case\": 0, \"num_shedding\": 0, \"wastewater_signal\": 0}, {\"day\": \"23-Sep-2023\", \"testing_day\": 0, \"case\": 0, \"num_shedding\": 0, \"wastewater_signal\": 0}, {\"day\": \"24-Sep-2023\", \"testing_day\": 1, \"case\": 0, \"num_shedding\": 0, \"wastewater_signal\": 0}, {\"day\": \"25-Sep-2023\", \"testing_day\": 1, \"case\": 0, \"num_shedding\": 0, \"wastewater_signal\": 0}, {\"day\": \"26-Sep-2023\", \"testing_day\": 0, \"case\": 0, \"num_shedding\": 0, \"wastewater_signal\": 0}, {\"day\": \"27-Sep-2023\", \"testing_day\": 1, \"case\": 0, \"num_shedding\": 0, \"wastewater_signal\": 0}, {\"day\": \"28-Sep-2023\", \"testing_day\": 0, \"case\": 0, \"num_shedding\": 0, \"wastewater_signal\": 0}, {\"day\": \"29-Sep-2023\", \"testing_day\": 0, \"case\": 0, \"num_shedding\": 0, \"wastewater_signal\": 0}, {\"day\": \"30-Sep-2023\", \"testing_day\": 0, \"case\": 0, \"num_shedding\": 0, \"wastewater_signal\": 0}, {\"day\": \"1-Oct-2023\", \"testing_day\": 1, \"case\": 0, \"num_shedding\": 0, \"wastewater_signal\": 0}, {\"day\": \"2-Oct-2023\", \"testing_day\": 1, \"case\": 0, \"num_shedding\": 0, \"wastewater_signal\": 0}, {\"day\": \"3-Oct-2023\", \"testing_day\": 0, \"case\": 0, \"num_shedding\": 0, \"wastewater_signal\": 0}, {\"day\": \"4-Oct-2023\", \"testing_day\": 1, \"case\": 0, \"num_shedding\": 0, \"wastewater_signal\": 0}, {\"day\": \"5-Oct-2023\", \"testing_day\": 0, \"case\": 0, \"num_shedding\": 0, \"wastewater_signal\": 0}, {\"day\": \"6-Oct-2023\", \"testing_day\": 0, \"case\": 0, \"num_shedding\": 0, \"wastewater_signal\": 0}, {\"day\": \"7-Oct-2023\", \"testing_day\": 0, \"case\": 0, \"num_shedding\": 0, \"wastewater_signal\": 0}, {\"day\": \"8-Oct-2023\", \"testing_day\": 1, \"case\": 0, \"num_shedding\": 0, \"wastewater_signal\": 0}, {\"day\": \"9-Oct-2023\", \"testing_day\": 1, \"case\": 0, \"num_shedding\": 0, \"wastewater_signal\": 1}, {\"day\": \"10-Oct-2023\", \"testing_day\": 0, \"case\": 0, \"num_shedding\": 0, \"wastewater_signal\": 0}, {\"day\": \"11-Oct-2023\", \"testing_day\": 1, \"case\": 0, \"num_shedding\": 0, \"wastewater_signal\": 1}, {\"day\": \"12-Oct-2023\", \"testing_day\": 0, \"case\": 0, \"num_shedding\": 0, \"wastewater_signal\": 0}, {\"day\": \"13-Oct-2023\", \"testing_day\": 0, \"case\": 0, \"num_shedding\": 0, \"wastewater_signal\": 0}, {\"day\": \"14-Oct-2023\", \"testing_day\": 0, \"case\": 0, \"num_shedding\": 0, \"wastewater_signal\": 0}, {\"day\": \"15-Oct-2023\", \"testing_day\": 1, \"case\": 0, \"num_shedding\": 0, \"wastewater_signal\": 1}, {\"day\": \"16-Oct-2023\", \"testing_day\": 1, \"case\": 0, \"num_shedding\": 0, \"wastewater_signal\": 1}, {\"day\": \"17-Oct-2023\", \"testing_day\": 0, \"case\": 0, \"num_shedding\": 0, \"wastewater_signal\": 0}, {\"day\": \"18-Oct-2023\", \"testing_day\": 1, \"case\": 0, \"num_shedding\": 0, \"wastewater_signal\": 1}, {\"day\": \"19-Oct-2023\", \"testing_day\": 0, \"case\": 0, \"num_shedding\": 0, \"wastewater_signal\": 0}, {\"day\": \"20-Oct-2023\", \"testing_day\": 0, \"case\": 0, \"num_shedding\": 0, \"wastewater_signal\": 0}, {\"day\": \"21-Oct-2023\", \"testing_day\": 0, \"case\": 0, \"num_shedding\": 0, \"wastewater_signal\": 0}, {\"day\": \"22-Oct-2023\", \"testing_day\": 1, \"case\": 0, \"num_shedding\": 0, \"wastewater_signal\": 1}, {\"day\": \"23-Oct-2023\", \"testing_day\": 1, \"case\": 0, \"num_shedding\": 0, \"wastewater_signal\": 1}, {\"day\": \"24-Oct-2023\", \"testing_day\": 0, \"case\": 0, \"num_shedding\": 0, \"wastewater_signal\": 0}, {\"day\": \"25-Oct-2023\", \"testing_day\": 1, \"case\": 0, \"num_shedding\": 0, \"wastewater_signal\": 1}, {\"day\": \"26-Oct-2023\", \"testing_day\": 0, \"case\": 0, \"num_shedding\": 1, \"wastewater_signal\": 0}, {\"day\": \"27-Oct-2023\", \"testing_day\": 0, \"case\": 0, \"num_shedding\": 1, \"wastewater_signal\": 0}, {\"day\": \"28-Oct-2023\", \"testing_day\": 0, \"case\": 0, \"num_shedding\": 1, \"wastewater_signal\": 0}, {\"day\": \"29-Oct-2023\", \"testing_day\": 1, \"case\": 0, \"num_shedding\": 1, \"wastewater_signal\": 1}, {\"day\": \"30-Oct-2023\", \"testing_day\": 1, \"case\": 0, \"num_shedding\": 1, \"wastewater_signal\": 1}, {\"day\": \"31-Oct-2023\", \"testing_day\": 0, \"case\": 0, \"num_shedding\": 1, \"wastewater_signal\": 0}, {\"day\": \"1-Nov-2023\", \"testing_day\": 1, \"case\": 0, \"num_shedding\": 1, \"wastewater_signal\": 1}, {\"day\": \"2-Nov-2023\", \"testing_day\": 0, \"case\": 0, \"num_shedding\": 1, \"wastewater_signal\": 0}, {\"day\": \"3-Nov-2023\", \"testing_day\": 0, \"case\": 0, \"num_shedding\": 1, \"wastewater_signal\": 0}, {\"day\": \"4-Nov-2023\", \"testing_day\": 0, \"case\": 0, \"num_shedding\": 1, \"wastewater_signal\": 0}, {\"day\": \"5-Nov-2023\", \"testing_day\": 1, \"case\": 0, \"num_shedding\": 1, \"wastewater_signal\": 1}, {\"day\": \"6-Nov-2023\", \"testing_day\": 1, \"case\": 0, \"num_shedding\": 1, \"wastewater_signal\": 1}, {\"day\": \"7-Nov-2023\", \"testing_day\": 0, \"case\": 0, \"num_shedding\": 1, \"wastewater_signal\": 0}, {\"day\": \"8-Nov-2023\", \"testing_day\": 1, \"case\": 0, \"num_shedding\": 2, \"wastewater_signal\": 1}, {\"day\": \"9-Nov-2023\", \"testing_day\": 0, \"case\": 1, \"num_shedding\": 3, \"wastewater_signal\": 0}, {\"day\": \"10-Nov-2023\", \"testing_day\": 0, \"case\": 0, \"num_shedding\": 4, \"wastewater_signal\": 0}, {\"day\": \"11-Nov-2023\", \"testing_day\": 0, \"case\": 0, \"num_shedding\": 4, \"wastewater_signal\": 0}, {\"day\": \"12-Nov-2023\", \"testing_day\": 1, \"case\": 0, \"num_shedding\": 4, \"wastewater_signal\": 1}, {\"day\": \"13-Nov-2023\", \"testing_day\": 1, \"case\": 0, \"num_shedding\": 4, \"wastewater_signal\": 1}, {\"day\": \"14-Nov-2023\", \"testing_day\": 0, \"case\": 0, \"num_shedding\": 4, \"wastewater_signal\": 0}, {\"day\": \"15-Nov-2023\", \"testing_day\": 1, \"case\": 0, \"num_shedding\": 4, \"wastewater_signal\": 1}, {\"day\": \"16-Nov-2023\", \"testing_day\": 0, \"case\": 0, \"num_shedding\": 4, \"wastewater_signal\": 0}, {\"day\": \"17-Nov-2023\", \"testing_day\": 0, \"case\": 0, \"num_shedding\": 3, \"wastewater_signal\": 0}, {\"day\": \"18-Nov-2023\", \"testing_day\": 0, \"case\": 0, \"num_shedding\": 4, \"wastewater_signal\": 0}, {\"day\": \"19-Nov-2023\", \"testing_day\": 1, \"case\": 0, \"num_shedding\": 4, \"wastewater_signal\": 1}, {\"day\": \"20-Nov-2023\", \"testing_day\": 1, \"case\": 0, \"num_shedding\": 4, \"wastewater_signal\": 1}, {\"day\": \"21-Nov-2023\", \"testing_day\": 0, \"case\": 0, \"num_shedding\": 4, \"wastewater_signal\": 0}, {\"day\": \"22-Nov-2023\", \"testing_day\": 1, \"case\": 1, \"num_shedding\": 4, \"wastewater_signal\": 1}, {\"day\": \"23-Nov-2023\", \"testing_day\": 0, \"case\": 1, \"num_shedding\": 4, \"wastewater_signal\": 0}, {\"day\": \"24-Nov-2023\", \"testing_day\": 0, \"case\": 1, \"num_shedding\": 4, \"wastewater_signal\": 0}, {\"day\": \"25-Nov-2023\", \"testing_day\": 0, \"case\": 0, \"num_shedding\": 4, \"wastewater_signal\": 0}, {\"day\": \"26-Nov-2023\", \"testing_day\": 1, \"case\": 0, \"num_shedding\": 4, \"wastewater_signal\": 1}, {\"day\": \"27-Nov-2023\", \"testing_day\": 1, \"case\": 0, \"num_shedding\": 4, \"wastewater_signal\": 1}, {\"day\": \"28-Nov-2023\", \"testing_day\": 0, \"case\": 0, \"num_shedding\": 4, \"wastewater_signal\": 0}, {\"day\": \"29-Nov-2023\", \"testing_day\": 1, \"case\": 0, \"num_shedding\": 4, \"wastewater_signal\": 1}, {\"day\": \"30-Nov-2023\", \"testing_day\": 0, \"case\": 0, \"num_shedding\": 3, \"wastewater_signal\": 0}, {\"day\": \"1-Dec-2023\", \"testing_day\": 0, \"case\": 0, \"num_shedding\": 2, \"wastewater_signal\": 0}, {\"day\": \"2-Dec-2023\", \"testing_day\": 0, \"case\": 1, \"num_shedding\": 1, \"wastewater_signal\": 0}, {\"day\": \"3-Dec-2023\", \"testing_day\": 1, \"case\": 0, \"num_shedding\": 1, \"wastewater_signal\": 1}, {\"day\": \"4-Dec-2023\", \"testing_day\": 1, \"case\": 0, \"num_shedding\": 1, \"wastewater_signal\": 1}, {\"day\": \"5-Dec-2023\", \"testing_day\": 0, \"case\": 0, \"num_shedding\": 1, \"wastewater_signal\": 0}, {\"day\": \"6-Dec-2023\", \"testing_day\": 1, \"case\": 0, \"num_shedding\": 1, \"wastewater_signal\": 1}, {\"day\": \"7-Dec-2023\", \"testing_day\": 0, \"case\": 0, \"num_shedding\": 1, \"wastewater_signal\": 0}, {\"day\": \"8-Dec-2023\", \"testing_day\": 0, \"case\": 0, \"num_shedding\": 1, \"wastewater_signal\": 0}, {\"day\": \"9-Dec-2023\", \"testing_day\": 0, \"case\": 0, \"num_shedding\": 1, \"wastewater_signal\": 0}, {\"day\": \"10-Dec-2023\", \"testing_day\": 1, \"case\": 0, \"num_shedding\": 0, \"wastewater_signal\": 1}, {\"day\": \"11-Dec-2023\", \"testing_day\": 1, \"case\": 0, \"num_shedding\": 0, \"wastewater_signal\": 1}, {\"day\": \"12-Dec-2023\", \"testing_day\": 0, \"case\": 0, \"num_shedding\": 0, \"wastewater_signal\": 0}, {\"day\": \"13-Dec-2023\", \"testing_day\": 1, \"case\": 0, \"num_shedding\": 0, \"wastewater_signal\": 1}, {\"day\": \"14-Dec-2023\", \"testing_day\": 0, \"case\": 0, \"num_shedding\": 0, \"wastewater_signal\": 0}, {\"day\": \"15-Dec-2023\", \"testing_day\": 0, \"case\": 0, \"num_shedding\": 0, \"wastewater_signal\": 0}, {\"day\": \"16-Dec-2023\", \"testing_day\": 0, \"case\": 0, \"num_shedding\": 0, \"wastewater_signal\": 0}, {\"day\": \"17-Dec-2023\", \"testing_day\": 1, \"case\": 0, \"num_shedding\": 0, \"wastewater_signal\": 1}, {\"day\": \"18-Dec-2023\", \"testing_day\": 1, \"case\": 0, \"num_shedding\": 0, \"wastewater_signal\": 0}, {\"day\": \"19-Dec-2023\", \"testing_day\": 0, \"case\": 0, \"num_shedding\": 0, \"wastewater_signal\": 0}, {\"day\": \"20-Dec-2023\", \"testing_day\": 1, \"case\": 0, \"num_shedding\": 0, \"wastewater_signal\": 0}, {\"day\": \"21-Dec-2023\", \"testing_day\": 0, \"case\": 0, \"num_shedding\": 0, \"wastewater_signal\": 0}, {\"day\": \"22-Dec-2023\", \"testing_day\": 0, \"case\": 0, \"num_shedding\": 0, \"wastewater_signal\": 0}, {\"day\": \"23-Dec-2023\", \"testing_day\": 0, \"case\": 0, \"num_shedding\": 0, \"wastewater_signal\": 0}, {\"day\": \"24-Dec-2023\", \"testing_day\": 1, \"case\": 0, \"num_shedding\": 0, \"wastewater_signal\": 0}, {\"day\": \"25-Dec-2023\", \"testing_day\": 1, \"case\": 0, \"num_shedding\": 1, \"wastewater_signal\": 0}, {\"day\": \"26-Dec-2023\", \"testing_day\": 0, \"case\": 0, \"num_shedding\": 1, \"wastewater_signal\": 0}, {\"day\": \"27-Dec-2023\", \"testing_day\": 0, \"case\": 0, \"num_shedding\": 1, \"wastewater_signal\": 0}, {\"day\": \"28-Dec-2023\", \"testing_day\": 0, \"case\": 0, \"num_shedding\": 1, \"wastewater_signal\": 0}, {\"day\": \"29-Dec-2023\", \"testing_day\": 0, \"case\": 0, \"num_shedding\": 1, \"wastewater_signal\": 0}, {\"day\": \"30-Dec-2023\", \"testing_day\": 0, \"case\": 0, \"num_shedding\": 1, \"wastewater_signal\": 0}, {\"day\": \"31-Dec-2023\", \"testing_day\": 1, \"case\": 0, \"num_shedding\": 1, \"wastewater_signal\": 0}, {\"day\": \"1-Jan-2024\", \"testing_day\": 1, \"case\": 0, \"num_shedding\": 1, \"wastewater_signal\": 0}, {\"day\": \"2-Jan-2024\", \"testing_day\": 0, \"case\": 0, \"num_shedding\": 1, \"wastewater_signal\": 0}, {\"day\": \"3-Jan-2024\", \"testing_day\": 1, \"case\": 0, \"num_shedding\": 1, \"wastewater_signal\": 0}, {\"day\": \"4-Jan-2024\", \"testing_day\": 0, \"case\": 0, \"num_shedding\": 1, \"wastewater_signal\": 0}, {\"day\": \"5-Jan-2024\", \"testing_day\": 0, \"case\": 0, \"num_shedding\": 2, \"wastewater_signal\": 0}, {\"day\": \"6-Jan-2024\", \"testing_day\": 0, \"case\": 0, \"num_shedding\": 3, \"wastewater_signal\": 0}, {\"day\": \"7-Jan-2024\", \"testing_day\": 1, \"case\": 0, \"num_shedding\": 3, \"wastewater_signal\": 0}, {\"day\": \"8-Jan-2024\", \"testing_day\": 1, \"case\": 1, \"num_shedding\": 3, \"wastewater_signal\": 0}, {\"day\": \"9-Jan-2024\", \"testing_day\": 0, \"case\": 0, \"num_shedding\": 4, \"wastewater_signal\": 0}, {\"day\": \"10-Jan-2024\", \"testing_day\": 1, \"case\": 0, \"num_shedding\": 4, \"wastewater_signal\": 0}, {\"day\": \"11-Jan-2024\", \"testing_day\": 0, \"case\": 0, \"num_shedding\": 4, \"wastewater_signal\": 0}, {\"day\": \"12-Jan-2024\", \"testing_day\": 0, \"case\": 0, \"num_shedding\": 4, \"wastewater_signal\": 0}, {\"day\": \"13-Jan-2024\", \"testing_day\": 0, \"case\": 0, \"num_shedding\": 4, \"wastewater_signal\": 0}, {\"day\": \"14-Jan-2024\", \"testing_day\": 1, \"case\": 0, \"num_shedding\": 4, \"wastewater_signal\": 1}, {\"day\": \"15-Jan-2024\", \"testing_day\": 1, \"case\": 0, \"num_shedding\": 4, \"wastewater_signal\": 1}, {\"day\": \"16-Jan-2024\", \"testing_day\": 0, \"case\": 0, \"num_shedding\": 3, \"wastewater_signal\": 0}, {\"day\": \"17-Jan-2024\", \"testing_day\": 1, \"case\": 0, \"num_shedding\": 3, \"wastewater_signal\": 1}, {\"day\": \"18-Jan-2024\", \"testing_day\": 0, \"case\": 0, \"num_shedding\": 3, \"wastewater_signal\": 0}, {\"day\": \"19-Jan-2024\", \"testing_day\": 0, \"case\": 1, \"num_shedding\": 3, \"wastewater_signal\": 0}, {\"day\": \"20-Jan-2024\", \"testing_day\": 0, \"case\": 1, \"num_shedding\": 3, \"wastewater_signal\": 0}, {\"day\": \"21-Jan-2024\", \"testing_day\": 1, \"case\": 0, \"num_shedding\": 3, \"wastewater_signal\": 1}, {\"day\": \"22-Jan-2024\", \"testing_day\": 1, \"case\": 0, \"num_shedding\": 3, \"wastewater_signal\": 1}, {\"day\": \"23-Jan-2024\", \"testing_day\": 0, \"case\": 1, \"num_shedding\": 3, \"wastewater_signal\": 0}, {\"day\": \"24-Jan-2024\", \"testing_day\": 1, \"case\": 0, \"num_shedding\": 3, \"wastewater_signal\": 1}, {\"day\": \"25-Jan-2024\", \"testing_day\": 0, \"case\": 0, \"num_shedding\": 3, \"wastewater_signal\": 0}, {\"day\": \"26-Jan-2024\", \"testing_day\": 0, \"case\": 0, \"num_shedding\": 3, \"wastewater_signal\": 0}, {\"day\": \"27-Jan-2024\", \"testing_day\": 0, \"case\": 0, \"num_shedding\": 2, \"wastewater_signal\": 0}, {\"day\": \"28-Jan-2024\", \"testing_day\": 1, \"case\": 0, \"num_shedding\": 1, \"wastewater_signal\": 1}, {\"day\": \"29-Jan-2024\", \"testing_day\": 1, \"case\": 0, \"num_shedding\": 1, \"wastewater_signal\": 1}, {\"day\": \"30-Jan-2024\", \"testing_day\": 0, \"case\": 0, \"num_shedding\": 1, \"wastewater_signal\": 0}, {\"day\": \"31-Jan-2024\", \"testing_day\": 1, \"case\": 0, \"num_shedding\": 0, \"wastewater_signal\": 1}, {\"day\": \"1-Feb-2024\", \"testing_day\": 0, \"case\": 0, \"num_shedding\": 0, \"wastewater_signal\": 0}, {\"day\": \"2-Feb-2024\", \"testing_day\": 0, \"case\": 0, \"num_shedding\": 0, \"wastewater_signal\": 0}, {\"day\": \"3-Feb-2024\", \"testing_day\": 0, \"case\": 0, \"num_shedding\": 0, \"wastewater_signal\": 0}, {\"day\": \"4-Feb-2024\", \"testing_day\": 1, \"case\": 0, \"num_shedding\": 0, \"wastewater_signal\": 1}, {\"day\": \"5-Feb-2024\", \"testing_day\": 1, \"case\": 0, \"num_shedding\": 0, \"wastewater_signal\": 1}, {\"day\": \"6-Feb-2024\", \"testing_day\": 0, \"case\": 0, \"num_shedding\": 0, \"wastewater_signal\": 0}, {\"day\": \"7-Feb-2024\", \"testing_day\": 1, \"case\": 0, \"num_shedding\": 0, \"wastewater_signal\": 1}, {\"day\": \"8-Feb-2024\", \"testing_day\": 0, \"case\": 0, \"num_shedding\": 0, \"wastewater_signal\": 0}, {\"day\": \"9-Feb-2024\", \"testing_day\": 0, \"case\": 0, \"num_shedding\": 0, \"wastewater_signal\": 0}, {\"day\": \"10-Feb-2024\", \"testing_day\": 0, \"case\": 0, \"num_shedding\": 0, \"wastewater_signal\": 0}, {\"day\": \"11-Feb-2024\", \"testing_day\": 1, \"case\": 0, \"num_shedding\": 0, \"wastewater_signal\": 0}, {\"day\": \"12-Feb-2024\", \"testing_day\": 1, \"case\": 0, \"num_shedding\": 0, \"wastewater_signal\": 0}, {\"day\": \"13-Feb-2024\", \"testing_day\": 0, \"case\": 0, \"num_shedding\": 0, \"wastewater_signal\": 0}, {\"day\": \"14-Feb-2024\", \"testing_day\": 1, \"case\": 0, \"num_shedding\": 0, \"wastewater_signal\": 0}, {\"day\": \"15-Feb-2024\", \"testing_day\": 0, \"case\": 0, \"num_shedding\": 0, \"wastewater_signal\": 0}, {\"day\": \"16-Feb-2024\", \"testing_day\": 0, \"case\": 0, \"num_shedding\": 0, \"wastewater_signal\": 0}, {\"day\": \"17-Feb-2024\", \"testing_day\": 0, \"case\": 0, \"num_shedding\": 0, \"wastewater_signal\": 0}, {\"day\": \"18-Feb-2024\", \"testing_day\": 1, \"case\": 0, \"num_shedding\": 0, \"wastewater_signal\": 0}, {\"day\": \"19-Feb-2024\", \"testing_day\": 1, \"case\": 0, \"num_shedding\": 0, \"wastewater_signal\": 0}, {\"day\": \"20-Feb-2024\", \"testing_day\": 0, \"case\": 0, \"num_shedding\": 0, \"wastewater_signal\": 0}, {\"day\": \"21-Feb-2024\", \"testing_day\": 1, \"case\": 0, \"num_shedding\": 0, \"wastewater_signal\": 0}, {\"day\": \"22-Feb-2024\", \"testing_day\": 0, \"case\": 0, \"num_shedding\": 0, \"wastewater_signal\": 0}, {\"day\": \"23-Feb-2024\", \"testing_day\": 0, \"case\": 0, \"num_shedding\": 0, \"wastewater_signal\": 0}, {\"day\": \"24-Feb-2024\", \"testing_day\": 0, \"case\": 0, \"num_shedding\": 0, \"wastewater_signal\": 0}, {\"day\": \"25-Feb-2024\", \"testing_day\": 1, \"case\": 0, \"num_shedding\": 0, \"wastewater_signal\": 0}, {\"day\": \"26-Feb-2024\", \"testing_day\": 1, \"case\": 0, \"num_shedding\": 0, \"wastewater_signal\": 0}, {\"day\": \"27-Feb-2024\", \"testing_day\": 0, \"case\": 0, \"num_shedding\": 0, \"wastewater_signal\": 0}, {\"day\": \"28-Feb-2024\", \"testing_day\": 1, \"case\": 0, \"num_shedding\": 0, \"wastewater_signal\": 0}, {\"day\": \"29-Feb-2024\", \"testing_day\": 0, \"case\": 0, \"num_shedding\": 0, \"wastewater_signal\": 0}, {\"day\": \"1-Mar-2024\", \"testing_day\": 0, \"case\": 0, \"num_shedding\": 0, \"wastewater_signal\": 0}, {\"day\": \"2-Mar-2024\", \"testing_day\": 0, \"case\": 0, \"num_shedding\": 0, \"wastewater_signal\": 0}, {\"day\": \"3-Mar-2024\", \"testing_day\": 1, \"case\": 0, \"num_shedding\": 0, \"wastewater_signal\": 0}, {\"day\": \"4-Mar-2024\", \"testing_day\": 1, \"case\": 0, \"num_shedding\": 0, \"wastewater_signal\": 0}, {\"day\": \"5-Mar-2024\", \"testing_day\": 0, \"case\": 0, \"num_shedding\": 0, \"wastewater_signal\": 0}, {\"day\": \"6-Mar-2024\", \"testing_day\": 1, \"case\": 0, \"num_shedding\": 0, \"wastewater_signal\": 0}, {\"day\": \"7-Mar-2024\", \"testing_day\": 0, \"case\": 0, \"num_shedding\": 0, \"wastewater_signal\": 0}, {\"day\": \"8-Mar-2024\", \"testing_day\": 0, \"case\": 0, \"num_shedding\": 0, \"wastewater_signal\": 0}, {\"day\": \"9-Mar-2024\", \"testing_day\": 0, \"case\": 0, \"num_shedding\": 0, \"wastewater_signal\": 0}, {\"day\": \"10-Mar-2024\", \"testing_day\": 1, \"case\": 0, \"num_shedding\": 0, \"wastewater_signal\": 0}, {\"day\": \"11-Mar-2024\", \"testing_day\": 1, \"case\": 0, \"num_shedding\": 1, \"wastewater_signal\": 0}, {\"day\": \"12-Mar-2024\", \"testing_day\": 0, \"case\": 0, \"num_shedding\": 1, \"wastewater_signal\": 0}, {\"day\": \"13-Mar-2024\", \"testing_day\": 1, \"case\": 0, \"num_shedding\": 1, \"wastewater_signal\": 0}, {\"day\": \"14-Mar-2024\", \"testing_day\": 0, \"case\": 0, \"num_shedding\": 1, \"wastewater_signal\": 0}, {\"day\": \"15-Mar-2024\", \"testing_day\": 0, \"case\": 0, \"num_shedding\": 1, \"wastewater_signal\": 0}, {\"day\": \"16-Mar-2024\", \"testing_day\": 0, \"case\": 0, \"num_shedding\": 1, \"wastewater_signal\": 0}, {\"day\": \"17-Mar-2024\", \"testing_day\": 1, \"case\": 0, \"num_shedding\": 1, \"wastewater_signal\": 0}, {\"day\": \"18-Mar-2024\", \"testing_day\": 1, \"case\": 0, \"num_shedding\": 1, \"wastewater_signal\": 0}, {\"day\": \"19-Mar-2024\", \"testing_day\": 0, \"case\": 0, \"num_shedding\": 1, \"wastewater_signal\": 0}, {\"day\": \"20-Mar-2024\", \"testing_day\": 1, \"case\": 0, \"num_shedding\": 1, \"wastewater_signal\": 0}, {\"day\": \"21-Mar-2024\", \"testing_day\": 0, \"case\": 0, \"num_shedding\": 1, \"wastewater_signal\": 0}, {\"day\": \"22-Mar-2024\", \"testing_day\": 0, \"case\": 0, \"num_shedding\": 1, \"wastewater_signal\": 0}, {\"day\": \"23-Mar-2024\", \"testing_day\": 0, \"case\": 0, \"num_shedding\": 1, \"wastewater_signal\": 0}, {\"day\": \"24-Mar-2024\", \"testing_day\": 1, \"case\": 0, \"num_shedding\": 1, \"wastewater_signal\": 0}, {\"day\": \"25-Mar-2024\", \"testing_day\": 1, \"case\": 1, \"num_shedding\": 1, \"wastewater_signal\": 0}, {\"day\": \"26-Mar-2024\", \"testing_day\": 0, \"case\": 0, \"num_shedding\": 1, \"wastewater_signal\": 0}, {\"day\": \"27-Mar-2024\", \"testing_day\": 1, \"case\": 0, \"num_shedding\": 1, \"wastewater_signal\": 1}, {\"day\": \"28-Mar-2024\", \"testing_day\": 0, \"case\": 0, \"num_shedding\": 1, \"wastewater_signal\": 0}, {\"day\": \"29-Mar-2024\", \"testing_day\": 0, \"case\": 0, \"num_shedding\": 1, \"wastewater_signal\": 0}, {\"day\": \"30-Mar-2024\", \"testing_day\": 0, \"case\": 0, \"num_shedding\": 1, \"wastewater_signal\": 0}, {\"day\": \"31-Mar-2024\", \"testing_day\": 1, \"case\": 0, \"num_shedding\": 1, \"wastewater_signal\": 1}, {\"day\": \"1-Apr-2024\", \"testing_day\": 1, \"case\": 0, \"num_shedding\": 1, \"wastewater_signal\": 1}, {\"day\": \"2-Apr-2024\", \"testing_day\": 0, \"case\": 0, \"num_shedding\": 0, \"wastewater_signal\": 0}, {\"day\": \"3-Apr-2024\", \"testing_day\": 1, \"case\": 0, \"num_shedding\": 0, \"wastewater_signal\": 0}, {\"day\": \"4-Apr-2024\", \"testing_day\": 0, \"case\": 0, \"num_shedding\": 0, \"wastewater_signal\": 0}, {\"day\": \"5-Apr-2024\", \"testing_day\": 0, \"case\": 0, \"num_shedding\": 0, \"wastewater_signal\": 0}, {\"day\": \"6-Apr-2024\", \"testing_day\": 0, \"case\": 0, \"num_shedding\": 0, \"wastewater_signal\": 0}, {\"day\": \"7-Apr-2024\", \"testing_day\": 1, \"case\": 0, \"num_shedding\": 0, \"wastewater_signal\": 1}, {\"day\": \"8-Apr-2024\", \"testing_day\": 1, \"case\": 0, \"num_shedding\": 0, \"wastewater_signal\": 0}, {\"day\": \"9-Apr-2024\", \"testing_day\": 0, \"case\": 0, \"num_shedding\": 0, \"wastewater_signal\": 0}, {\"day\": \"10-Apr-2024\", \"testing_day\": 1, \"case\": 0, \"num_shedding\": 0, \"wastewater_signal\": 0}, {\"day\": \"11-Apr-2024\", \"testing_day\": 0, \"case\": 0, \"num_shedding\": 0, \"wastewater_signal\": 0}, {\"day\": \"12-Apr-2024\", \"testing_day\": 0, \"case\": 0, \"num_shedding\": 0, \"wastewater_signal\": 0}, {\"day\": \"13-Apr-2024\", \"testing_day\": 0, \"case\": 0, \"num_shedding\": 0, \"wastewater_signal\": 0}, {\"day\": \"14-Apr-2024\", \"testing_day\": 1, \"case\": 0, \"num_shedding\": 0, \"wastewater_signal\": 0}, {\"day\": \"15-Apr-2024\", \"testing_day\": 1, \"case\": 0, \"num_shedding\": 0, \"wastewater_signal\": 0}, {\"day\": \"16-Apr-2024\", \"testing_day\": 0, \"case\": 0, \"num_shedding\": 0, \"wastewater_signal\": 0}, {\"day\": \"17-Apr-2024\", \"testing_day\": 1, \"case\": 0, \"num_shedding\": 0, \"wastewater_signal\": 0}, {\"day\": \"18-Apr-2024\", \"testing_day\": 0, \"case\": 0, \"num_shedding\": 0, \"wastewater_signal\": 0}, {\"day\": \"19-Apr-2024\", \"testing_day\": 0, \"case\": 0, \"num_shedding\": 0, \"wastewater_signal\": 0}, {\"day\": \"20-Apr-2024\", \"testing_day\": 0, \"case\": 0, \"num_shedding\": 0, \"wastewater_signal\": 0}, {\"day\": \"21-Apr-2024\", \"testing_day\": 1, \"case\": 0, \"num_shedding\": 0, \"wastewater_signal\": 0}, {\"day\": \"22-Apr-2024\", \"testing_day\": 1, \"case\": 0, \"num_shedding\": 0, \"wastewater_signal\": 0}, {\"day\": \"23-Apr-2024\", \"testing_day\": 0, \"case\": 0, \"num_shedding\": 0, \"wastewater_signal\": 0}, {\"day\": \"24-Apr-2024\", \"testing_day\": 1, \"case\": 0, \"num_shedding\": 0, \"wastewater_signal\": 0}, {\"day\": \"25-Apr-2024\", \"testing_day\": 0, \"case\": 0, \"num_shedding\": 0, \"wastewater_signal\": 0}, {\"day\": \"26-Apr-2024\", \"testing_day\": 0, \"case\": 0, \"num_shedding\": 0, \"wastewater_signal\": 0}, {\"day\": \"27-Apr-2024\", \"testing_day\": 0, \"case\": 0, \"num_shedding\": 1, \"wastewater_signal\": 0}, {\"day\": \"28-Apr-2024\", \"testing_day\": 1, \"case\": 0, \"num_shedding\": 1, \"wastewater_signal\": 0}, {\"day\": \"29-Apr-2024\", \"testing_day\": 1, \"case\": 0, \"num_shedding\": 1, \"wastewater_signal\": 0}, {\"day\": \"30-Apr-2024\", \"testing_day\": 0, \"case\": 0, \"num_shedding\": 1, \"wastewater_signal\": 0}, {\"day\": \"1-May-2024\", \"testing_day\": 1, \"case\": 0, \"num_shedding\": 1, \"wastewater_signal\": 1}, {\"day\": \"2-May-2024\", \"testing_day\": 0, \"case\": 0, \"num_shedding\": 1, \"wastewater_signal\": 0}, {\"day\": \"3-May-2024\", \"testing_day\": 0, \"case\": 0, \"num_shedding\": 1, \"wastewater_signal\": 0}, {\"day\": \"4-May-2024\", \"testing_day\": 0, \"case\": 0, \"num_shedding\": 1, \"wastewater_signal\": 0}, {\"day\": \"5-May-2024\", \"testing_day\": 1, \"case\": 0, \"num_shedding\": 1, \"wastewater_signal\": 1}, {\"day\": \"6-May-2024\", \"testing_day\": 1, \"case\": 0, \"num_shedding\": 1, \"wastewater_signal\": 1}, {\"day\": \"7-May-2024\", \"testing_day\": 0, \"case\": 0, \"num_shedding\": 1, \"wastewater_signal\": 0}, {\"day\": \"8-May-2024\", \"testing_day\": 1, \"case\": 0, \"num_shedding\": 1, \"wastewater_signal\": 1}, {\"day\": \"9-May-2024\", \"testing_day\": 0, \"case\": 0, \"num_shedding\": 1, \"wastewater_signal\": 0}, {\"day\": \"10-May-2024\", \"testing_day\": 0, \"case\": 0, \"num_shedding\": 1, \"wastewater_signal\": 0}, {\"day\": \"11-May-2024\", \"testing_day\": 0, \"case\": 1, \"num_shedding\": 1, \"wastewater_signal\": 0}, {\"day\": \"12-May-2024\", \"testing_day\": 1, \"case\": 0, \"num_shedding\": 1, \"wastewater_signal\": 1}, {\"day\": \"13-May-2024\", \"testing_day\": 1, \"case\": 0, \"num_shedding\": 1, \"wastewater_signal\": 1}, {\"day\": \"14-May-2024\", \"testing_day\": 0, \"case\": 0, \"num_shedding\": 1, \"wastewater_signal\": 0}, {\"day\": \"15-May-2024\", \"testing_day\": 1, \"case\": 0, \"num_shedding\": 1, \"wastewater_signal\": 1}, {\"day\": \"16-May-2024\", \"testing_day\": 0, \"case\": 0, \"num_shedding\": 1, \"wastewater_signal\": 0}, {\"day\": \"17-May-2024\", \"testing_day\": 0, \"case\": 0, \"num_shedding\": 1, \"wastewater_signal\": 0}, {\"day\": \"18-May-2024\", \"testing_day\": 0, \"case\": 0, \"num_shedding\": 1, \"wastewater_signal\": 0}, {\"day\": \"19-May-2024\", \"testing_day\": 1, \"case\": 0, \"num_shedding\": 0, \"wastewater_signal\": 1}, {\"day\": \"20-May-2024\", \"testing_day\": 1, \"case\": 0, \"num_shedding\": 0, \"wastewater_signal\": 1}, {\"day\": \"21-May-2024\", \"testing_day\": 0, \"case\": 0, \"num_shedding\": 0, \"wastewater_signal\": 0}, {\"day\": \"22-May-2024\", \"testing_day\": 1, \"case\": 0, \"num_shedding\": 0, \"wastewater_signal\": 1}, {\"day\": \"23-May-2024\", \"testing_day\": 0, \"case\": 0, \"num_shedding\": 0, \"wastewater_signal\": 0}, {\"day\": \"24-May-2024\", \"testing_day\": 0, \"case\": 0, \"num_shedding\": 0, \"wastewater_signal\": 0}, {\"day\": \"25-May-2024\", \"testing_day\": 0, \"case\": 0, \"num_shedding\": 0, \"wastewater_signal\": 0}, {\"day\": \"26-May-2024\", \"testing_day\": 1, \"case\": 0, \"num_shedding\": 0, \"wastewater_signal\": 1}, {\"day\": \"27-May-2024\", \"testing_day\": 1, \"case\": 0, \"num_shedding\": 0, \"wastewater_signal\": 1}, {\"day\": \"28-May-2024\", \"testing_day\": 0, \"case\": 0, \"num_shedding\": 0, \"wastewater_signal\": 0}, {\"day\": \"29-May-2024\", \"testing_day\": 1, \"case\": 0, \"num_shedding\": 0, \"wastewater_signal\": 1}, {\"day\": \"30-May-2024\", \"testing_day\": 0, \"case\": 0, \"num_shedding\": 0, \"wastewater_signal\": 0}, {\"day\": \"31-May-2024\", \"testing_day\": 0, \"case\": 0, \"num_shedding\": 0, \"wastewater_signal\": 0}, {\"day\": \"1-Jun-2024\", \"testing_day\": 0, \"case\": 0, \"num_shedding\": 0, \"wastewater_signal\": 0}, {\"day\": \"2-Jun-2024\", \"testing_day\": 1, \"case\": 0, \"num_shedding\": 0, \"wastewater_signal\": 1}, {\"day\": \"3-Jun-2024\", \"testing_day\": 1, \"case\": 0, \"num_shedding\": 0, \"wastewater_signal\": 1}, {\"day\": \"4-Jun-2024\", \"testing_day\": 0, \"case\": 0, \"num_shedding\": 0, \"wastewater_signal\": 0}, {\"day\": \"5-Jun-2024\", \"testing_day\": 1, \"case\": 0, \"num_shedding\": 0, \"wastewater_signal\": 1}, {\"day\": \"6-Jun-2024\", \"testing_day\": 0, \"case\": 0, \"num_shedding\": 1, \"wastewater_signal\": 0}, {\"day\": \"7-Jun-2024\", \"testing_day\": 0, \"case\": 0, \"num_shedding\": 1, \"wastewater_signal\": 0}, {\"day\": \"8-Jun-2024\", \"testing_day\": 0, \"case\": 0, \"num_shedding\": 1, \"wastewater_signal\": 0}, {\"day\": \"9-Jun-2024\", \"testing_day\": 1, \"case\": 0, \"num_shedding\": 1, \"wastewater_signal\": 1}, {\"day\": \"10-Jun-2024\", \"testing_day\": 1, \"case\": 0, \"num_shedding\": 1, \"wastewater_signal\": 1}, {\"day\": \"11-Jun-2024\", \"testing_day\": 0, \"case\": 0, \"num_shedding\": 1, \"wastewater_signal\": 0}, {\"day\": \"12-Jun-2024\", \"testing_day\": 1, \"case\": 0, \"num_shedding\": 1, \"wastewater_signal\": 1}, {\"day\": \"13-Jun-2024\", \"testing_day\": 0, \"case\": 0, \"num_shedding\": 1, \"wastewater_signal\": 0}, {\"day\": \"14-Jun-2024\", \"testing_day\": 0, \"case\": 0, \"num_shedding\": 1, \"wastewater_signal\": 0}, {\"day\": \"15-Jun-2024\", \"testing_day\": 0, \"case\": 0, \"num_shedding\": 1, \"wastewater_signal\": 0}, {\"day\": \"16-Jun-2024\", \"testing_day\": 1, \"case\": 0, \"num_shedding\": 1, \"wastewater_signal\": 1}, {\"day\": \"17-Jun-2024\", \"testing_day\": 1, \"case\": 0, \"num_shedding\": 1, \"wastewater_signal\": 1}, {\"day\": \"18-Jun-2024\", \"testing_day\": 0, \"case\": 0, \"num_shedding\": 1, \"wastewater_signal\": 0}, {\"day\": \"19-Jun-2024\", \"testing_day\": 1, \"case\": 0, \"num_shedding\": 1, \"wastewater_signal\": 1}, {\"day\": \"20-Jun-2024\", \"testing_day\": 0, \"case\": 1, \"num_shedding\": 1, \"wastewater_signal\": 0}, {\"day\": \"21-Jun-2024\", \"testing_day\": 0, \"case\": 0, \"num_shedding\": 1, \"wastewater_signal\": 0}, {\"day\": \"22-Jun-2024\", \"testing_day\": 0, \"case\": 0, \"num_shedding\": 1, \"wastewater_signal\": 0}, {\"day\": \"23-Jun-2024\", \"testing_day\": 1, \"case\": 0, \"num_shedding\": 1, \"wastewater_signal\": 1}, {\"day\": \"24-Jun-2024\", \"testing_day\": 1, \"case\": 0, \"num_shedding\": 1, \"wastewater_signal\": 0}, {\"day\": \"25-Jun-2024\", \"testing_day\": 0, \"case\": 0, \"num_shedding\": 1, \"wastewater_signal\": 0}, {\"day\": \"26-Jun-2024\", \"testing_day\": 1, \"case\": 0, \"num_shedding\": 1, \"wastewater_signal\": 0}, {\"day\": \"27-Jun-2024\", \"testing_day\": 0, \"case\": 0, \"num_shedding\": 1, \"wastewater_signal\": 0}, {\"day\": \"28-Jun-2024\", \"testing_day\": 0, \"case\": 0, \"num_shedding\": 0, \"wastewater_signal\": 0}, {\"day\": \"29-Jun-2024\", \"testing_day\": 0, \"case\": 0, \"num_shedding\": 0, \"wastewater_signal\": 0}, {\"day\": \"30-Jun-2024\", \"testing_day\": 1, \"case\": 0, \"num_shedding\": 0, \"wastewater_signal\": 0}, {\"day\": \"1-Jul-2024\", \"testing_day\": 1, \"case\": 0, \"num_shedding\": 0, \"wastewater_signal\": 0}, {\"day\": \"2-Jul-2024\", \"testing_day\": 0, \"case\": 0, \"num_shedding\": 0, \"wastewater_signal\": 0}, {\"day\": \"3-Jul-2024\", \"testing_day\": 1, \"case\": 0, \"num_shedding\": 0, \"wastewater_signal\": 0}, {\"day\": \"4-Jul-2024\", \"testing_day\": 0, \"case\": 0, \"num_shedding\": 0, \"wastewater_signal\": 0}, {\"day\": \"5-Jul-2024\", \"testing_day\": 0, \"case\": 0, \"num_shedding\": 0, \"wastewater_signal\": 0}, {\"day\": \"6-Jul-2024\", \"testing_day\": 0, \"case\": 0, \"num_shedding\": 0, \"wastewater_signal\": 0}, {\"day\": \"7-Jul-2024\", \"testing_day\": 1, \"case\": 0, \"num_shedding\": 0, \"wastewater_signal\": 0}, {\"day\": \"8-Jul-2024\", \"testing_day\": 1, \"case\": 0, \"num_shedding\": 0, \"wastewater_signal\": 0}, {\"day\": \"9-Jul-2024\", \"testing_day\": 0, \"case\": 0, \"num_shedding\": 0, \"wastewater_signal\": 0}, {\"day\": \"10-Jul-2024\", \"testing_day\": 1, \"case\": 0, \"num_shedding\": 0, \"wastewater_signal\": 0}, {\"day\": \"11-Jul-2024\", \"testing_day\": 0, \"case\": 0, \"num_shedding\": 0, \"wastewater_signal\": 0}, {\"day\": \"12-Jul-2024\", \"testing_day\": 0, \"case\": 0, \"num_shedding\": 0, \"wastewater_signal\": 0}, {\"day\": \"13-Jul-2024\", \"testing_day\": 0, \"case\": 0, \"num_shedding\": 0, \"wastewater_signal\": 0}], \"data-326914fc76172e9b820e7d688e713c21\": [{\"type\": \"case\", \"value\": 1}, {\"type\": \"wastewater_signal\", \"value\": 1}]}}, {\"mode\": \"vega-lite\"});\n",
       "</script>"
      ],
      "text/plain": [
       "alt.VConcatChart(...)"
      ]
     },
     "metadata": {},
     "output_type": "display_data"
    }
   ],
   "source": [
    "# Create the daily cases bar chart with custom axis labels and color\n",
    "daily_cases_chart = alt.Chart(aim1_daily).mark_circle().encode(\n",
    "    x=alt.X('day:T', axis=alt.Axis(title='Date')),\n",
    "    y=alt.Y('case:Q', axis=alt.Axis(title='Hep A Cases')),\n",
    "    color=alt.value('green'),\n",
    "    tooltip=['day:T', 'case:Q']\n",
    ").properties(\n",
    "    title='Daily Hepatitis A Cases VS Wastewater Signal'\n",
    ")\n",
    "\n",
    "# Create the wastewater signal bar chart with custom axis labels and color\n",
    "wastewater_signal_chart_daily = alt.Chart(aim1_daily).mark_bar(color = \"green\", opacity=0.2).encode(\n",
    "    x=alt.X('day:T', axis=alt.Axis(title='Date')),\n",
    "    y=alt.Y('wastewater_signal:Q', axis=alt.Axis(title='Wastewater Signal'), scale=alt.Scale(domain=[0, 1])),\n",
    "    color=alt.value('orange'),\n",
    "    tooltip=['day:T', 'wastewater_signal:Q']\n",
    ")\n",
    "\n",
    "# Create a dummy chart for the legend\n",
    "legend_data = pd.DataFrame({\n",
    "    'type': ['case', 'wastewater_signal'],\n",
    "    'value': [1, 1]\n",
    "})\n",
    "legend_chart = alt.Chart(legend_data).mark_bar().encode(\n",
    "    y=alt.Y('value:Q', axis=alt.Axis(title=None, labels=False)),\n",
    "    color=alt.Color('type:N', scale=alt.Scale(domain=['case', 'wastewater_signal'], range=['green', 'orange']), legend=alt.Legend(title=\"Legend\"))\n",
    ").properties(\n",
    "    width=50,\n",
    "    height=50\n",
    ")\n",
    "\n",
    "# Combine the charts\n",
    "combined_chart_daily = alt.layer(\n",
    "    daily_cases_chart,\n",
    "    wastewater_signal_chart_daily\n",
    ").resolve_scale(\n",
    "    y='independent'\n",
    ").properties(\n",
    "    width=1500,\n",
    "    height=200\n",
    ") & legend_chart\n",
    "\n",
    "combined_chart_daily.display()"
   ]
  },
  {
   "cell_type": "code",
   "execution_count": null,
   "id": "98b77281",
   "metadata": {},
   "outputs": [],
   "source": []
  }
 ],
 "metadata": {
  "kernelspec": {
   "display_name": "Python 3 (ipykernel)",
   "language": "python",
   "name": "python3"
  },
  "language_info": {
   "codemirror_mode": {
    "name": "ipython",
    "version": 3
   },
   "file_extension": ".py",
   "mimetype": "text/x-python",
   "name": "python",
   "nbconvert_exporter": "python",
   "pygments_lexer": "ipython3",
   "version": "3.11.5"
  }
 },
 "nbformat": 4,
 "nbformat_minor": 5
}
