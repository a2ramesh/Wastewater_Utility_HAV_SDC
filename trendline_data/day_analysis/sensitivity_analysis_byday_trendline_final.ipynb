{
 "cells": [
  {
   "cell_type": "markdown",
   "id": "c1fd5102",
   "metadata": {},
   "source": [
    "## Aim 1 Analysis (units of days)\n",
    "\n",
    "Sensitivity, PPV, NPV, sensitivity analysis of varying numbers of shedding individuals"
   ]
  },
  {
   "cell_type": "code",
   "execution_count": 1,
   "id": "4c86a10d",
   "metadata": {},
   "outputs": [],
   "source": [
    "import pandas as pd\n",
    "import numpy as np\n",
    "import matplotlib.pyplot as plt\n",
    "import seaborn as sns"
   ]
  },
  {
   "cell_type": "markdown",
   "id": "1eaa2ad1",
   "metadata": {},
   "source": [
    "### Description of Data\n",
    "\n",
    "The data used in this analysis depicts cases, wastewater signal (from a 5 day trimmed average) and estimated number of individuals shedding from September 10th 2023 to July 13th 2024. \n",
    "\n",
    "The columns are as follows:\n",
    "\n",
    "1. `day` : the day being described\n",
    "2. `testing_day`: whether or not the wastewater at Point Loma was tested for HAV on that day--  1 if tested, 0 if not\n",
    "3. `case` : whether or not there was a case with an episode date of that day\n",
    "4. `num_shedding` : the number of people estimated to be shedding on that day\n",
    "5. `wastewater_signal` : 1 if the 5 day wastewater average was greater than 0 for a day"
   ]
  },
  {
   "cell_type": "code",
   "execution_count": 3,
   "id": "b23cfa8d",
   "metadata": {},
   "outputs": [],
   "source": [
    "aim1_daily = pd.read_csv(\"aim1_daily_trendline_final.csv\")"
   ]
  },
  {
   "cell_type": "code",
   "execution_count": 9,
   "id": "c7e19b65",
   "metadata": {},
   "outputs": [
    {
     "data": {
      "text/html": [
       "<div>\n",
       "<style scoped>\n",
       "    .dataframe tbody tr th:only-of-type {\n",
       "        vertical-align: middle;\n",
       "    }\n",
       "\n",
       "    .dataframe tbody tr th {\n",
       "        vertical-align: top;\n",
       "    }\n",
       "\n",
       "    .dataframe thead th {\n",
       "        text-align: right;\n",
       "    }\n",
       "</style>\n",
       "<table border=\"1\" class=\"dataframe\">\n",
       "  <thead>\n",
       "    <tr style=\"text-align: right;\">\n",
       "      <th></th>\n",
       "      <th>day</th>\n",
       "      <th>testing_day</th>\n",
       "      <th>case</th>\n",
       "      <th>num_shedding</th>\n",
       "      <th>wastewater_signal</th>\n",
       "    </tr>\n",
       "  </thead>\n",
       "  <tbody>\n",
       "    <tr>\n",
       "      <th>278</th>\n",
       "      <td>14-Jun-24</td>\n",
       "      <td>0</td>\n",
       "      <td>0</td>\n",
       "      <td>0</td>\n",
       "      <td>NaN</td>\n",
       "    </tr>\n",
       "    <tr>\n",
       "      <th>279</th>\n",
       "      <td>15-Jun-24</td>\n",
       "      <td>0</td>\n",
       "      <td>0</td>\n",
       "      <td>0</td>\n",
       "      <td>NaN</td>\n",
       "    </tr>\n",
       "    <tr>\n",
       "      <th>280</th>\n",
       "      <td>16-Jun-24</td>\n",
       "      <td>1</td>\n",
       "      <td>0</td>\n",
       "      <td>0</td>\n",
       "      <td>1.0</td>\n",
       "    </tr>\n",
       "    <tr>\n",
       "      <th>281</th>\n",
       "      <td>17-Jun-24</td>\n",
       "      <td>1</td>\n",
       "      <td>0</td>\n",
       "      <td>0</td>\n",
       "      <td>1.0</td>\n",
       "    </tr>\n",
       "    <tr>\n",
       "      <th>282</th>\n",
       "      <td>18-Jun-24</td>\n",
       "      <td>0</td>\n",
       "      <td>0</td>\n",
       "      <td>0</td>\n",
       "      <td>NaN</td>\n",
       "    </tr>\n",
       "    <tr>\n",
       "      <th>283</th>\n",
       "      <td>19-Jun-24</td>\n",
       "      <td>1</td>\n",
       "      <td>0</td>\n",
       "      <td>0</td>\n",
       "      <td>1.0</td>\n",
       "    </tr>\n",
       "    <tr>\n",
       "      <th>284</th>\n",
       "      <td>20-Jun-24</td>\n",
       "      <td>0</td>\n",
       "      <td>1</td>\n",
       "      <td>0</td>\n",
       "      <td>NaN</td>\n",
       "    </tr>\n",
       "    <tr>\n",
       "      <th>285</th>\n",
       "      <td>21-Jun-24</td>\n",
       "      <td>0</td>\n",
       "      <td>0</td>\n",
       "      <td>0</td>\n",
       "      <td>NaN</td>\n",
       "    </tr>\n",
       "    <tr>\n",
       "      <th>286</th>\n",
       "      <td>22-Jun-24</td>\n",
       "      <td>0</td>\n",
       "      <td>0</td>\n",
       "      <td>0</td>\n",
       "      <td>NaN</td>\n",
       "    </tr>\n",
       "    <tr>\n",
       "      <th>287</th>\n",
       "      <td>23-Jun-24</td>\n",
       "      <td>1</td>\n",
       "      <td>0</td>\n",
       "      <td>0</td>\n",
       "      <td>1.0</td>\n",
       "    </tr>\n",
       "    <tr>\n",
       "      <th>288</th>\n",
       "      <td>24-Jun-24</td>\n",
       "      <td>1</td>\n",
       "      <td>0</td>\n",
       "      <td>0</td>\n",
       "      <td>0.0</td>\n",
       "    </tr>\n",
       "    <tr>\n",
       "      <th>289</th>\n",
       "      <td>25-Jun-24</td>\n",
       "      <td>0</td>\n",
       "      <td>0</td>\n",
       "      <td>0</td>\n",
       "      <td>NaN</td>\n",
       "    </tr>\n",
       "    <tr>\n",
       "      <th>290</th>\n",
       "      <td>26-Jun-24</td>\n",
       "      <td>1</td>\n",
       "      <td>0</td>\n",
       "      <td>0</td>\n",
       "      <td>0.0</td>\n",
       "    </tr>\n",
       "    <tr>\n",
       "      <th>291</th>\n",
       "      <td>27-Jun-24</td>\n",
       "      <td>0</td>\n",
       "      <td>0</td>\n",
       "      <td>0</td>\n",
       "      <td>NaN</td>\n",
       "    </tr>\n",
       "    <tr>\n",
       "      <th>292</th>\n",
       "      <td>28-Jun-24</td>\n",
       "      <td>0</td>\n",
       "      <td>0</td>\n",
       "      <td>0</td>\n",
       "      <td>NaN</td>\n",
       "    </tr>\n",
       "    <tr>\n",
       "      <th>293</th>\n",
       "      <td>29-Jun-24</td>\n",
       "      <td>0</td>\n",
       "      <td>0</td>\n",
       "      <td>0</td>\n",
       "      <td>NaN</td>\n",
       "    </tr>\n",
       "    <tr>\n",
       "      <th>294</th>\n",
       "      <td>30-Jun-24</td>\n",
       "      <td>1</td>\n",
       "      <td>0</td>\n",
       "      <td>0</td>\n",
       "      <td>0.0</td>\n",
       "    </tr>\n",
       "    <tr>\n",
       "      <th>295</th>\n",
       "      <td>1-Jul-24</td>\n",
       "      <td>1</td>\n",
       "      <td>0</td>\n",
       "      <td>0</td>\n",
       "      <td>0.0</td>\n",
       "    </tr>\n",
       "    <tr>\n",
       "      <th>296</th>\n",
       "      <td>2-Jul-24</td>\n",
       "      <td>0</td>\n",
       "      <td>0</td>\n",
       "      <td>0</td>\n",
       "      <td>NaN</td>\n",
       "    </tr>\n",
       "    <tr>\n",
       "      <th>297</th>\n",
       "      <td>3-Jul-24</td>\n",
       "      <td>1</td>\n",
       "      <td>0</td>\n",
       "      <td>0</td>\n",
       "      <td>0.0</td>\n",
       "    </tr>\n",
       "    <tr>\n",
       "      <th>298</th>\n",
       "      <td>4-Jul-24</td>\n",
       "      <td>0</td>\n",
       "      <td>0</td>\n",
       "      <td>0</td>\n",
       "      <td>NaN</td>\n",
       "    </tr>\n",
       "    <tr>\n",
       "      <th>299</th>\n",
       "      <td>5-Jul-24</td>\n",
       "      <td>0</td>\n",
       "      <td>0</td>\n",
       "      <td>0</td>\n",
       "      <td>NaN</td>\n",
       "    </tr>\n",
       "    <tr>\n",
       "      <th>300</th>\n",
       "      <td>6-Jul-24</td>\n",
       "      <td>0</td>\n",
       "      <td>0</td>\n",
       "      <td>0</td>\n",
       "      <td>NaN</td>\n",
       "    </tr>\n",
       "    <tr>\n",
       "      <th>301</th>\n",
       "      <td>7-Jul-24</td>\n",
       "      <td>1</td>\n",
       "      <td>0</td>\n",
       "      <td>0</td>\n",
       "      <td>0.0</td>\n",
       "    </tr>\n",
       "    <tr>\n",
       "      <th>302</th>\n",
       "      <td>8-Jul-24</td>\n",
       "      <td>1</td>\n",
       "      <td>0</td>\n",
       "      <td>0</td>\n",
       "      <td>0.0</td>\n",
       "    </tr>\n",
       "    <tr>\n",
       "      <th>303</th>\n",
       "      <td>9-Jul-24</td>\n",
       "      <td>0</td>\n",
       "      <td>0</td>\n",
       "      <td>0</td>\n",
       "      <td>NaN</td>\n",
       "    </tr>\n",
       "    <tr>\n",
       "      <th>304</th>\n",
       "      <td>10-Jul-24</td>\n",
       "      <td>1</td>\n",
       "      <td>0</td>\n",
       "      <td>0</td>\n",
       "      <td>0.0</td>\n",
       "    </tr>\n",
       "    <tr>\n",
       "      <th>305</th>\n",
       "      <td>11-Jul-24</td>\n",
       "      <td>0</td>\n",
       "      <td>0</td>\n",
       "      <td>0</td>\n",
       "      <td>NaN</td>\n",
       "    </tr>\n",
       "    <tr>\n",
       "      <th>306</th>\n",
       "      <td>12-Jul-24</td>\n",
       "      <td>0</td>\n",
       "      <td>0</td>\n",
       "      <td>0</td>\n",
       "      <td>NaN</td>\n",
       "    </tr>\n",
       "    <tr>\n",
       "      <th>307</th>\n",
       "      <td>13-Jul-24</td>\n",
       "      <td>0</td>\n",
       "      <td>0</td>\n",
       "      <td>0</td>\n",
       "      <td>NaN</td>\n",
       "    </tr>\n",
       "  </tbody>\n",
       "</table>\n",
       "</div>"
      ],
      "text/plain": [
       "           day  testing_day  case  num_shedding  wastewater_signal\n",
       "278  14-Jun-24            0     0             0                NaN\n",
       "279  15-Jun-24            0     0             0                NaN\n",
       "280  16-Jun-24            1     0             0                1.0\n",
       "281  17-Jun-24            1     0             0                1.0\n",
       "282  18-Jun-24            0     0             0                NaN\n",
       "283  19-Jun-24            1     0             0                1.0\n",
       "284  20-Jun-24            0     1             0                NaN\n",
       "285  21-Jun-24            0     0             0                NaN\n",
       "286  22-Jun-24            0     0             0                NaN\n",
       "287  23-Jun-24            1     0             0                1.0\n",
       "288  24-Jun-24            1     0             0                0.0\n",
       "289  25-Jun-24            0     0             0                NaN\n",
       "290  26-Jun-24            1     0             0                0.0\n",
       "291  27-Jun-24            0     0             0                NaN\n",
       "292  28-Jun-24            0     0             0                NaN\n",
       "293  29-Jun-24            0     0             0                NaN\n",
       "294  30-Jun-24            1     0             0                0.0\n",
       "295   1-Jul-24            1     0             0                0.0\n",
       "296   2-Jul-24            0     0             0                NaN\n",
       "297   3-Jul-24            1     0             0                0.0\n",
       "298   4-Jul-24            0     0             0                NaN\n",
       "299   5-Jul-24            0     0             0                NaN\n",
       "300   6-Jul-24            0     0             0                NaN\n",
       "301   7-Jul-24            1     0             0                0.0\n",
       "302   8-Jul-24            1     0             0                0.0\n",
       "303   9-Jul-24            0     0             0                NaN\n",
       "304  10-Jul-24            1     0             0                0.0\n",
       "305  11-Jul-24            0     0             0                NaN\n",
       "306  12-Jul-24            0     0             0                NaN\n",
       "307  13-Jul-24            0     0             0                NaN"
      ]
     },
     "execution_count": 9,
     "metadata": {},
     "output_type": "execute_result"
    }
   ],
   "source": [
    "aim1_daily.tail(30)"
   ]
  },
  {
   "cell_type": "code",
   "execution_count": 10,
   "id": "1c8bf56b",
   "metadata": {},
   "outputs": [
    {
     "data": {
      "text/plain": [
       "308"
      ]
     },
     "execution_count": 10,
     "metadata": {},
     "output_type": "execute_result"
    }
   ],
   "source": [
    "# Number of days represented\n",
    "aim1_daily.shape[0]"
   ]
  },
  {
   "cell_type": "code",
   "execution_count": 11,
   "id": "3593af4c",
   "metadata": {},
   "outputs": [
    {
     "data": {
      "text/plain": [
       "12"
      ]
     },
     "execution_count": 11,
     "metadata": {},
     "output_type": "execute_result"
    }
   ],
   "source": [
    "# Number of cases\n",
    "cases = aim1_daily['case'].sum()\n",
    "cases"
   ]
  },
  {
   "cell_type": "code",
   "execution_count": 12,
   "id": "5fde841d",
   "metadata": {},
   "outputs": [
    {
     "data": {
      "text/html": [
       "<div>\n",
       "<style scoped>\n",
       "    .dataframe tbody tr th:only-of-type {\n",
       "        vertical-align: middle;\n",
       "    }\n",
       "\n",
       "    .dataframe tbody tr th {\n",
       "        vertical-align: top;\n",
       "    }\n",
       "\n",
       "    .dataframe thead th {\n",
       "        text-align: right;\n",
       "    }\n",
       "</style>\n",
       "<table border=\"1\" class=\"dataframe\">\n",
       "  <thead>\n",
       "    <tr style=\"text-align: right;\">\n",
       "      <th></th>\n",
       "      <th>day</th>\n",
       "      <th>testing_day</th>\n",
       "      <th>case</th>\n",
       "      <th>num_shedding</th>\n",
       "      <th>wastewater_signal</th>\n",
       "    </tr>\n",
       "  </thead>\n",
       "  <tbody>\n",
       "    <tr>\n",
       "      <th>0</th>\n",
       "      <td>10-Sep-23</td>\n",
       "      <td>1</td>\n",
       "      <td>0</td>\n",
       "      <td>0</td>\n",
       "      <td>0.0</td>\n",
       "    </tr>\n",
       "    <tr>\n",
       "      <th>1</th>\n",
       "      <td>11-Sep-23</td>\n",
       "      <td>1</td>\n",
       "      <td>0</td>\n",
       "      <td>0</td>\n",
       "      <td>0.0</td>\n",
       "    </tr>\n",
       "    <tr>\n",
       "      <th>3</th>\n",
       "      <td>13-Sep-23</td>\n",
       "      <td>1</td>\n",
       "      <td>0</td>\n",
       "      <td>0</td>\n",
       "      <td>0.0</td>\n",
       "    </tr>\n",
       "    <tr>\n",
       "      <th>7</th>\n",
       "      <td>17-Sep-23</td>\n",
       "      <td>1</td>\n",
       "      <td>0</td>\n",
       "      <td>0</td>\n",
       "      <td>0.0</td>\n",
       "    </tr>\n",
       "    <tr>\n",
       "      <th>8</th>\n",
       "      <td>18-Sep-23</td>\n",
       "      <td>1</td>\n",
       "      <td>0</td>\n",
       "      <td>0</td>\n",
       "      <td>0.0</td>\n",
       "    </tr>\n",
       "  </tbody>\n",
       "</table>\n",
       "</div>"
      ],
      "text/plain": [
       "         day  testing_day  case  num_shedding  wastewater_signal\n",
       "0  10-Sep-23            1     0             0                0.0\n",
       "1  11-Sep-23            1     0             0                0.0\n",
       "3  13-Sep-23            1     0             0                0.0\n",
       "7  17-Sep-23            1     0             0                0.0\n",
       "8  18-Sep-23            1     0             0                0.0"
      ]
     },
     "execution_count": 12,
     "metadata": {},
     "output_type": "execute_result"
    }
   ],
   "source": [
    "# Selecting only testing days\n",
    "aim1 = aim1_daily[aim1_daily['testing_day'] == 1]\n",
    "aim1.head()"
   ]
  },
  {
   "cell_type": "code",
   "execution_count": 13,
   "id": "4d96f73a",
   "metadata": {},
   "outputs": [
    {
     "data": {
      "text/plain": [
       "131"
      ]
     },
     "execution_count": 13,
     "metadata": {},
     "output_type": "execute_result"
    }
   ],
   "source": [
    "# Number of testing days\n",
    "aim1.shape[0]"
   ]
  },
  {
   "cell_type": "code",
   "execution_count": 14,
   "id": "0c0919ac",
   "metadata": {},
   "outputs": [
    {
     "data": {
      "text/plain": [
       "day                   object\n",
       "testing_day            int64\n",
       "case                   int64\n",
       "num_shedding           int64\n",
       "wastewater_signal    float64\n",
       "dtype: object"
      ]
     },
     "execution_count": 14,
     "metadata": {},
     "output_type": "execute_result"
    }
   ],
   "source": [
    "aim1.dtypes"
   ]
  },
  {
   "cell_type": "code",
   "execution_count": 15,
   "id": "1a5857ec",
   "metadata": {},
   "outputs": [
    {
     "data": {
      "text/plain": [
       "69.0"
      ]
     },
     "execution_count": 15,
     "metadata": {},
     "output_type": "execute_result"
    }
   ],
   "source": [
    "# Number of positive days\n",
    "pos_days = aim1['wastewater_signal'].sum()\n",
    "pos_days"
   ]
  },
  {
   "cell_type": "markdown",
   "id": "be31e95d",
   "metadata": {},
   "source": [
    "First, finding **true positives (TP)**, **true negatives (TN)**, **false positives (FP)** and **false negatives (FN)**\n",
    "- True positives (TP) will be defined as days when Hepatitis A virus is detected in wastewater and there are cases of individuals shedding the virus. \n",
    "- False negatives (FN) will be defined as days when the virus is not detected in wastewater, but there are still cases of individuals shedding the virus. \n",
    "- True negatives (TN) will be defined as days with no virus detections in wastewater and no individuals shedding the virus. \n",
    "- False positives (FP) will be defined as days when the virus is detected in wastewater, but no individuals are shedding virus"
   ]
  },
  {
   "cell_type": "code",
   "execution_count": 16,
   "id": "e5c8ad62",
   "metadata": {},
   "outputs": [],
   "source": [
    "t_p = aim1[(aim1['wastewater_signal'] == 1) & (aim1['num_shedding'] > 0)]\n",
    "f_n = aim1[(aim1['wastewater_signal'] == 0) & (aim1['num_shedding'] > 0)]\n",
    "t_n = aim1[(aim1['wastewater_signal'] == 0) & (aim1['num_shedding'] == 0)]\n",
    "f_p = aim1[(aim1['wastewater_signal'] == 1) & (aim1['num_shedding'] == 0)]"
   ]
  },
  {
   "cell_type": "code",
   "execution_count": 17,
   "id": "f5f1c5cc",
   "metadata": {},
   "outputs": [
    {
     "data": {
      "text/plain": [
       "36"
      ]
     },
     "execution_count": 17,
     "metadata": {},
     "output_type": "execute_result"
    }
   ],
   "source": [
    "# Number of true positives\n",
    "len(t_p)"
   ]
  },
  {
   "cell_type": "code",
   "execution_count": 18,
   "id": "a6208aec",
   "metadata": {},
   "outputs": [
    {
     "data": {
      "text/plain": [
       "16"
      ]
     },
     "execution_count": 18,
     "metadata": {},
     "output_type": "execute_result"
    }
   ],
   "source": [
    "# Number of false negatives\n",
    "len(f_n)"
   ]
  },
  {
   "cell_type": "code",
   "execution_count": 19,
   "id": "8912d61b",
   "metadata": {},
   "outputs": [
    {
     "data": {
      "text/plain": [
       "46"
      ]
     },
     "execution_count": 19,
     "metadata": {},
     "output_type": "execute_result"
    }
   ],
   "source": [
    "# Number of true negatives\n",
    "len(t_n)"
   ]
  },
  {
   "cell_type": "code",
   "execution_count": 20,
   "id": "4107f12a",
   "metadata": {},
   "outputs": [
    {
     "data": {
      "text/plain": [
       "33"
      ]
     },
     "execution_count": 20,
     "metadata": {},
     "output_type": "execute_result"
    }
   ],
   "source": [
    "# Number of false positives\n",
    "len(f_p)"
   ]
  },
  {
   "cell_type": "markdown",
   "id": "96a6e799",
   "metadata": {},
   "source": [
    "### Sensitivity Overall\n",
    "\n",
    "Sensitivity will be defined as the probability of a wastewater detection given that one or more persons are shedding the virus (TP / (TP+FN))"
   ]
  },
  {
   "cell_type": "code",
   "execution_count": 21,
   "id": "6385cdce",
   "metadata": {},
   "outputs": [
    {
     "data": {
      "text/plain": [
       "0.6923076923076923"
      ]
     },
     "execution_count": 21,
     "metadata": {},
     "output_type": "execute_result"
    }
   ],
   "source": [
    "# Sensitivity for detecting one or more people shedding\n",
    "sensitivity_cdc = len(t_p) / (len(t_p) +len(f_n))\n",
    "sensitivity_cdc"
   ]
  },
  {
   "cell_type": "markdown",
   "id": "948a1719",
   "metadata": {},
   "source": [
    "### Positive Predictive Value\n",
    "Positive predictive value (PPV) will be the probability that at least one person is shedding the virus when a wastewater detection occurs (TP / (TP+FP))"
   ]
  },
  {
   "cell_type": "code",
   "execution_count": 22,
   "id": "c9745725",
   "metadata": {},
   "outputs": [
    {
     "data": {
      "text/plain": [
       "0.5217391304347826"
      ]
     },
     "execution_count": 22,
     "metadata": {},
     "output_type": "execute_result"
    }
   ],
   "source": [
    "# Probability of one or more people shedding given wastewater detection\n",
    "ppv_cdc = len(t_p) / (len(t_p) + len(f_p))\n",
    "ppv_cdc"
   ]
  },
  {
   "cell_type": "markdown",
   "id": "6b5d10c7",
   "metadata": {},
   "source": [
    "### Negative Predictive Value\n",
    "Negative predictive value (NPV) will be the probability that no persons are shedding the virus in the absence of wastewater detections (TN / (TN+FN))"
   ]
  },
  {
   "cell_type": "code",
   "execution_count": 23,
   "id": "e3899b9f",
   "metadata": {},
   "outputs": [
    {
     "data": {
      "text/plain": [
       "0.7419354838709677"
      ]
     },
     "execution_count": 23,
     "metadata": {},
     "output_type": "execute_result"
    }
   ],
   "source": [
    "# probability that no persons are shedding the virus in the absence of wastewater detections\n",
    "npv_cdc = len(t_n) / (len(t_n) + len(f_n))\n",
    "npv_cdc"
   ]
  },
  {
   "cell_type": "markdown",
   "id": "a255f14d",
   "metadata": {},
   "source": [
    "### Sensitivity for Specific Numbers of People Shedding\n",
    "For this, the definitions of true positive (TP), false negative (FN), true negative (TN), and false positive (FP) will be adjusted based on the specified number of cases shedding. \n",
    "- True positives (TP) will be defined as days when Hepatitis A virus is detected in wastewater and at least the specified number of cases are shedding the virus.\n",
    "- False negatives (FN) will be days when the virus is not detected in wastewater, but at least the specified number of cases are shedding the virus. \n",
    "- True negatives (TN) will be days with no virus detections and fewer than the specified number of cases shedding the virus. \n",
    "- False positives (FP) will be days when the virus is detected in wastewater, but fewer than the specified number of cases are shedding the virus."
   ]
  },
  {
   "cell_type": "code",
   "execution_count": 24,
   "id": "0d231eb7",
   "metadata": {},
   "outputs": [
    {
     "data": {
      "text/plain": [
       "4"
      ]
     },
     "execution_count": 24,
     "metadata": {},
     "output_type": "execute_result"
    }
   ],
   "source": [
    "# Finding the maximum number of individuals assumed to be shedding at any given time in our data\n",
    "max_shedding = aim1['num_shedding'].max()\n",
    "max_shedding"
   ]
  },
  {
   "cell_type": "markdown",
   "id": "541ddfbc",
   "metadata": {},
   "source": [
    "**Since the max number of individuals shedding at any given time is 4 based on our assumptions and criteria, we will do the sensitivity analysis for 2, 3 and 4 individuals shedding**"
   ]
  },
  {
   "cell_type": "code",
   "execution_count": 25,
   "id": "b2743390",
   "metadata": {},
   "outputs": [],
   "source": [
    "# Functions for tp, fn, tn, fp with varying thresholds\n",
    "def tp(threshold, data):\n",
    "    df = data[(data['wastewater_signal'] == 1) & (data['num_shedding'] >= threshold)]\n",
    "    return df.shape[0]\n",
    "\n",
    "def fn(threshold, data):\n",
    "    df = data[(data['wastewater_signal'] == 0) & (data['num_shedding'] >= threshold)]\n",
    "    return df.shape[0]\n",
    "\n",
    "def tn(threshold, data):\n",
    "    df = data[(data['wastewater_signal'] == 0) & (data['num_shedding'] < threshold)]\n",
    "    return df.shape[0]\n",
    "\n",
    "def fp(threshold, data):\n",
    "    df = data[(data['wastewater_signal'] == 1) & (data['num_shedding'] < threshold)]\n",
    "    return df.shape[0]  "
   ]
  },
  {
   "cell_type": "code",
   "execution_count": 26,
   "id": "8ed3727b",
   "metadata": {},
   "outputs": [],
   "source": [
    "# Sensitivity, PPV, NPV functions\n",
    "def sensitivity(threshold, data):\n",
    "    return (tp(threshold, data) / (tp(threshold, data) + fn(threshold, data)))\n",
    "\n",
    "def ppv(threshold, data):\n",
    "    return tp(threshold, data) / (tp(threshold, data) + fp(threshold, data))\n",
    "\n",
    "def npv(threshold, data):\n",
    "    return tn(threshold, data) / (tn(threshold, data) + fn(threshold, data))"
   ]
  },
  {
   "cell_type": "code",
   "execution_count": 27,
   "id": "9202710e",
   "metadata": {},
   "outputs": [
    {
     "name": "stdout",
     "output_type": "stream",
     "text": [
      "sensitivity: 0.8421052631578947, ppv: 0.2318840579710145, npv: 0.9516129032258065\n"
     ]
    }
   ],
   "source": [
    "# For 2 individuals\n",
    "sensitivity_2 = sensitivity(2, aim1)\n",
    "ppv_2 = ppv(2, aim1)\n",
    "npv_2 = npv(2, aim1)\n",
    "print(f'sensitivity: {sensitivity_2}, ppv: {ppv_2}, npv: {npv_2}')"
   ]
  },
  {
   "cell_type": "code",
   "execution_count": 28,
   "id": "fcc13b7d",
   "metadata": {},
   "outputs": [
    {
     "name": "stdout",
     "output_type": "stream",
     "text": [
      "sensitivity: 0.8333333333333334, ppv: 0.21739130434782608, npv: 0.9516129032258065\n"
     ]
    }
   ],
   "source": [
    "# For 3 individuals\n",
    "sensitivity_3 = sensitivity(3, aim1)\n",
    "ppv_3 = ppv(3, aim1)\n",
    "npv_3 = npv(3, aim1)\n",
    "print(f'sensitivity: {sensitivity_3}, ppv: {ppv_3}, npv: {npv_3}')"
   ]
  },
  {
   "cell_type": "code",
   "execution_count": 29,
   "id": "b7268886",
   "metadata": {},
   "outputs": [
    {
     "name": "stdout",
     "output_type": "stream",
     "text": [
      "sensitivity: 0.9166666666666666, ppv: 0.15942028985507245, npv: 0.9838709677419355\n"
     ]
    }
   ],
   "source": [
    "# For 4 individuals\n",
    "sensitivity_4 = sensitivity(4, aim1)\n",
    "ppv_4 = ppv(4, aim1)\n",
    "npv_4 = npv(4, aim1)\n",
    "print(f'sensitivity: {sensitivity_4}, ppv: {ppv_4}, npv: {npv_4}')"
   ]
  },
  {
   "cell_type": "markdown",
   "id": "0110f060",
   "metadata": {},
   "source": [
    "## Varying the Shedding Period\n",
    "\n",
    "The shedding period for Hepatitis A virus given by the CDC is two weeks prior to symptom onset, and one week following symptom onset. \n",
    "\n",
    "Here, the following shedding periods are tested:\n",
    "1. 1 week before and 1 week after symptom onset\n",
    "2. 1 week before and 4 weeks after symptom onset\n",
    "3. 2 weeks before and 4 weeks after symptom onset\n",
    "\n",
    "In addition to the CDC shedding period of 2 weeks before and 1 week after which we have already tested. \n",
    "\n",
    "\n",
    "Sensitivity is calculated for all.\n",
    "\n",
    "NPV and PPV are calculated for >= 1 individual shedding for all 3 periods.\n",
    "\n",
    "The purpose is to get a range of possible values, not just the ones based on our (recommended) assumption of the shedding period. \n"
   ]
  },
  {
   "cell_type": "code",
   "execution_count": 30,
   "id": "a756c68d",
   "metadata": {},
   "outputs": [],
   "source": [
    "# Importing the different data files\n",
    "shedding_1 = pd.read_csv(\"shedding1_trendline.csv\")\n",
    "shedding_2 = pd.read_csv(\"shedding2_trendline.csv\")\n",
    "shedding_3 = pd.read_csv(\"shedding3_trendline.csv\")"
   ]
  },
  {
   "cell_type": "code",
   "execution_count": 33,
   "id": "c969d80a",
   "metadata": {},
   "outputs": [
    {
     "data": {
      "text/html": [
       "<div>\n",
       "<style scoped>\n",
       "    .dataframe tbody tr th:only-of-type {\n",
       "        vertical-align: middle;\n",
       "    }\n",
       "\n",
       "    .dataframe tbody tr th {\n",
       "        vertical-align: top;\n",
       "    }\n",
       "\n",
       "    .dataframe thead th {\n",
       "        text-align: right;\n",
       "    }\n",
       "</style>\n",
       "<table border=\"1\" class=\"dataframe\">\n",
       "  <thead>\n",
       "    <tr style=\"text-align: right;\">\n",
       "      <th></th>\n",
       "      <th>day</th>\n",
       "      <th>testing_day</th>\n",
       "      <th>case</th>\n",
       "      <th>num_shedding</th>\n",
       "      <th>wastewater_signal</th>\n",
       "    </tr>\n",
       "  </thead>\n",
       "  <tbody>\n",
       "    <tr>\n",
       "      <th>250</th>\n",
       "      <td>17-May-24</td>\n",
       "      <td>0</td>\n",
       "      <td>0</td>\n",
       "      <td>1</td>\n",
       "      <td>NaN</td>\n",
       "    </tr>\n",
       "    <tr>\n",
       "      <th>251</th>\n",
       "      <td>18-May-24</td>\n",
       "      <td>0</td>\n",
       "      <td>0</td>\n",
       "      <td>1</td>\n",
       "      <td>NaN</td>\n",
       "    </tr>\n",
       "    <tr>\n",
       "      <th>252</th>\n",
       "      <td>19-May-24</td>\n",
       "      <td>1</td>\n",
       "      <td>0</td>\n",
       "      <td>0</td>\n",
       "      <td>1.0</td>\n",
       "    </tr>\n",
       "    <tr>\n",
       "      <th>253</th>\n",
       "      <td>20-May-24</td>\n",
       "      <td>1</td>\n",
       "      <td>0</td>\n",
       "      <td>0</td>\n",
       "      <td>1.0</td>\n",
       "    </tr>\n",
       "    <tr>\n",
       "      <th>254</th>\n",
       "      <td>21-May-24</td>\n",
       "      <td>0</td>\n",
       "      <td>0</td>\n",
       "      <td>0</td>\n",
       "      <td>NaN</td>\n",
       "    </tr>\n",
       "    <tr>\n",
       "      <th>255</th>\n",
       "      <td>22-May-24</td>\n",
       "      <td>1</td>\n",
       "      <td>0</td>\n",
       "      <td>0</td>\n",
       "      <td>1.0</td>\n",
       "    </tr>\n",
       "    <tr>\n",
       "      <th>256</th>\n",
       "      <td>23-May-24</td>\n",
       "      <td>0</td>\n",
       "      <td>0</td>\n",
       "      <td>0</td>\n",
       "      <td>NaN</td>\n",
       "    </tr>\n",
       "    <tr>\n",
       "      <th>257</th>\n",
       "      <td>24-May-24</td>\n",
       "      <td>0</td>\n",
       "      <td>0</td>\n",
       "      <td>0</td>\n",
       "      <td>NaN</td>\n",
       "    </tr>\n",
       "    <tr>\n",
       "      <th>258</th>\n",
       "      <td>25-May-24</td>\n",
       "      <td>0</td>\n",
       "      <td>0</td>\n",
       "      <td>0</td>\n",
       "      <td>NaN</td>\n",
       "    </tr>\n",
       "    <tr>\n",
       "      <th>259</th>\n",
       "      <td>26-May-24</td>\n",
       "      <td>1</td>\n",
       "      <td>0</td>\n",
       "      <td>0</td>\n",
       "      <td>1.0</td>\n",
       "    </tr>\n",
       "    <tr>\n",
       "      <th>260</th>\n",
       "      <td>27-May-24</td>\n",
       "      <td>1</td>\n",
       "      <td>0</td>\n",
       "      <td>0</td>\n",
       "      <td>1.0</td>\n",
       "    </tr>\n",
       "    <tr>\n",
       "      <th>261</th>\n",
       "      <td>28-May-24</td>\n",
       "      <td>0</td>\n",
       "      <td>0</td>\n",
       "      <td>0</td>\n",
       "      <td>NaN</td>\n",
       "    </tr>\n",
       "    <tr>\n",
       "      <th>262</th>\n",
       "      <td>29-May-24</td>\n",
       "      <td>1</td>\n",
       "      <td>0</td>\n",
       "      <td>0</td>\n",
       "      <td>1.0</td>\n",
       "    </tr>\n",
       "    <tr>\n",
       "      <th>263</th>\n",
       "      <td>30-May-24</td>\n",
       "      <td>0</td>\n",
       "      <td>0</td>\n",
       "      <td>0</td>\n",
       "      <td>NaN</td>\n",
       "    </tr>\n",
       "    <tr>\n",
       "      <th>264</th>\n",
       "      <td>31-May-24</td>\n",
       "      <td>0</td>\n",
       "      <td>0</td>\n",
       "      <td>0</td>\n",
       "      <td>NaN</td>\n",
       "    </tr>\n",
       "    <tr>\n",
       "      <th>265</th>\n",
       "      <td>1-Jun-24</td>\n",
       "      <td>0</td>\n",
       "      <td>0</td>\n",
       "      <td>0</td>\n",
       "      <td>NaN</td>\n",
       "    </tr>\n",
       "    <tr>\n",
       "      <th>266</th>\n",
       "      <td>2-Jun-24</td>\n",
       "      <td>1</td>\n",
       "      <td>0</td>\n",
       "      <td>0</td>\n",
       "      <td>1.0</td>\n",
       "    </tr>\n",
       "    <tr>\n",
       "      <th>267</th>\n",
       "      <td>3-Jun-24</td>\n",
       "      <td>1</td>\n",
       "      <td>0</td>\n",
       "      <td>0</td>\n",
       "      <td>1.0</td>\n",
       "    </tr>\n",
       "    <tr>\n",
       "      <th>268</th>\n",
       "      <td>4-Jun-24</td>\n",
       "      <td>0</td>\n",
       "      <td>0</td>\n",
       "      <td>0</td>\n",
       "      <td>NaN</td>\n",
       "    </tr>\n",
       "    <tr>\n",
       "      <th>269</th>\n",
       "      <td>5-Jun-24</td>\n",
       "      <td>1</td>\n",
       "      <td>0</td>\n",
       "      <td>0</td>\n",
       "      <td>1.0</td>\n",
       "    </tr>\n",
       "    <tr>\n",
       "      <th>270</th>\n",
       "      <td>6-Jun-24</td>\n",
       "      <td>0</td>\n",
       "      <td>0</td>\n",
       "      <td>0</td>\n",
       "      <td>NaN</td>\n",
       "    </tr>\n",
       "    <tr>\n",
       "      <th>271</th>\n",
       "      <td>7-Jun-24</td>\n",
       "      <td>0</td>\n",
       "      <td>0</td>\n",
       "      <td>0</td>\n",
       "      <td>NaN</td>\n",
       "    </tr>\n",
       "    <tr>\n",
       "      <th>272</th>\n",
       "      <td>8-Jun-24</td>\n",
       "      <td>0</td>\n",
       "      <td>0</td>\n",
       "      <td>0</td>\n",
       "      <td>NaN</td>\n",
       "    </tr>\n",
       "    <tr>\n",
       "      <th>273</th>\n",
       "      <td>9-Jun-24</td>\n",
       "      <td>1</td>\n",
       "      <td>0</td>\n",
       "      <td>0</td>\n",
       "      <td>1.0</td>\n",
       "    </tr>\n",
       "    <tr>\n",
       "      <th>274</th>\n",
       "      <td>10-Jun-24</td>\n",
       "      <td>1</td>\n",
       "      <td>0</td>\n",
       "      <td>0</td>\n",
       "      <td>1.0</td>\n",
       "    </tr>\n",
       "    <tr>\n",
       "      <th>275</th>\n",
       "      <td>11-Jun-24</td>\n",
       "      <td>0</td>\n",
       "      <td>0</td>\n",
       "      <td>0</td>\n",
       "      <td>NaN</td>\n",
       "    </tr>\n",
       "    <tr>\n",
       "      <th>276</th>\n",
       "      <td>12-Jun-24</td>\n",
       "      <td>1</td>\n",
       "      <td>0</td>\n",
       "      <td>0</td>\n",
       "      <td>1.0</td>\n",
       "    </tr>\n",
       "    <tr>\n",
       "      <th>277</th>\n",
       "      <td>13-Jun-24</td>\n",
       "      <td>0</td>\n",
       "      <td>0</td>\n",
       "      <td>0</td>\n",
       "      <td>NaN</td>\n",
       "    </tr>\n",
       "    <tr>\n",
       "      <th>278</th>\n",
       "      <td>14-Jun-24</td>\n",
       "      <td>0</td>\n",
       "      <td>0</td>\n",
       "      <td>0</td>\n",
       "      <td>NaN</td>\n",
       "    </tr>\n",
       "    <tr>\n",
       "      <th>279</th>\n",
       "      <td>15-Jun-24</td>\n",
       "      <td>0</td>\n",
       "      <td>0</td>\n",
       "      <td>0</td>\n",
       "      <td>NaN</td>\n",
       "    </tr>\n",
       "    <tr>\n",
       "      <th>280</th>\n",
       "      <td>16-Jun-24</td>\n",
       "      <td>1</td>\n",
       "      <td>0</td>\n",
       "      <td>0</td>\n",
       "      <td>1.0</td>\n",
       "    </tr>\n",
       "    <tr>\n",
       "      <th>281</th>\n",
       "      <td>17-Jun-24</td>\n",
       "      <td>1</td>\n",
       "      <td>0</td>\n",
       "      <td>0</td>\n",
       "      <td>1.0</td>\n",
       "    </tr>\n",
       "    <tr>\n",
       "      <th>282</th>\n",
       "      <td>18-Jun-24</td>\n",
       "      <td>0</td>\n",
       "      <td>0</td>\n",
       "      <td>0</td>\n",
       "      <td>NaN</td>\n",
       "    </tr>\n",
       "    <tr>\n",
       "      <th>283</th>\n",
       "      <td>19-Jun-24</td>\n",
       "      <td>1</td>\n",
       "      <td>0</td>\n",
       "      <td>0</td>\n",
       "      <td>1.0</td>\n",
       "    </tr>\n",
       "    <tr>\n",
       "      <th>284</th>\n",
       "      <td>20-Jun-24</td>\n",
       "      <td>0</td>\n",
       "      <td>1</td>\n",
       "      <td>0</td>\n",
       "      <td>NaN</td>\n",
       "    </tr>\n",
       "    <tr>\n",
       "      <th>285</th>\n",
       "      <td>21-Jun-24</td>\n",
       "      <td>0</td>\n",
       "      <td>0</td>\n",
       "      <td>0</td>\n",
       "      <td>NaN</td>\n",
       "    </tr>\n",
       "    <tr>\n",
       "      <th>286</th>\n",
       "      <td>22-Jun-24</td>\n",
       "      <td>0</td>\n",
       "      <td>0</td>\n",
       "      <td>0</td>\n",
       "      <td>NaN</td>\n",
       "    </tr>\n",
       "    <tr>\n",
       "      <th>287</th>\n",
       "      <td>23-Jun-24</td>\n",
       "      <td>1</td>\n",
       "      <td>0</td>\n",
       "      <td>0</td>\n",
       "      <td>1.0</td>\n",
       "    </tr>\n",
       "    <tr>\n",
       "      <th>288</th>\n",
       "      <td>24-Jun-24</td>\n",
       "      <td>1</td>\n",
       "      <td>0</td>\n",
       "      <td>0</td>\n",
       "      <td>0.0</td>\n",
       "    </tr>\n",
       "    <tr>\n",
       "      <th>289</th>\n",
       "      <td>25-Jun-24</td>\n",
       "      <td>0</td>\n",
       "      <td>0</td>\n",
       "      <td>0</td>\n",
       "      <td>NaN</td>\n",
       "    </tr>\n",
       "    <tr>\n",
       "      <th>290</th>\n",
       "      <td>26-Jun-24</td>\n",
       "      <td>1</td>\n",
       "      <td>0</td>\n",
       "      <td>0</td>\n",
       "      <td>0.0</td>\n",
       "    </tr>\n",
       "    <tr>\n",
       "      <th>291</th>\n",
       "      <td>27-Jun-24</td>\n",
       "      <td>0</td>\n",
       "      <td>0</td>\n",
       "      <td>0</td>\n",
       "      <td>NaN</td>\n",
       "    </tr>\n",
       "    <tr>\n",
       "      <th>292</th>\n",
       "      <td>28-Jun-24</td>\n",
       "      <td>0</td>\n",
       "      <td>0</td>\n",
       "      <td>0</td>\n",
       "      <td>NaN</td>\n",
       "    </tr>\n",
       "    <tr>\n",
       "      <th>293</th>\n",
       "      <td>29-Jun-24</td>\n",
       "      <td>0</td>\n",
       "      <td>0</td>\n",
       "      <td>0</td>\n",
       "      <td>NaN</td>\n",
       "    </tr>\n",
       "    <tr>\n",
       "      <th>294</th>\n",
       "      <td>30-Jun-24</td>\n",
       "      <td>1</td>\n",
       "      <td>0</td>\n",
       "      <td>0</td>\n",
       "      <td>0.0</td>\n",
       "    </tr>\n",
       "    <tr>\n",
       "      <th>295</th>\n",
       "      <td>1-Jul-24</td>\n",
       "      <td>1</td>\n",
       "      <td>0</td>\n",
       "      <td>0</td>\n",
       "      <td>0.0</td>\n",
       "    </tr>\n",
       "    <tr>\n",
       "      <th>296</th>\n",
       "      <td>2-Jul-24</td>\n",
       "      <td>0</td>\n",
       "      <td>0</td>\n",
       "      <td>0</td>\n",
       "      <td>NaN</td>\n",
       "    </tr>\n",
       "    <tr>\n",
       "      <th>297</th>\n",
       "      <td>3-Jul-24</td>\n",
       "      <td>1</td>\n",
       "      <td>0</td>\n",
       "      <td>0</td>\n",
       "      <td>0.0</td>\n",
       "    </tr>\n",
       "    <tr>\n",
       "      <th>298</th>\n",
       "      <td>4-Jul-24</td>\n",
       "      <td>0</td>\n",
       "      <td>0</td>\n",
       "      <td>0</td>\n",
       "      <td>NaN</td>\n",
       "    </tr>\n",
       "    <tr>\n",
       "      <th>299</th>\n",
       "      <td>5-Jul-24</td>\n",
       "      <td>0</td>\n",
       "      <td>0</td>\n",
       "      <td>0</td>\n",
       "      <td>NaN</td>\n",
       "    </tr>\n",
       "  </tbody>\n",
       "</table>\n",
       "</div>"
      ],
      "text/plain": [
       "           day  testing_day  case  num_shedding  wastewater_signal\n",
       "250  17-May-24            0     0             1                NaN\n",
       "251  18-May-24            0     0             1                NaN\n",
       "252  19-May-24            1     0             0                1.0\n",
       "253  20-May-24            1     0             0                1.0\n",
       "254  21-May-24            0     0             0                NaN\n",
       "255  22-May-24            1     0             0                1.0\n",
       "256  23-May-24            0     0             0                NaN\n",
       "257  24-May-24            0     0             0                NaN\n",
       "258  25-May-24            0     0             0                NaN\n",
       "259  26-May-24            1     0             0                1.0\n",
       "260  27-May-24            1     0             0                1.0\n",
       "261  28-May-24            0     0             0                NaN\n",
       "262  29-May-24            1     0             0                1.0\n",
       "263  30-May-24            0     0             0                NaN\n",
       "264  31-May-24            0     0             0                NaN\n",
       "265   1-Jun-24            0     0             0                NaN\n",
       "266   2-Jun-24            1     0             0                1.0\n",
       "267   3-Jun-24            1     0             0                1.0\n",
       "268   4-Jun-24            0     0             0                NaN\n",
       "269   5-Jun-24            1     0             0                1.0\n",
       "270   6-Jun-24            0     0             0                NaN\n",
       "271   7-Jun-24            0     0             0                NaN\n",
       "272   8-Jun-24            0     0             0                NaN\n",
       "273   9-Jun-24            1     0             0                1.0\n",
       "274  10-Jun-24            1     0             0                1.0\n",
       "275  11-Jun-24            0     0             0                NaN\n",
       "276  12-Jun-24            1     0             0                1.0\n",
       "277  13-Jun-24            0     0             0                NaN\n",
       "278  14-Jun-24            0     0             0                NaN\n",
       "279  15-Jun-24            0     0             0                NaN\n",
       "280  16-Jun-24            1     0             0                1.0\n",
       "281  17-Jun-24            1     0             0                1.0\n",
       "282  18-Jun-24            0     0             0                NaN\n",
       "283  19-Jun-24            1     0             0                1.0\n",
       "284  20-Jun-24            0     1             0                NaN\n",
       "285  21-Jun-24            0     0             0                NaN\n",
       "286  22-Jun-24            0     0             0                NaN\n",
       "287  23-Jun-24            1     0             0                1.0\n",
       "288  24-Jun-24            1     0             0                0.0\n",
       "289  25-Jun-24            0     0             0                NaN\n",
       "290  26-Jun-24            1     0             0                0.0\n",
       "291  27-Jun-24            0     0             0                NaN\n",
       "292  28-Jun-24            0     0             0                NaN\n",
       "293  29-Jun-24            0     0             0                NaN\n",
       "294  30-Jun-24            1     0             0                0.0\n",
       "295   1-Jul-24            1     0             0                0.0\n",
       "296   2-Jul-24            0     0             0                NaN\n",
       "297   3-Jul-24            1     0             0                0.0\n",
       "298   4-Jul-24            0     0             0                NaN\n",
       "299   5-Jul-24            0     0             0                NaN"
      ]
     },
     "execution_count": 33,
     "metadata": {},
     "output_type": "execute_result"
    }
   ],
   "source": [
    "# Examining the data\n",
    "shedding_1[250:300]"
   ]
  },
  {
   "cell_type": "markdown",
   "id": "b1315f48",
   "metadata": {},
   "source": [
    "### Shedding Period 1\n",
    "\n",
    "1 week before and 1 week after symptom onset (inclusive)"
   ]
  },
  {
   "cell_type": "code",
   "execution_count": 34,
   "id": "536eed5d",
   "metadata": {},
   "outputs": [
    {
     "data": {
      "text/html": [
       "<div>\n",
       "<style scoped>\n",
       "    .dataframe tbody tr th:only-of-type {\n",
       "        vertical-align: middle;\n",
       "    }\n",
       "\n",
       "    .dataframe tbody tr th {\n",
       "        vertical-align: top;\n",
       "    }\n",
       "\n",
       "    .dataframe thead th {\n",
       "        text-align: right;\n",
       "    }\n",
       "</style>\n",
       "<table border=\"1\" class=\"dataframe\">\n",
       "  <thead>\n",
       "    <tr style=\"text-align: right;\">\n",
       "      <th></th>\n",
       "      <th>day</th>\n",
       "      <th>testing_day</th>\n",
       "      <th>case</th>\n",
       "      <th>num_shedding</th>\n",
       "      <th>wastewater_signal</th>\n",
       "    </tr>\n",
       "  </thead>\n",
       "  <tbody>\n",
       "    <tr>\n",
       "      <th>0</th>\n",
       "      <td>10-Sep-23</td>\n",
       "      <td>1</td>\n",
       "      <td>0</td>\n",
       "      <td>0</td>\n",
       "      <td>0.0</td>\n",
       "    </tr>\n",
       "    <tr>\n",
       "      <th>1</th>\n",
       "      <td>11-Sep-23</td>\n",
       "      <td>1</td>\n",
       "      <td>0</td>\n",
       "      <td>0</td>\n",
       "      <td>0.0</td>\n",
       "    </tr>\n",
       "    <tr>\n",
       "      <th>3</th>\n",
       "      <td>13-Sep-23</td>\n",
       "      <td>1</td>\n",
       "      <td>0</td>\n",
       "      <td>0</td>\n",
       "      <td>0.0</td>\n",
       "    </tr>\n",
       "    <tr>\n",
       "      <th>7</th>\n",
       "      <td>17-Sep-23</td>\n",
       "      <td>1</td>\n",
       "      <td>0</td>\n",
       "      <td>0</td>\n",
       "      <td>0.0</td>\n",
       "    </tr>\n",
       "    <tr>\n",
       "      <th>8</th>\n",
       "      <td>18-Sep-23</td>\n",
       "      <td>1</td>\n",
       "      <td>0</td>\n",
       "      <td>0</td>\n",
       "      <td>0.0</td>\n",
       "    </tr>\n",
       "  </tbody>\n",
       "</table>\n",
       "</div>"
      ],
      "text/plain": [
       "         day  testing_day  case  num_shedding  wastewater_signal\n",
       "0  10-Sep-23            1     0             0                0.0\n",
       "1  11-Sep-23            1     0             0                0.0\n",
       "3  13-Sep-23            1     0             0                0.0\n",
       "7  17-Sep-23            1     0             0                0.0\n",
       "8  18-Sep-23            1     0             0                0.0"
      ]
     },
     "execution_count": 34,
     "metadata": {},
     "output_type": "execute_result"
    }
   ],
   "source": [
    "# Selecting only testing days\n",
    "s1_testing = shedding_1[shedding_1['testing_day'] == 1]\n",
    "s1_testing.head()"
   ]
  },
  {
   "cell_type": "code",
   "execution_count": 35,
   "id": "cb88cbd8",
   "metadata": {},
   "outputs": [
    {
     "data": {
      "text/plain": [
       "0.7804878048780488"
      ]
     },
     "execution_count": 35,
     "metadata": {},
     "output_type": "execute_result"
    }
   ],
   "source": [
    "# Sensitivity for Shedding Period 1\n",
    "sensitivity_s1 = sensitivity(1, s1_testing)\n",
    "sensitivity_s1"
   ]
  },
  {
   "cell_type": "code",
   "execution_count": 36,
   "id": "44621a0d",
   "metadata": {},
   "outputs": [
    {
     "data": {
      "text/plain": [
       "4"
      ]
     },
     "execution_count": 36,
     "metadata": {},
     "output_type": "execute_result"
    }
   ],
   "source": [
    "# Max shedding assuming Shedding Period 1\n",
    "max_1 = s1_testing['num_shedding'].max()\n",
    "max_1"
   ]
  },
  {
   "cell_type": "code",
   "execution_count": 37,
   "id": "10ae0460",
   "metadata": {},
   "outputs": [
    {
     "name": "stdout",
     "output_type": "stream",
     "text": [
      "2  or more individuals shedding: 1.0\n",
      "3  or more individuals shedding: 1.0\n",
      "4  or more individuals shedding: 1.0\n"
     ]
    }
   ],
   "source": [
    "# Sensitivity for varying numbers of people shedding\n",
    "ss1_2 = sensitivity(2, s1_testing)\n",
    "ss1_3 = sensitivity(3, s1_testing)\n",
    "ss1_4 = sensitivity (4, shedding_1)\n",
    "print(f'2  or more individuals shedding: {ss1_2}\\n3  or more individuals shedding: {ss1_3}\\n4  or more individuals shedding: {ss1_4}')"
   ]
  },
  {
   "cell_type": "markdown",
   "id": "023806a1",
   "metadata": {},
   "source": [
    "### Shedding Period 2\n",
    "\n",
    "1 week before and 4 weeks after symptom onset (inclusive)"
   ]
  },
  {
   "cell_type": "code",
   "execution_count": 38,
   "id": "080675a8",
   "metadata": {},
   "outputs": [
    {
     "data": {
      "text/html": [
       "<div>\n",
       "<style scoped>\n",
       "    .dataframe tbody tr th:only-of-type {\n",
       "        vertical-align: middle;\n",
       "    }\n",
       "\n",
       "    .dataframe tbody tr th {\n",
       "        vertical-align: top;\n",
       "    }\n",
       "\n",
       "    .dataframe thead th {\n",
       "        text-align: right;\n",
       "    }\n",
       "</style>\n",
       "<table border=\"1\" class=\"dataframe\">\n",
       "  <thead>\n",
       "    <tr style=\"text-align: right;\">\n",
       "      <th></th>\n",
       "      <th>day</th>\n",
       "      <th>testing_day</th>\n",
       "      <th>case</th>\n",
       "      <th>num_shedding</th>\n",
       "      <th>wastewater_signal</th>\n",
       "    </tr>\n",
       "  </thead>\n",
       "  <tbody>\n",
       "    <tr>\n",
       "      <th>0</th>\n",
       "      <td>10-Sep-23</td>\n",
       "      <td>1</td>\n",
       "      <td>0</td>\n",
       "      <td>0</td>\n",
       "      <td>0.0</td>\n",
       "    </tr>\n",
       "    <tr>\n",
       "      <th>1</th>\n",
       "      <td>11-Sep-23</td>\n",
       "      <td>1</td>\n",
       "      <td>0</td>\n",
       "      <td>0</td>\n",
       "      <td>0.0</td>\n",
       "    </tr>\n",
       "    <tr>\n",
       "      <th>3</th>\n",
       "      <td>13-Sep-23</td>\n",
       "      <td>1</td>\n",
       "      <td>0</td>\n",
       "      <td>0</td>\n",
       "      <td>0.0</td>\n",
       "    </tr>\n",
       "    <tr>\n",
       "      <th>7</th>\n",
       "      <td>17-Sep-23</td>\n",
       "      <td>1</td>\n",
       "      <td>0</td>\n",
       "      <td>0</td>\n",
       "      <td>0.0</td>\n",
       "    </tr>\n",
       "    <tr>\n",
       "      <th>8</th>\n",
       "      <td>18-Sep-23</td>\n",
       "      <td>1</td>\n",
       "      <td>0</td>\n",
       "      <td>0</td>\n",
       "      <td>0.0</td>\n",
       "    </tr>\n",
       "  </tbody>\n",
       "</table>\n",
       "</div>"
      ],
      "text/plain": [
       "         day  testing_day  case  num_shedding  wastewater_signal\n",
       "0  10-Sep-23            1     0             0                0.0\n",
       "1  11-Sep-23            1     0             0                0.0\n",
       "3  13-Sep-23            1     0             0                0.0\n",
       "7  17-Sep-23            1     0             0                0.0\n",
       "8  18-Sep-23            1     0             0                0.0"
      ]
     },
     "execution_count": 38,
     "metadata": {},
     "output_type": "execute_result"
    }
   ],
   "source": [
    "# Selecting only testing days\n",
    "s2_testing = shedding_2[shedding_2['testing_day'] == 1]\n",
    "s2_testing.head()"
   ]
  },
  {
   "cell_type": "code",
   "execution_count": 39,
   "id": "9ef88652",
   "metadata": {},
   "outputs": [
    {
     "data": {
      "text/plain": [
       "0.6578947368421053"
      ]
     },
     "execution_count": 39,
     "metadata": {},
     "output_type": "execute_result"
    }
   ],
   "source": [
    "# Sensitivity for Shedding Period 2\n",
    "sensitivity_s2 = sensitivity(1, s2_testing)\n",
    "sensitivity_s2"
   ]
  },
  {
   "cell_type": "code",
   "execution_count": 40,
   "id": "e91afdd3",
   "metadata": {},
   "outputs": [
    {
     "data": {
      "text/plain": [
       "5"
      ]
     },
     "execution_count": 40,
     "metadata": {},
     "output_type": "execute_result"
    }
   ],
   "source": [
    "# # Max shedding assuming Shedding Period 2\n",
    "max_2 = s2_testing['num_shedding'].max()\n",
    "max_2"
   ]
  },
  {
   "cell_type": "code",
   "execution_count": 41,
   "id": "5a46d7a5",
   "metadata": {},
   "outputs": [
    {
     "name": "stdout",
     "output_type": "stream",
     "text": [
      "2 or more individuals shedding: 0.8387096774193549\n",
      "3 or more individuals shedding: 0.8333333333333334\n",
      "4 or more individuals shedding: 0.9166666666666666\n",
      "5 or more individuals shedding: 1.0\n"
     ]
    }
   ],
   "source": [
    "# Sensitivity for varying numbers of people shedding\n",
    "ss2_2 = sensitivity(2, s2_testing) \n",
    "ss2_3 = sensitivity(3, s2_testing)\n",
    "ss2_4 = sensitivity (4, s2_testing)\n",
    "ss2_5 = sensitivity (5, s2_testing)\n",
    "print(f'2 or more individuals shedding: {ss2_2}\\n3 or more individuals shedding: {ss2_3}\\n4 or more individuals shedding: {ss2_4}\\n5 or more individuals shedding: {ss2_5}')"
   ]
  },
  {
   "cell_type": "markdown",
   "id": "f1d65986",
   "metadata": {},
   "source": [
    "### Shedding Period 3\n",
    " 2 weeks before and 4 weeks after symptom onset (inclusive)\n",
    " "
   ]
  },
  {
   "cell_type": "code",
   "execution_count": 42,
   "id": "30b79f9b",
   "metadata": {},
   "outputs": [
    {
     "data": {
      "text/html": [
       "<div>\n",
       "<style scoped>\n",
       "    .dataframe tbody tr th:only-of-type {\n",
       "        vertical-align: middle;\n",
       "    }\n",
       "\n",
       "    .dataframe tbody tr th {\n",
       "        vertical-align: top;\n",
       "    }\n",
       "\n",
       "    .dataframe thead th {\n",
       "        text-align: right;\n",
       "    }\n",
       "</style>\n",
       "<table border=\"1\" class=\"dataframe\">\n",
       "  <thead>\n",
       "    <tr style=\"text-align: right;\">\n",
       "      <th></th>\n",
       "      <th>day</th>\n",
       "      <th>testing_day</th>\n",
       "      <th>case</th>\n",
       "      <th>num_shedding</th>\n",
       "      <th>wastewater_signal</th>\n",
       "    </tr>\n",
       "  </thead>\n",
       "  <tbody>\n",
       "    <tr>\n",
       "      <th>0</th>\n",
       "      <td>10-Sep-23</td>\n",
       "      <td>1</td>\n",
       "      <td>0</td>\n",
       "      <td>0</td>\n",
       "      <td>0.0</td>\n",
       "    </tr>\n",
       "    <tr>\n",
       "      <th>1</th>\n",
       "      <td>11-Sep-23</td>\n",
       "      <td>1</td>\n",
       "      <td>0</td>\n",
       "      <td>0</td>\n",
       "      <td>0.0</td>\n",
       "    </tr>\n",
       "    <tr>\n",
       "      <th>3</th>\n",
       "      <td>13-Sep-23</td>\n",
       "      <td>1</td>\n",
       "      <td>0</td>\n",
       "      <td>0</td>\n",
       "      <td>0.0</td>\n",
       "    </tr>\n",
       "    <tr>\n",
       "      <th>7</th>\n",
       "      <td>17-Sep-23</td>\n",
       "      <td>1</td>\n",
       "      <td>0</td>\n",
       "      <td>0</td>\n",
       "      <td>0.0</td>\n",
       "    </tr>\n",
       "    <tr>\n",
       "      <th>8</th>\n",
       "      <td>18-Sep-23</td>\n",
       "      <td>1</td>\n",
       "      <td>0</td>\n",
       "      <td>0</td>\n",
       "      <td>0.0</td>\n",
       "    </tr>\n",
       "  </tbody>\n",
       "</table>\n",
       "</div>"
      ],
      "text/plain": [
       "         day  testing_day  case  num_shedding  wastewater_signal\n",
       "0  10-Sep-23            1     0             0                0.0\n",
       "1  11-Sep-23            1     0             0                0.0\n",
       "3  13-Sep-23            1     0             0                0.0\n",
       "7  17-Sep-23            1     0             0                0.0\n",
       "8  18-Sep-23            1     0             0                0.0"
      ]
     },
     "execution_count": 42,
     "metadata": {},
     "output_type": "execute_result"
    }
   ],
   "source": [
    "# Selecting only testing days\n",
    "s3_testing = shedding_3[shedding_3['testing_day'] == 1]\n",
    "s3_testing.head()"
   ]
  },
  {
   "cell_type": "code",
   "execution_count": 43,
   "id": "6cb9c626",
   "metadata": {
    "scrolled": true
   },
   "outputs": [
    {
     "data": {
      "text/plain": [
       "0.627906976744186"
      ]
     },
     "execution_count": 43,
     "metadata": {},
     "output_type": "execute_result"
    }
   ],
   "source": [
    "# Sensitivity for Shedding Period 3\n",
    "sensitivity_s3 = sensitivity(1, s3_testing)\n",
    "sensitivity_s3"
   ]
  },
  {
   "cell_type": "code",
   "execution_count": 44,
   "id": "4436c7f3",
   "metadata": {},
   "outputs": [
    {
     "data": {
      "text/plain": [
       "5"
      ]
     },
     "execution_count": 44,
     "metadata": {},
     "output_type": "execute_result"
    }
   ],
   "source": [
    "# Max shedding assuming Shedding Period 3\n",
    "max_3 = s3_testing['num_shedding'].max()\n",
    "max_3"
   ]
  },
  {
   "cell_type": "code",
   "execution_count": 45,
   "id": "502bc751",
   "metadata": {},
   "outputs": [
    {
     "name": "stdout",
     "output_type": "stream",
     "text": [
      "2 or more individuals shedding: 0.7631578947368421\n",
      "3 or more individuals shedding: 0.7777777777777778\n",
      "4 or more individuals shedding: 0.9\n",
      "5 or more individuals shedding: 1.0\n"
     ]
    }
   ],
   "source": [
    "# Sensitivity for varying numbers of people shedding\n",
    "ss3_2 = sensitivity(2, s3_testing)\n",
    "ss3_3 = sensitivity(3, s3_testing)\n",
    "ss3_4 = sensitivity (4, s3_testing)\n",
    "ss3_5 = sensitivity (5, s3_testing)\n",
    "print(f'2 or more individuals shedding: {ss3_2}\\n3 or more individuals shedding: {ss3_3}\\n4 or more individuals shedding: {ss3_4}\\n5 or more individuals shedding: {ss3_5}')"
   ]
  },
  {
   "cell_type": "markdown",
   "id": "20546b71",
   "metadata": {},
   "source": [
    "### PPV and NPV for different shedding periods\n",
    "\n",
    "But only for >= 1 individual shedding"
   ]
  },
  {
   "cell_type": "code",
   "execution_count": 46,
   "id": "3df503a1",
   "metadata": {},
   "outputs": [
    {
     "name": "stdout",
     "output_type": "stream",
     "text": [
      "Shedding period 1 (1 week before and 1 week after): 0.463768115942029\n",
      "CDC Shedding period (2 weeks before 1 week after): 0.5217391304347826\n",
      "Shedding period 2 (1 week before and 4 weeks after): 0.7246376811594203\n",
      "Shedding period 3 (2 weeks before 4 weeks after): 0.782608695652174\n"
     ]
    }
   ],
   "source": [
    "# PPV\n",
    "ppv_shedding_1 = ppv(1, s1_testing)\n",
    "ppv_shedding_2 = ppv(1, s2_testing)\n",
    "ppv_shedding_3 = ppv(1, s3_testing)\n",
    "print(f'Shedding period 1 (1 week before and 1 week after): {ppv_shedding_1}\\nCDC Shedding period (2 weeks before 1 week after): {ppv_cdc}\\nShedding period 2 (1 week before and 4 weeks after): {ppv_shedding_2}\\nShedding period 3 (2 weeks before 4 weeks after): {ppv_shedding_3}')\n",
    "\n"
   ]
  },
  {
   "cell_type": "code",
   "execution_count": 47,
   "id": "6474169b",
   "metadata": {
    "scrolled": true
   },
   "outputs": [
    {
     "name": "stdout",
     "output_type": "stream",
     "text": [
      "Shedding period 1 (1 week before and 1 week after): 0.8548387096774194\n",
      "CDC Shedding period (2 weeks before 1 week after): 0.7419354838709677\n",
      "Shedding period 2 (1 week before and 4 weeks after): 0.5806451612903226\n",
      "Shedding period 3 (2 weeks before 4 weeks after): 0.4838709677419355\n"
     ]
    }
   ],
   "source": [
    "# NPV\n",
    "npv_shedding_1 = npv(1, s1_testing)\n",
    "npv_shedding_2 = npv(1, s2_testing)\n",
    "npv_shedding_3 = npv(1, s3_testing)\n",
    "print(f'Shedding period 1 (1 week before and 1 week after): {npv_shedding_1}\\nCDC Shedding period (2 weeks before 1 week after): {npv_cdc}\\nShedding period 2 (1 week before and 4 weeks after): {npv_shedding_2}\\nShedding period 3 (2 weeks before 4 weeks after): {npv_shedding_3}')\n"
   ]
  },
  {
   "cell_type": "code",
   "execution_count": 49,
   "id": "a5987d0b",
   "metadata": {},
   "outputs": [],
   "source": [
    "sensitivity_data= pd.read_csv('sensitivities.csv')"
   ]
  },
  {
   "cell_type": "code",
   "execution_count": 50,
   "id": "b6e41bf6",
   "metadata": {},
   "outputs": [
    {
     "data": {
      "text/html": [
       "<div>\n",
       "<style scoped>\n",
       "    .dataframe tbody tr th:only-of-type {\n",
       "        vertical-align: middle;\n",
       "    }\n",
       "\n",
       "    .dataframe tbody tr th {\n",
       "        vertical-align: top;\n",
       "    }\n",
       "\n",
       "    .dataframe thead th {\n",
       "        text-align: right;\n",
       "    }\n",
       "</style>\n",
       "<table border=\"1\" class=\"dataframe\">\n",
       "  <thead>\n",
       "    <tr style=\"text-align: right;\">\n",
       "      <th></th>\n",
       "      <th>num_shedding</th>\n",
       "      <th>shedding_period</th>\n",
       "      <th>sensitivity</th>\n",
       "    </tr>\n",
       "  </thead>\n",
       "  <tbody>\n",
       "    <tr>\n",
       "      <th>0</th>\n",
       "      <td>≥1</td>\n",
       "      <td>SP1: 1 week before, 1 week after symptom onset</td>\n",
       "      <td>0.780488</td>\n",
       "    </tr>\n",
       "    <tr>\n",
       "      <th>1</th>\n",
       "      <td>≥2</td>\n",
       "      <td>SP1: 1 week before, 1 week after symptom onset</td>\n",
       "      <td>1.000000</td>\n",
       "    </tr>\n",
       "    <tr>\n",
       "      <th>2</th>\n",
       "      <td>≥3</td>\n",
       "      <td>SP1: 1 week before, 1 week after symptom onset</td>\n",
       "      <td>1.000000</td>\n",
       "    </tr>\n",
       "    <tr>\n",
       "      <th>3</th>\n",
       "      <td>≥4</td>\n",
       "      <td>SP1: 1 week before, 1 week after symptom onset</td>\n",
       "      <td>1.000000</td>\n",
       "    </tr>\n",
       "    <tr>\n",
       "      <th>4</th>\n",
       "      <td>≥1</td>\n",
       "      <td>SP2: 1 week before, 4 weeks after symptom onset</td>\n",
       "      <td>0.657895</td>\n",
       "    </tr>\n",
       "  </tbody>\n",
       "</table>\n",
       "</div>"
      ],
      "text/plain": [
       "  num_shedding                                  shedding_period  sensitivity\n",
       "0           ≥1   SP1: 1 week before, 1 week after symptom onset     0.780488\n",
       "1           ≥2   SP1: 1 week before, 1 week after symptom onset     1.000000\n",
       "2           ≥3   SP1: 1 week before, 1 week after symptom onset     1.000000\n",
       "3           ≥4   SP1: 1 week before, 1 week after symptom onset     1.000000\n",
       "4           ≥1  SP2: 1 week before, 4 weeks after symptom onset     0.657895"
      ]
     },
     "execution_count": 50,
     "metadata": {},
     "output_type": "execute_result"
    }
   ],
   "source": [
    "sensitivity_data.head()"
   ]
  },
  {
   "cell_type": "code",
   "execution_count": 51,
   "id": "079ef93f",
   "metadata": {
    "scrolled": true
   },
   "outputs": [
    {
     "data": {
      "image/png": "[encoded data removed]",
      "text/plain": [
       "<Figure size 1000x600 with 1 Axes>"
      ]
     },
     "metadata": {},
     "output_type": "display_data"
    }
   ],
   "source": [
    "# Define a darker color palette for the shedding periods with different shades of blue and red for CDC\n",
    "darker_palette = sns.color_palette(\"colorblind\", 3)  # Darker shades of blue for SP1, SP2, SP3\n",
    "colors = {\n",
    "    'SP1: 1 week before, 1 week after symptom onset': darker_palette[0],\n",
    "    'SP2: 1 week before, 4 weeks after symptom onset': darker_palette[1],\n",
    "    'SP3: 2 weeks before, 4 weeks after symptom onset': darker_palette[2],\n",
    "    'CDC: 2 weeks before, 1 week after symptom onset': 'red'\n",
    "}\n",
    "linestyles = {\n",
    "    'SP1: 1 week before, 1 week after symptom onset': 'dashed',\n",
    "    'SP2: 1 week before, 4 weeks after symptom onset': 'dotted',\n",
    "    'SP3: 2 weeks before, 4 weeks after symptom onset': 'dashdot',\n",
    "    'CDC: 2 weeks before, 1 week after symptom onset': 'solid'\n",
    "}\n",
    "\n",
    "# Plot all lines with the specified colors and linestyles\n",
    "plt.figure(figsize=(10, 6))\n",
    "for period in sensitivity_data['shedding_period'].unique():\n",
    "    period_data = sensitivity_data[sensitivity_data['shedding_period'] == period]\n",
    "    sns.lineplot(data=period_data, x='num_shedding', y='sensitivity', \n",
    "                 color=colors[period], linestyle=linestyles[period], label=period)\n",
    "\n",
    "# Customize the x-axis labels\n",
    "plt.xticks(ticks=sensitivity_data['num_shedding'].unique(), \n",
    "           labels=sensitivity_data['num_shedding'].unique())\n",
    "\n",
    "# Customize the plot\n",
    "plt.title('Sensitivity')\n",
    "plt.xlabel('No. of persons shedding Hepatitis A Virus')\n",
    "plt.ylabel('Sensitivity (%)')\n",
    "\n",
    "# Update the legend order to have CDC second\n",
    "handles, labels = plt.gca().get_legend_handles_labels()\n",
    "order = [0, 2, 1, 3]  # Reordering to place CDC second\n",
    "plt.legend([handles[idx] for idx in order], [labels[idx] for idx in order], bbox_to_anchor=(1.05, 1), loc='upper left')\n",
    "\n",
    "# Show the plot\n",
    "plt.show()"
   ]
  },
  {
   "cell_type": "markdown",
   "id": "cbf01a16",
   "metadata": {},
   "source": [
    "### Conclusions\n",
    "\n",
    "- Moderately high sensitivity, PPV and NPV for detecting a single case shedding\n",
    "- decline in PPV as number of individuals shedding increases\n",
    "- increase in sensitivity for higher number of people shedding"
   ]
  }
 ],
 "metadata": {
  "kernelspec": {
   "display_name": "Python 3 (ipykernel)",
   "language": "python",
   "name": "python3"
  },
  "language_info": {
   "codemirror_mode": {
    "name": "ipython",
    "version": 3
   },
   "file_extension": ".py",
   "mimetype": "text/x-python",
   "name": "python",
   "nbconvert_exporter": "python",
   "pygments_lexer": "ipython3",
   "version": "3.11.5"
  }
 },
 "nbformat": 4,
 "nbformat_minor": 5
}
