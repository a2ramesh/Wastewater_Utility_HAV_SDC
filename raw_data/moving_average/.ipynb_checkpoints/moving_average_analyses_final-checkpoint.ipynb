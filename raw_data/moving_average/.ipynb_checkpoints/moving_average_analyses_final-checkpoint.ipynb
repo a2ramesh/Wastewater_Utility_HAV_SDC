{
 "cells": [
  {
   "cell_type": "code",
   "execution_count": 1,
   "id": "92d29add",
   "metadata": {},
   "outputs": [],
   "source": [
    "import pandas as pd\n",
    "import numpy as np"
   ]
  },
  {
   "cell_type": "code",
   "execution_count": 2,
   "id": "ec0a7576",
   "metadata": {},
   "outputs": [
    {
     "data": {
      "text/html": [
       "<div>\n",
       "<style scoped>\n",
       "    .dataframe tbody tr th:only-of-type {\n",
       "        vertical-align: middle;\n",
       "    }\n",
       "\n",
       "    .dataframe tbody tr th {\n",
       "        vertical-align: top;\n",
       "    }\n",
       "\n",
       "    .dataframe thead th {\n",
       "        text-align: right;\n",
       "    }\n",
       "</style>\n",
       "<table border=\"1\" class=\"dataframe\">\n",
       "  <thead>\n",
       "    <tr style=\"text-align: right;\">\n",
       "      <th></th>\n",
       "      <th>day</th>\n",
       "      <th>testing_day</th>\n",
       "      <th>case</th>\n",
       "      <th>num_shedding</th>\n",
       "      <th>wastewater_signal</th>\n",
       "      <th>ww_magnitude</th>\n",
       "    </tr>\n",
       "  </thead>\n",
       "  <tbody>\n",
       "    <tr>\n",
       "      <th>0</th>\n",
       "      <td>10-Sep-23</td>\n",
       "      <td>1</td>\n",
       "      <td>0</td>\n",
       "      <td>0</td>\n",
       "      <td>1.0</td>\n",
       "      <td>4.179</td>\n",
       "    </tr>\n",
       "    <tr>\n",
       "      <th>1</th>\n",
       "      <td>11-Sep-23</td>\n",
       "      <td>1</td>\n",
       "      <td>0</td>\n",
       "      <td>0</td>\n",
       "      <td>0.0</td>\n",
       "      <td>0.000</td>\n",
       "    </tr>\n",
       "    <tr>\n",
       "      <th>2</th>\n",
       "      <td>12-Sep-23</td>\n",
       "      <td>0</td>\n",
       "      <td>0</td>\n",
       "      <td>0</td>\n",
       "      <td>NaN</td>\n",
       "      <td>NaN</td>\n",
       "    </tr>\n",
       "    <tr>\n",
       "      <th>3</th>\n",
       "      <td>13-Sep-23</td>\n",
       "      <td>1</td>\n",
       "      <td>0</td>\n",
       "      <td>0</td>\n",
       "      <td>0.0</td>\n",
       "      <td>0.000</td>\n",
       "    </tr>\n",
       "    <tr>\n",
       "      <th>4</th>\n",
       "      <td>14-Sep-23</td>\n",
       "      <td>0</td>\n",
       "      <td>0</td>\n",
       "      <td>0</td>\n",
       "      <td>NaN</td>\n",
       "      <td>NaN</td>\n",
       "    </tr>\n",
       "  </tbody>\n",
       "</table>\n",
       "</div>"
      ],
      "text/plain": [
       "         day  testing_day  case  num_shedding  wastewater_signal  ww_magnitude\n",
       "0  10-Sep-23            1     0             0                1.0         4.179\n",
       "1  11-Sep-23            1     0             0                0.0         0.000\n",
       "2  12-Sep-23            0     0             0                NaN           NaN\n",
       "3  13-Sep-23            1     0             0                0.0         0.000\n",
       "4  14-Sep-23            0     0             0                NaN           NaN"
      ]
     },
     "execution_count": 2,
     "metadata": {},
     "output_type": "execute_result"
    }
   ],
   "source": [
    "wastewater= pd.read_csv(\"wastewater_magnitudes_final.csv\")\n",
    "wastewater.head()"
   ]
  },
  {
   "cell_type": "code",
   "execution_count": 3,
   "id": "6ccb3b22",
   "metadata": {},
   "outputs": [
    {
     "data": {
      "text/html": [
       "<div>\n",
       "<style scoped>\n",
       "    .dataframe tbody tr th:only-of-type {\n",
       "        vertical-align: middle;\n",
       "    }\n",
       "\n",
       "    .dataframe tbody tr th {\n",
       "        vertical-align: top;\n",
       "    }\n",
       "\n",
       "    .dataframe thead th {\n",
       "        text-align: right;\n",
       "    }\n",
       "</style>\n",
       "<table border=\"1\" class=\"dataframe\">\n",
       "  <thead>\n",
       "    <tr style=\"text-align: right;\">\n",
       "      <th></th>\n",
       "      <th>day</th>\n",
       "      <th>testing_day</th>\n",
       "      <th>case</th>\n",
       "      <th>num_shedding</th>\n",
       "      <th>wastewater_signal</th>\n",
       "      <th>ww_magnitude</th>\n",
       "    </tr>\n",
       "  </thead>\n",
       "  <tbody>\n",
       "    <tr>\n",
       "      <th>0</th>\n",
       "      <td>10-Sep-23</td>\n",
       "      <td>1</td>\n",
       "      <td>0</td>\n",
       "      <td>0</td>\n",
       "      <td>1.0</td>\n",
       "      <td>4.179</td>\n",
       "    </tr>\n",
       "    <tr>\n",
       "      <th>1</th>\n",
       "      <td>11-Sep-23</td>\n",
       "      <td>1</td>\n",
       "      <td>0</td>\n",
       "      <td>0</td>\n",
       "      <td>0.0</td>\n",
       "      <td>0.000</td>\n",
       "    </tr>\n",
       "    <tr>\n",
       "      <th>2</th>\n",
       "      <td>13-Sep-23</td>\n",
       "      <td>1</td>\n",
       "      <td>0</td>\n",
       "      <td>0</td>\n",
       "      <td>0.0</td>\n",
       "      <td>0.000</td>\n",
       "    </tr>\n",
       "    <tr>\n",
       "      <th>3</th>\n",
       "      <td>17-Sep-23</td>\n",
       "      <td>1</td>\n",
       "      <td>0</td>\n",
       "      <td>0</td>\n",
       "      <td>0.0</td>\n",
       "      <td>0.000</td>\n",
       "    </tr>\n",
       "    <tr>\n",
       "      <th>4</th>\n",
       "      <td>18-Sep-23</td>\n",
       "      <td>1</td>\n",
       "      <td>0</td>\n",
       "      <td>0</td>\n",
       "      <td>0.0</td>\n",
       "      <td>0.000</td>\n",
       "    </tr>\n",
       "  </tbody>\n",
       "</table>\n",
       "</div>"
      ],
      "text/plain": [
       "         day  testing_day  case  num_shedding  wastewater_signal  ww_magnitude\n",
       "0  10-Sep-23            1     0             0                1.0         4.179\n",
       "1  11-Sep-23            1     0             0                0.0         0.000\n",
       "2  13-Sep-23            1     0             0                0.0         0.000\n",
       "3  17-Sep-23            1     0             0                0.0         0.000\n",
       "4  18-Sep-23            1     0             0                0.0         0.000"
      ]
     },
     "execution_count": 3,
     "metadata": {},
     "output_type": "execute_result"
    }
   ],
   "source": [
    "samples = wastewater[wastewater['testing_day'] == 1]\n",
    "samples = samples.reset_index().drop(columns='index')\n",
    "samples.head()"
   ]
  },
  {
   "cell_type": "code",
   "execution_count": 4,
   "id": "13bfccbc",
   "metadata": {},
   "outputs": [
    {
     "data": {
      "text/html": [
       "<div>\n",
       "<style scoped>\n",
       "    .dataframe tbody tr th:only-of-type {\n",
       "        vertical-align: middle;\n",
       "    }\n",
       "\n",
       "    .dataframe tbody tr th {\n",
       "        vertical-align: top;\n",
       "    }\n",
       "\n",
       "    .dataframe thead th {\n",
       "        text-align: right;\n",
       "    }\n",
       "</style>\n",
       "<table border=\"1\" class=\"dataframe\">\n",
       "  <thead>\n",
       "    <tr style=\"text-align: right;\">\n",
       "      <th></th>\n",
       "      <th>day</th>\n",
       "      <th>testing_day</th>\n",
       "      <th>case</th>\n",
       "      <th>num_shedding</th>\n",
       "      <th>wastewater_signal</th>\n",
       "      <th>ww_magnitude</th>\n",
       "    </tr>\n",
       "  </thead>\n",
       "  <tbody>\n",
       "    <tr>\n",
       "      <th>111</th>\n",
       "      <td>27-May-24</td>\n",
       "      <td>1</td>\n",
       "      <td>0</td>\n",
       "      <td>0</td>\n",
       "      <td>0.0</td>\n",
       "      <td>0.000</td>\n",
       "    </tr>\n",
       "    <tr>\n",
       "      <th>112</th>\n",
       "      <td>29-May-24</td>\n",
       "      <td>1</td>\n",
       "      <td>0</td>\n",
       "      <td>0</td>\n",
       "      <td>0.0</td>\n",
       "      <td>0.000</td>\n",
       "    </tr>\n",
       "    <tr>\n",
       "      <th>113</th>\n",
       "      <td>2-Jun-24</td>\n",
       "      <td>1</td>\n",
       "      <td>0</td>\n",
       "      <td>0</td>\n",
       "      <td>1.0</td>\n",
       "      <td>7.845</td>\n",
       "    </tr>\n",
       "    <tr>\n",
       "      <th>114</th>\n",
       "      <td>3-Jun-24</td>\n",
       "      <td>1</td>\n",
       "      <td>0</td>\n",
       "      <td>0</td>\n",
       "      <td>1.0</td>\n",
       "      <td>7.549</td>\n",
       "    </tr>\n",
       "    <tr>\n",
       "      <th>115</th>\n",
       "      <td>5-Jun-24</td>\n",
       "      <td>1</td>\n",
       "      <td>0</td>\n",
       "      <td>0</td>\n",
       "      <td>0.0</td>\n",
       "      <td>0.000</td>\n",
       "    </tr>\n",
       "    <tr>\n",
       "      <th>116</th>\n",
       "      <td>9-Jun-24</td>\n",
       "      <td>1</td>\n",
       "      <td>0</td>\n",
       "      <td>0</td>\n",
       "      <td>0.0</td>\n",
       "      <td>0.000</td>\n",
       "    </tr>\n",
       "    <tr>\n",
       "      <th>117</th>\n",
       "      <td>10-Jun-24</td>\n",
       "      <td>1</td>\n",
       "      <td>0</td>\n",
       "      <td>0</td>\n",
       "      <td>0.0</td>\n",
       "      <td>0.000</td>\n",
       "    </tr>\n",
       "    <tr>\n",
       "      <th>118</th>\n",
       "      <td>12-Jun-24</td>\n",
       "      <td>1</td>\n",
       "      <td>0</td>\n",
       "      <td>0</td>\n",
       "      <td>1.0</td>\n",
       "      <td>9.646</td>\n",
       "    </tr>\n",
       "    <tr>\n",
       "      <th>119</th>\n",
       "      <td>16-Jun-24</td>\n",
       "      <td>1</td>\n",
       "      <td>0</td>\n",
       "      <td>0</td>\n",
       "      <td>1.0</td>\n",
       "      <td>5.522</td>\n",
       "    </tr>\n",
       "    <tr>\n",
       "      <th>120</th>\n",
       "      <td>17-Jun-24</td>\n",
       "      <td>1</td>\n",
       "      <td>0</td>\n",
       "      <td>0</td>\n",
       "      <td>1.0</td>\n",
       "      <td>1.225</td>\n",
       "    </tr>\n",
       "    <tr>\n",
       "      <th>121</th>\n",
       "      <td>19-Jun-24</td>\n",
       "      <td>1</td>\n",
       "      <td>0</td>\n",
       "      <td>0</td>\n",
       "      <td>1.0</td>\n",
       "      <td>3.485</td>\n",
       "    </tr>\n",
       "    <tr>\n",
       "      <th>122</th>\n",
       "      <td>23-Jun-24</td>\n",
       "      <td>1</td>\n",
       "      <td>0</td>\n",
       "      <td>0</td>\n",
       "      <td>0.0</td>\n",
       "      <td>0.000</td>\n",
       "    </tr>\n",
       "    <tr>\n",
       "      <th>123</th>\n",
       "      <td>24-Jun-24</td>\n",
       "      <td>1</td>\n",
       "      <td>0</td>\n",
       "      <td>0</td>\n",
       "      <td>0.0</td>\n",
       "      <td>0.000</td>\n",
       "    </tr>\n",
       "    <tr>\n",
       "      <th>124</th>\n",
       "      <td>26-Jun-24</td>\n",
       "      <td>1</td>\n",
       "      <td>0</td>\n",
       "      <td>0</td>\n",
       "      <td>0.0</td>\n",
       "      <td>0.000</td>\n",
       "    </tr>\n",
       "    <tr>\n",
       "      <th>125</th>\n",
       "      <td>30-Jun-24</td>\n",
       "      <td>1</td>\n",
       "      <td>0</td>\n",
       "      <td>0</td>\n",
       "      <td>0.0</td>\n",
       "      <td>0.000</td>\n",
       "    </tr>\n",
       "    <tr>\n",
       "      <th>126</th>\n",
       "      <td>1-Jul-24</td>\n",
       "      <td>1</td>\n",
       "      <td>0</td>\n",
       "      <td>0</td>\n",
       "      <td>0.0</td>\n",
       "      <td>0.000</td>\n",
       "    </tr>\n",
       "    <tr>\n",
       "      <th>127</th>\n",
       "      <td>3-Jul-24</td>\n",
       "      <td>1</td>\n",
       "      <td>0</td>\n",
       "      <td>0</td>\n",
       "      <td>0.0</td>\n",
       "      <td>0.000</td>\n",
       "    </tr>\n",
       "    <tr>\n",
       "      <th>128</th>\n",
       "      <td>7-Jul-24</td>\n",
       "      <td>1</td>\n",
       "      <td>0</td>\n",
       "      <td>0</td>\n",
       "      <td>0.0</td>\n",
       "      <td>0.000</td>\n",
       "    </tr>\n",
       "    <tr>\n",
       "      <th>129</th>\n",
       "      <td>8-Jul-24</td>\n",
       "      <td>1</td>\n",
       "      <td>0</td>\n",
       "      <td>0</td>\n",
       "      <td>0.0</td>\n",
       "      <td>0.000</td>\n",
       "    </tr>\n",
       "    <tr>\n",
       "      <th>130</th>\n",
       "      <td>10-Jul-24</td>\n",
       "      <td>1</td>\n",
       "      <td>0</td>\n",
       "      <td>0</td>\n",
       "      <td>0.0</td>\n",
       "      <td>0.000</td>\n",
       "    </tr>\n",
       "  </tbody>\n",
       "</table>\n",
       "</div>"
      ],
      "text/plain": [
       "           day  testing_day  case  num_shedding  wastewater_signal  \\\n",
       "111  27-May-24            1     0             0                0.0   \n",
       "112  29-May-24            1     0             0                0.0   \n",
       "113   2-Jun-24            1     0             0                1.0   \n",
       "114   3-Jun-24            1     0             0                1.0   \n",
       "115   5-Jun-24            1     0             0                0.0   \n",
       "116   9-Jun-24            1     0             0                0.0   \n",
       "117  10-Jun-24            1     0             0                0.0   \n",
       "118  12-Jun-24            1     0             0                1.0   \n",
       "119  16-Jun-24            1     0             0                1.0   \n",
       "120  17-Jun-24            1     0             0                1.0   \n",
       "121  19-Jun-24            1     0             0                1.0   \n",
       "122  23-Jun-24            1     0             0                0.0   \n",
       "123  24-Jun-24            1     0             0                0.0   \n",
       "124  26-Jun-24            1     0             0                0.0   \n",
       "125  30-Jun-24            1     0             0                0.0   \n",
       "126   1-Jul-24            1     0             0                0.0   \n",
       "127   3-Jul-24            1     0             0                0.0   \n",
       "128   7-Jul-24            1     0             0                0.0   \n",
       "129   8-Jul-24            1     0             0                0.0   \n",
       "130  10-Jul-24            1     0             0                0.0   \n",
       "\n",
       "     ww_magnitude  \n",
       "111         0.000  \n",
       "112         0.000  \n",
       "113         7.845  \n",
       "114         7.549  \n",
       "115         0.000  \n",
       "116         0.000  \n",
       "117         0.000  \n",
       "118         9.646  \n",
       "119         5.522  \n",
       "120         1.225  \n",
       "121         3.485  \n",
       "122         0.000  \n",
       "123         0.000  \n",
       "124         0.000  \n",
       "125         0.000  \n",
       "126         0.000  \n",
       "127         0.000  \n",
       "128         0.000  \n",
       "129         0.000  \n",
       "130         0.000  "
      ]
     },
     "execution_count": 4,
     "metadata": {},
     "output_type": "execute_result"
    }
   ],
   "source": [
    "samples.tail(20)"
   ]
  },
  {
   "cell_type": "code",
   "execution_count": 5,
   "id": "d05bc8e1",
   "metadata": {},
   "outputs": [
    {
     "data": {
      "text/html": [
       "<div>\n",
       "<style scoped>\n",
       "    .dataframe tbody tr th:only-of-type {\n",
       "        vertical-align: middle;\n",
       "    }\n",
       "\n",
       "    .dataframe tbody tr th {\n",
       "        vertical-align: top;\n",
       "    }\n",
       "\n",
       "    .dataframe thead th {\n",
       "        text-align: right;\n",
       "    }\n",
       "</style>\n",
       "<table border=\"1\" class=\"dataframe\">\n",
       "  <thead>\n",
       "    <tr style=\"text-align: right;\">\n",
       "      <th></th>\n",
       "      <th>day</th>\n",
       "      <th>testing_day</th>\n",
       "      <th>case</th>\n",
       "      <th>num_shedding</th>\n",
       "      <th>wastewater_signal</th>\n",
       "      <th>ww_magnitude</th>\n",
       "    </tr>\n",
       "  </thead>\n",
       "  <tbody>\n",
       "    <tr>\n",
       "      <th>127</th>\n",
       "      <td>3-Jul-24</td>\n",
       "      <td>1</td>\n",
       "      <td>0</td>\n",
       "      <td>0</td>\n",
       "      <td>0.0</td>\n",
       "      <td>0.0</td>\n",
       "    </tr>\n",
       "    <tr>\n",
       "      <th>128</th>\n",
       "      <td>7-Jul-24</td>\n",
       "      <td>1</td>\n",
       "      <td>0</td>\n",
       "      <td>0</td>\n",
       "      <td>0.0</td>\n",
       "      <td>0.0</td>\n",
       "    </tr>\n",
       "    <tr>\n",
       "      <th>129</th>\n",
       "      <td>8-Jul-24</td>\n",
       "      <td>1</td>\n",
       "      <td>0</td>\n",
       "      <td>0</td>\n",
       "      <td>0.0</td>\n",
       "      <td>0.0</td>\n",
       "    </tr>\n",
       "    <tr>\n",
       "      <th>130</th>\n",
       "      <td>10-Jul-24</td>\n",
       "      <td>1</td>\n",
       "      <td>0</td>\n",
       "      <td>0</td>\n",
       "      <td>0.0</td>\n",
       "      <td>0.0</td>\n",
       "    </tr>\n",
       "  </tbody>\n",
       "</table>\n",
       "</div>"
      ],
      "text/plain": [
       "           day  testing_day  case  num_shedding  wastewater_signal  \\\n",
       "127   3-Jul-24            1     0             0                0.0   \n",
       "128   7-Jul-24            1     0             0                0.0   \n",
       "129   8-Jul-24            1     0             0                0.0   \n",
       "130  10-Jul-24            1     0             0                0.0   \n",
       "\n",
       "     ww_magnitude  \n",
       "127           0.0  \n",
       "128           0.0  \n",
       "129           0.0  \n",
       "130           0.0  "
      ]
     },
     "execution_count": 5,
     "metadata": {},
     "output_type": "execute_result"
    }
   ],
   "source": [
    "samples.iloc[-4:]"
   ]
  },
  {
   "cell_type": "markdown",
   "id": "78144e0e",
   "metadata": {},
   "source": [
    "## Centered Moving Average"
   ]
  },
  {
   "cell_type": "code",
   "execution_count": 6,
   "id": "8d6f1152",
   "metadata": {},
   "outputs": [],
   "source": [
    "def centered_moving_average(df, col, num_avg):\n",
    "    df[f'moving_avg_{num_avg}'] = df[col].rolling(window=num_avg, center=True).mean()\n",
    "    def boundary_handler(df, col, num_avg):\n",
    "        # Handle the first few boundary rows\n",
    "        for i in range(num_avg // 2):\n",
    "            # First few rows: progressively average from 1 to num_avg\n",
    "            df.loc[i, f'moving_avg_{num_avg}'] = df[col].iloc[: num_avg//2 + i +1].mean()\n",
    "            \n",
    "            # Last few rows: progressively average fewer values from the end\n",
    "            df.loc[(len(df)- i-1), f'moving_avg_{num_avg}'] = df[col].iloc[-(num_avg//2 + i + 1):].mean()\n",
    "\n",
    "        return df\n",
    "    return boundary_handler(df, col, num_avg)        "
   ]
  },
  {
   "cell_type": "code",
   "execution_count": 7,
   "id": "5db9a96e",
   "metadata": {},
   "outputs": [],
   "source": [
    "samples = centered_moving_average(samples, \"ww_magnitude\", 3)\n",
    "samples = centered_moving_average(samples, \"ww_magnitude\", 5)\n",
    "samples = centered_moving_average(samples, \"ww_magnitude\", 7)"
   ]
  },
  {
   "cell_type": "code",
   "execution_count": 8,
   "id": "348d8a08",
   "metadata": {},
   "outputs": [
    {
     "data": {
      "text/html": [
       "<div>\n",
       "<style scoped>\n",
       "    .dataframe tbody tr th:only-of-type {\n",
       "        vertical-align: middle;\n",
       "    }\n",
       "\n",
       "    .dataframe tbody tr th {\n",
       "        vertical-align: top;\n",
       "    }\n",
       "\n",
       "    .dataframe thead th {\n",
       "        text-align: right;\n",
       "    }\n",
       "</style>\n",
       "<table border=\"1\" class=\"dataframe\">\n",
       "  <thead>\n",
       "    <tr style=\"text-align: right;\">\n",
       "      <th></th>\n",
       "      <th>day</th>\n",
       "      <th>testing_day</th>\n",
       "      <th>case</th>\n",
       "      <th>num_shedding</th>\n",
       "      <th>wastewater_signal</th>\n",
       "      <th>ww_magnitude</th>\n",
       "      <th>moving_avg_3</th>\n",
       "      <th>moving_avg_5</th>\n",
       "      <th>moving_avg_7</th>\n",
       "    </tr>\n",
       "  </thead>\n",
       "  <tbody>\n",
       "    <tr>\n",
       "      <th>0</th>\n",
       "      <td>10-Sep-23</td>\n",
       "      <td>1</td>\n",
       "      <td>0</td>\n",
       "      <td>0</td>\n",
       "      <td>1.0</td>\n",
       "      <td>4.179</td>\n",
       "      <td>2.089500</td>\n",
       "      <td>1.39300</td>\n",
       "      <td>1.044750</td>\n",
       "    </tr>\n",
       "    <tr>\n",
       "      <th>1</th>\n",
       "      <td>11-Sep-23</td>\n",
       "      <td>1</td>\n",
       "      <td>0</td>\n",
       "      <td>0</td>\n",
       "      <td>0.0</td>\n",
       "      <td>0.000</td>\n",
       "      <td>1.393000</td>\n",
       "      <td>1.04475</td>\n",
       "      <td>0.835800</td>\n",
       "    </tr>\n",
       "    <tr>\n",
       "      <th>2</th>\n",
       "      <td>13-Sep-23</td>\n",
       "      <td>1</td>\n",
       "      <td>0</td>\n",
       "      <td>0</td>\n",
       "      <td>0.0</td>\n",
       "      <td>0.000</td>\n",
       "      <td>0.000000</td>\n",
       "      <td>0.83580</td>\n",
       "      <td>0.696500</td>\n",
       "    </tr>\n",
       "    <tr>\n",
       "      <th>3</th>\n",
       "      <td>17-Sep-23</td>\n",
       "      <td>1</td>\n",
       "      <td>0</td>\n",
       "      <td>0</td>\n",
       "      <td>0.0</td>\n",
       "      <td>0.000</td>\n",
       "      <td>0.000000</td>\n",
       "      <td>0.00000</td>\n",
       "      <td>0.597000</td>\n",
       "    </tr>\n",
       "    <tr>\n",
       "      <th>4</th>\n",
       "      <td>18-Sep-23</td>\n",
       "      <td>1</td>\n",
       "      <td>0</td>\n",
       "      <td>0</td>\n",
       "      <td>0.0</td>\n",
       "      <td>0.000</td>\n",
       "      <td>0.000000</td>\n",
       "      <td>0.00000</td>\n",
       "      <td>2.367143</td>\n",
       "    </tr>\n",
       "    <tr>\n",
       "      <th>5</th>\n",
       "      <td>20-Sep-23</td>\n",
       "      <td>1</td>\n",
       "      <td>0</td>\n",
       "      <td>0</td>\n",
       "      <td>0.0</td>\n",
       "      <td>0.000</td>\n",
       "      <td>0.000000</td>\n",
       "      <td>3.31400</td>\n",
       "      <td>2.367143</td>\n",
       "    </tr>\n",
       "    <tr>\n",
       "      <th>6</th>\n",
       "      <td>24-Sep-23</td>\n",
       "      <td>1</td>\n",
       "      <td>0</td>\n",
       "      <td>0</td>\n",
       "      <td>0.0</td>\n",
       "      <td>0.000</td>\n",
       "      <td>5.523333</td>\n",
       "      <td>3.31400</td>\n",
       "      <td>2.367143</td>\n",
       "    </tr>\n",
       "    <tr>\n",
       "      <th>7</th>\n",
       "      <td>25-Sep-23</td>\n",
       "      <td>1</td>\n",
       "      <td>0</td>\n",
       "      <td>0</td>\n",
       "      <td>1.0</td>\n",
       "      <td>16.570</td>\n",
       "      <td>5.523333</td>\n",
       "      <td>3.31400</td>\n",
       "      <td>2.367143</td>\n",
       "    </tr>\n",
       "    <tr>\n",
       "      <th>8</th>\n",
       "      <td>27-Sep-23</td>\n",
       "      <td>1</td>\n",
       "      <td>0</td>\n",
       "      <td>0</td>\n",
       "      <td>0.0</td>\n",
       "      <td>0.000</td>\n",
       "      <td>5.523333</td>\n",
       "      <td>3.31400</td>\n",
       "      <td>2.367143</td>\n",
       "    </tr>\n",
       "    <tr>\n",
       "      <th>9</th>\n",
       "      <td>1-Oct-23</td>\n",
       "      <td>1</td>\n",
       "      <td>0</td>\n",
       "      <td>0</td>\n",
       "      <td>0.0</td>\n",
       "      <td>0.000</td>\n",
       "      <td>0.000000</td>\n",
       "      <td>3.31400</td>\n",
       "      <td>2.367143</td>\n",
       "    </tr>\n",
       "  </tbody>\n",
       "</table>\n",
       "</div>"
      ],
      "text/plain": [
       "         day  testing_day  case  num_shedding  wastewater_signal  \\\n",
       "0  10-Sep-23            1     0             0                1.0   \n",
       "1  11-Sep-23            1     0             0                0.0   \n",
       "2  13-Sep-23            1     0             0                0.0   \n",
       "3  17-Sep-23            1     0             0                0.0   \n",
       "4  18-Sep-23            1     0             0                0.0   \n",
       "5  20-Sep-23            1     0             0                0.0   \n",
       "6  24-Sep-23            1     0             0                0.0   \n",
       "7  25-Sep-23            1     0             0                1.0   \n",
       "8  27-Sep-23            1     0             0                0.0   \n",
       "9   1-Oct-23            1     0             0                0.0   \n",
       "\n",
       "   ww_magnitude  moving_avg_3  moving_avg_5  moving_avg_7  \n",
       "0         4.179      2.089500       1.39300      1.044750  \n",
       "1         0.000      1.393000       1.04475      0.835800  \n",
       "2         0.000      0.000000       0.83580      0.696500  \n",
       "3         0.000      0.000000       0.00000      0.597000  \n",
       "4         0.000      0.000000       0.00000      2.367143  \n",
       "5         0.000      0.000000       3.31400      2.367143  \n",
       "6         0.000      5.523333       3.31400      2.367143  \n",
       "7        16.570      5.523333       3.31400      2.367143  \n",
       "8         0.000      5.523333       3.31400      2.367143  \n",
       "9         0.000      0.000000       3.31400      2.367143  "
      ]
     },
     "execution_count": 8,
     "metadata": {},
     "output_type": "execute_result"
    }
   ],
   "source": [
    "samples.head(10)"
   ]
  },
  {
   "cell_type": "code",
   "execution_count": 9,
   "id": "7945fdb9",
   "metadata": {},
   "outputs": [
    {
     "data": {
      "text/html": [
       "<div>\n",
       "<style scoped>\n",
       "    .dataframe tbody tr th:only-of-type {\n",
       "        vertical-align: middle;\n",
       "    }\n",
       "\n",
       "    .dataframe tbody tr th {\n",
       "        vertical-align: top;\n",
       "    }\n",
       "\n",
       "    .dataframe thead th {\n",
       "        text-align: right;\n",
       "    }\n",
       "</style>\n",
       "<table border=\"1\" class=\"dataframe\">\n",
       "  <thead>\n",
       "    <tr style=\"text-align: right;\">\n",
       "      <th></th>\n",
       "      <th>day</th>\n",
       "      <th>testing_day</th>\n",
       "      <th>case</th>\n",
       "      <th>num_shedding</th>\n",
       "      <th>wastewater_signal</th>\n",
       "      <th>ww_magnitude</th>\n",
       "      <th>moving_avg_3</th>\n",
       "      <th>moving_avg_5</th>\n",
       "      <th>moving_avg_7</th>\n",
       "    </tr>\n",
       "  </thead>\n",
       "  <tbody>\n",
       "    <tr>\n",
       "      <th>121</th>\n",
       "      <td>19-Jun-24</td>\n",
       "      <td>1</td>\n",
       "      <td>0</td>\n",
       "      <td>0</td>\n",
       "      <td>1.0</td>\n",
       "      <td>3.485</td>\n",
       "      <td>1.570000</td>\n",
       "      <td>2.0464</td>\n",
       "      <td>2.839714</td>\n",
       "    </tr>\n",
       "    <tr>\n",
       "      <th>122</th>\n",
       "      <td>23-Jun-24</td>\n",
       "      <td>1</td>\n",
       "      <td>0</td>\n",
       "      <td>0</td>\n",
       "      <td>0.0</td>\n",
       "      <td>0.000</td>\n",
       "      <td>1.161667</td>\n",
       "      <td>0.9420</td>\n",
       "      <td>1.461714</td>\n",
       "    </tr>\n",
       "    <tr>\n",
       "      <th>123</th>\n",
       "      <td>24-Jun-24</td>\n",
       "      <td>1</td>\n",
       "      <td>0</td>\n",
       "      <td>0</td>\n",
       "      <td>0.0</td>\n",
       "      <td>0.000</td>\n",
       "      <td>0.000000</td>\n",
       "      <td>0.6970</td>\n",
       "      <td>0.672857</td>\n",
       "    </tr>\n",
       "    <tr>\n",
       "      <th>124</th>\n",
       "      <td>26-Jun-24</td>\n",
       "      <td>1</td>\n",
       "      <td>0</td>\n",
       "      <td>0</td>\n",
       "      <td>0.0</td>\n",
       "      <td>0.000</td>\n",
       "      <td>0.000000</td>\n",
       "      <td>0.0000</td>\n",
       "      <td>0.497857</td>\n",
       "    </tr>\n",
       "    <tr>\n",
       "      <th>125</th>\n",
       "      <td>30-Jun-24</td>\n",
       "      <td>1</td>\n",
       "      <td>0</td>\n",
       "      <td>0</td>\n",
       "      <td>0.0</td>\n",
       "      <td>0.000</td>\n",
       "      <td>0.000000</td>\n",
       "      <td>0.0000</td>\n",
       "      <td>0.000000</td>\n",
       "    </tr>\n",
       "    <tr>\n",
       "      <th>126</th>\n",
       "      <td>1-Jul-24</td>\n",
       "      <td>1</td>\n",
       "      <td>0</td>\n",
       "      <td>0</td>\n",
       "      <td>0.0</td>\n",
       "      <td>0.000</td>\n",
       "      <td>0.000000</td>\n",
       "      <td>0.0000</td>\n",
       "      <td>0.000000</td>\n",
       "    </tr>\n",
       "    <tr>\n",
       "      <th>127</th>\n",
       "      <td>3-Jul-24</td>\n",
       "      <td>1</td>\n",
       "      <td>0</td>\n",
       "      <td>0</td>\n",
       "      <td>0.0</td>\n",
       "      <td>0.000</td>\n",
       "      <td>0.000000</td>\n",
       "      <td>0.0000</td>\n",
       "      <td>0.000000</td>\n",
       "    </tr>\n",
       "    <tr>\n",
       "      <th>128</th>\n",
       "      <td>7-Jul-24</td>\n",
       "      <td>1</td>\n",
       "      <td>0</td>\n",
       "      <td>0</td>\n",
       "      <td>0.0</td>\n",
       "      <td>0.000</td>\n",
       "      <td>0.000000</td>\n",
       "      <td>0.0000</td>\n",
       "      <td>0.000000</td>\n",
       "    </tr>\n",
       "    <tr>\n",
       "      <th>129</th>\n",
       "      <td>8-Jul-24</td>\n",
       "      <td>1</td>\n",
       "      <td>0</td>\n",
       "      <td>0</td>\n",
       "      <td>0.0</td>\n",
       "      <td>0.000</td>\n",
       "      <td>0.000000</td>\n",
       "      <td>0.0000</td>\n",
       "      <td>0.000000</td>\n",
       "    </tr>\n",
       "    <tr>\n",
       "      <th>130</th>\n",
       "      <td>10-Jul-24</td>\n",
       "      <td>1</td>\n",
       "      <td>0</td>\n",
       "      <td>0</td>\n",
       "      <td>0.0</td>\n",
       "      <td>0.000</td>\n",
       "      <td>0.000000</td>\n",
       "      <td>0.0000</td>\n",
       "      <td>0.000000</td>\n",
       "    </tr>\n",
       "  </tbody>\n",
       "</table>\n",
       "</div>"
      ],
      "text/plain": [
       "           day  testing_day  case  num_shedding  wastewater_signal  \\\n",
       "121  19-Jun-24            1     0             0                1.0   \n",
       "122  23-Jun-24            1     0             0                0.0   \n",
       "123  24-Jun-24            1     0             0                0.0   \n",
       "124  26-Jun-24            1     0             0                0.0   \n",
       "125  30-Jun-24            1     0             0                0.0   \n",
       "126   1-Jul-24            1     0             0                0.0   \n",
       "127   3-Jul-24            1     0             0                0.0   \n",
       "128   7-Jul-24            1     0             0                0.0   \n",
       "129   8-Jul-24            1     0             0                0.0   \n",
       "130  10-Jul-24            1     0             0                0.0   \n",
       "\n",
       "     ww_magnitude  moving_avg_3  moving_avg_5  moving_avg_7  \n",
       "121         3.485      1.570000        2.0464      2.839714  \n",
       "122         0.000      1.161667        0.9420      1.461714  \n",
       "123         0.000      0.000000        0.6970      0.672857  \n",
       "124         0.000      0.000000        0.0000      0.497857  \n",
       "125         0.000      0.000000        0.0000      0.000000  \n",
       "126         0.000      0.000000        0.0000      0.000000  \n",
       "127         0.000      0.000000        0.0000      0.000000  \n",
       "128         0.000      0.000000        0.0000      0.000000  \n",
       "129         0.000      0.000000        0.0000      0.000000  \n",
       "130         0.000      0.000000        0.0000      0.000000  "
      ]
     },
     "execution_count": 9,
     "metadata": {},
     "output_type": "execute_result"
    }
   ],
   "source": [
    "samples.tail(10)"
   ]
  },
  {
   "cell_type": "markdown",
   "id": "b589cff9",
   "metadata": {},
   "source": [
    "## Key functions"
   ]
  },
  {
   "cell_type": "code",
   "execution_count": 10,
   "id": "b5f2243f",
   "metadata": {},
   "outputs": [],
   "source": [
    "# Functions for tp, fn, tn, fp with varying thresholds\n",
    "def tp(threshold, data):\n",
    "    df = data[(data['wastewater_signal'] == 1) & (data['num_shedding'] >= threshold)]\n",
    "    return df.shape[0]\n",
    "\n",
    "def fn(threshold, data):\n",
    "    df = data[(data['wastewater_signal'] == 0) & (data['num_shedding'] >= threshold)]\n",
    "    return df.shape[0]\n",
    "\n",
    "def tn(threshold, data):\n",
    "    df = data[(data['wastewater_signal'] == 0) & (data['num_shedding'] < threshold)]\n",
    "    return df.shape[0]\n",
    "\n",
    "def fp(threshold, data):\n",
    "    df = data[(data['wastewater_signal'] == 1) & (data['num_shedding'] < threshold)]\n",
    "    return df.shape[0]  "
   ]
  },
  {
   "cell_type": "code",
   "execution_count": 11,
   "id": "f657e0ce",
   "metadata": {},
   "outputs": [],
   "source": [
    "# Sensitivity, PPV, NPV functions\n",
    "def sensitivity(threshold, data):\n",
    "    return (tp(threshold, data) / (tp(threshold, data) + fn(threshold, data)))\n",
    "\n",
    "def ppv(threshold, data):\n",
    "    return tp(threshold, data) / (tp(threshold, data) + fp(threshold, data))\n",
    "\n",
    "def npv(threshold, data):\n",
    "    return tn(threshold, data) / (tn(threshold, data) + fn(threshold, data))"
   ]
  },
  {
   "cell_type": "markdown",
   "id": "778956fd",
   "metadata": {},
   "source": [
    "## Evaluating Wastewater Signal\n",
    "\n",
    "For each of the 3 methods"
   ]
  },
  {
   "cell_type": "code",
   "execution_count": 12,
   "id": "9cac4d83",
   "metadata": {},
   "outputs": [],
   "source": [
    "three_day_3 = samples[['day', 'testing_day', 'case', 'num_shedding', 'moving_avg_3']]\n",
    "five_day_5 = samples[['day', 'testing_day', 'case', 'num_shedding', 'moving_avg_5']]\n",
    "seven_day_7 = samples[['day', 'testing_day', 'case', 'num_shedding', 'moving_avg_7']]"
   ]
  },
  {
   "cell_type": "markdown",
   "id": "0725c92c",
   "metadata": {},
   "source": [
    "### Three day average"
   ]
  },
  {
   "cell_type": "code",
   "execution_count": 13,
   "id": "bfc45c2c",
   "metadata": {},
   "outputs": [
    {
     "data": {
      "text/html": [
       "<div>\n",
       "<style scoped>\n",
       "    .dataframe tbody tr th:only-of-type {\n",
       "        vertical-align: middle;\n",
       "    }\n",
       "\n",
       "    .dataframe tbody tr th {\n",
       "        vertical-align: top;\n",
       "    }\n",
       "\n",
       "    .dataframe thead th {\n",
       "        text-align: right;\n",
       "    }\n",
       "</style>\n",
       "<table border=\"1\" class=\"dataframe\">\n",
       "  <thead>\n",
       "    <tr style=\"text-align: right;\">\n",
       "      <th></th>\n",
       "      <th>day</th>\n",
       "      <th>testing_day</th>\n",
       "      <th>case</th>\n",
       "      <th>num_shedding</th>\n",
       "      <th>moving_avg_3</th>\n",
       "      <th>wastewater_signal</th>\n",
       "    </tr>\n",
       "  </thead>\n",
       "  <tbody>\n",
       "    <tr>\n",
       "      <th>0</th>\n",
       "      <td>10-Sep-23</td>\n",
       "      <td>1</td>\n",
       "      <td>0</td>\n",
       "      <td>0</td>\n",
       "      <td>2.0895</td>\n",
       "      <td>1</td>\n",
       "    </tr>\n",
       "    <tr>\n",
       "      <th>1</th>\n",
       "      <td>11-Sep-23</td>\n",
       "      <td>1</td>\n",
       "      <td>0</td>\n",
       "      <td>0</td>\n",
       "      <td>1.3930</td>\n",
       "      <td>1</td>\n",
       "    </tr>\n",
       "    <tr>\n",
       "      <th>2</th>\n",
       "      <td>13-Sep-23</td>\n",
       "      <td>1</td>\n",
       "      <td>0</td>\n",
       "      <td>0</td>\n",
       "      <td>0.0000</td>\n",
       "      <td>0</td>\n",
       "    </tr>\n",
       "    <tr>\n",
       "      <th>3</th>\n",
       "      <td>17-Sep-23</td>\n",
       "      <td>1</td>\n",
       "      <td>0</td>\n",
       "      <td>0</td>\n",
       "      <td>0.0000</td>\n",
       "      <td>0</td>\n",
       "    </tr>\n",
       "    <tr>\n",
       "      <th>4</th>\n",
       "      <td>18-Sep-23</td>\n",
       "      <td>1</td>\n",
       "      <td>0</td>\n",
       "      <td>0</td>\n",
       "      <td>0.0000</td>\n",
       "      <td>0</td>\n",
       "    </tr>\n",
       "    <tr>\n",
       "      <th>...</th>\n",
       "      <td>...</td>\n",
       "      <td>...</td>\n",
       "      <td>...</td>\n",
       "      <td>...</td>\n",
       "      <td>...</td>\n",
       "      <td>...</td>\n",
       "    </tr>\n",
       "    <tr>\n",
       "      <th>126</th>\n",
       "      <td>1-Jul-24</td>\n",
       "      <td>1</td>\n",
       "      <td>0</td>\n",
       "      <td>0</td>\n",
       "      <td>0.0000</td>\n",
       "      <td>0</td>\n",
       "    </tr>\n",
       "    <tr>\n",
       "      <th>127</th>\n",
       "      <td>3-Jul-24</td>\n",
       "      <td>1</td>\n",
       "      <td>0</td>\n",
       "      <td>0</td>\n",
       "      <td>0.0000</td>\n",
       "      <td>0</td>\n",
       "    </tr>\n",
       "    <tr>\n",
       "      <th>128</th>\n",
       "      <td>7-Jul-24</td>\n",
       "      <td>1</td>\n",
       "      <td>0</td>\n",
       "      <td>0</td>\n",
       "      <td>0.0000</td>\n",
       "      <td>0</td>\n",
       "    </tr>\n",
       "    <tr>\n",
       "      <th>129</th>\n",
       "      <td>8-Jul-24</td>\n",
       "      <td>1</td>\n",
       "      <td>0</td>\n",
       "      <td>0</td>\n",
       "      <td>0.0000</td>\n",
       "      <td>0</td>\n",
       "    </tr>\n",
       "    <tr>\n",
       "      <th>130</th>\n",
       "      <td>10-Jul-24</td>\n",
       "      <td>1</td>\n",
       "      <td>0</td>\n",
       "      <td>0</td>\n",
       "      <td>0.0000</td>\n",
       "      <td>0</td>\n",
       "    </tr>\n",
       "  </tbody>\n",
       "</table>\n",
       "<p>131 rows × 6 columns</p>\n",
       "</div>"
      ],
      "text/plain": [
       "           day  testing_day  case  num_shedding  moving_avg_3  \\\n",
       "0    10-Sep-23            1     0             0        2.0895   \n",
       "1    11-Sep-23            1     0             0        1.3930   \n",
       "2    13-Sep-23            1     0             0        0.0000   \n",
       "3    17-Sep-23            1     0             0        0.0000   \n",
       "4    18-Sep-23            1     0             0        0.0000   \n",
       "..         ...          ...   ...           ...           ...   \n",
       "126   1-Jul-24            1     0             0        0.0000   \n",
       "127   3-Jul-24            1     0             0        0.0000   \n",
       "128   7-Jul-24            1     0             0        0.0000   \n",
       "129   8-Jul-24            1     0             0        0.0000   \n",
       "130  10-Jul-24            1     0             0        0.0000   \n",
       "\n",
       "     wastewater_signal  \n",
       "0                    1  \n",
       "1                    1  \n",
       "2                    0  \n",
       "3                    0  \n",
       "4                    0  \n",
       "..                 ...  \n",
       "126                  0  \n",
       "127                  0  \n",
       "128                  0  \n",
       "129                  0  \n",
       "130                  0  \n",
       "\n",
       "[131 rows x 6 columns]"
      ]
     },
     "execution_count": 13,
     "metadata": {},
     "output_type": "execute_result"
    }
   ],
   "source": [
    "# Three day average\n",
    "three_day = three_day_3.copy()\n",
    "three_day['wastewater_signal'] = (three_day['moving_avg_3'] >0).astype(int)\n",
    "three_day"
   ]
  },
  {
   "cell_type": "code",
   "execution_count": 14,
   "id": "00088308",
   "metadata": {},
   "outputs": [
    {
     "name": "stdout",
     "output_type": "stream",
     "text": [
      "true positives: 38, true negatives: 37, false positives: 42, false_negatives: 14\n"
     ]
    }
   ],
   "source": [
    "# True positives etc\n",
    "tp_3 = tp(1, three_day)\n",
    "fn_3 = fn(1, three_day)\n",
    "fp_3 = fp(1, three_day)\n",
    "tn_3 = tn(1, three_day)\n",
    "print(f'true positives: {tp_3}, true negatives: {tn_3}, false positives: {fp_3}, false_negatives: {fn_3}')"
   ]
  },
  {
   "cell_type": "code",
   "execution_count": 15,
   "id": "296932b9",
   "metadata": {},
   "outputs": [
    {
     "data": {
      "text/plain": [
       "4"
      ]
     },
     "execution_count": 15,
     "metadata": {},
     "output_type": "execute_result"
    }
   ],
   "source": [
    "three_day['num_shedding'].max()"
   ]
  },
  {
   "cell_type": "code",
   "execution_count": 16,
   "id": "344d0d5a",
   "metadata": {},
   "outputs": [
    {
     "name": "stdout",
     "output_type": "stream",
     "text": [
      "one individual: 0.7307692307692307\n",
      "two individuals: 0.8947368421052632\n",
      "three individuals: 0.8888888888888888\n",
      "four individuals: 1.0\n"
     ]
    }
   ],
   "source": [
    "# Sensitivities\n",
    "sensitivity_3_1 = sensitivity(1, three_day)\n",
    "sensitivity_3_2  = sensitivity(2, three_day)\n",
    "sensitivity_3_3 = sensitivity(3, three_day)\n",
    "sensitivity_3_4 = sensitivity(4, three_day)\n",
    "print(f'one individual: {sensitivity_3_1}\\ntwo individuals: {sensitivity_3_2}\\nthree individuals: {sensitivity_3_3}\\nfour individuals: {sensitivity_3_4}')\n",
    "\n"
   ]
  },
  {
   "cell_type": "code",
   "execution_count": 326,
   "id": "c1abe1de",
   "metadata": {},
   "outputs": [
    {
     "data": {
      "text/plain": [
       "0.55"
      ]
     },
     "execution_count": 326,
     "metadata": {},
     "output_type": "execute_result"
    }
   ],
   "source": [
    "# PPV\n",
    "ppv_3 = ppv(1, three_day)\n",
    "ppv_3"
   ]
  },
  {
   "cell_type": "code",
   "execution_count": 327,
   "id": "35403f8c",
   "metadata": {},
   "outputs": [
    {
     "data": {
      "text/plain": [
       "0.6666666666666666"
      ]
     },
     "execution_count": 327,
     "metadata": {},
     "output_type": "execute_result"
    }
   ],
   "source": [
    "# NPV\n",
    "npv_3 = npv(1, three_day)\n",
    "npv_3"
   ]
  },
  {
   "cell_type": "code",
   "execution_count": 328,
   "id": "74a6e703",
   "metadata": {},
   "outputs": [
    {
     "data": {
      "text/html": [
       "<div>\n",
       "<style scoped>\n",
       "    .dataframe tbody tr th:only-of-type {\n",
       "        vertical-align: middle;\n",
       "    }\n",
       "\n",
       "    .dataframe tbody tr th {\n",
       "        vertical-align: top;\n",
       "    }\n",
       "\n",
       "    .dataframe thead th {\n",
       "        text-align: right;\n",
       "    }\n",
       "</style>\n",
       "<table border=\"1\" class=\"dataframe\">\n",
       "  <thead>\n",
       "    <tr style=\"text-align: right;\">\n",
       "      <th></th>\n",
       "      <th>day</th>\n",
       "      <th>testing_day</th>\n",
       "      <th>case</th>\n",
       "      <th>num_shedding</th>\n",
       "      <th>moving_avg_3</th>\n",
       "      <th>wastewater_signal</th>\n",
       "    </tr>\n",
       "  </thead>\n",
       "  <tbody>\n",
       "    <tr>\n",
       "      <th>0</th>\n",
       "      <td>10-Sep-23</td>\n",
       "      <td>1.0</td>\n",
       "      <td>0.0</td>\n",
       "      <td>0.0</td>\n",
       "      <td>2.0895</td>\n",
       "      <td>1</td>\n",
       "    </tr>\n",
       "    <tr>\n",
       "      <th>1</th>\n",
       "      <td>11-Sep-23</td>\n",
       "      <td>1.0</td>\n",
       "      <td>0.0</td>\n",
       "      <td>0.0</td>\n",
       "      <td>1.3930</td>\n",
       "      <td>1</td>\n",
       "    </tr>\n",
       "    <tr>\n",
       "      <th>2</th>\n",
       "      <td>13-Sep-23</td>\n",
       "      <td>1.0</td>\n",
       "      <td>0.0</td>\n",
       "      <td>0.0</td>\n",
       "      <td>0.0000</td>\n",
       "      <td>0</td>\n",
       "    </tr>\n",
       "    <tr>\n",
       "      <th>3</th>\n",
       "      <td>17-Sep-23</td>\n",
       "      <td>1.0</td>\n",
       "      <td>0.0</td>\n",
       "      <td>0.0</td>\n",
       "      <td>0.0000</td>\n",
       "      <td>0</td>\n",
       "    </tr>\n",
       "    <tr>\n",
       "      <th>4</th>\n",
       "      <td>18-Sep-23</td>\n",
       "      <td>1.0</td>\n",
       "      <td>0.0</td>\n",
       "      <td>0.0</td>\n",
       "      <td>0.0000</td>\n",
       "      <td>0</td>\n",
       "    </tr>\n",
       "  </tbody>\n",
       "</table>\n",
       "</div>"
      ],
      "text/plain": [
       "         day  testing_day  case  num_shedding  moving_avg_3  wastewater_signal\n",
       "0  10-Sep-23          1.0   0.0           0.0        2.0895                  1\n",
       "1  11-Sep-23          1.0   0.0           0.0        1.3930                  1\n",
       "2  13-Sep-23          1.0   0.0           0.0        0.0000                  0\n",
       "3  17-Sep-23          1.0   0.0           0.0        0.0000                  0\n",
       "4  18-Sep-23          1.0   0.0           0.0        0.0000                  0"
      ]
     },
     "execution_count": 328,
     "metadata": {},
     "output_type": "execute_result"
    }
   ],
   "source": [
    "three_day.head()"
   ]
  },
  {
   "cell_type": "code",
   "execution_count": 329,
   "id": "f9f29226",
   "metadata": {},
   "outputs": [
    {
     "data": {
      "text/html": [
       "<div>\n",
       "<style scoped>\n",
       "    .dataframe tbody tr th:only-of-type {\n",
       "        vertical-align: middle;\n",
       "    }\n",
       "\n",
       "    .dataframe tbody tr th {\n",
       "        vertical-align: top;\n",
       "    }\n",
       "\n",
       "    .dataframe thead th {\n",
       "        text-align: right;\n",
       "    }\n",
       "</style>\n",
       "<table border=\"1\" class=\"dataframe\">\n",
       "  <thead>\n",
       "    <tr style=\"text-align: right;\">\n",
       "      <th></th>\n",
       "      <th>day</th>\n",
       "      <th>testing_day</th>\n",
       "      <th>case</th>\n",
       "      <th>num_shedding</th>\n",
       "      <th>wastewater_signal</th>\n",
       "    </tr>\n",
       "  </thead>\n",
       "  <tbody>\n",
       "    <tr>\n",
       "      <th>0</th>\n",
       "      <td>10-Sep-23</td>\n",
       "      <td>1</td>\n",
       "      <td>0</td>\n",
       "      <td>0</td>\n",
       "      <td>1.0</td>\n",
       "    </tr>\n",
       "    <tr>\n",
       "      <th>1</th>\n",
       "      <td>11-Sep-23</td>\n",
       "      <td>1</td>\n",
       "      <td>0</td>\n",
       "      <td>0</td>\n",
       "      <td>0.0</td>\n",
       "    </tr>\n",
       "    <tr>\n",
       "      <th>2</th>\n",
       "      <td>13-Sep-23</td>\n",
       "      <td>1</td>\n",
       "      <td>0</td>\n",
       "      <td>0</td>\n",
       "      <td>0.0</td>\n",
       "    </tr>\n",
       "    <tr>\n",
       "      <th>3</th>\n",
       "      <td>17-Sep-23</td>\n",
       "      <td>1</td>\n",
       "      <td>0</td>\n",
       "      <td>0</td>\n",
       "      <td>0.0</td>\n",
       "    </tr>\n",
       "    <tr>\n",
       "      <th>4</th>\n",
       "      <td>18-Sep-23</td>\n",
       "      <td>1</td>\n",
       "      <td>0</td>\n",
       "      <td>0</td>\n",
       "      <td>0.0</td>\n",
       "    </tr>\n",
       "  </tbody>\n",
       "</table>\n",
       "</div>"
      ],
      "text/plain": [
       "         day  testing_day  case  num_shedding  wastewater_signal\n",
       "0  10-Sep-23            1     0             0                1.0\n",
       "1  11-Sep-23            1     0             0                0.0\n",
       "2  13-Sep-23            1     0             0                0.0\n",
       "3  17-Sep-23            1     0             0                0.0\n",
       "4  18-Sep-23            1     0             0                0.0"
      ]
     },
     "execution_count": 329,
     "metadata": {},
     "output_type": "execute_result"
    }
   ],
   "source": [
    "extra_cases.head()"
   ]
  },
  {
   "cell_type": "code",
   "execution_count": 330,
   "id": "5427d445",
   "metadata": {},
   "outputs": [
    {
     "data": {
      "text/html": [
       "<div>\n",
       "<style scoped>\n",
       "    .dataframe tbody tr th:only-of-type {\n",
       "        vertical-align: middle;\n",
       "    }\n",
       "\n",
       "    .dataframe tbody tr th {\n",
       "        vertical-align: top;\n",
       "    }\n",
       "\n",
       "    .dataframe thead th {\n",
       "        text-align: right;\n",
       "    }\n",
       "</style>\n",
       "<table border=\"1\" class=\"dataframe\">\n",
       "  <thead>\n",
       "    <tr style=\"text-align: right;\">\n",
       "      <th></th>\n",
       "      <th>day</th>\n",
       "      <th>testing_day</th>\n",
       "      <th>case</th>\n",
       "      <th>num_shedding</th>\n",
       "      <th>wastewater_signal</th>\n",
       "    </tr>\n",
       "  </thead>\n",
       "  <tbody>\n",
       "    <tr>\n",
       "      <th>0</th>\n",
       "      <td>10-Sep-23</td>\n",
       "      <td>1</td>\n",
       "      <td>0</td>\n",
       "      <td>0</td>\n",
       "      <td>1</td>\n",
       "    </tr>\n",
       "    <tr>\n",
       "      <th>1</th>\n",
       "      <td>11-Sep-23</td>\n",
       "      <td>1</td>\n",
       "      <td>0</td>\n",
       "      <td>0</td>\n",
       "      <td>1</td>\n",
       "    </tr>\n",
       "    <tr>\n",
       "      <th>2</th>\n",
       "      <td>13-Sep-23</td>\n",
       "      <td>1</td>\n",
       "      <td>0</td>\n",
       "      <td>0</td>\n",
       "      <td>0</td>\n",
       "    </tr>\n",
       "    <tr>\n",
       "      <th>3</th>\n",
       "      <td>17-Sep-23</td>\n",
       "      <td>1</td>\n",
       "      <td>0</td>\n",
       "      <td>0</td>\n",
       "      <td>0</td>\n",
       "    </tr>\n",
       "    <tr>\n",
       "      <th>4</th>\n",
       "      <td>18-Sep-23</td>\n",
       "      <td>1</td>\n",
       "      <td>0</td>\n",
       "      <td>0</td>\n",
       "      <td>0</td>\n",
       "    </tr>\n",
       "  </tbody>\n",
       "</table>\n",
       "</div>"
      ],
      "text/plain": [
       "         day  testing_day  case  num_shedding  wastewater_signal\n",
       "0  10-Sep-23            1     0             0                  1\n",
       "1  11-Sep-23            1     0             0                  1\n",
       "2  13-Sep-23            1     0             0                  0\n",
       "3  17-Sep-23            1     0             0                  0\n",
       "4  18-Sep-23            1     0             0                  0"
      ]
     },
     "execution_count": 330,
     "metadata": {},
     "output_type": "execute_result"
    }
   ],
   "source": [
    "# Replacing wastewater signal with three day's \n",
    "extra_cases['wastewater_signal'] = three_day['wastewater_signal']\n",
    "extra_cases.head()"
   ]
  },
  {
   "cell_type": "code",
   "execution_count": 331,
   "id": "9a0d7c1c",
   "metadata": {},
   "outputs": [
    {
     "name": "stdout",
     "output_type": "stream",
     "text": [
      "sensitivity: 0.7209302325581395, ppv: 0.3875, npv: 0.7647058823529411\n"
     ]
    }
   ],
   "source": [
    "# Sensitivity, PPV, NPV for identifying a single individual\n",
    "sensitivity_3_cent_add = sensitivity(1, extra_cases)\n",
    "ppv_3_cent_add = ppv(1, extra_cases)\n",
    "npv_3_cent_add = npv(1, extra_cases)\n",
    "print(f'sensitivity: {sensitivity_3_cent_add}, ppv: {ppv_3_cent_add}, npv: {npv_3_cent_add}')"
   ]
  },
  {
   "cell_type": "code",
   "execution_count": 332,
   "id": "156c9f67",
   "metadata": {},
   "outputs": [
    {
     "name": "stdout",
     "output_type": "stream",
     "text": [
      "one individual: 0.7209302325581395\n",
      "two individuals: 0.8947368421052632\n",
      "three individuals: 0.8888888888888888\n",
      "four individuals: 1.0\n"
     ]
    }
   ],
   "source": [
    "# Sensitivities\n",
    "sensitivity_3_1_r = sensitivity(1, extra_cases)\n",
    "sensitivity_3_2_r  = sensitivity(2, extra_cases)\n",
    "sensitivity_3_3_r = sensitivity(3, extra_cases)\n",
    "sensitivity_3_4_r = sensitivity(4, extra_cases)\n",
    "print(f'one individual: {sensitivity_3_1_r}\\ntwo individuals: {sensitivity_3_2_r}\\nthree individuals: {sensitivity_3_3_r}\\nfour individuals: {sensitivity_3_4_r}')\n",
    "\n"
   ]
  },
  {
   "cell_type": "markdown",
   "id": "f56b62e0",
   "metadata": {},
   "source": [
    "### Five day average"
   ]
  },
  {
   "cell_type": "code",
   "execution_count": 333,
   "id": "5ec4891b",
   "metadata": {},
   "outputs": [
    {
     "data": {
      "text/html": [
       "<div>\n",
       "<style scoped>\n",
       "    .dataframe tbody tr th:only-of-type {\n",
       "        vertical-align: middle;\n",
       "    }\n",
       "\n",
       "    .dataframe tbody tr th {\n",
       "        vertical-align: top;\n",
       "    }\n",
       "\n",
       "    .dataframe thead th {\n",
       "        text-align: right;\n",
       "    }\n",
       "</style>\n",
       "<table border=\"1\" class=\"dataframe\">\n",
       "  <thead>\n",
       "    <tr style=\"text-align: right;\">\n",
       "      <th></th>\n",
       "      <th>day</th>\n",
       "      <th>testing_day</th>\n",
       "      <th>case</th>\n",
       "      <th>num_shedding</th>\n",
       "      <th>moving_avg_5</th>\n",
       "      <th>wastewater_signal</th>\n",
       "    </tr>\n",
       "  </thead>\n",
       "  <tbody>\n",
       "    <tr>\n",
       "      <th>0</th>\n",
       "      <td>10-Sep-23</td>\n",
       "      <td>1.0</td>\n",
       "      <td>0.0</td>\n",
       "      <td>0.0</td>\n",
       "      <td>1.39300</td>\n",
       "      <td>1</td>\n",
       "    </tr>\n",
       "    <tr>\n",
       "      <th>1</th>\n",
       "      <td>11-Sep-23</td>\n",
       "      <td>1.0</td>\n",
       "      <td>0.0</td>\n",
       "      <td>0.0</td>\n",
       "      <td>1.04475</td>\n",
       "      <td>1</td>\n",
       "    </tr>\n",
       "    <tr>\n",
       "      <th>2</th>\n",
       "      <td>13-Sep-23</td>\n",
       "      <td>1.0</td>\n",
       "      <td>0.0</td>\n",
       "      <td>0.0</td>\n",
       "      <td>0.83580</td>\n",
       "      <td>1</td>\n",
       "    </tr>\n",
       "    <tr>\n",
       "      <th>3</th>\n",
       "      <td>17-Sep-23</td>\n",
       "      <td>1.0</td>\n",
       "      <td>0.0</td>\n",
       "      <td>0.0</td>\n",
       "      <td>0.00000</td>\n",
       "      <td>0</td>\n",
       "    </tr>\n",
       "    <tr>\n",
       "      <th>4</th>\n",
       "      <td>18-Sep-23</td>\n",
       "      <td>1.0</td>\n",
       "      <td>0.0</td>\n",
       "      <td>0.0</td>\n",
       "      <td>0.00000</td>\n",
       "      <td>0</td>\n",
       "    </tr>\n",
       "    <tr>\n",
       "      <th>...</th>\n",
       "      <td>...</td>\n",
       "      <td>...</td>\n",
       "      <td>...</td>\n",
       "      <td>...</td>\n",
       "      <td>...</td>\n",
       "      <td>...</td>\n",
       "    </tr>\n",
       "    <tr>\n",
       "      <th>126</th>\n",
       "      <td>1-Jul-24</td>\n",
       "      <td>1.0</td>\n",
       "      <td>0.0</td>\n",
       "      <td>0.0</td>\n",
       "      <td>0.00000</td>\n",
       "      <td>0</td>\n",
       "    </tr>\n",
       "    <tr>\n",
       "      <th>127</th>\n",
       "      <td>3-Jul-24</td>\n",
       "      <td>1.0</td>\n",
       "      <td>0.0</td>\n",
       "      <td>0.0</td>\n",
       "      <td>0.00000</td>\n",
       "      <td>0</td>\n",
       "    </tr>\n",
       "    <tr>\n",
       "      <th>128</th>\n",
       "      <td>7-Jul-24</td>\n",
       "      <td>1.0</td>\n",
       "      <td>0.0</td>\n",
       "      <td>0.0</td>\n",
       "      <td>0.00000</td>\n",
       "      <td>0</td>\n",
       "    </tr>\n",
       "    <tr>\n",
       "      <th>129</th>\n",
       "      <td>8-Jul-24</td>\n",
       "      <td>1.0</td>\n",
       "      <td>0.0</td>\n",
       "      <td>0.0</td>\n",
       "      <td>0.00000</td>\n",
       "      <td>0</td>\n",
       "    </tr>\n",
       "    <tr>\n",
       "      <th>130</th>\n",
       "      <td>10-Jul-24</td>\n",
       "      <td>1.0</td>\n",
       "      <td>0.0</td>\n",
       "      <td>0.0</td>\n",
       "      <td>0.00000</td>\n",
       "      <td>0</td>\n",
       "    </tr>\n",
       "  </tbody>\n",
       "</table>\n",
       "<p>131 rows × 6 columns</p>\n",
       "</div>"
      ],
      "text/plain": [
       "           day  testing_day  case  num_shedding  moving_avg_5  \\\n",
       "0    10-Sep-23          1.0   0.0           0.0       1.39300   \n",
       "1    11-Sep-23          1.0   0.0           0.0       1.04475   \n",
       "2    13-Sep-23          1.0   0.0           0.0       0.83580   \n",
       "3    17-Sep-23          1.0   0.0           0.0       0.00000   \n",
       "4    18-Sep-23          1.0   0.0           0.0       0.00000   \n",
       "..         ...          ...   ...           ...           ...   \n",
       "126   1-Jul-24          1.0   0.0           0.0       0.00000   \n",
       "127   3-Jul-24          1.0   0.0           0.0       0.00000   \n",
       "128   7-Jul-24          1.0   0.0           0.0       0.00000   \n",
       "129   8-Jul-24          1.0   0.0           0.0       0.00000   \n",
       "130  10-Jul-24          1.0   0.0           0.0       0.00000   \n",
       "\n",
       "     wastewater_signal  \n",
       "0                    1  \n",
       "1                    1  \n",
       "2                    1  \n",
       "3                    0  \n",
       "4                    0  \n",
       "..                 ...  \n",
       "126                  0  \n",
       "127                  0  \n",
       "128                  0  \n",
       "129                  0  \n",
       "130                  0  \n",
       "\n",
       "[131 rows x 6 columns]"
      ]
     },
     "execution_count": 333,
     "metadata": {},
     "output_type": "execute_result"
    }
   ],
   "source": [
    "# Five day average\n",
    "five_day = five_day_5.copy()\n",
    "five_day['wastewater_signal'] = (five_day['moving_avg_5'] >0).astype(int)\n",
    "five_day"
   ]
  },
  {
   "cell_type": "code",
   "execution_count": 334,
   "id": "23c57107",
   "metadata": {},
   "outputs": [
    {
     "name": "stdout",
     "output_type": "stream",
     "text": [
      "true positives: 49, true negatives: 22, false positives: 48, false_negatives: 12\n"
     ]
    }
   ],
   "source": [
    "# True positives etc\n",
    "tp_5 = tp(1, five_day)\n",
    "fn_5 = fn(1, five_day)\n",
    "fp_5 = fp(1, five_day)\n",
    "tn_5 = tn(1, five_day)\n",
    "print(f'true positives: {tp_5}, true negatives: {tn_5}, false positives: {fp_5}, false_negatives: {fn_5}')\n"
   ]
  },
  {
   "cell_type": "code",
   "execution_count": 335,
   "id": "d5896406",
   "metadata": {},
   "outputs": [
    {
     "name": "stdout",
     "output_type": "stream",
     "text": [
      "one individual: 0.8032786885245902\n",
      "two individuals: 0.9473684210526315\n",
      "three individuals: 0.9444444444444444\n",
      "four individuals: 1.0\n"
     ]
    }
   ],
   "source": [
    "# Sensitivities\n",
    "sensitivity_5_1 = sensitivity(1, five_day)\n",
    "sensitivity_5_2  = sensitivity(2, five_day)\n",
    "sensitivity_5_3 = sensitivity(3, five_day)\n",
    "sensitivity_5_4 = sensitivity(4, five_day)\n",
    "print(f'one individual: {sensitivity_5_1}\\ntwo individuals: {sensitivity_5_2}\\nthree individuals: {sensitivity_5_3}\\nfour individuals: {sensitivity_5_4}')\n",
    "\n"
   ]
  },
  {
   "cell_type": "code",
   "execution_count": 336,
   "id": "2a809c4b",
   "metadata": {},
   "outputs": [
    {
     "data": {
      "text/plain": [
       "0.5051546391752577"
      ]
     },
     "execution_count": 336,
     "metadata": {},
     "output_type": "execute_result"
    }
   ],
   "source": [
    "# PPV\n",
    "ppv_5 = ppv(1, five_day)\n",
    "ppv_5"
   ]
  },
  {
   "cell_type": "code",
   "execution_count": 337,
   "id": "8074b802",
   "metadata": {},
   "outputs": [
    {
     "data": {
      "text/plain": [
       "0.6470588235294118"
      ]
     },
     "execution_count": 337,
     "metadata": {},
     "output_type": "execute_result"
    }
   ],
   "source": [
    "# NPV\n",
    "npv_5 = npv(1, five_day)\n",
    "npv_5"
   ]
  },
  {
   "cell_type": "code",
   "execution_count": 338,
   "id": "a8d6f2af",
   "metadata": {},
   "outputs": [
    {
     "data": {
      "text/html": [
       "<div>\n",
       "<style scoped>\n",
       "    .dataframe tbody tr th:only-of-type {\n",
       "        vertical-align: middle;\n",
       "    }\n",
       "\n",
       "    .dataframe tbody tr th {\n",
       "        vertical-align: top;\n",
       "    }\n",
       "\n",
       "    .dataframe thead th {\n",
       "        text-align: right;\n",
       "    }\n",
       "</style>\n",
       "<table border=\"1\" class=\"dataframe\">\n",
       "  <thead>\n",
       "    <tr style=\"text-align: right;\">\n",
       "      <th></th>\n",
       "      <th>day</th>\n",
       "      <th>testing_day</th>\n",
       "      <th>case</th>\n",
       "      <th>num_shedding</th>\n",
       "      <th>wastewater_signal</th>\n",
       "    </tr>\n",
       "  </thead>\n",
       "  <tbody>\n",
       "    <tr>\n",
       "      <th>0</th>\n",
       "      <td>10-Sep-23</td>\n",
       "      <td>1</td>\n",
       "      <td>0</td>\n",
       "      <td>0</td>\n",
       "      <td>1</td>\n",
       "    </tr>\n",
       "    <tr>\n",
       "      <th>1</th>\n",
       "      <td>11-Sep-23</td>\n",
       "      <td>1</td>\n",
       "      <td>0</td>\n",
       "      <td>0</td>\n",
       "      <td>1</td>\n",
       "    </tr>\n",
       "    <tr>\n",
       "      <th>2</th>\n",
       "      <td>13-Sep-23</td>\n",
       "      <td>1</td>\n",
       "      <td>0</td>\n",
       "      <td>0</td>\n",
       "      <td>1</td>\n",
       "    </tr>\n",
       "    <tr>\n",
       "      <th>3</th>\n",
       "      <td>17-Sep-23</td>\n",
       "      <td>1</td>\n",
       "      <td>0</td>\n",
       "      <td>0</td>\n",
       "      <td>0</td>\n",
       "    </tr>\n",
       "    <tr>\n",
       "      <th>4</th>\n",
       "      <td>18-Sep-23</td>\n",
       "      <td>1</td>\n",
       "      <td>0</td>\n",
       "      <td>0</td>\n",
       "      <td>0</td>\n",
       "    </tr>\n",
       "  </tbody>\n",
       "</table>\n",
       "</div>"
      ],
      "text/plain": [
       "         day  testing_day  case  num_shedding  wastewater_signal\n",
       "0  10-Sep-23            1     0             0                  1\n",
       "1  11-Sep-23            1     0             0                  1\n",
       "2  13-Sep-23            1     0             0                  1\n",
       "3  17-Sep-23            1     0             0                  0\n",
       "4  18-Sep-23            1     0             0                  0"
      ]
     },
     "execution_count": 338,
     "metadata": {},
     "output_type": "execute_result"
    }
   ],
   "source": [
    "# Replacing wastewater signal with three day's \n",
    "extra_cases['wastewater_signal'] = five_day['wastewater_signal']\n",
    "extra_cases.head()"
   ]
  },
  {
   "cell_type": "code",
   "execution_count": 339,
   "id": "93f681f8",
   "metadata": {},
   "outputs": [
    {
     "name": "stdout",
     "output_type": "stream",
     "text": [
      "sensitivity: 0.7674418604651163, ppv: 0.3402061855670103, npv: 0.7058823529411765\n"
     ]
    }
   ],
   "source": [
    "# Sensitivity, PPV, NPV for identifying a single individual\n",
    "sensitivity_5_cent_add = sensitivity(1, extra_cases)\n",
    "ppv_5_cent_add = ppv(1, extra_cases)\n",
    "npv_5_cent_add = npv(1, extra_cases)\n",
    "print(f'sensitivity: {sensitivity_5_cent_add}, ppv: {ppv_5_cent_add}, npv: {npv_5_cent_add}')"
   ]
  },
  {
   "cell_type": "code",
   "execution_count": 340,
   "id": "893ff4ca",
   "metadata": {},
   "outputs": [
    {
     "name": "stdout",
     "output_type": "stream",
     "text": [
      "one individual: 0.7674418604651163\n",
      "two individuals: 0.9473684210526315\n",
      "three individuals: 0.9444444444444444\n",
      "four individuals: 1.0\n"
     ]
    }
   ],
   "source": [
    "# Sensitivities\n",
    "sensitivity_5_1_r = sensitivity(1, extra_cases)\n",
    "sensitivity_5_2_r  = sensitivity(2, extra_cases)\n",
    "sensitivity_5_3_r = sensitivity(3, extra_cases)\n",
    "sensitivity_5_4_r = sensitivity(4, extra_cases)\n",
    "print(f'one individual: {sensitivity_5_1_r}\\ntwo individuals: {sensitivity_5_2_r}\\nthree individuals: {sensitivity_5_3_r}\\nfour individuals: {sensitivity_5_4_r}')\n",
    "\n"
   ]
  },
  {
   "cell_type": "markdown",
   "id": "caccb7fa",
   "metadata": {},
   "source": [
    "### Seven day average"
   ]
  },
  {
   "cell_type": "code",
   "execution_count": 341,
   "id": "9fb5907c",
   "metadata": {},
   "outputs": [
    {
     "data": {
      "text/html": [
       "<div>\n",
       "<style scoped>\n",
       "    .dataframe tbody tr th:only-of-type {\n",
       "        vertical-align: middle;\n",
       "    }\n",
       "\n",
       "    .dataframe tbody tr th {\n",
       "        vertical-align: top;\n",
       "    }\n",
       "\n",
       "    .dataframe thead th {\n",
       "        text-align: right;\n",
       "    }\n",
       "</style>\n",
       "<table border=\"1\" class=\"dataframe\">\n",
       "  <thead>\n",
       "    <tr style=\"text-align: right;\">\n",
       "      <th></th>\n",
       "      <th>day</th>\n",
       "      <th>testing_day</th>\n",
       "      <th>case</th>\n",
       "      <th>num_shedding</th>\n",
       "      <th>moving_avg_7</th>\n",
       "      <th>wastewater_signal</th>\n",
       "    </tr>\n",
       "  </thead>\n",
       "  <tbody>\n",
       "    <tr>\n",
       "      <th>0</th>\n",
       "      <td>10-Sep-23</td>\n",
       "      <td>1.0</td>\n",
       "      <td>0.0</td>\n",
       "      <td>0.0</td>\n",
       "      <td>1.044750</td>\n",
       "      <td>1</td>\n",
       "    </tr>\n",
       "    <tr>\n",
       "      <th>1</th>\n",
       "      <td>11-Sep-23</td>\n",
       "      <td>1.0</td>\n",
       "      <td>0.0</td>\n",
       "      <td>0.0</td>\n",
       "      <td>0.835800</td>\n",
       "      <td>1</td>\n",
       "    </tr>\n",
       "    <tr>\n",
       "      <th>2</th>\n",
       "      <td>13-Sep-23</td>\n",
       "      <td>1.0</td>\n",
       "      <td>0.0</td>\n",
       "      <td>0.0</td>\n",
       "      <td>0.696500</td>\n",
       "      <td>1</td>\n",
       "    </tr>\n",
       "    <tr>\n",
       "      <th>3</th>\n",
       "      <td>17-Sep-23</td>\n",
       "      <td>1.0</td>\n",
       "      <td>0.0</td>\n",
       "      <td>0.0</td>\n",
       "      <td>0.597000</td>\n",
       "      <td>1</td>\n",
       "    </tr>\n",
       "    <tr>\n",
       "      <th>4</th>\n",
       "      <td>18-Sep-23</td>\n",
       "      <td>1.0</td>\n",
       "      <td>0.0</td>\n",
       "      <td>0.0</td>\n",
       "      <td>2.367143</td>\n",
       "      <td>1</td>\n",
       "    </tr>\n",
       "    <tr>\n",
       "      <th>...</th>\n",
       "      <td>...</td>\n",
       "      <td>...</td>\n",
       "      <td>...</td>\n",
       "      <td>...</td>\n",
       "      <td>...</td>\n",
       "      <td>...</td>\n",
       "    </tr>\n",
       "    <tr>\n",
       "      <th>126</th>\n",
       "      <td>1-Jul-24</td>\n",
       "      <td>1.0</td>\n",
       "      <td>0.0</td>\n",
       "      <td>0.0</td>\n",
       "      <td>0.000000</td>\n",
       "      <td>0</td>\n",
       "    </tr>\n",
       "    <tr>\n",
       "      <th>127</th>\n",
       "      <td>3-Jul-24</td>\n",
       "      <td>1.0</td>\n",
       "      <td>0.0</td>\n",
       "      <td>0.0</td>\n",
       "      <td>0.000000</td>\n",
       "      <td>0</td>\n",
       "    </tr>\n",
       "    <tr>\n",
       "      <th>128</th>\n",
       "      <td>7-Jul-24</td>\n",
       "      <td>1.0</td>\n",
       "      <td>0.0</td>\n",
       "      <td>0.0</td>\n",
       "      <td>0.000000</td>\n",
       "      <td>0</td>\n",
       "    </tr>\n",
       "    <tr>\n",
       "      <th>129</th>\n",
       "      <td>8-Jul-24</td>\n",
       "      <td>1.0</td>\n",
       "      <td>0.0</td>\n",
       "      <td>0.0</td>\n",
       "      <td>0.000000</td>\n",
       "      <td>0</td>\n",
       "    </tr>\n",
       "    <tr>\n",
       "      <th>130</th>\n",
       "      <td>10-Jul-24</td>\n",
       "      <td>1.0</td>\n",
       "      <td>0.0</td>\n",
       "      <td>0.0</td>\n",
       "      <td>0.000000</td>\n",
       "      <td>0</td>\n",
       "    </tr>\n",
       "  </tbody>\n",
       "</table>\n",
       "<p>131 rows × 6 columns</p>\n",
       "</div>"
      ],
      "text/plain": [
       "           day  testing_day  case  num_shedding  moving_avg_7  \\\n",
       "0    10-Sep-23          1.0   0.0           0.0      1.044750   \n",
       "1    11-Sep-23          1.0   0.0           0.0      0.835800   \n",
       "2    13-Sep-23          1.0   0.0           0.0      0.696500   \n",
       "3    17-Sep-23          1.0   0.0           0.0      0.597000   \n",
       "4    18-Sep-23          1.0   0.0           0.0      2.367143   \n",
       "..         ...          ...   ...           ...           ...   \n",
       "126   1-Jul-24          1.0   0.0           0.0      0.000000   \n",
       "127   3-Jul-24          1.0   0.0           0.0      0.000000   \n",
       "128   7-Jul-24          1.0   0.0           0.0      0.000000   \n",
       "129   8-Jul-24          1.0   0.0           0.0      0.000000   \n",
       "130  10-Jul-24          1.0   0.0           0.0      0.000000   \n",
       "\n",
       "     wastewater_signal  \n",
       "0                    1  \n",
       "1                    1  \n",
       "2                    1  \n",
       "3                    1  \n",
       "4                    1  \n",
       "..                 ...  \n",
       "126                  0  \n",
       "127                  0  \n",
       "128                  0  \n",
       "129                  0  \n",
       "130                  0  \n",
       "\n",
       "[131 rows x 6 columns]"
      ]
     },
     "execution_count": 341,
     "metadata": {},
     "output_type": "execute_result"
    }
   ],
   "source": [
    "# sevenday average\n",
    "seven_day = seven_day_7.copy()\n",
    "seven_day['wastewater_signal'] = (seven_day['moving_avg_7'] >0).astype(int)\n",
    "seven_day"
   ]
  },
  {
   "cell_type": "code",
   "execution_count": 342,
   "id": "99d90de0",
   "metadata": {},
   "outputs": [
    {
     "name": "stdout",
     "output_type": "stream",
     "text": [
      "true positives: 53, true negatives: 15, false positives: 55, false_negatives: 8\n"
     ]
    }
   ],
   "source": [
    "# True positives etc\n",
    "tp_7 = tp(1, seven_day)\n",
    "fn_7 = fn(1, seven_day)\n",
    "fp_7 = fp(1, seven_day)\n",
    "tn_7 = tn(1, seven_day)\n",
    "print(f'true positives: {tp_7}, true negatives: {tn_7}, false positives: {fp_7}, false_negatives: {fn_7}')\n"
   ]
  },
  {
   "cell_type": "code",
   "execution_count": 343,
   "id": "afe03510",
   "metadata": {},
   "outputs": [
    {
     "name": "stdout",
     "output_type": "stream",
     "text": [
      "one individual: 0.8688524590163934\n",
      "two individuals: 1.0\n",
      "three individuals: 1.0\n",
      "four individuals: 1.0\n"
     ]
    }
   ],
   "source": [
    "# Sensitivities\n",
    "sensitivity_7_1 = sensitivity(1, seven_day)\n",
    "sensitivity_7_2  = sensitivity(2, seven_day)\n",
    "sensitivity_7_3 = sensitivity(3, seven_day)\n",
    "sensitivity_7_4 = sensitivity(4, seven_day)\n",
    "print(f'one individual: {sensitivity_7_1}\\ntwo individuals: {sensitivity_7_2}\\nthree individuals: {sensitivity_7_3}\\nfour individuals: {sensitivity_7_4}')\n",
    "\n"
   ]
  },
  {
   "cell_type": "code",
   "execution_count": 344,
   "id": "414ec5ab",
   "metadata": {},
   "outputs": [
    {
     "data": {
      "text/plain": [
       "0.49074074074074076"
      ]
     },
     "execution_count": 344,
     "metadata": {},
     "output_type": "execute_result"
    }
   ],
   "source": [
    "# PPV\n",
    "ppv_7 = ppv(1, seven_day)\n",
    "ppv_7"
   ]
  },
  {
   "cell_type": "code",
   "execution_count": 345,
   "id": "4c8544bb",
   "metadata": {},
   "outputs": [
    {
     "data": {
      "text/plain": [
       "0.6521739130434783"
      ]
     },
     "execution_count": 345,
     "metadata": {},
     "output_type": "execute_result"
    }
   ],
   "source": [
    "# NPV\n",
    "npv_7 = npv(1, seven_day)\n",
    "npv_7"
   ]
  },
  {
   "cell_type": "code",
   "execution_count": 346,
   "id": "e88c5e53",
   "metadata": {},
   "outputs": [
    {
     "data": {
      "text/html": [
       "<div>\n",
       "<style scoped>\n",
       "    .dataframe tbody tr th:only-of-type {\n",
       "        vertical-align: middle;\n",
       "    }\n",
       "\n",
       "    .dataframe tbody tr th {\n",
       "        vertical-align: top;\n",
       "    }\n",
       "\n",
       "    .dataframe thead th {\n",
       "        text-align: right;\n",
       "    }\n",
       "</style>\n",
       "<table border=\"1\" class=\"dataframe\">\n",
       "  <thead>\n",
       "    <tr style=\"text-align: right;\">\n",
       "      <th></th>\n",
       "      <th>day</th>\n",
       "      <th>testing_day</th>\n",
       "      <th>case</th>\n",
       "      <th>num_shedding</th>\n",
       "      <th>wastewater_signal</th>\n",
       "    </tr>\n",
       "  </thead>\n",
       "  <tbody>\n",
       "    <tr>\n",
       "      <th>0</th>\n",
       "      <td>10-Sep-23</td>\n",
       "      <td>1</td>\n",
       "      <td>0</td>\n",
       "      <td>0</td>\n",
       "      <td>1</td>\n",
       "    </tr>\n",
       "    <tr>\n",
       "      <th>1</th>\n",
       "      <td>11-Sep-23</td>\n",
       "      <td>1</td>\n",
       "      <td>0</td>\n",
       "      <td>0</td>\n",
       "      <td>1</td>\n",
       "    </tr>\n",
       "    <tr>\n",
       "      <th>2</th>\n",
       "      <td>13-Sep-23</td>\n",
       "      <td>1</td>\n",
       "      <td>0</td>\n",
       "      <td>0</td>\n",
       "      <td>1</td>\n",
       "    </tr>\n",
       "    <tr>\n",
       "      <th>3</th>\n",
       "      <td>17-Sep-23</td>\n",
       "      <td>1</td>\n",
       "      <td>0</td>\n",
       "      <td>0</td>\n",
       "      <td>1</td>\n",
       "    </tr>\n",
       "    <tr>\n",
       "      <th>4</th>\n",
       "      <td>18-Sep-23</td>\n",
       "      <td>1</td>\n",
       "      <td>0</td>\n",
       "      <td>0</td>\n",
       "      <td>1</td>\n",
       "    </tr>\n",
       "  </tbody>\n",
       "</table>\n",
       "</div>"
      ],
      "text/plain": [
       "         day  testing_day  case  num_shedding  wastewater_signal\n",
       "0  10-Sep-23            1     0             0                  1\n",
       "1  11-Sep-23            1     0             0                  1\n",
       "2  13-Sep-23            1     0             0                  1\n",
       "3  17-Sep-23            1     0             0                  1\n",
       "4  18-Sep-23            1     0             0                  1"
      ]
     },
     "execution_count": 346,
     "metadata": {},
     "output_type": "execute_result"
    }
   ],
   "source": [
    "# Replacing wastewater signal with seven day's \n",
    "extra_cases['wastewater_signal'] = seven_day['wastewater_signal']\n",
    "extra_cases.head()"
   ]
  },
  {
   "cell_type": "code",
   "execution_count": 347,
   "id": "674ffb50",
   "metadata": {},
   "outputs": [
    {
     "name": "stdout",
     "output_type": "stream",
     "text": [
      "sensitivity: 0.813953488372093, ppv: 0.32407407407407407, npv: 0.6521739130434783\n"
     ]
    }
   ],
   "source": [
    "# Sensitivity, PPV, NPV for identifying a single individual\n",
    "sensitivity_7_cent_add = sensitivity(1, extra_cases)\n",
    "ppv_7_cent_add = ppv(1, extra_cases)\n",
    "npv_7_cent_add = npv(1, extra_cases)\n",
    "print(f'sensitivity: {sensitivity_7_cent_add}, ppv: {ppv_7_cent_add}, npv: {npv_7_cent_add}')"
   ]
  },
  {
   "cell_type": "code",
   "execution_count": 348,
   "id": "c611c7aa",
   "metadata": {},
   "outputs": [
    {
     "name": "stdout",
     "output_type": "stream",
     "text": [
      "one individual: 0.813953488372093\n",
      "two individuals: 1.0\n",
      "three individuals: 1.0\n",
      "four individuals: 1.0\n"
     ]
    }
   ],
   "source": [
    "# Sensitivities\n",
    "sensitivity_7_1_r = sensitivity(1, extra_cases)\n",
    "sensitivity_7_2_r  = sensitivity(2, extra_cases)\n",
    "sensitivity_7_3_r = sensitivity(3, extra_cases)\n",
    "sensitivity_7_4_r = sensitivity(4, extra_cases)\n",
    "print(f'one individual: {sensitivity_7_1_r}\\ntwo individuals: {sensitivity_7_2_r}\\nthree individuals: {sensitivity_7_3_r}\\nfour individuals: {sensitivity_7_4_r}')\n",
    "\n"
   ]
  },
  {
   "cell_type": "markdown",
   "id": "2965c5d1",
   "metadata": {},
   "source": [
    "## Non-centered moving average"
   ]
  },
  {
   "cell_type": "code",
   "execution_count": 349,
   "id": "eb2474a0",
   "metadata": {},
   "outputs": [],
   "source": [
    "def rolling_average(df, col, num_avg):\n",
    "    rolling_avg = df[col].rolling(window=num_avg, min_periods=1).mean()\n",
    "    return rolling_avg"
   ]
  },
  {
   "cell_type": "markdown",
   "id": "19f91a15",
   "metadata": {},
   "source": [
    "### Three day"
   ]
  },
  {
   "cell_type": "code",
   "execution_count": 350,
   "id": "2b6b2c8b",
   "metadata": {},
   "outputs": [
    {
     "data": {
      "text/html": [
       "<div>\n",
       "<style scoped>\n",
       "    .dataframe tbody tr th:only-of-type {\n",
       "        vertical-align: middle;\n",
       "    }\n",
       "\n",
       "    .dataframe tbody tr th {\n",
       "        vertical-align: top;\n",
       "    }\n",
       "\n",
       "    .dataframe thead th {\n",
       "        text-align: right;\n",
       "    }\n",
       "</style>\n",
       "<table border=\"1\" class=\"dataframe\">\n",
       "  <thead>\n",
       "    <tr style=\"text-align: right;\">\n",
       "      <th></th>\n",
       "      <th>day</th>\n",
       "      <th>testing_day</th>\n",
       "      <th>case</th>\n",
       "      <th>num_shedding</th>\n",
       "      <th>moving_avg_3</th>\n",
       "      <th>wastewater_signal</th>\n",
       "      <th>nc_3</th>\n",
       "      <th>wastewater_signal_centered</th>\n",
       "    </tr>\n",
       "  </thead>\n",
       "  <tbody>\n",
       "    <tr>\n",
       "      <th>0</th>\n",
       "      <td>10-Sep-23</td>\n",
       "      <td>1.0</td>\n",
       "      <td>0.0</td>\n",
       "      <td>0.0</td>\n",
       "      <td>2.0895</td>\n",
       "      <td>1</td>\n",
       "      <td>4.1790</td>\n",
       "      <td>1</td>\n",
       "    </tr>\n",
       "    <tr>\n",
       "      <th>1</th>\n",
       "      <td>11-Sep-23</td>\n",
       "      <td>1.0</td>\n",
       "      <td>0.0</td>\n",
       "      <td>0.0</td>\n",
       "      <td>1.3930</td>\n",
       "      <td>1</td>\n",
       "      <td>2.0895</td>\n",
       "      <td>1</td>\n",
       "    </tr>\n",
       "    <tr>\n",
       "      <th>2</th>\n",
       "      <td>13-Sep-23</td>\n",
       "      <td>1.0</td>\n",
       "      <td>0.0</td>\n",
       "      <td>0.0</td>\n",
       "      <td>0.0000</td>\n",
       "      <td>1</td>\n",
       "      <td>1.3930</td>\n",
       "      <td>0</td>\n",
       "    </tr>\n",
       "    <tr>\n",
       "      <th>3</th>\n",
       "      <td>17-Sep-23</td>\n",
       "      <td>1.0</td>\n",
       "      <td>0.0</td>\n",
       "      <td>0.0</td>\n",
       "      <td>0.0000</td>\n",
       "      <td>0</td>\n",
       "      <td>0.0000</td>\n",
       "      <td>0</td>\n",
       "    </tr>\n",
       "    <tr>\n",
       "      <th>4</th>\n",
       "      <td>18-Sep-23</td>\n",
       "      <td>1.0</td>\n",
       "      <td>0.0</td>\n",
       "      <td>0.0</td>\n",
       "      <td>0.0000</td>\n",
       "      <td>0</td>\n",
       "      <td>0.0000</td>\n",
       "      <td>0</td>\n",
       "    </tr>\n",
       "  </tbody>\n",
       "</table>\n",
       "</div>"
      ],
      "text/plain": [
       "         day  testing_day  case  num_shedding  moving_avg_3  \\\n",
       "0  10-Sep-23          1.0   0.0           0.0        2.0895   \n",
       "1  11-Sep-23          1.0   0.0           0.0        1.3930   \n",
       "2  13-Sep-23          1.0   0.0           0.0        0.0000   \n",
       "3  17-Sep-23          1.0   0.0           0.0        0.0000   \n",
       "4  18-Sep-23          1.0   0.0           0.0        0.0000   \n",
       "\n",
       "   wastewater_signal    nc_3  wastewater_signal_centered  \n",
       "0                  1  4.1790                           1  \n",
       "1                  1  2.0895                           1  \n",
       "2                  1  1.3930                           0  \n",
       "3                  0  0.0000                           0  \n",
       "4                  0  0.0000                           0  "
      ]
     },
     "execution_count": 350,
     "metadata": {},
     "output_type": "execute_result"
    }
   ],
   "source": [
    "three_day['nc_3'] = rolling_average(samples, \"ww_magnitude\", 3)\n",
    "three_day['wastewater_signal_centered'] = three_day['wastewater_signal']\n",
    "three_day.drop(columns='wastewater_signal')\n",
    "three_day['wastewater_signal'] = (three_day['nc_3'] > 0).astype(int)\n",
    "three_day.head()"
   ]
  },
  {
   "cell_type": "code",
   "execution_count": 351,
   "id": "1f18876a",
   "metadata": {},
   "outputs": [
    {
     "name": "stdout",
     "output_type": "stream",
     "text": [
      "true positives: 42, true negatives: 31, false positives: 39, false_negatives: 19\n"
     ]
    }
   ],
   "source": [
    "# True positives etc\n",
    "tp_3_nc = tp(1, three_day)\n",
    "fn_3_nc = fn(1, three_day)\n",
    "fp_3_nc = fp(1, three_day)\n",
    "tn_3_nc = tn(1, three_day)\n",
    "print(f'true positives: {tp_3_nc}, true negatives: {tn_3_nc}, false positives: {fp_3_nc}, false_negatives: {fn_3_nc}')"
   ]
  },
  {
   "cell_type": "code",
   "execution_count": 352,
   "id": "7de0f484",
   "metadata": {},
   "outputs": [
    {
     "name": "stdout",
     "output_type": "stream",
     "text": [
      "one individual: 0.6885245901639344\n",
      "two individuals: 0.8421052631578947\n",
      "three individuals: 0.8333333333333334\n",
      "four individuals: 0.9166666666666666\n"
     ]
    }
   ],
   "source": [
    "# Sensitivities\n",
    "sensitivity_3_1_nc = sensitivity(1, three_day)\n",
    "sensitivity_3_2_nc  = sensitivity(2, three_day)\n",
    "sensitivity_3_3_nc = sensitivity(3, three_day)\n",
    "sensitivity_3_4_nc = sensitivity(4, three_day)\n",
    "print(f'one individual: {sensitivity_3_1_nc}\\ntwo individuals: {sensitivity_3_2_nc}\\nthree individuals: {sensitivity_3_3_nc}\\nfour individuals: {sensitivity_3_4_nc}')\n",
    "\n"
   ]
  },
  {
   "cell_type": "code",
   "execution_count": 353,
   "id": "5b84e908",
   "metadata": {},
   "outputs": [
    {
     "data": {
      "text/plain": [
       "0.5185185185185185"
      ]
     },
     "execution_count": 353,
     "metadata": {},
     "output_type": "execute_result"
    }
   ],
   "source": [
    "# PPV\n",
    "ppv_3_nc = ppv(1, three_day)\n",
    "ppv_3_nc"
   ]
  },
  {
   "cell_type": "code",
   "execution_count": 354,
   "id": "6efd5859",
   "metadata": {},
   "outputs": [
    {
     "data": {
      "text/plain": [
       "0.62"
      ]
     },
     "execution_count": 354,
     "metadata": {},
     "output_type": "execute_result"
    }
   ],
   "source": [
    "# NPV\n",
    "npv_3_nc = npv(1, three_day)\n",
    "npv_3_nc"
   ]
  },
  {
   "cell_type": "code",
   "execution_count": 355,
   "id": "b4aeae4c",
   "metadata": {},
   "outputs": [
    {
     "name": "stdout",
     "output_type": "stream",
     "text": [
      "sensitivity: 0.6744186046511628, ppv: 0.35802469135802467, npv: 0.72\n"
     ]
    }
   ],
   "source": [
    "# Replacing wastewater signal with three day's \n",
    "extra_cases['wastewater_signal'] = three_day['wastewater_signal']\n",
    "# Sensitivity, PPV, NPV for identifying a single individual\n",
    "sensitivity_3_roll_add = sensitivity(1, extra_cases)\n",
    "ppv_3_roll_add = ppv(1, extra_cases)\n",
    "npv_3_roll_add = npv(1, extra_cases)\n",
    "print(f'sensitivity: {sensitivity_3_roll_add}, ppv: {ppv_3_roll_add}, npv: {npv_3_roll_add}')"
   ]
  },
  {
   "cell_type": "code",
   "execution_count": 356,
   "id": "f1ab1986",
   "metadata": {},
   "outputs": [
    {
     "name": "stdout",
     "output_type": "stream",
     "text": [
      "one individual: 0.6744186046511628\n",
      "two individuals: 0.8421052631578947\n",
      "three individuals: 0.8333333333333334\n",
      "four individuals: 0.9166666666666666\n"
     ]
    }
   ],
   "source": [
    "# Sensitivities\n",
    "sensitivity_3_1_r = sensitivity(1, extra_cases)\n",
    "sensitivity_3_2_r  = sensitivity(2, extra_cases)\n",
    "sensitivity_3_3_r = sensitivity(3, extra_cases)\n",
    "sensitivity_3_4_r = sensitivity(4, extra_cases)\n",
    "print(f'one individual: {sensitivity_3_1_r}\\ntwo individuals: {sensitivity_3_2_r}\\nthree individuals: {sensitivity_3_3_r}\\nfour individuals: {sensitivity_3_4_r}')\n",
    "\n"
   ]
  },
  {
   "cell_type": "markdown",
   "id": "09712045",
   "metadata": {},
   "source": [
    "### Five day"
   ]
  },
  {
   "cell_type": "code",
   "execution_count": 357,
   "id": "dbdfee22",
   "metadata": {},
   "outputs": [
    {
     "data": {
      "text/html": [
       "<div>\n",
       "<style scoped>\n",
       "    .dataframe tbody tr th:only-of-type {\n",
       "        vertical-align: middle;\n",
       "    }\n",
       "\n",
       "    .dataframe tbody tr th {\n",
       "        vertical-align: top;\n",
       "    }\n",
       "\n",
       "    .dataframe thead th {\n",
       "        text-align: right;\n",
       "    }\n",
       "</style>\n",
       "<table border=\"1\" class=\"dataframe\">\n",
       "  <thead>\n",
       "    <tr style=\"text-align: right;\">\n",
       "      <th></th>\n",
       "      <th>day</th>\n",
       "      <th>testing_day</th>\n",
       "      <th>case</th>\n",
       "      <th>num_shedding</th>\n",
       "      <th>moving_avg_5</th>\n",
       "      <th>wastewater_signal</th>\n",
       "      <th>nc_5</th>\n",
       "      <th>wastewater_signal_centered</th>\n",
       "    </tr>\n",
       "  </thead>\n",
       "  <tbody>\n",
       "    <tr>\n",
       "      <th>0</th>\n",
       "      <td>10-Sep-23</td>\n",
       "      <td>1.0</td>\n",
       "      <td>0.0</td>\n",
       "      <td>0.0</td>\n",
       "      <td>1.39300</td>\n",
       "      <td>1</td>\n",
       "      <td>4.17900</td>\n",
       "      <td>1</td>\n",
       "    </tr>\n",
       "    <tr>\n",
       "      <th>1</th>\n",
       "      <td>11-Sep-23</td>\n",
       "      <td>1.0</td>\n",
       "      <td>0.0</td>\n",
       "      <td>0.0</td>\n",
       "      <td>1.04475</td>\n",
       "      <td>1</td>\n",
       "      <td>2.08950</td>\n",
       "      <td>1</td>\n",
       "    </tr>\n",
       "    <tr>\n",
       "      <th>2</th>\n",
       "      <td>13-Sep-23</td>\n",
       "      <td>1.0</td>\n",
       "      <td>0.0</td>\n",
       "      <td>0.0</td>\n",
       "      <td>0.83580</td>\n",
       "      <td>1</td>\n",
       "      <td>1.39300</td>\n",
       "      <td>1</td>\n",
       "    </tr>\n",
       "    <tr>\n",
       "      <th>3</th>\n",
       "      <td>17-Sep-23</td>\n",
       "      <td>1.0</td>\n",
       "      <td>0.0</td>\n",
       "      <td>0.0</td>\n",
       "      <td>0.00000</td>\n",
       "      <td>1</td>\n",
       "      <td>1.04475</td>\n",
       "      <td>0</td>\n",
       "    </tr>\n",
       "    <tr>\n",
       "      <th>4</th>\n",
       "      <td>18-Sep-23</td>\n",
       "      <td>1.0</td>\n",
       "      <td>0.0</td>\n",
       "      <td>0.0</td>\n",
       "      <td>0.00000</td>\n",
       "      <td>1</td>\n",
       "      <td>0.83580</td>\n",
       "      <td>0</td>\n",
       "    </tr>\n",
       "    <tr>\n",
       "      <th>5</th>\n",
       "      <td>20-Sep-23</td>\n",
       "      <td>1.0</td>\n",
       "      <td>0.0</td>\n",
       "      <td>0.0</td>\n",
       "      <td>3.31400</td>\n",
       "      <td>0</td>\n",
       "      <td>0.00000</td>\n",
       "      <td>1</td>\n",
       "    </tr>\n",
       "    <tr>\n",
       "      <th>6</th>\n",
       "      <td>24-Sep-23</td>\n",
       "      <td>1.0</td>\n",
       "      <td>0.0</td>\n",
       "      <td>0.0</td>\n",
       "      <td>3.31400</td>\n",
       "      <td>0</td>\n",
       "      <td>0.00000</td>\n",
       "      <td>1</td>\n",
       "    </tr>\n",
       "    <tr>\n",
       "      <th>7</th>\n",
       "      <td>25-Sep-23</td>\n",
       "      <td>1.0</td>\n",
       "      <td>0.0</td>\n",
       "      <td>0.0</td>\n",
       "      <td>3.31400</td>\n",
       "      <td>1</td>\n",
       "      <td>3.31400</td>\n",
       "      <td>1</td>\n",
       "    </tr>\n",
       "    <tr>\n",
       "      <th>8</th>\n",
       "      <td>27-Sep-23</td>\n",
       "      <td>1.0</td>\n",
       "      <td>0.0</td>\n",
       "      <td>0.0</td>\n",
       "      <td>3.31400</td>\n",
       "      <td>1</td>\n",
       "      <td>3.31400</td>\n",
       "      <td>1</td>\n",
       "    </tr>\n",
       "    <tr>\n",
       "      <th>9</th>\n",
       "      <td>1-Oct-23</td>\n",
       "      <td>1.0</td>\n",
       "      <td>0.0</td>\n",
       "      <td>0.0</td>\n",
       "      <td>3.31400</td>\n",
       "      <td>1</td>\n",
       "      <td>3.31400</td>\n",
       "      <td>1</td>\n",
       "    </tr>\n",
       "  </tbody>\n",
       "</table>\n",
       "</div>"
      ],
      "text/plain": [
       "         day  testing_day  case  num_shedding  moving_avg_5  \\\n",
       "0  10-Sep-23          1.0   0.0           0.0       1.39300   \n",
       "1  11-Sep-23          1.0   0.0           0.0       1.04475   \n",
       "2  13-Sep-23          1.0   0.0           0.0       0.83580   \n",
       "3  17-Sep-23          1.0   0.0           0.0       0.00000   \n",
       "4  18-Sep-23          1.0   0.0           0.0       0.00000   \n",
       "5  20-Sep-23          1.0   0.0           0.0       3.31400   \n",
       "6  24-Sep-23          1.0   0.0           0.0       3.31400   \n",
       "7  25-Sep-23          1.0   0.0           0.0       3.31400   \n",
       "8  27-Sep-23          1.0   0.0           0.0       3.31400   \n",
       "9   1-Oct-23          1.0   0.0           0.0       3.31400   \n",
       "\n",
       "   wastewater_signal     nc_5  wastewater_signal_centered  \n",
       "0                  1  4.17900                           1  \n",
       "1                  1  2.08950                           1  \n",
       "2                  1  1.39300                           1  \n",
       "3                  1  1.04475                           0  \n",
       "4                  1  0.83580                           0  \n",
       "5                  0  0.00000                           1  \n",
       "6                  0  0.00000                           1  \n",
       "7                  1  3.31400                           1  \n",
       "8                  1  3.31400                           1  \n",
       "9                  1  3.31400                           1  "
      ]
     },
     "execution_count": 357,
     "metadata": {},
     "output_type": "execute_result"
    }
   ],
   "source": [
    "five_day['nc_5'] = rolling_average(samples, \"ww_magnitude\", 5)\n",
    "five_day['wastewater_signal_centered'] = five_day['wastewater_signal']\n",
    "five_day.drop(columns='wastewater_signal')\n",
    "five_day['wastewater_signal'] = (five_day['nc_5'] > 0).astype(int)\n",
    "five_day.head(10)"
   ]
  },
  {
   "cell_type": "code",
   "execution_count": 358,
   "id": "da221f85",
   "metadata": {},
   "outputs": [
    {
     "name": "stdout",
     "output_type": "stream",
     "text": [
      "true positives: 44, true negatives: 15, false positives: 55, false_negatives: 17\n"
     ]
    }
   ],
   "source": [
    "# True positives etc\n",
    "tp_5_nc = tp(1, five_day)\n",
    "fn_5_nc = fn(1, five_day)\n",
    "fp_5_nc = fp(1, five_day)\n",
    "tn_5_nc = tn(1, five_day)\n",
    "print(f'true positives: {tp_5_nc}, true negatives: {tn_5_nc}, false positives: {fp_5_nc}, false_negatives: {fn_5_nc}')\n"
   ]
  },
  {
   "cell_type": "code",
   "execution_count": 359,
   "id": "13843cf0",
   "metadata": {},
   "outputs": [
    {
     "name": "stdout",
     "output_type": "stream",
     "text": [
      "one individual: 0.7213114754098361\n",
      "two individuals: 0.8421052631578947\n",
      "three individuals: 0.8333333333333334\n",
      "four individuals: 0.9166666666666666\n"
     ]
    }
   ],
   "source": [
    "# Sensitivities\n",
    "sensitivity_5_1_nc = sensitivity(1, five_day)\n",
    "sensitivity_5_2_nc  = sensitivity(2, five_day)\n",
    "sensitivity_5_3_nc = sensitivity(3, five_day)\n",
    "sensitivity_5_4_nc = sensitivity(4, five_day)\n",
    "print(f'one individual: {sensitivity_5_1_nc}\\ntwo individuals: {sensitivity_5_2_nc}\\nthree individuals: {sensitivity_5_3_nc}\\nfour individuals: {sensitivity_5_4_nc}')\n",
    "\n"
   ]
  },
  {
   "cell_type": "code",
   "execution_count": 360,
   "id": "43616163",
   "metadata": {},
   "outputs": [
    {
     "data": {
      "text/plain": [
       "0.4444444444444444"
      ]
     },
     "execution_count": 360,
     "metadata": {},
     "output_type": "execute_result"
    }
   ],
   "source": [
    "# PPV\n",
    "ppv_5_nc = ppv(1, five_day)\n",
    "ppv_5_nc"
   ]
  },
  {
   "cell_type": "code",
   "execution_count": 361,
   "id": "a0ab270c",
   "metadata": {},
   "outputs": [
    {
     "data": {
      "text/plain": [
       "0.46875"
      ]
     },
     "execution_count": 361,
     "metadata": {},
     "output_type": "execute_result"
    }
   ],
   "source": [
    "# NPV\n",
    "npv_5_nc = npv(1, five_day)\n",
    "npv_5_nc"
   ]
  },
  {
   "cell_type": "code",
   "execution_count": 362,
   "id": "a23e0946",
   "metadata": {},
   "outputs": [
    {
     "name": "stdout",
     "output_type": "stream",
     "text": [
      "sensitivity: 0.6744186046511628, ppv: 0.29292929292929293, npv: 0.5625\n"
     ]
    }
   ],
   "source": [
    "# Replacing wastewater signal with five day's \n",
    "extra_cases['wastewater_signal'] = five_day['wastewater_signal']\n",
    "# Sensitivity, PPV, NPV for identifying a single individual\n",
    "sensitivity_5_roll_add = sensitivity(1, extra_cases)\n",
    "ppv_5_roll_add = ppv(1, extra_cases)\n",
    "npv_5_roll_add = npv(1, extra_cases)\n",
    "print(f'sensitivity: {sensitivity_5_roll_add}, ppv: {ppv_5_roll_add}, npv: {npv_5_roll_add}')"
   ]
  },
  {
   "cell_type": "code",
   "execution_count": 363,
   "id": "45f54a98",
   "metadata": {},
   "outputs": [
    {
     "name": "stdout",
     "output_type": "stream",
     "text": [
      "one individual: 0.6744186046511628\n",
      "two individuals: 0.8421052631578947\n",
      "three individuals: 0.8333333333333334\n",
      "four individuals: 0.9166666666666666\n"
     ]
    }
   ],
   "source": [
    "# Sensitivities\n",
    "sensitivity_5_1_r = sensitivity(1, extra_cases)\n",
    "sensitivity_5_2_r  = sensitivity(2, extra_cases)\n",
    "sensitivity_5_3_r = sensitivity(3, extra_cases)\n",
    "sensitivity_5_4_r = sensitivity(4, extra_cases)\n",
    "print(f'one individual: {sensitivity_5_1_r}\\ntwo individuals: {sensitivity_5_2_r}\\nthree individuals: {sensitivity_5_3_r}\\nfour individuals: {sensitivity_5_4_r}')\n",
    "\n"
   ]
  },
  {
   "cell_type": "markdown",
   "id": "86634772",
   "metadata": {},
   "source": [
    "### Seven day"
   ]
  },
  {
   "cell_type": "code",
   "execution_count": 364,
   "id": "7d1a84f3",
   "metadata": {},
   "outputs": [
    {
     "data": {
      "text/html": [
       "<div>\n",
       "<style scoped>\n",
       "    .dataframe tbody tr th:only-of-type {\n",
       "        vertical-align: middle;\n",
       "    }\n",
       "\n",
       "    .dataframe tbody tr th {\n",
       "        vertical-align: top;\n",
       "    }\n",
       "\n",
       "    .dataframe thead th {\n",
       "        text-align: right;\n",
       "    }\n",
       "</style>\n",
       "<table border=\"1\" class=\"dataframe\">\n",
       "  <thead>\n",
       "    <tr style=\"text-align: right;\">\n",
       "      <th></th>\n",
       "      <th>day</th>\n",
       "      <th>testing_day</th>\n",
       "      <th>case</th>\n",
       "      <th>num_shedding</th>\n",
       "      <th>moving_avg_7</th>\n",
       "      <th>wastewater_signal</th>\n",
       "      <th>nc_7</th>\n",
       "      <th>wastewater_signal_centered</th>\n",
       "    </tr>\n",
       "  </thead>\n",
       "  <tbody>\n",
       "    <tr>\n",
       "      <th>0</th>\n",
       "      <td>10-Sep-23</td>\n",
       "      <td>1.0</td>\n",
       "      <td>0.0</td>\n",
       "      <td>0.0</td>\n",
       "      <td>1.044750</td>\n",
       "      <td>1</td>\n",
       "      <td>4.17900</td>\n",
       "      <td>1</td>\n",
       "    </tr>\n",
       "    <tr>\n",
       "      <th>1</th>\n",
       "      <td>11-Sep-23</td>\n",
       "      <td>1.0</td>\n",
       "      <td>0.0</td>\n",
       "      <td>0.0</td>\n",
       "      <td>0.835800</td>\n",
       "      <td>1</td>\n",
       "      <td>2.08950</td>\n",
       "      <td>1</td>\n",
       "    </tr>\n",
       "    <tr>\n",
       "      <th>2</th>\n",
       "      <td>13-Sep-23</td>\n",
       "      <td>1.0</td>\n",
       "      <td>0.0</td>\n",
       "      <td>0.0</td>\n",
       "      <td>0.696500</td>\n",
       "      <td>1</td>\n",
       "      <td>1.39300</td>\n",
       "      <td>1</td>\n",
       "    </tr>\n",
       "    <tr>\n",
       "      <th>3</th>\n",
       "      <td>17-Sep-23</td>\n",
       "      <td>1.0</td>\n",
       "      <td>0.0</td>\n",
       "      <td>0.0</td>\n",
       "      <td>0.597000</td>\n",
       "      <td>1</td>\n",
       "      <td>1.04475</td>\n",
       "      <td>1</td>\n",
       "    </tr>\n",
       "    <tr>\n",
       "      <th>4</th>\n",
       "      <td>18-Sep-23</td>\n",
       "      <td>1.0</td>\n",
       "      <td>0.0</td>\n",
       "      <td>0.0</td>\n",
       "      <td>2.367143</td>\n",
       "      <td>1</td>\n",
       "      <td>0.83580</td>\n",
       "      <td>1</td>\n",
       "    </tr>\n",
       "  </tbody>\n",
       "</table>\n",
       "</div>"
      ],
      "text/plain": [
       "         day  testing_day  case  num_shedding  moving_avg_7  \\\n",
       "0  10-Sep-23          1.0   0.0           0.0      1.044750   \n",
       "1  11-Sep-23          1.0   0.0           0.0      0.835800   \n",
       "2  13-Sep-23          1.0   0.0           0.0      0.696500   \n",
       "3  17-Sep-23          1.0   0.0           0.0      0.597000   \n",
       "4  18-Sep-23          1.0   0.0           0.0      2.367143   \n",
       "\n",
       "   wastewater_signal     nc_7  wastewater_signal_centered  \n",
       "0                  1  4.17900                           1  \n",
       "1                  1  2.08950                           1  \n",
       "2                  1  1.39300                           1  \n",
       "3                  1  1.04475                           1  \n",
       "4                  1  0.83580                           1  "
      ]
     },
     "execution_count": 364,
     "metadata": {},
     "output_type": "execute_result"
    }
   ],
   "source": [
    "seven_day['nc_7'] = rolling_average(samples, \"ww_magnitude\", 7)\n",
    "seven_day['wastewater_signal_centered'] = seven_day['wastewater_signal']\n",
    "seven_day.drop(columns='wastewater_signal')\n",
    "seven_day['wastewater_signal'] = (seven_day['nc_7'] > 0).astype(int)\n",
    "seven_day.head()"
   ]
  },
  {
   "cell_type": "code",
   "execution_count": 365,
   "id": "5d2ff027",
   "metadata": {},
   "outputs": [
    {
     "name": "stdout",
     "output_type": "stream",
     "text": [
      "true positives: 46, true negatives: 5, false positives: 65, false_negatives: 15\n"
     ]
    }
   ],
   "source": [
    "# True positives etc\n",
    "tp_7 = tp(1, seven_day)\n",
    "fn_7 = fn(1, seven_day)\n",
    "fp_7 = fp(1, seven_day)\n",
    "tn_7 = tn(1, seven_day)\n",
    "print(f'true positives: {tp_7}, true negatives: {tn_7}, false positives: {fp_7}, false_negatives: {fn_7}')\n"
   ]
  },
  {
   "cell_type": "code",
   "execution_count": 366,
   "id": "aec2b92d",
   "metadata": {},
   "outputs": [
    {
     "name": "stdout",
     "output_type": "stream",
     "text": [
      "one individual: 0.7540983606557377\n",
      "two individuals: 0.8421052631578947\n",
      "three individuals: 0.8333333333333334\n",
      "four individuals: 0.9166666666666666\n"
     ]
    }
   ],
   "source": [
    "# Sensitivities\n",
    "sensitivity_7_1_nc = sensitivity(1, seven_day)\n",
    "sensitivity_7_2_nc  = sensitivity(2, seven_day)\n",
    "sensitivity_7_3_nc = sensitivity(3, seven_day)\n",
    "sensitivity_7_4_nc = sensitivity(4, seven_day)\n",
    "print(f'one individual: {sensitivity_7_1_nc}\\ntwo individuals: {sensitivity_7_2_nc}\\nthree individuals: {sensitivity_7_3_nc}\\nfour individuals: {sensitivity_7_4_nc}')\n",
    "\n"
   ]
  },
  {
   "cell_type": "code",
   "execution_count": 367,
   "id": "23aa4c54",
   "metadata": {},
   "outputs": [
    {
     "data": {
      "text/plain": [
       "0.4144144144144144"
      ]
     },
     "execution_count": 367,
     "metadata": {},
     "output_type": "execute_result"
    }
   ],
   "source": [
    "# PPV\n",
    "ppv_7_nc = ppv(1, seven_day)\n",
    "ppv_7_nc"
   ]
  },
  {
   "cell_type": "code",
   "execution_count": 368,
   "id": "bb668f12",
   "metadata": {},
   "outputs": [
    {
     "data": {
      "text/plain": [
       "0.25"
      ]
     },
     "execution_count": 368,
     "metadata": {},
     "output_type": "execute_result"
    }
   ],
   "source": [
    "# NPV\n",
    "npv_7_nc = npv(1, seven_day)\n",
    "npv_7_nc"
   ]
  },
  {
   "cell_type": "code",
   "execution_count": 369,
   "id": "eefadcc4",
   "metadata": {},
   "outputs": [
    {
     "name": "stdout",
     "output_type": "stream",
     "text": [
      "sensitivity: 0.7209302325581395, ppv: 0.27927927927927926, npv: 0.4\n"
     ]
    }
   ],
   "source": [
    "# Replacing wastewater signal with seven day's \n",
    "extra_cases['wastewater_signal'] = seven_day['wastewater_signal']\n",
    "# Sensitivity, PPV, NPV for identifying a single individual\n",
    "sensitivity_7_roll_add = sensitivity(1, extra_cases)\n",
    "ppv_7_roll_add = ppv(1, extra_cases)\n",
    "npv_7_roll_add = npv(1, extra_cases)\n",
    "print(f'sensitivity: {sensitivity_7_roll_add}, ppv: {ppv_7_roll_add}, npv: {npv_7_roll_add}')"
   ]
  },
  {
   "cell_type": "code",
   "execution_count": 370,
   "id": "2fcc37a9",
   "metadata": {},
   "outputs": [
    {
     "name": "stdout",
     "output_type": "stream",
     "text": [
      "one individual: 0.7209302325581395\n",
      "two individuals: 0.8421052631578947\n",
      "three individuals: 0.8333333333333334\n",
      "four individuals: 0.9166666666666666\n"
     ]
    }
   ],
   "source": [
    "# Sensitivities\n",
    "sensitivity_7_1_r = sensitivity(1, extra_cases)\n",
    "sensitivity_7_2_r  = sensitivity(2, extra_cases)\n",
    "sensitivity_7_3_r = sensitivity(3, extra_cases)\n",
    "sensitivity_7_4_r = sensitivity(4, extra_cases)\n",
    "print(f'one individual: {sensitivity_7_1_r}\\ntwo individuals: {sensitivity_7_2_r}\\nthree individuals: {sensitivity_7_3_r}\\nfour individuals: {sensitivity_7_4_r}')\n",
    "\n"
   ]
  },
  {
   "cell_type": "code",
   "execution_count": null,
   "id": "99db02a7",
   "metadata": {},
   "outputs": [],
   "source": []
  }
 ],
 "metadata": {
  "kernelspec": {
   "display_name": "Python 3 (ipykernel)",
   "language": "python",
   "name": "python3"
  },
  "language_info": {
   "codemirror_mode": {
    "name": "ipython",
    "version": 3
   },
   "file_extension": ".py",
   "mimetype": "text/x-python",
   "name": "python",
   "nbconvert_exporter": "python",
   "pygments_lexer": "ipython3",
   "version": "3.11.5"
  }
 },
 "nbformat": 4,
 "nbformat_minor": 5
}
