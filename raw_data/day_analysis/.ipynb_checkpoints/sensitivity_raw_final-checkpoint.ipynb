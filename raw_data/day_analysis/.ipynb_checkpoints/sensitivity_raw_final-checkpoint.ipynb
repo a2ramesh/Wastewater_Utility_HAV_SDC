{
 "cells": [
  {
   "cell_type": "markdown",
   "id": "c1fd5102",
   "metadata": {},
   "source": [
    "## Aim 1 Analysis (units of days)\n",
    "\n",
    "Sensitivity, PPV, NPV, sensitivity analysis of varying numbers of shedding individuals"
   ]
  },
  {
   "cell_type": "code",
   "execution_count": 1,
   "id": "4c86a10d",
   "metadata": {},
   "outputs": [],
   "source": [
    "import pandas as pd\n",
    "import numpy as np\n",
    "import matplotlib.pyplot as plt\n",
    "import seaborn as sns"
   ]
  },
  {
   "cell_type": "markdown",
   "id": "1eaa2ad1",
   "metadata": {},
   "source": [
    "### Description of Data\n",
    "\n",
    "The data used in this analysis depicts cases, wastewater signal and estimated number of individuals shedding from September 10th 2023 to July 13th 2024. \n",
    "\n",
    "The columns are as follows:\n",
    "\n",
    "1. `day` : the day being described\n",
    "2. `testing_day`: whether or not the wastewater at Point Loma was tested for HAV on that day--  1 if tested, 0 if not\n",
    "3. `case` : whether or not there was a case with an episode date of that day\n",
    "4. `num_shedding` : the number of people estimated to be shedding on that day\n",
    "5. `wastewater_signal` : 1 if wastewater was positive for HAV nucleic acids on that day, 0 if not"
   ]
  },
  {
   "cell_type": "code",
   "execution_count": 2,
   "id": "b23cfa8d",
   "metadata": {},
   "outputs": [],
   "source": [
    "aim1_daily = pd.read_csv(\"aim1_daily_final.csv\")"
   ]
  },
  {
   "cell_type": "code",
   "execution_count": 3,
   "id": "c7e19b65",
   "metadata": {},
   "outputs": [
    {
     "data": {
      "text/html": [
       "<div>\n",
       "<style scoped>\n",
       "    .dataframe tbody tr th:only-of-type {\n",
       "        vertical-align: middle;\n",
       "    }\n",
       "\n",
       "    .dataframe tbody tr th {\n",
       "        vertical-align: top;\n",
       "    }\n",
       "\n",
       "    .dataframe thead th {\n",
       "        text-align: right;\n",
       "    }\n",
       "</style>\n",
       "<table border=\"1\" class=\"dataframe\">\n",
       "  <thead>\n",
       "    <tr style=\"text-align: right;\">\n",
       "      <th></th>\n",
       "      <th>day</th>\n",
       "      <th>testing_day</th>\n",
       "      <th>case</th>\n",
       "      <th>num_shedding</th>\n",
       "      <th>wastewater_signal</th>\n",
       "    </tr>\n",
       "  </thead>\n",
       "  <tbody>\n",
       "    <tr>\n",
       "      <th>0</th>\n",
       "      <td>10-Sep-23</td>\n",
       "      <td>1</td>\n",
       "      <td>0</td>\n",
       "      <td>0</td>\n",
       "      <td>1.0</td>\n",
       "    </tr>\n",
       "    <tr>\n",
       "      <th>1</th>\n",
       "      <td>11-Sep-23</td>\n",
       "      <td>1</td>\n",
       "      <td>0</td>\n",
       "      <td>0</td>\n",
       "      <td>0.0</td>\n",
       "    </tr>\n",
       "    <tr>\n",
       "      <th>2</th>\n",
       "      <td>12-Sep-23</td>\n",
       "      <td>0</td>\n",
       "      <td>0</td>\n",
       "      <td>0</td>\n",
       "      <td>NaN</td>\n",
       "    </tr>\n",
       "    <tr>\n",
       "      <th>3</th>\n",
       "      <td>13-Sep-23</td>\n",
       "      <td>1</td>\n",
       "      <td>0</td>\n",
       "      <td>0</td>\n",
       "      <td>0.0</td>\n",
       "    </tr>\n",
       "    <tr>\n",
       "      <th>4</th>\n",
       "      <td>14-Sep-23</td>\n",
       "      <td>0</td>\n",
       "      <td>0</td>\n",
       "      <td>0</td>\n",
       "      <td>NaN</td>\n",
       "    </tr>\n",
       "    <tr>\n",
       "      <th>5</th>\n",
       "      <td>15-Sep-23</td>\n",
       "      <td>0</td>\n",
       "      <td>0</td>\n",
       "      <td>0</td>\n",
       "      <td>NaN</td>\n",
       "    </tr>\n",
       "    <tr>\n",
       "      <th>6</th>\n",
       "      <td>16-Sep-23</td>\n",
       "      <td>0</td>\n",
       "      <td>0</td>\n",
       "      <td>0</td>\n",
       "      <td>NaN</td>\n",
       "    </tr>\n",
       "    <tr>\n",
       "      <th>7</th>\n",
       "      <td>17-Sep-23</td>\n",
       "      <td>1</td>\n",
       "      <td>0</td>\n",
       "      <td>0</td>\n",
       "      <td>0.0</td>\n",
       "    </tr>\n",
       "    <tr>\n",
       "      <th>8</th>\n",
       "      <td>18-Sep-23</td>\n",
       "      <td>1</td>\n",
       "      <td>0</td>\n",
       "      <td>0</td>\n",
       "      <td>0.0</td>\n",
       "    </tr>\n",
       "    <tr>\n",
       "      <th>9</th>\n",
       "      <td>19-Sep-23</td>\n",
       "      <td>0</td>\n",
       "      <td>0</td>\n",
       "      <td>0</td>\n",
       "      <td>NaN</td>\n",
       "    </tr>\n",
       "  </tbody>\n",
       "</table>\n",
       "</div>"
      ],
      "text/plain": [
       "         day  testing_day  case  num_shedding  wastewater_signal\n",
       "0  10-Sep-23            1     0             0                1.0\n",
       "1  11-Sep-23            1     0             0                0.0\n",
       "2  12-Sep-23            0     0             0                NaN\n",
       "3  13-Sep-23            1     0             0                0.0\n",
       "4  14-Sep-23            0     0             0                NaN\n",
       "5  15-Sep-23            0     0             0                NaN\n",
       "6  16-Sep-23            0     0             0                NaN\n",
       "7  17-Sep-23            1     0             0                0.0\n",
       "8  18-Sep-23            1     0             0                0.0\n",
       "9  19-Sep-23            0     0             0                NaN"
      ]
     },
     "execution_count": 3,
     "metadata": {},
     "output_type": "execute_result"
    }
   ],
   "source": [
    "aim1_daily.head(10)"
   ]
  },
  {
   "cell_type": "code",
   "execution_count": 4,
   "id": "1c8bf56b",
   "metadata": {},
   "outputs": [
    {
     "data": {
      "text/plain": [
       "308"
      ]
     },
     "execution_count": 4,
     "metadata": {},
     "output_type": "execute_result"
    }
   ],
   "source": [
    "# Number of days represented\n",
    "aim1_daily.shape[0]"
   ]
  },
  {
   "cell_type": "code",
   "execution_count": 5,
   "id": "3593af4c",
   "metadata": {},
   "outputs": [
    {
     "data": {
      "text/plain": [
       "12"
      ]
     },
     "execution_count": 5,
     "metadata": {},
     "output_type": "execute_result"
    }
   ],
   "source": [
    "# Number of cases\n",
    "cases = aim1_daily['case'].sum()\n",
    "cases"
   ]
  },
  {
   "cell_type": "code",
   "execution_count": 6,
   "id": "5fde841d",
   "metadata": {},
   "outputs": [
    {
     "data": {
      "text/html": [
       "<div>\n",
       "<style scoped>\n",
       "    .dataframe tbody tr th:only-of-type {\n",
       "        vertical-align: middle;\n",
       "    }\n",
       "\n",
       "    .dataframe tbody tr th {\n",
       "        vertical-align: top;\n",
       "    }\n",
       "\n",
       "    .dataframe thead th {\n",
       "        text-align: right;\n",
       "    }\n",
       "</style>\n",
       "<table border=\"1\" class=\"dataframe\">\n",
       "  <thead>\n",
       "    <tr style=\"text-align: right;\">\n",
       "      <th></th>\n",
       "      <th>day</th>\n",
       "      <th>testing_day</th>\n",
       "      <th>case</th>\n",
       "      <th>num_shedding</th>\n",
       "      <th>wastewater_signal</th>\n",
       "    </tr>\n",
       "  </thead>\n",
       "  <tbody>\n",
       "    <tr>\n",
       "      <th>0</th>\n",
       "      <td>10-Sep-23</td>\n",
       "      <td>1</td>\n",
       "      <td>0</td>\n",
       "      <td>0</td>\n",
       "      <td>1.0</td>\n",
       "    </tr>\n",
       "    <tr>\n",
       "      <th>1</th>\n",
       "      <td>11-Sep-23</td>\n",
       "      <td>1</td>\n",
       "      <td>0</td>\n",
       "      <td>0</td>\n",
       "      <td>0.0</td>\n",
       "    </tr>\n",
       "    <tr>\n",
       "      <th>3</th>\n",
       "      <td>13-Sep-23</td>\n",
       "      <td>1</td>\n",
       "      <td>0</td>\n",
       "      <td>0</td>\n",
       "      <td>0.0</td>\n",
       "    </tr>\n",
       "    <tr>\n",
       "      <th>7</th>\n",
       "      <td>17-Sep-23</td>\n",
       "      <td>1</td>\n",
       "      <td>0</td>\n",
       "      <td>0</td>\n",
       "      <td>0.0</td>\n",
       "    </tr>\n",
       "    <tr>\n",
       "      <th>8</th>\n",
       "      <td>18-Sep-23</td>\n",
       "      <td>1</td>\n",
       "      <td>0</td>\n",
       "      <td>0</td>\n",
       "      <td>0.0</td>\n",
       "    </tr>\n",
       "  </tbody>\n",
       "</table>\n",
       "</div>"
      ],
      "text/plain": [
       "         day  testing_day  case  num_shedding  wastewater_signal\n",
       "0  10-Sep-23            1     0             0                1.0\n",
       "1  11-Sep-23            1     0             0                0.0\n",
       "3  13-Sep-23            1     0             0                0.0\n",
       "7  17-Sep-23            1     0             0                0.0\n",
       "8  18-Sep-23            1     0             0                0.0"
      ]
     },
     "execution_count": 6,
     "metadata": {},
     "output_type": "execute_result"
    }
   ],
   "source": [
    "# Selecting only testing days\n",
    "aim1 = aim1_daily[aim1_daily['testing_day'] == 1]\n",
    "aim1.head()"
   ]
  },
  {
   "cell_type": "code",
   "execution_count": 7,
   "id": "4d96f73a",
   "metadata": {},
   "outputs": [
    {
     "data": {
      "text/plain": [
       "131"
      ]
     },
     "execution_count": 7,
     "metadata": {},
     "output_type": "execute_result"
    }
   ],
   "source": [
    "# Number of testing days\n",
    "aim1.shape[0]"
   ]
  },
  {
   "cell_type": "code",
   "execution_count": 8,
   "id": "0c0919ac",
   "metadata": {},
   "outputs": [
    {
     "data": {
      "text/plain": [
       "day                   object\n",
       "testing_day            int64\n",
       "case                   int64\n",
       "num_shedding           int64\n",
       "wastewater_signal    float64\n",
       "dtype: object"
      ]
     },
     "execution_count": 8,
     "metadata": {},
     "output_type": "execute_result"
    }
   ],
   "source": [
    "aim1.dtypes"
   ]
  },
  {
   "cell_type": "code",
   "execution_count": 9,
   "id": "1a5857ec",
   "metadata": {},
   "outputs": [
    {
     "data": {
      "text/plain": [
       "48.0"
      ]
     },
     "execution_count": 9,
     "metadata": {},
     "output_type": "execute_result"
    }
   ],
   "source": [
    "# Number of positive days\n",
    "pos_days = aim1['wastewater_signal'].sum()\n",
    "pos_days"
   ]
  },
  {
   "cell_type": "markdown",
   "id": "be31e95d",
   "metadata": {},
   "source": [
    "First, finding **true positives (TP)**, **true negatives (TN)**, **false positives (FP)** and **false negatives (FN)**\n",
    "- True positives (TP) will be defined as days when Hepatitis A virus is detected in wastewater and there are cases of individuals shedding the virus. \n",
    "- False negatives (FN) will be defined as days when the virus is not detected in wastewater, but there are still cases of individuals shedding the virus. \n",
    "- True negatives (TN) will be defined as days with no virus detections in wastewater and no individuals shedding the virus. \n",
    "- False positives (FP) will be defined as days when the virus is detected in wastewater, but no individuals are shedding virus"
   ]
  },
  {
   "cell_type": "code",
   "execution_count": 10,
   "id": "e5c8ad62",
   "metadata": {},
   "outputs": [],
   "source": [
    "t_p = aim1[(aim1['wastewater_signal'] == 1) & (aim1['num_shedding'] > 0)]\n",
    "f_n = aim1[(aim1['wastewater_signal'] == 0) & (aim1['num_shedding'] > 0)]\n",
    "t_n = aim1[(aim1['wastewater_signal'] == 0) & (aim1['num_shedding'] == 0)]\n",
    "f_p = aim1[(aim1['wastewater_signal'] == 1) & (aim1['num_shedding'] == 0)]"
   ]
  },
  {
   "cell_type": "code",
   "execution_count": 11,
   "id": "f5f1c5cc",
   "metadata": {},
   "outputs": [
    {
     "data": {
      "text/plain": [
       "25"
      ]
     },
     "execution_count": 11,
     "metadata": {},
     "output_type": "execute_result"
    }
   ],
   "source": [
    "# Number of true positives\n",
    "len(t_p)"
   ]
  },
  {
   "cell_type": "code",
   "execution_count": 12,
   "id": "a6208aec",
   "metadata": {},
   "outputs": [
    {
     "data": {
      "text/plain": [
       "27"
      ]
     },
     "execution_count": 12,
     "metadata": {},
     "output_type": "execute_result"
    }
   ],
   "source": [
    "# Number of false negatives\n",
    "len(f_n)"
   ]
  },
  {
   "cell_type": "code",
   "execution_count": 13,
   "id": "8912d61b",
   "metadata": {},
   "outputs": [
    {
     "data": {
      "text/plain": [
       "56"
      ]
     },
     "execution_count": 13,
     "metadata": {},
     "output_type": "execute_result"
    }
   ],
   "source": [
    "# Number of true negatives\n",
    "len(t_n)"
   ]
  },
  {
   "cell_type": "code",
   "execution_count": 14,
   "id": "4107f12a",
   "metadata": {},
   "outputs": [
    {
     "data": {
      "text/plain": [
       "23"
      ]
     },
     "execution_count": 14,
     "metadata": {},
     "output_type": "execute_result"
    }
   ],
   "source": [
    "# Number of false positives\n",
    "len(f_p)"
   ]
  },
  {
   "cell_type": "markdown",
   "id": "96a6e799",
   "metadata": {},
   "source": [
    "### Sensitivity Overall\n",
    "\n",
    "Sensitivity will be defined as the probability of a wastewater detection given that one or more persons are shedding the virus (TP / (TP+FN))"
   ]
  },
  {
   "cell_type": "code",
   "execution_count": 15,
   "id": "6385cdce",
   "metadata": {},
   "outputs": [
    {
     "data": {
      "text/plain": [
       "0.4807692307692308"
      ]
     },
     "execution_count": 15,
     "metadata": {},
     "output_type": "execute_result"
    }
   ],
   "source": [
    "# Sensitivity for detecting one or more people shedding\n",
    "sensitivity_cdc = len(t_p) / (len(t_p) +len(f_n))\n",
    "sensitivity_cdc"
   ]
  },
  {
   "cell_type": "markdown",
   "id": "948a1719",
   "metadata": {},
   "source": [
    "### Positive Predictive Value\n",
    "Positive predictive value (PPV) will be the probability that at least one person is shedding the virus when a wastewater detection occurs (TP / (TP+FP))"
   ]
  },
  {
   "cell_type": "code",
   "execution_count": 16,
   "id": "c9745725",
   "metadata": {},
   "outputs": [
    {
     "data": {
      "text/plain": [
       "0.5208333333333334"
      ]
     },
     "execution_count": 16,
     "metadata": {},
     "output_type": "execute_result"
    }
   ],
   "source": [
    "# Probability of one or more people shedding given wastewater detection\n",
    "ppv_cdc = len(t_p) / (len(t_p) + len(f_p))\n",
    "ppv_cdc"
   ]
  },
  {
   "cell_type": "markdown",
   "id": "6b5d10c7",
   "metadata": {},
   "source": [
    "### Negative Predictive Value\n",
    "Negative predictive value (NPV) will be the probability that no persons are shedding the virus in the absence of wastewater detections (TN / (TN+FN))"
   ]
  },
  {
   "cell_type": "code",
   "execution_count": 17,
   "id": "e3899b9f",
   "metadata": {},
   "outputs": [
    {
     "data": {
      "text/plain": [
       "0.6746987951807228"
      ]
     },
     "execution_count": 17,
     "metadata": {},
     "output_type": "execute_result"
    }
   ],
   "source": [
    "# probability that no persons are shedding the virus in the absence of wastewater detections\n",
    "npv_cdc = len(t_n) / (len(t_n) + len(f_n))\n",
    "npv_cdc"
   ]
  },
  {
   "cell_type": "markdown",
   "id": "a255f14d",
   "metadata": {},
   "source": [
    "### Sensitivity for Specific Numbers of People Shedding\n",
    "For this, the definitions of true positive (TP), false negative (FN), true negative (TN), and false positive (FP) will be adjusted based on the specified number of cases shedding. \n",
    "- True positives (TP) will be defined as days when Hepatitis A virus is detected in wastewater and at least the specified number of cases are shedding the virus.\n",
    "- False negatives (FN) will be days when the virus is not detected in wastewater, but at least the specified number of cases are shedding the virus. \n",
    "- True negatives (TN) will be days with no virus detections and fewer than the specified number of cases shedding the virus. \n",
    "- False positives (FP) will be days when the virus is detected in wastewater, but fewer than the specified number of cases are shedding the virus."
   ]
  },
  {
   "cell_type": "code",
   "execution_count": 18,
   "id": "0d231eb7",
   "metadata": {},
   "outputs": [
    {
     "data": {
      "text/plain": [
       "4"
      ]
     },
     "execution_count": 18,
     "metadata": {},
     "output_type": "execute_result"
    }
   ],
   "source": [
    "# Finding the maximum number of individuals assumed to be shedding at any given time in our data\n",
    "max_shedding = aim1['num_shedding'].max()\n",
    "max_shedding"
   ]
  },
  {
   "cell_type": "markdown",
   "id": "541ddfbc",
   "metadata": {},
   "source": [
    "**Since the max number of individuals shedding at any given time is 4 based on our assumptions and criteria, we will do the sensitivity analysis for 2, 3 and 4 individuals shedding**"
   ]
  },
  {
   "cell_type": "code",
   "execution_count": 19,
   "id": "b2743390",
   "metadata": {},
   "outputs": [],
   "source": [
    "# Functions for tp, fn, tn, fp with varying thresholds\n",
    "def tp(threshold, data):\n",
    "    df = data[(data['wastewater_signal'] == 1) & (data['num_shedding'] >= threshold)]\n",
    "    return df.shape[0]\n",
    "\n",
    "def fn(threshold, data):\n",
    "    df = data[(data['wastewater_signal'] == 0) & (data['num_shedding'] >= threshold)]\n",
    "    return df.shape[0]\n",
    "\n",
    "def tn(threshold, data):\n",
    "    df = data[(data['wastewater_signal'] == 0) & (data['num_shedding'] < threshold)]\n",
    "    return df.shape[0]\n",
    "\n",
    "def fp(threshold, data):\n",
    "    df = data[(data['wastewater_signal'] == 1) & (data['num_shedding'] < threshold)]\n",
    "    return df.shape[0]  "
   ]
  },
  {
   "cell_type": "code",
   "execution_count": 20,
   "id": "8ed3727b",
   "metadata": {},
   "outputs": [],
   "source": [
    "# Sensitivity, PPV, NPV functions\n",
    "def sensitivity(threshold, data):\n",
    "    return (tp(threshold, data) / (tp(threshold, data) + fn(threshold, data)))\n",
    "\n",
    "def ppv(threshold, data):\n",
    "    return tp(threshold, data) / (tp(threshold, data) + fp(threshold, data))\n",
    "\n",
    "def npv(threshold, data):\n",
    "    return tn(threshold, data) / (tn(threshold, data) + fn(threshold, data))"
   ]
  },
  {
   "cell_type": "code",
   "execution_count": 21,
   "id": "9202710e",
   "metadata": {},
   "outputs": [
    {
     "name": "stdout",
     "output_type": "stream",
     "text": [
      "sensitivity: 0.5263157894736842, ppv: 0.20833333333333334, npv: 0.891566265060241\n"
     ]
    }
   ],
   "source": [
    "# For 2 individuals\n",
    "sensitivity_2 = sensitivity(2, aim1)\n",
    "ppv_2 = ppv(2, aim1)\n",
    "npv_2 = npv(2, aim1)\n",
    "print(f'sensitivity: {sensitivity_2}, ppv: {ppv_2}, npv: {npv_2}')"
   ]
  },
  {
   "cell_type": "code",
   "execution_count": 22,
   "id": "fcc13b7d",
   "metadata": {},
   "outputs": [
    {
     "name": "stdout",
     "output_type": "stream",
     "text": [
      "sensitivity: 0.5, ppv: 0.1875, npv: 0.891566265060241\n"
     ]
    }
   ],
   "source": [
    "# For 3 individuals\n",
    "sensitivity_3 = sensitivity(3, aim1)\n",
    "ppv_3 = ppv(3, aim1)\n",
    "npv_3 = npv(3, aim1)\n",
    "print(f'sensitivity: {sensitivity_3}, ppv: {ppv_3}, npv: {npv_3}')"
   ]
  },
  {
   "cell_type": "code",
   "execution_count": 23,
   "id": "b7268886",
   "metadata": {},
   "outputs": [
    {
     "name": "stdout",
     "output_type": "stream",
     "text": [
      "sensitivity: 0.5, ppv: 0.125, npv: 0.927710843373494\n"
     ]
    }
   ],
   "source": [
    "# For 4 individuals\n",
    "sensitivity_4 = sensitivity(4, aim1)\n",
    "ppv_4 = ppv(4, aim1)\n",
    "npv_4 = npv(4, aim1)\n",
    "print(f'sensitivity: {sensitivity_4}, ppv: {ppv_4}, npv: {npv_4}')"
   ]
  },
  {
   "cell_type": "markdown",
   "id": "0110f060",
   "metadata": {},
   "source": [
    "## Varying the Shedding Period\n",
    "\n",
    "The shedding period for Hepatitis A virus given by the CDC is two weeks prior to symptom onset, and one week following symptom onset. \n",
    "\n",
    "Here, the following shedding periods are tested:\n",
    "1. 1 week before and 1 week after symptom onset\n",
    "2. 1 week before and 4 weeks after symptom onset\n",
    "3. 2 weeks before and 4 weeks after symptom onset\n",
    "\n",
    "In addition to the CDC shedding period of 2 weeks before and 1 week after which we have already tested. \n",
    "\n",
    "\n",
    "Sensitivity is calculated for all.\n",
    "\n",
    "NPV and PPV are calculated for >= 1 individual shedding for all 3 periods.\n",
    "\n",
    "The purpose is to get a range of possible values, not just the ones based on our (recommended) assumption of the shedding period. \n"
   ]
  },
  {
   "cell_type": "code",
   "execution_count": 24,
   "id": "a756c68d",
   "metadata": {},
   "outputs": [],
   "source": [
    "# Importing the different data files\n",
    "shedding_1 = pd.read_csv(\"shedding_1.csv\")\n",
    "shedding_2 = pd.read_csv(\"shedding_2.csv\")\n",
    "shedding_3 = pd.read_csv(\"shedding_3.csv\")"
   ]
  },
  {
   "cell_type": "code",
   "execution_count": 25,
   "id": "c969d80a",
   "metadata": {},
   "outputs": [
    {
     "data": {
      "text/html": [
       "<div>\n",
       "<style scoped>\n",
       "    .dataframe tbody tr th:only-of-type {\n",
       "        vertical-align: middle;\n",
       "    }\n",
       "\n",
       "    .dataframe tbody tr th {\n",
       "        vertical-align: top;\n",
       "    }\n",
       "\n",
       "    .dataframe thead th {\n",
       "        text-align: right;\n",
       "    }\n",
       "</style>\n",
       "<table border=\"1\" class=\"dataframe\">\n",
       "  <thead>\n",
       "    <tr style=\"text-align: right;\">\n",
       "      <th></th>\n",
       "      <th>day</th>\n",
       "      <th>testing_day</th>\n",
       "      <th>case</th>\n",
       "      <th>num_shedding</th>\n",
       "      <th>wastewater_signal</th>\n",
       "    </tr>\n",
       "  </thead>\n",
       "  <tbody>\n",
       "    <tr>\n",
       "      <th>0</th>\n",
       "      <td>10-Sep-23</td>\n",
       "      <td>1</td>\n",
       "      <td>0</td>\n",
       "      <td>0</td>\n",
       "      <td>1.0</td>\n",
       "    </tr>\n",
       "    <tr>\n",
       "      <th>1</th>\n",
       "      <td>11-Sep-23</td>\n",
       "      <td>1</td>\n",
       "      <td>0</td>\n",
       "      <td>0</td>\n",
       "      <td>0.0</td>\n",
       "    </tr>\n",
       "    <tr>\n",
       "      <th>2</th>\n",
       "      <td>12-Sep-23</td>\n",
       "      <td>0</td>\n",
       "      <td>0</td>\n",
       "      <td>0</td>\n",
       "      <td>NaN</td>\n",
       "    </tr>\n",
       "    <tr>\n",
       "      <th>3</th>\n",
       "      <td>13-Sep-23</td>\n",
       "      <td>1</td>\n",
       "      <td>0</td>\n",
       "      <td>0</td>\n",
       "      <td>0.0</td>\n",
       "    </tr>\n",
       "    <tr>\n",
       "      <th>4</th>\n",
       "      <td>14-Sep-23</td>\n",
       "      <td>0</td>\n",
       "      <td>0</td>\n",
       "      <td>0</td>\n",
       "      <td>NaN</td>\n",
       "    </tr>\n",
       "  </tbody>\n",
       "</table>\n",
       "</div>"
      ],
      "text/plain": [
       "         day  testing_day  case  num_shedding  wastewater_signal\n",
       "0  10-Sep-23            1     0             0                1.0\n",
       "1  11-Sep-23            1     0             0                0.0\n",
       "2  12-Sep-23            0     0             0                NaN\n",
       "3  13-Sep-23            1     0             0                0.0\n",
       "4  14-Sep-23            0     0             0                NaN"
      ]
     },
     "execution_count": 25,
     "metadata": {},
     "output_type": "execute_result"
    }
   ],
   "source": [
    "# Examining the data\n",
    "shedding_1.head()"
   ]
  },
  {
   "cell_type": "markdown",
   "id": "b1315f48",
   "metadata": {},
   "source": [
    "### Shedding Period 1\n",
    "\n",
    "1 week before and 1 week after symptom onset (inclusive)"
   ]
  },
  {
   "cell_type": "code",
   "execution_count": 26,
   "id": "536eed5d",
   "metadata": {},
   "outputs": [
    {
     "data": {
      "text/html": [
       "<div>\n",
       "<style scoped>\n",
       "    .dataframe tbody tr th:only-of-type {\n",
       "        vertical-align: middle;\n",
       "    }\n",
       "\n",
       "    .dataframe tbody tr th {\n",
       "        vertical-align: top;\n",
       "    }\n",
       "\n",
       "    .dataframe thead th {\n",
       "        text-align: right;\n",
       "    }\n",
       "</style>\n",
       "<table border=\"1\" class=\"dataframe\">\n",
       "  <thead>\n",
       "    <tr style=\"text-align: right;\">\n",
       "      <th></th>\n",
       "      <th>day</th>\n",
       "      <th>testing_day</th>\n",
       "      <th>case</th>\n",
       "      <th>num_shedding</th>\n",
       "      <th>wastewater_signal</th>\n",
       "    </tr>\n",
       "  </thead>\n",
       "  <tbody>\n",
       "    <tr>\n",
       "      <th>0</th>\n",
       "      <td>10-Sep-23</td>\n",
       "      <td>1</td>\n",
       "      <td>0</td>\n",
       "      <td>0</td>\n",
       "      <td>1.0</td>\n",
       "    </tr>\n",
       "    <tr>\n",
       "      <th>1</th>\n",
       "      <td>11-Sep-23</td>\n",
       "      <td>1</td>\n",
       "      <td>0</td>\n",
       "      <td>0</td>\n",
       "      <td>0.0</td>\n",
       "    </tr>\n",
       "    <tr>\n",
       "      <th>3</th>\n",
       "      <td>13-Sep-23</td>\n",
       "      <td>1</td>\n",
       "      <td>0</td>\n",
       "      <td>0</td>\n",
       "      <td>0.0</td>\n",
       "    </tr>\n",
       "    <tr>\n",
       "      <th>7</th>\n",
       "      <td>17-Sep-23</td>\n",
       "      <td>1</td>\n",
       "      <td>0</td>\n",
       "      <td>0</td>\n",
       "      <td>0.0</td>\n",
       "    </tr>\n",
       "    <tr>\n",
       "      <th>8</th>\n",
       "      <td>18-Sep-23</td>\n",
       "      <td>1</td>\n",
       "      <td>0</td>\n",
       "      <td>0</td>\n",
       "      <td>0.0</td>\n",
       "    </tr>\n",
       "  </tbody>\n",
       "</table>\n",
       "</div>"
      ],
      "text/plain": [
       "         day  testing_day  case  num_shedding  wastewater_signal\n",
       "0  10-Sep-23            1     0             0                1.0\n",
       "1  11-Sep-23            1     0             0                0.0\n",
       "3  13-Sep-23            1     0             0                0.0\n",
       "7  17-Sep-23            1     0             0                0.0\n",
       "8  18-Sep-23            1     0             0                0.0"
      ]
     },
     "execution_count": 26,
     "metadata": {},
     "output_type": "execute_result"
    }
   ],
   "source": [
    "# Selecting only testing days\n",
    "s1_testing = shedding_1[shedding_1['testing_day'] == 1]\n",
    "s1_testing.head()"
   ]
  },
  {
   "cell_type": "code",
   "execution_count": 27,
   "id": "cb88cbd8",
   "metadata": {},
   "outputs": [
    {
     "data": {
      "text/plain": [
       "0.5365853658536586"
      ]
     },
     "execution_count": 27,
     "metadata": {},
     "output_type": "execute_result"
    }
   ],
   "source": [
    "# Sensitivity for Shedding Period 1\n",
    "sensitivity_s1 = sensitivity(1, s1_testing)\n",
    "sensitivity_s1"
   ]
  },
  {
   "cell_type": "code",
   "execution_count": 28,
   "id": "44621a0d",
   "metadata": {},
   "outputs": [
    {
     "data": {
      "text/plain": [
       "4"
      ]
     },
     "execution_count": 28,
     "metadata": {},
     "output_type": "execute_result"
    }
   ],
   "source": [
    "# Max shedding assuming Shedding Period 1\n",
    "max_1 = s1_testing['num_shedding'].max()\n",
    "max_1"
   ]
  },
  {
   "cell_type": "code",
   "execution_count": 29,
   "id": "10ae0460",
   "metadata": {},
   "outputs": [
    {
     "name": "stdout",
     "output_type": "stream",
     "text": [
      "2  or more individuals shedding: 0.6923076923076923\n",
      "3  or more individuals shedding: 0.6666666666666666\n",
      "4  or more individuals shedding: 0.6666666666666666\n"
     ]
    }
   ],
   "source": [
    "# Sensitivity for varying numbers of people shedding\n",
    "ss1_2 = sensitivity(2, s1_testing)\n",
    "ss1_3 = sensitivity(3, s1_testing)\n",
    "ss1_4 = sensitivity (4, shedding_1)\n",
    "print(f'2  or more individuals shedding: {ss1_2}\\n3  or more individuals shedding: {ss1_3}\\n4  or more individuals shedding: {ss1_4}')"
   ]
  },
  {
   "cell_type": "markdown",
   "id": "023806a1",
   "metadata": {},
   "source": [
    "### Shedding Period 2\n",
    "\n",
    "1 week before and 4 weeks after symptom onset (inclusive)"
   ]
  },
  {
   "cell_type": "code",
   "execution_count": 30,
   "id": "080675a8",
   "metadata": {},
   "outputs": [
    {
     "data": {
      "text/html": [
       "<div>\n",
       "<style scoped>\n",
       "    .dataframe tbody tr th:only-of-type {\n",
       "        vertical-align: middle;\n",
       "    }\n",
       "\n",
       "    .dataframe tbody tr th {\n",
       "        vertical-align: top;\n",
       "    }\n",
       "\n",
       "    .dataframe thead th {\n",
       "        text-align: right;\n",
       "    }\n",
       "</style>\n",
       "<table border=\"1\" class=\"dataframe\">\n",
       "  <thead>\n",
       "    <tr style=\"text-align: right;\">\n",
       "      <th></th>\n",
       "      <th>day</th>\n",
       "      <th>testing_day</th>\n",
       "      <th>case</th>\n",
       "      <th>num_shedding</th>\n",
       "      <th>wastewater_signal</th>\n",
       "    </tr>\n",
       "  </thead>\n",
       "  <tbody>\n",
       "    <tr>\n",
       "      <th>0</th>\n",
       "      <td>10-Sep-23</td>\n",
       "      <td>1</td>\n",
       "      <td>0</td>\n",
       "      <td>0</td>\n",
       "      <td>1.0</td>\n",
       "    </tr>\n",
       "    <tr>\n",
       "      <th>1</th>\n",
       "      <td>11-Sep-23</td>\n",
       "      <td>1</td>\n",
       "      <td>0</td>\n",
       "      <td>0</td>\n",
       "      <td>0.0</td>\n",
       "    </tr>\n",
       "    <tr>\n",
       "      <th>3</th>\n",
       "      <td>13-Sep-23</td>\n",
       "      <td>1</td>\n",
       "      <td>0</td>\n",
       "      <td>0</td>\n",
       "      <td>0.0</td>\n",
       "    </tr>\n",
       "    <tr>\n",
       "      <th>7</th>\n",
       "      <td>17-Sep-23</td>\n",
       "      <td>1</td>\n",
       "      <td>0</td>\n",
       "      <td>0</td>\n",
       "      <td>0.0</td>\n",
       "    </tr>\n",
       "    <tr>\n",
       "      <th>8</th>\n",
       "      <td>18-Sep-23</td>\n",
       "      <td>1</td>\n",
       "      <td>0</td>\n",
       "      <td>0</td>\n",
       "      <td>0.0</td>\n",
       "    </tr>\n",
       "  </tbody>\n",
       "</table>\n",
       "</div>"
      ],
      "text/plain": [
       "         day  testing_day  case  num_shedding  wastewater_signal\n",
       "0  10-Sep-23            1     0             0                1.0\n",
       "1  11-Sep-23            1     0             0                0.0\n",
       "3  13-Sep-23            1     0             0                0.0\n",
       "7  17-Sep-23            1     0             0                0.0\n",
       "8  18-Sep-23            1     0             0                0.0"
      ]
     },
     "execution_count": 30,
     "metadata": {},
     "output_type": "execute_result"
    }
   ],
   "source": [
    "# Selecting only testing days\n",
    "s2_testing = shedding_2[shedding_2['testing_day'] == 1]\n",
    "s2_testing.head()"
   ]
  },
  {
   "cell_type": "code",
   "execution_count": 31,
   "id": "9ef88652",
   "metadata": {},
   "outputs": [
    {
     "data": {
      "text/plain": [
       "0.4605263157894737"
      ]
     },
     "execution_count": 31,
     "metadata": {},
     "output_type": "execute_result"
    }
   ],
   "source": [
    "# Sensitivity for Shedding Period 2\n",
    "sensitivity_s2 = sensitivity(1, s2_testing)\n",
    "sensitivity_s2"
   ]
  },
  {
   "cell_type": "code",
   "execution_count": 32,
   "id": "e91afdd3",
   "metadata": {},
   "outputs": [
    {
     "data": {
      "text/plain": [
       "5"
      ]
     },
     "execution_count": 32,
     "metadata": {},
     "output_type": "execute_result"
    }
   ],
   "source": [
    "# # Max shedding assuming Shedding Period 2\n",
    "max_2 = s2_testing['num_shedding'].max()\n",
    "max_2"
   ]
  },
  {
   "cell_type": "code",
   "execution_count": 33,
   "id": "5a46d7a5",
   "metadata": {},
   "outputs": [
    {
     "name": "stdout",
     "output_type": "stream",
     "text": [
      "2 or more individuals shedding: 0.5806451612903226\n",
      "3 or more individuals shedding: 0.5666666666666667\n",
      "4 or more individuals shedding: 0.6666666666666666\n",
      "5 or more individuals shedding: 0.8333333333333334\n"
     ]
    }
   ],
   "source": [
    "# Sensitivity for varying numbers of people shedding\n",
    "ss2_2 = sensitivity(2, s2_testing) \n",
    "ss2_3 = sensitivity(3, s2_testing)\n",
    "ss2_4 = sensitivity (4, s2_testing)\n",
    "ss2_5 = sensitivity (5, s2_testing)\n",
    "print(f'2 or more individuals shedding: {ss2_2}\\n3 or more individuals shedding: {ss2_3}\\n4 or more individuals shedding: {ss2_4}\\n5 or more individuals shedding: {ss2_5}')"
   ]
  },
  {
   "cell_type": "markdown",
   "id": "f1d65986",
   "metadata": {},
   "source": [
    "### Shedding Period 3\n",
    " 2 weeks before and 4 weeks after symptom onset (inclusive)\n",
    " "
   ]
  },
  {
   "cell_type": "code",
   "execution_count": 34,
   "id": "30b79f9b",
   "metadata": {},
   "outputs": [
    {
     "data": {
      "text/html": [
       "<div>\n",
       "<style scoped>\n",
       "    .dataframe tbody tr th:only-of-type {\n",
       "        vertical-align: middle;\n",
       "    }\n",
       "\n",
       "    .dataframe tbody tr th {\n",
       "        vertical-align: top;\n",
       "    }\n",
       "\n",
       "    .dataframe thead th {\n",
       "        text-align: right;\n",
       "    }\n",
       "</style>\n",
       "<table border=\"1\" class=\"dataframe\">\n",
       "  <thead>\n",
       "    <tr style=\"text-align: right;\">\n",
       "      <th></th>\n",
       "      <th>day</th>\n",
       "      <th>testing_day</th>\n",
       "      <th>case</th>\n",
       "      <th>num_shedding</th>\n",
       "      <th>wastewater_signal</th>\n",
       "    </tr>\n",
       "  </thead>\n",
       "  <tbody>\n",
       "    <tr>\n",
       "      <th>0</th>\n",
       "      <td>10-Sep-23</td>\n",
       "      <td>1</td>\n",
       "      <td>0</td>\n",
       "      <td>0</td>\n",
       "      <td>1.0</td>\n",
       "    </tr>\n",
       "    <tr>\n",
       "      <th>1</th>\n",
       "      <td>11-Sep-23</td>\n",
       "      <td>1</td>\n",
       "      <td>0</td>\n",
       "      <td>0</td>\n",
       "      <td>0.0</td>\n",
       "    </tr>\n",
       "    <tr>\n",
       "      <th>3</th>\n",
       "      <td>13-Sep-23</td>\n",
       "      <td>1</td>\n",
       "      <td>0</td>\n",
       "      <td>0</td>\n",
       "      <td>0.0</td>\n",
       "    </tr>\n",
       "    <tr>\n",
       "      <th>7</th>\n",
       "      <td>17-Sep-23</td>\n",
       "      <td>1</td>\n",
       "      <td>0</td>\n",
       "      <td>0</td>\n",
       "      <td>0.0</td>\n",
       "    </tr>\n",
       "    <tr>\n",
       "      <th>8</th>\n",
       "      <td>18-Sep-23</td>\n",
       "      <td>1</td>\n",
       "      <td>0</td>\n",
       "      <td>0</td>\n",
       "      <td>0.0</td>\n",
       "    </tr>\n",
       "  </tbody>\n",
       "</table>\n",
       "</div>"
      ],
      "text/plain": [
       "         day  testing_day  case  num_shedding  wastewater_signal\n",
       "0  10-Sep-23            1     0             0                1.0\n",
       "1  11-Sep-23            1     0             0                0.0\n",
       "3  13-Sep-23            1     0             0                0.0\n",
       "7  17-Sep-23            1     0             0                0.0\n",
       "8  18-Sep-23            1     0             0                0.0"
      ]
     },
     "execution_count": 34,
     "metadata": {},
     "output_type": "execute_result"
    }
   ],
   "source": [
    "# Selecting only testing days\n",
    "s3_testing = shedding_3[shedding_3['testing_day'] == 1]\n",
    "s3_testing.head()"
   ]
  },
  {
   "cell_type": "code",
   "execution_count": 35,
   "id": "6cb9c626",
   "metadata": {
    "scrolled": true
   },
   "outputs": [
    {
     "data": {
      "text/plain": [
       "0.4418604651162791"
      ]
     },
     "execution_count": 35,
     "metadata": {},
     "output_type": "execute_result"
    }
   ],
   "source": [
    "# Sensitivity for Shedding Period 3\n",
    "sensitivity_s3 = sensitivity(1, s3_testing)\n",
    "sensitivity_s3"
   ]
  },
  {
   "cell_type": "code",
   "execution_count": 36,
   "id": "4436c7f3",
   "metadata": {},
   "outputs": [
    {
     "data": {
      "text/plain": [
       "5"
      ]
     },
     "execution_count": 36,
     "metadata": {},
     "output_type": "execute_result"
    }
   ],
   "source": [
    "# Max shedding assuming Shedding Period 3\n",
    "max_3 = s3_testing['num_shedding'].max()\n",
    "max_3"
   ]
  },
  {
   "cell_type": "code",
   "execution_count": 37,
   "id": "502bc751",
   "metadata": {},
   "outputs": [
    {
     "name": "stdout",
     "output_type": "stream",
     "text": [
      "2 or more individuals shedding: 0.5\n",
      "3 or more individuals shedding: 0.5\n",
      "4 or more individuals shedding: 0.6\n",
      "5 or more individuals shedding: 0.7777777777777778\n"
     ]
    }
   ],
   "source": [
    "# Sensitivity for varying numbers of people shedding\n",
    "ss3_2 = sensitivity(2, s3_testing)\n",
    "ss3_3 = sensitivity(3, s3_testing)\n",
    "ss3_4 = sensitivity (4, s3_testing)\n",
    "ss3_5 = sensitivity (5, s3_testing)\n",
    "print(f'2 or more individuals shedding: {ss3_2}\\n3 or more individuals shedding: {ss3_3}\\n4 or more individuals shedding: {ss3_4}\\n5 or more individuals shedding: {ss3_5}')"
   ]
  },
  {
   "cell_type": "markdown",
   "id": "20546b71",
   "metadata": {},
   "source": [
    "### PPV and NPV for different shedding periods\n",
    "\n",
    "But only for >= 1 individual shedding"
   ]
  },
  {
   "cell_type": "code",
   "execution_count": 38,
   "id": "3df503a1",
   "metadata": {},
   "outputs": [
    {
     "name": "stdout",
     "output_type": "stream",
     "text": [
      "Shedding period 1 (1 week before and 1 week after): 0.4583333333333333\n",
      "CDC Shedding period (2 weeks before 1 week after): 0.5208333333333334\n",
      "Shedding period 2 (1 week before and 4 weeks after): 0.7291666666666666\n",
      "Shedding period 3 (2 weeks before 4 weeks after): 0.7916666666666666\n"
     ]
    }
   ],
   "source": [
    "# PPV\n",
    "ppv_shedding_1 = ppv(1, s1_testing)\n",
    "ppv_shedding_2 = ppv(1, s2_testing)\n",
    "ppv_shedding_3 = ppv(1, s3_testing)\n",
    "print(f'Shedding period 1 (1 week before and 1 week after): {ppv_shedding_1}\\nCDC Shedding period (2 weeks before 1 week after): {ppv_cdc}\\nShedding period 2 (1 week before and 4 weeks after): {ppv_shedding_2}\\nShedding period 3 (2 weeks before 4 weeks after): {ppv_shedding_3}')\n",
    "\n"
   ]
  },
  {
   "cell_type": "code",
   "execution_count": 39,
   "id": "6474169b",
   "metadata": {
    "scrolled": true
   },
   "outputs": [
    {
     "name": "stdout",
     "output_type": "stream",
     "text": [
      "Shedding period 1 (1 week before and 1 week after): 0.7710843373493976\n",
      "CDC Shedding period (2 weeks before 1 week after): 0.6746987951807228\n",
      "Shedding period 2 (1 week before and 4 weeks after): 0.5060240963855421\n",
      "Shedding period 3 (2 weeks before 4 weeks after): 0.42168674698795183\n"
     ]
    }
   ],
   "source": [
    "# NPV\n",
    "npv_shedding_1 = npv(1, s1_testing)\n",
    "npv_shedding_2 = npv(1, s2_testing)\n",
    "npv_shedding_3 = npv(1, s3_testing)\n",
    "print(f'Shedding period 1 (1 week before and 1 week after): {npv_shedding_1}\\nCDC Shedding period (2 weeks before 1 week after): {npv_cdc}\\nShedding period 2 (1 week before and 4 weeks after): {npv_shedding_2}\\nShedding period 3 (2 weeks before 4 weeks after): {npv_shedding_3}')\n"
   ]
  },
  {
   "cell_type": "code",
   "execution_count": 40,
   "id": "a5987d0b",
   "metadata": {},
   "outputs": [],
   "source": [
    "sensitivity_data= pd.read_csv('sensitivities.csv')"
   ]
  },
  {
   "cell_type": "code",
   "execution_count": 41,
   "id": "079ef93f",
   "metadata": {
    "scrolled": true
   },
   "outputs": [
    {
     "data": {
      "image/png": "[encoded data removed]",
      "text/plain": [
       "<Figure size 1000x600 with 1 Axes>"
      ]
     },
     "metadata": {},
     "output_type": "display_data"
    }
   ],
   "source": [
    "\n",
    "darker_palette = sns.color_palette(\"colorblind\", 3)  \n",
    "colors = {\n",
    "    'SP1: 1 week before, 1 week after symptom onset': darker_palette[0],\n",
    "    'SP2: 1 week before, 4 weeks after symptom onset': darker_palette[1],\n",
    "    'SP3: 2 weeks before, 4 weeks after symptom onset': darker_palette[2],\n",
    "    'CDC: 2 weeks before, 1 week after symptom onset': 'red'\n",
    "}\n",
    "linestyles = {\n",
    "    'SP1: 1 week before, 1 week after symptom onset': 'dashed',\n",
    "    'SP2: 1 week before, 4 weeks after symptom onset': 'dotted',\n",
    "    'SP3: 2 weeks before, 4 weeks after symptom onset': 'dashdot',\n",
    "    'CDC: 2 weeks before, 1 week after symptom onset': 'solid'\n",
    "}\n",
    "\n",
    "plt.figure(figsize=(10, 6))\n",
    "for period in sensitivity_data['shedding_period'].unique():\n",
    "    period_data = sensitivity_data[sensitivity_data['shedding_period'] == period]\n",
    "    sns.lineplot(data=period_data, x='num_shedding', y='sensitivity', \n",
    "                 color=colors[period], linestyle=linestyles[period], label=period)\n",
    "\n",
    "\n",
    "plt.xticks(ticks=sensitivity_data['num_shedding'].unique(), \n",
    "           labels=sensitivity_data['num_shedding'].unique())\n",
    "\n",
    "\n",
    "plt.title('Sensitivity')\n",
    "plt.xlabel('No. of persons shedding Hepatitis A Virus')\n",
    "plt.ylabel('Sensitivity (%)')\n",
    "\n",
    "\n",
    "handles, labels = plt.gca().get_legend_handles_labels()\n",
    "order = [0, 2, 1, 3] \n",
    "plt.legend([handles[idx] for idx in order], [labels[idx] for idx in order], bbox_to_anchor=(1.05, 1), loc='upper left')\n",
    "\n",
    "# Show the plot\n",
    "plt.show()"
   ]
  },
  {
   "cell_type": "markdown",
   "id": "cbf01a16",
   "metadata": {},
   "source": [
    "### Conclusions\n",
    "\n",
    "- Moderately high sensitivity, PPV and NPV for detecting a single case shedding\n",
    "- decline in PPV as number of individuals shedding increases\n",
    "- increase in sensitivity for higher number of people shedding"
   ]
  },
  {
   "cell_type": "markdown",
   "id": "e7c0cff4",
   "metadata": {},
   "source": [
    "### Plotting cases by day"
   ]
  },
  {
   "cell_type": "code",
   "execution_count": 43,
   "id": "6ebc9dc5",
   "metadata": {
    "scrolled": true
   },
   "outputs": [
    {
     "name": "stderr",
     "output_type": "stream",
     "text": [
      "/var/folders/7x/6kg4d8s50wb5hn2x8q2j7c800000gn/T/ipykernel_32118/2833301868.py:3: UserWarning: Could not infer format, so each element will be parsed individually, falling back to `dateutil`. To ensure parsing is consistent and as-expected, please specify a format.\n",
      "  df['day'] = pd.to_datetime(df['day'])\n"
     ]
    },
    {
     "data": {
      "image/png": "[encoded data removed]",
      "text/plain": [
       "<Figure size 2500x300 with 1 Axes>"
      ]
     },
     "metadata": {},
     "output_type": "display_data"
    },
    {
     "data": {
      "image/png": "[encoded data removed]",
      "text/plain": [
       "<Figure size 2500x300 with 1 Axes>"
      ]
     },
     "metadata": {},
     "output_type": "display_data"
    }
   ],
   "source": [
    "# Assuming 'df' is the original DataFrame\n",
    "df = aim1_daily.copy()\n",
    "df['day'] = pd.to_datetime(df['day'])\n",
    "\n",
    "# Adjust the split index based on the new end date for the first graph and start date for the second graph\n",
    "first_part_end_date = pd.Timestamp('2024-02-06')\n",
    "second_part_start_date = pd.Timestamp('2024-02-04')\n",
    "\n",
    "df_first_part = df[(df['day'] <= first_part_end_date)]\n",
    "df_second_part = df[(df['day'] >= second_part_start_date)]\n",
    "\n",
    "# Plotting the first part with updated date range\n",
    "fig, ax1 = plt.subplots(figsize=(25, 3))\n",
    "# Apply blue for negative and orange for positive shading\n",
    "for idx, row in df_first_part.iterrows():\n",
    "    if row['testing_day'] == 1:\n",
    "        color = '#E69F00' if row['wastewater_signal'] == 1 else '#0072B2'\n",
    "        ax1.axvspan(row['day'] - pd.Timedelta(days=0.5), row['day'] + pd.Timedelta(days=0.5), color=color, alpha=0.3)\n",
    "# Plot only the dots where case == 1\n",
    "ax1.scatter(df_first_part[df_first_part['case'] == 1]['day'], df_first_part[df_first_part['case'] == 1]['case'], color='#AA3377', label='Cases')\n",
    "legend_elements1 = [\n",
    "    plt.Line2D([0], [0], marker='o', color='w', markerfacecolor='#AA3377', markersize=10, label='Cases'),\n",
    "    plt.Line2D([0], [0], color='#E69F00', lw=4, alpha=0.3, label='Wastewater HAV Positive'),\n",
    "    plt.Line2D([0], [0], color='#0072B2', lw=4, alpha=0.3, label='Wastewater HAV Negative')\n",
    "]\n",
    "ax1.legend(handles=legend_elements1, loc='center left', bbox_to_anchor=(1, 0.5))\n",
    "ax1.set_xlabel('Day')\n",
    "ax1.set_ylabel('Number of Cases')\n",
    "ax1.set_title('Hep A Cases and Wastewater Signal over Time (Sep 10, 2023 - Feb 5, 2024)')\n",
    "ax1.set_yticks([1])\n",
    "ax1.yaxis.set_label_coords(-0.05, 0.5)  # Centering the y-axis tick\n",
    "ax1.xaxis.set_major_locator(mdates.DayLocator(interval=3))\n",
    "ax1.xaxis.set_minor_locator(mdates.DayLocator(interval=1))\n",
    "ax1.xaxis.set_major_formatter(mdates.DateFormatter('%Y-%m-%d'))\n",
    "ax1.tick_params(axis='x', which='major', labelrotation=45)\n",
    "plt.setp(ax1.xaxis.get_minorticklabels(), rotation=45)\n",
    "ax1.set_xlim(pd.Timestamp('2023-09-09'), first_part_end_date)\n",
    "plt.tight_layout()\n",
    "\n",
    "# Plotting the second part with updated date range\n",
    "fig, ax2 = plt.subplots(figsize=(25, 3))\n",
    "# Apply blue for negative and orange for positive shading\n",
    "for idx, row in df_second_part.iterrows():\n",
    "    if row['testing_day'] == 1:\n",
    "        color = '#E69F00' if row['wastewater_signal'] == 1 else '#0072B2'\n",
    "        ax2.axvspan(row['day'] - pd.Timedelta(days=0.5), row['day'] + pd.Timedelta(days=0.5), color=color, alpha=0.3)\n",
    "# Plot only the dots where case == 1\n",
    "ax2.scatter(df_second_part[df_second_part['case'] == 1]['day'], df_second_part[df_second_part['case'] == 1]['case'], color='#AA3377', label='Cases')\n",
    "legend_elements2 = [\n",
    "    plt.Line2D([0], [0], marker='o', color='w', markerfacecolor='#AA3377', markersize=10, label='Cases'),\n",
    "    plt.Line2D([0], [0], color='#E69F00', lw=4, alpha=0.3, label='Wastewater HAV Positive'),\n",
    "    plt.Line2D([0], [0], color='#0072B2', lw=4, alpha=0.3, label='Wastewater HAV Negative')\n",
    "]\n",
    "ax2.legend(handles=legend_elements2, loc='center left', bbox_to_anchor=(1, 0.5))\n",
    "ax2.set_xlabel('Day')\n",
    "ax2.set_ylabel('Number of Cases')\n",
    "ax2.set_title('Hep A Cases and Wastewater Signal over Time (Feb 5, 2024 - End)')\n",
    "ax2.set_yticks([1])\n",
    "ax2.yaxis.set_label_coords(-0.05, 0.5)  # Centering the y-axis tick\n",
    "ax2.xaxis.set_major_locator(mdates.DayLocator(interval=3))\n",
    "ax2.xaxis.set_minor_locator(mdates.DayLocator(interval=1))\n",
    "ax2.xaxis.set_major_formatter(mdates.DateFormatter('%Y-%m-%d'))\n",
    "ax2.tick_params(axis='x', which='major', labelrotation=45)\n",
    "plt.setp(ax2.xaxis.get_minorticklabels(), rotation=45)\n",
    "ax2.set_xlim(second_part_start_date, pd.Timestamp('2024-07-15'))\n",
    "plt.tight_layout()\n",
    "\n",
    "# Display the updated plots\n",
    "plt.show()\n"
   ]
  }
 ],
 "metadata": {
  "kernelspec": {
   "display_name": "Python 3 (ipykernel)",
   "language": "python",
   "name": "python3"
  },
  "language_info": {
   "codemirror_mode": {
    "name": "ipython",
    "version": 3
   },
   "file_extension": ".py",
   "mimetype": "text/x-python",
   "name": "python",
   "nbconvert_exporter": "python",
   "pygments_lexer": "ipython3",
   "version": "3.11.5"
  }
 },
 "nbformat": 4,
 "nbformat_minor": 5
}
