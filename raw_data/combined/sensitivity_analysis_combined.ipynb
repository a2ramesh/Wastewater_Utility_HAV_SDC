{
 "cells": [
  {
   "cell_type": "markdown",
   "id": "c1fd5102",
   "metadata": {},
   "source": [
    "## Aim 1 Analysis (units of days)\n",
    "\n",
    "Sensitivity, PPV, NPV, sensitivity analysis of varying numbers of shedding individuals and shedding periods"
   ]
  },
  {
   "cell_type": "markdown",
   "id": "a68e495b",
   "metadata": {},
   "source": [
    "-blurb"
   ]
  },
  {
   "cell_type": "code",
   "execution_count": 1,
   "id": "4c86a10d",
   "metadata": {},
   "outputs": [],
   "source": [
    "import pandas as pd\n",
    "import numpy as np\n",
    "import matplotlib.pyplot as plt\n",
    "import seaborn as sns"
   ]
  },
  {
   "cell_type": "markdown",
   "id": "8925e06f",
   "metadata": {},
   "source": [
    "## About the Data\n",
    "\n",
    "- Shedding period was considered uniform 2 weeks before episode date, and one week after\n",
    "- A day is considered wastewater positive if there was a wastewater nucleic acid detection on any of the three days tested that week\n",
    "- Sunday through Saturday is a week"
   ]
  },
  {
   "cell_type": "code",
   "execution_count": 2,
   "id": "b23cfa8d",
   "metadata": {},
   "outputs": [],
   "source": [
    "aim_1 = pd.read_csv(\"combined_day_week.csv\")"
   ]
  },
  {
   "cell_type": "code",
   "execution_count": 3,
   "id": "c7e19b65",
   "metadata": {},
   "outputs": [
    {
     "data": {
      "text/html": [
       "<div>\n",
       "<style scoped>\n",
       "    .dataframe tbody tr th:only-of-type {\n",
       "        vertical-align: middle;\n",
       "    }\n",
       "\n",
       "    .dataframe tbody tr th {\n",
       "        vertical-align: top;\n",
       "    }\n",
       "\n",
       "    .dataframe thead th {\n",
       "        text-align: right;\n",
       "    }\n",
       "</style>\n",
       "<table border=\"1\" class=\"dataframe\">\n",
       "  <thead>\n",
       "    <tr style=\"text-align: right;\">\n",
       "      <th></th>\n",
       "      <th>day</th>\n",
       "      <th>testing_day</th>\n",
       "      <th>case</th>\n",
       "      <th>num_shedding</th>\n",
       "      <th>wastewater_signal</th>\n",
       "    </tr>\n",
       "  </thead>\n",
       "  <tbody>\n",
       "    <tr>\n",
       "      <th>250</th>\n",
       "      <td>17-May-24</td>\n",
       "      <td>0</td>\n",
       "      <td>0</td>\n",
       "      <td>1</td>\n",
       "      <td>1</td>\n",
       "    </tr>\n",
       "    <tr>\n",
       "      <th>251</th>\n",
       "      <td>18-May-24</td>\n",
       "      <td>0</td>\n",
       "      <td>0</td>\n",
       "      <td>1</td>\n",
       "      <td>1</td>\n",
       "    </tr>\n",
       "    <tr>\n",
       "      <th>252</th>\n",
       "      <td>19-May-24</td>\n",
       "      <td>1</td>\n",
       "      <td>0</td>\n",
       "      <td>0</td>\n",
       "      <td>1</td>\n",
       "    </tr>\n",
       "    <tr>\n",
       "      <th>253</th>\n",
       "      <td>20-May-24</td>\n",
       "      <td>1</td>\n",
       "      <td>0</td>\n",
       "      <td>0</td>\n",
       "      <td>1</td>\n",
       "    </tr>\n",
       "    <tr>\n",
       "      <th>254</th>\n",
       "      <td>21-May-24</td>\n",
       "      <td>0</td>\n",
       "      <td>0</td>\n",
       "      <td>0</td>\n",
       "      <td>1</td>\n",
       "    </tr>\n",
       "    <tr>\n",
       "      <th>255</th>\n",
       "      <td>22-May-24</td>\n",
       "      <td>1</td>\n",
       "      <td>0</td>\n",
       "      <td>0</td>\n",
       "      <td>1</td>\n",
       "    </tr>\n",
       "    <tr>\n",
       "      <th>256</th>\n",
       "      <td>23-May-24</td>\n",
       "      <td>0</td>\n",
       "      <td>0</td>\n",
       "      <td>0</td>\n",
       "      <td>1</td>\n",
       "    </tr>\n",
       "    <tr>\n",
       "      <th>257</th>\n",
       "      <td>24-May-24</td>\n",
       "      <td>0</td>\n",
       "      <td>0</td>\n",
       "      <td>0</td>\n",
       "      <td>1</td>\n",
       "    </tr>\n",
       "    <tr>\n",
       "      <th>258</th>\n",
       "      <td>25-May-24</td>\n",
       "      <td>0</td>\n",
       "      <td>0</td>\n",
       "      <td>0</td>\n",
       "      <td>1</td>\n",
       "    </tr>\n",
       "    <tr>\n",
       "      <th>259</th>\n",
       "      <td>26-May-24</td>\n",
       "      <td>1</td>\n",
       "      <td>0</td>\n",
       "      <td>0</td>\n",
       "      <td>0</td>\n",
       "    </tr>\n",
       "    <tr>\n",
       "      <th>260</th>\n",
       "      <td>27-May-24</td>\n",
       "      <td>1</td>\n",
       "      <td>0</td>\n",
       "      <td>0</td>\n",
       "      <td>0</td>\n",
       "    </tr>\n",
       "    <tr>\n",
       "      <th>261</th>\n",
       "      <td>28-May-24</td>\n",
       "      <td>0</td>\n",
       "      <td>0</td>\n",
       "      <td>0</td>\n",
       "      <td>0</td>\n",
       "    </tr>\n",
       "    <tr>\n",
       "      <th>262</th>\n",
       "      <td>29-May-24</td>\n",
       "      <td>1</td>\n",
       "      <td>0</td>\n",
       "      <td>0</td>\n",
       "      <td>0</td>\n",
       "    </tr>\n",
       "    <tr>\n",
       "      <th>263</th>\n",
       "      <td>30-May-24</td>\n",
       "      <td>0</td>\n",
       "      <td>0</td>\n",
       "      <td>0</td>\n",
       "      <td>0</td>\n",
       "    </tr>\n",
       "    <tr>\n",
       "      <th>264</th>\n",
       "      <td>31-May-24</td>\n",
       "      <td>0</td>\n",
       "      <td>0</td>\n",
       "      <td>0</td>\n",
       "      <td>0</td>\n",
       "    </tr>\n",
       "    <tr>\n",
       "      <th>265</th>\n",
       "      <td>1-Jun-24</td>\n",
       "      <td>0</td>\n",
       "      <td>0</td>\n",
       "      <td>0</td>\n",
       "      <td>0</td>\n",
       "    </tr>\n",
       "    <tr>\n",
       "      <th>266</th>\n",
       "      <td>2-Jun-24</td>\n",
       "      <td>1</td>\n",
       "      <td>0</td>\n",
       "      <td>0</td>\n",
       "      <td>1</td>\n",
       "    </tr>\n",
       "    <tr>\n",
       "      <th>267</th>\n",
       "      <td>3-Jun-24</td>\n",
       "      <td>1</td>\n",
       "      <td>0</td>\n",
       "      <td>0</td>\n",
       "      <td>1</td>\n",
       "    </tr>\n",
       "    <tr>\n",
       "      <th>268</th>\n",
       "      <td>4-Jun-24</td>\n",
       "      <td>0</td>\n",
       "      <td>0</td>\n",
       "      <td>0</td>\n",
       "      <td>1</td>\n",
       "    </tr>\n",
       "    <tr>\n",
       "      <th>269</th>\n",
       "      <td>5-Jun-24</td>\n",
       "      <td>1</td>\n",
       "      <td>0</td>\n",
       "      <td>0</td>\n",
       "      <td>1</td>\n",
       "    </tr>\n",
       "    <tr>\n",
       "      <th>270</th>\n",
       "      <td>6-Jun-24</td>\n",
       "      <td>0</td>\n",
       "      <td>0</td>\n",
       "      <td>1</td>\n",
       "      <td>1</td>\n",
       "    </tr>\n",
       "    <tr>\n",
       "      <th>271</th>\n",
       "      <td>7-Jun-24</td>\n",
       "      <td>0</td>\n",
       "      <td>0</td>\n",
       "      <td>1</td>\n",
       "      <td>1</td>\n",
       "    </tr>\n",
       "    <tr>\n",
       "      <th>272</th>\n",
       "      <td>8-Jun-24</td>\n",
       "      <td>0</td>\n",
       "      <td>0</td>\n",
       "      <td>1</td>\n",
       "      <td>1</td>\n",
       "    </tr>\n",
       "    <tr>\n",
       "      <th>273</th>\n",
       "      <td>9-Jun-24</td>\n",
       "      <td>1</td>\n",
       "      <td>0</td>\n",
       "      <td>0</td>\n",
       "      <td>1</td>\n",
       "    </tr>\n",
       "    <tr>\n",
       "      <th>274</th>\n",
       "      <td>10-Jun-24</td>\n",
       "      <td>1</td>\n",
       "      <td>0</td>\n",
       "      <td>0</td>\n",
       "      <td>1</td>\n",
       "    </tr>\n",
       "    <tr>\n",
       "      <th>275</th>\n",
       "      <td>11-Jun-24</td>\n",
       "      <td>0</td>\n",
       "      <td>0</td>\n",
       "      <td>0</td>\n",
       "      <td>1</td>\n",
       "    </tr>\n",
       "    <tr>\n",
       "      <th>276</th>\n",
       "      <td>12-Jun-24</td>\n",
       "      <td>1</td>\n",
       "      <td>0</td>\n",
       "      <td>0</td>\n",
       "      <td>1</td>\n",
       "    </tr>\n",
       "    <tr>\n",
       "      <th>277</th>\n",
       "      <td>13-Jun-24</td>\n",
       "      <td>0</td>\n",
       "      <td>0</td>\n",
       "      <td>0</td>\n",
       "      <td>1</td>\n",
       "    </tr>\n",
       "    <tr>\n",
       "      <th>278</th>\n",
       "      <td>14-Jun-24</td>\n",
       "      <td>0</td>\n",
       "      <td>0</td>\n",
       "      <td>0</td>\n",
       "      <td>1</td>\n",
       "    </tr>\n",
       "    <tr>\n",
       "      <th>279</th>\n",
       "      <td>15-Jun-24</td>\n",
       "      <td>0</td>\n",
       "      <td>0</td>\n",
       "      <td>0</td>\n",
       "      <td>1</td>\n",
       "    </tr>\n",
       "    <tr>\n",
       "      <th>280</th>\n",
       "      <td>16-Jun-24</td>\n",
       "      <td>1</td>\n",
       "      <td>0</td>\n",
       "      <td>0</td>\n",
       "      <td>1</td>\n",
       "    </tr>\n",
       "    <tr>\n",
       "      <th>281</th>\n",
       "      <td>17-Jun-24</td>\n",
       "      <td>1</td>\n",
       "      <td>0</td>\n",
       "      <td>0</td>\n",
       "      <td>1</td>\n",
       "    </tr>\n",
       "    <tr>\n",
       "      <th>282</th>\n",
       "      <td>18-Jun-24</td>\n",
       "      <td>0</td>\n",
       "      <td>0</td>\n",
       "      <td>0</td>\n",
       "      <td>1</td>\n",
       "    </tr>\n",
       "    <tr>\n",
       "      <th>283</th>\n",
       "      <td>19-Jun-24</td>\n",
       "      <td>1</td>\n",
       "      <td>0</td>\n",
       "      <td>0</td>\n",
       "      <td>1</td>\n",
       "    </tr>\n",
       "    <tr>\n",
       "      <th>284</th>\n",
       "      <td>20-Jun-24</td>\n",
       "      <td>0</td>\n",
       "      <td>1</td>\n",
       "      <td>0</td>\n",
       "      <td>1</td>\n",
       "    </tr>\n",
       "    <tr>\n",
       "      <th>285</th>\n",
       "      <td>21-Jun-24</td>\n",
       "      <td>0</td>\n",
       "      <td>0</td>\n",
       "      <td>0</td>\n",
       "      <td>1</td>\n",
       "    </tr>\n",
       "    <tr>\n",
       "      <th>286</th>\n",
       "      <td>22-Jun-24</td>\n",
       "      <td>0</td>\n",
       "      <td>0</td>\n",
       "      <td>0</td>\n",
       "      <td>1</td>\n",
       "    </tr>\n",
       "    <tr>\n",
       "      <th>287</th>\n",
       "      <td>23-Jun-24</td>\n",
       "      <td>1</td>\n",
       "      <td>0</td>\n",
       "      <td>0</td>\n",
       "      <td>0</td>\n",
       "    </tr>\n",
       "    <tr>\n",
       "      <th>288</th>\n",
       "      <td>24-Jun-24</td>\n",
       "      <td>1</td>\n",
       "      <td>0</td>\n",
       "      <td>0</td>\n",
       "      <td>0</td>\n",
       "    </tr>\n",
       "    <tr>\n",
       "      <th>289</th>\n",
       "      <td>25-Jun-24</td>\n",
       "      <td>0</td>\n",
       "      <td>0</td>\n",
       "      <td>0</td>\n",
       "      <td>0</td>\n",
       "    </tr>\n",
       "    <tr>\n",
       "      <th>290</th>\n",
       "      <td>26-Jun-24</td>\n",
       "      <td>1</td>\n",
       "      <td>0</td>\n",
       "      <td>0</td>\n",
       "      <td>0</td>\n",
       "    </tr>\n",
       "    <tr>\n",
       "      <th>291</th>\n",
       "      <td>27-Jun-24</td>\n",
       "      <td>0</td>\n",
       "      <td>0</td>\n",
       "      <td>0</td>\n",
       "      <td>0</td>\n",
       "    </tr>\n",
       "    <tr>\n",
       "      <th>292</th>\n",
       "      <td>28-Jun-24</td>\n",
       "      <td>0</td>\n",
       "      <td>0</td>\n",
       "      <td>0</td>\n",
       "      <td>0</td>\n",
       "    </tr>\n",
       "    <tr>\n",
       "      <th>293</th>\n",
       "      <td>29-Jun-24</td>\n",
       "      <td>0</td>\n",
       "      <td>0</td>\n",
       "      <td>0</td>\n",
       "      <td>0</td>\n",
       "    </tr>\n",
       "    <tr>\n",
       "      <th>294</th>\n",
       "      <td>30-Jun-24</td>\n",
       "      <td>1</td>\n",
       "      <td>0</td>\n",
       "      <td>0</td>\n",
       "      <td>0</td>\n",
       "    </tr>\n",
       "    <tr>\n",
       "      <th>295</th>\n",
       "      <td>1-Jul-24</td>\n",
       "      <td>1</td>\n",
       "      <td>0</td>\n",
       "      <td>0</td>\n",
       "      <td>0</td>\n",
       "    </tr>\n",
       "    <tr>\n",
       "      <th>296</th>\n",
       "      <td>2-Jul-24</td>\n",
       "      <td>0</td>\n",
       "      <td>0</td>\n",
       "      <td>0</td>\n",
       "      <td>0</td>\n",
       "    </tr>\n",
       "    <tr>\n",
       "      <th>297</th>\n",
       "      <td>3-Jul-24</td>\n",
       "      <td>1</td>\n",
       "      <td>0</td>\n",
       "      <td>0</td>\n",
       "      <td>0</td>\n",
       "    </tr>\n",
       "    <tr>\n",
       "      <th>298</th>\n",
       "      <td>4-Jul-24</td>\n",
       "      <td>0</td>\n",
       "      <td>0</td>\n",
       "      <td>0</td>\n",
       "      <td>0</td>\n",
       "    </tr>\n",
       "    <tr>\n",
       "      <th>299</th>\n",
       "      <td>5-Jul-24</td>\n",
       "      <td>0</td>\n",
       "      <td>0</td>\n",
       "      <td>0</td>\n",
       "      <td>0</td>\n",
       "    </tr>\n",
       "  </tbody>\n",
       "</table>\n",
       "</div>"
      ],
      "text/plain": [
       "           day  testing_day  case  num_shedding  wastewater_signal\n",
       "250  17-May-24            0     0             1                  1\n",
       "251  18-May-24            0     0             1                  1\n",
       "252  19-May-24            1     0             0                  1\n",
       "253  20-May-24            1     0             0                  1\n",
       "254  21-May-24            0     0             0                  1\n",
       "255  22-May-24            1     0             0                  1\n",
       "256  23-May-24            0     0             0                  1\n",
       "257  24-May-24            0     0             0                  1\n",
       "258  25-May-24            0     0             0                  1\n",
       "259  26-May-24            1     0             0                  0\n",
       "260  27-May-24            1     0             0                  0\n",
       "261  28-May-24            0     0             0                  0\n",
       "262  29-May-24            1     0             0                  0\n",
       "263  30-May-24            0     0             0                  0\n",
       "264  31-May-24            0     0             0                  0\n",
       "265   1-Jun-24            0     0             0                  0\n",
       "266   2-Jun-24            1     0             0                  1\n",
       "267   3-Jun-24            1     0             0                  1\n",
       "268   4-Jun-24            0     0             0                  1\n",
       "269   5-Jun-24            1     0             0                  1\n",
       "270   6-Jun-24            0     0             1                  1\n",
       "271   7-Jun-24            0     0             1                  1\n",
       "272   8-Jun-24            0     0             1                  1\n",
       "273   9-Jun-24            1     0             0                  1\n",
       "274  10-Jun-24            1     0             0                  1\n",
       "275  11-Jun-24            0     0             0                  1\n",
       "276  12-Jun-24            1     0             0                  1\n",
       "277  13-Jun-24            0     0             0                  1\n",
       "278  14-Jun-24            0     0             0                  1\n",
       "279  15-Jun-24            0     0             0                  1\n",
       "280  16-Jun-24            1     0             0                  1\n",
       "281  17-Jun-24            1     0             0                  1\n",
       "282  18-Jun-24            0     0             0                  1\n",
       "283  19-Jun-24            1     0             0                  1\n",
       "284  20-Jun-24            0     1             0                  1\n",
       "285  21-Jun-24            0     0             0                  1\n",
       "286  22-Jun-24            0     0             0                  1\n",
       "287  23-Jun-24            1     0             0                  0\n",
       "288  24-Jun-24            1     0             0                  0\n",
       "289  25-Jun-24            0     0             0                  0\n",
       "290  26-Jun-24            1     0             0                  0\n",
       "291  27-Jun-24            0     0             0                  0\n",
       "292  28-Jun-24            0     0             0                  0\n",
       "293  29-Jun-24            0     0             0                  0\n",
       "294  30-Jun-24            1     0             0                  0\n",
       "295   1-Jul-24            1     0             0                  0\n",
       "296   2-Jul-24            0     0             0                  0\n",
       "297   3-Jul-24            1     0             0                  0\n",
       "298   4-Jul-24            0     0             0                  0\n",
       "299   5-Jul-24            0     0             0                  0"
      ]
     },
     "execution_count": 3,
     "metadata": {},
     "output_type": "execute_result"
    }
   ],
   "source": [
    "aim_1[250:300]"
   ]
  },
  {
   "cell_type": "code",
   "execution_count": 4,
   "id": "0c0919ac",
   "metadata": {},
   "outputs": [
    {
     "data": {
      "text/plain": [
       "day                  object\n",
       "testing_day           int64\n",
       "case                  int64\n",
       "num_shedding          int64\n",
       "wastewater_signal     int64\n",
       "dtype: object"
      ]
     },
     "execution_count": 4,
     "metadata": {},
     "output_type": "execute_result"
    }
   ],
   "source": [
    "aim_1.dtypes"
   ]
  },
  {
   "cell_type": "code",
   "execution_count": 6,
   "id": "45b24e2e",
   "metadata": {},
   "outputs": [],
   "source": [
    "# Just testing days\n",
    "aim1 = aim_1[aim_1['testing_day'] == 1]"
   ]
  },
  {
   "cell_type": "code",
   "execution_count": 7,
   "id": "c97d5fce",
   "metadata": {},
   "outputs": [
    {
     "data": {
      "text/html": [
       "<div>\n",
       "<style scoped>\n",
       "    .dataframe tbody tr th:only-of-type {\n",
       "        vertical-align: middle;\n",
       "    }\n",
       "\n",
       "    .dataframe tbody tr th {\n",
       "        vertical-align: top;\n",
       "    }\n",
       "\n",
       "    .dataframe thead th {\n",
       "        text-align: right;\n",
       "    }\n",
       "</style>\n",
       "<table border=\"1\" class=\"dataframe\">\n",
       "  <thead>\n",
       "    <tr style=\"text-align: right;\">\n",
       "      <th></th>\n",
       "      <th>day</th>\n",
       "      <th>testing_day</th>\n",
       "      <th>case</th>\n",
       "      <th>num_shedding</th>\n",
       "      <th>wastewater_signal</th>\n",
       "    </tr>\n",
       "  </thead>\n",
       "  <tbody>\n",
       "    <tr>\n",
       "      <th>0</th>\n",
       "      <td>10-Sep-23</td>\n",
       "      <td>1</td>\n",
       "      <td>0</td>\n",
       "      <td>0</td>\n",
       "      <td>1</td>\n",
       "    </tr>\n",
       "    <tr>\n",
       "      <th>1</th>\n",
       "      <td>11-Sep-23</td>\n",
       "      <td>1</td>\n",
       "      <td>0</td>\n",
       "      <td>0</td>\n",
       "      <td>1</td>\n",
       "    </tr>\n",
       "    <tr>\n",
       "      <th>3</th>\n",
       "      <td>13-Sep-23</td>\n",
       "      <td>1</td>\n",
       "      <td>0</td>\n",
       "      <td>0</td>\n",
       "      <td>1</td>\n",
       "    </tr>\n",
       "    <tr>\n",
       "      <th>7</th>\n",
       "      <td>17-Sep-23</td>\n",
       "      <td>1</td>\n",
       "      <td>0</td>\n",
       "      <td>0</td>\n",
       "      <td>0</td>\n",
       "    </tr>\n",
       "    <tr>\n",
       "      <th>8</th>\n",
       "      <td>18-Sep-23</td>\n",
       "      <td>1</td>\n",
       "      <td>0</td>\n",
       "      <td>0</td>\n",
       "      <td>0</td>\n",
       "    </tr>\n",
       "  </tbody>\n",
       "</table>\n",
       "</div>"
      ],
      "text/plain": [
       "         day  testing_day  case  num_shedding  wastewater_signal\n",
       "0  10-Sep-23            1     0             0                  1\n",
       "1  11-Sep-23            1     0             0                  1\n",
       "3  13-Sep-23            1     0             0                  1\n",
       "7  17-Sep-23            1     0             0                  0\n",
       "8  18-Sep-23            1     0             0                  0"
      ]
     },
     "execution_count": 7,
     "metadata": {},
     "output_type": "execute_result"
    }
   ],
   "source": [
    "aim1.head()"
   ]
  },
  {
   "cell_type": "markdown",
   "id": "be31e95d",
   "metadata": {},
   "source": [
    "First, finding **true positives (TP)**, **true negatives (TN)**, **false positives (FP)** and **false negatives (FN)**\n",
    "- True positives (TP) will be defined as days when Hepatitis A virus was detected in wastewater that week and there are cases of individuals shedding the virus on that day. \n",
    "- False negatives (FN) will be defined as days when the virus is not detected in wastewater that week, but there are still cases of individuals shedding the virus on that day. \n",
    "- True negatives (TN) will be defined as days with no virus detections in wastewater that week and no individuals shedding the virus on that day. \n",
    "- False positives (FP) will be defined as days when the virus is detected in wastewater that week, but no individuals are shedding virus on that day"
   ]
  },
  {
   "cell_type": "code",
   "execution_count": 9,
   "id": "e5c8ad62",
   "metadata": {},
   "outputs": [],
   "source": [
    "tp = aim1[(aim1['wastewater_signal'] == 1) & (aim1['num_shedding'] > 0)]\n",
    "fn = aim1[(aim1['wastewater_signal'] == 0) & (aim1['num_shedding'] > 0)]\n",
    "tn = aim1[(aim1['wastewater_signal'] == 0) & (aim1['num_shedding'] == 0)]\n",
    "fp = aim1[(aim1['wastewater_signal'] == 1) & (aim1['num_shedding'] == 0)]"
   ]
  },
  {
   "cell_type": "code",
   "execution_count": 10,
   "id": "02353c25",
   "metadata": {},
   "outputs": [
    {
     "data": {
      "text/plain": [
       "37"
      ]
     },
     "execution_count": 10,
     "metadata": {},
     "output_type": "execute_result"
    }
   ],
   "source": [
    "len(tp)"
   ]
  },
  {
   "cell_type": "code",
   "execution_count": 11,
   "id": "537cd199",
   "metadata": {},
   "outputs": [
    {
     "data": {
      "text/plain": [
       "15"
      ]
     },
     "execution_count": 11,
     "metadata": {},
     "output_type": "execute_result"
    }
   ],
   "source": [
    "len(fn)"
   ]
  },
  {
   "cell_type": "code",
   "execution_count": 12,
   "id": "cd20616f",
   "metadata": {},
   "outputs": [
    {
     "data": {
      "text/plain": [
       "41"
      ]
     },
     "execution_count": 12,
     "metadata": {},
     "output_type": "execute_result"
    }
   ],
   "source": [
    "len(tn)"
   ]
  },
  {
   "cell_type": "code",
   "execution_count": 13,
   "id": "5657c013",
   "metadata": {},
   "outputs": [
    {
     "data": {
      "text/plain": [
       "38"
      ]
     },
     "execution_count": 13,
     "metadata": {},
     "output_type": "execute_result"
    }
   ],
   "source": [
    "len(fp)"
   ]
  },
  {
   "cell_type": "markdown",
   "id": "96a6e799",
   "metadata": {},
   "source": [
    "### Sensitivity Overall\n",
    "\n",
    "Sensitivity will be defined as the probability of a wastewater detection given that one or more persons are shedding the virus (TP / (TP+FN))"
   ]
  },
  {
   "cell_type": "code",
   "execution_count": 14,
   "id": "6385cdce",
   "metadata": {},
   "outputs": [
    {
     "data": {
      "text/plain": [
       "0.7115384615384616"
      ]
     },
     "execution_count": 14,
     "metadata": {},
     "output_type": "execute_result"
    }
   ],
   "source": [
    "sensitivity_cdc = len(tp) / (len(tp) +len(fn))\n",
    "sensitivity_cdc"
   ]
  },
  {
   "cell_type": "markdown",
   "id": "948a1719",
   "metadata": {},
   "source": [
    "### Positive Predictive Value\n",
    "Positive predictive value (PPV) will be the probability that at least one person is shedding the virus when a wastewater detection occurs (TP / (TP+FP))"
   ]
  },
  {
   "cell_type": "code",
   "execution_count": 15,
   "id": "c9745725",
   "metadata": {},
   "outputs": [
    {
     "data": {
      "text/plain": [
       "0.49333333333333335"
      ]
     },
     "execution_count": 15,
     "metadata": {},
     "output_type": "execute_result"
    }
   ],
   "source": [
    "ppv_cdc = len(tp) / (len(tp) + len(fp))\n",
    "ppv_cdc"
   ]
  },
  {
   "cell_type": "markdown",
   "id": "6b5d10c7",
   "metadata": {},
   "source": [
    "### Negative Predictive Value\n",
    "Negative predictive value (NPV) will be the probability that no persons are shedding the virus in the absence of wastewater detections (TN / (TN+FN))"
   ]
  },
  {
   "cell_type": "code",
   "execution_count": 16,
   "id": "e3899b9f",
   "metadata": {},
   "outputs": [
    {
     "data": {
      "text/plain": [
       "0.7321428571428571"
      ]
     },
     "execution_count": 16,
     "metadata": {},
     "output_type": "execute_result"
    }
   ],
   "source": [
    "npv_cdc = len(tn) / (len(tn) + len(fn))\n",
    "npv_cdc"
   ]
  },
  {
   "cell_type": "markdown",
   "id": "a255f14d",
   "metadata": {},
   "source": [
    "### Sensitivity for Specific Numbers of People Shedding\n",
    "For this, the definitions of true positive (TP), false negative (FN), true negative (TN), and false positive (FP) will be adjusted based on the specified number of cases shedding. \n",
    "- True positives (TP) will be defined as days when Hepatitis A virus is detected in wastewater and at least the specified number of cases are shedding the virus.\n",
    "- False negatives (FN) will be days when the virus is not detected in wastewater, but at least the specified number of cases are shedding the virus. \n",
    "- True negatives (TN) will be days with no virus detections and fewer than the specified number of cases shedding the virus. \n",
    "- False positives (FP) will be days when the virus is detected in wastewater, but fewer than the specified number of cases are shedding the virus."
   ]
  },
  {
   "cell_type": "code",
   "execution_count": 17,
   "id": "0d231eb7",
   "metadata": {},
   "outputs": [
    {
     "data": {
      "text/plain": [
       "4"
      ]
     },
     "execution_count": 17,
     "metadata": {},
     "output_type": "execute_result"
    }
   ],
   "source": [
    "# Finding the maximum number of individuals assumed to be shedding at any given time in our data\n",
    "max_shedding = aim1['num_shedding'].max()\n",
    "max_shedding"
   ]
  },
  {
   "cell_type": "code",
   "execution_count": 18,
   "id": "a830140e",
   "metadata": {},
   "outputs": [
    {
     "data": {
      "text/html": [
       "<div>\n",
       "<style scoped>\n",
       "    .dataframe tbody tr th:only-of-type {\n",
       "        vertical-align: middle;\n",
       "    }\n",
       "\n",
       "    .dataframe tbody tr th {\n",
       "        vertical-align: top;\n",
       "    }\n",
       "\n",
       "    .dataframe thead th {\n",
       "        text-align: right;\n",
       "    }\n",
       "</style>\n",
       "<table border=\"1\" class=\"dataframe\">\n",
       "  <thead>\n",
       "    <tr style=\"text-align: right;\">\n",
       "      <th></th>\n",
       "      <th>day</th>\n",
       "      <th>testing_day</th>\n",
       "      <th>case</th>\n",
       "      <th>num_shedding</th>\n",
       "      <th>wastewater_signal</th>\n",
       "    </tr>\n",
       "  </thead>\n",
       "  <tbody>\n",
       "    <tr>\n",
       "      <th>0</th>\n",
       "      <td>10-Sep-23</td>\n",
       "      <td>1</td>\n",
       "      <td>0</td>\n",
       "      <td>0</td>\n",
       "      <td>1</td>\n",
       "    </tr>\n",
       "    <tr>\n",
       "      <th>1</th>\n",
       "      <td>11-Sep-23</td>\n",
       "      <td>1</td>\n",
       "      <td>0</td>\n",
       "      <td>0</td>\n",
       "      <td>1</td>\n",
       "    </tr>\n",
       "    <tr>\n",
       "      <th>3</th>\n",
       "      <td>13-Sep-23</td>\n",
       "      <td>1</td>\n",
       "      <td>0</td>\n",
       "      <td>0</td>\n",
       "      <td>1</td>\n",
       "    </tr>\n",
       "    <tr>\n",
       "      <th>7</th>\n",
       "      <td>17-Sep-23</td>\n",
       "      <td>1</td>\n",
       "      <td>0</td>\n",
       "      <td>0</td>\n",
       "      <td>0</td>\n",
       "    </tr>\n",
       "    <tr>\n",
       "      <th>8</th>\n",
       "      <td>18-Sep-23</td>\n",
       "      <td>1</td>\n",
       "      <td>0</td>\n",
       "      <td>0</td>\n",
       "      <td>0</td>\n",
       "    </tr>\n",
       "  </tbody>\n",
       "</table>\n",
       "</div>"
      ],
      "text/plain": [
       "         day  testing_day  case  num_shedding  wastewater_signal\n",
       "0  10-Sep-23            1     0             0                  1\n",
       "1  11-Sep-23            1     0             0                  1\n",
       "3  13-Sep-23            1     0             0                  1\n",
       "7  17-Sep-23            1     0             0                  0\n",
       "8  18-Sep-23            1     0             0                  0"
      ]
     },
     "execution_count": 18,
     "metadata": {},
     "output_type": "execute_result"
    }
   ],
   "source": [
    "aim1.head()"
   ]
  },
  {
   "cell_type": "markdown",
   "id": "541ddfbc",
   "metadata": {},
   "source": [
    "**Since the max number of individuals shedding at any given time is 4 based on our assumptions and criteria, we will do the sensitivity analysis for 2, 3 and 4 individuals shedding**"
   ]
  },
  {
   "cell_type": "code",
   "execution_count": 19,
   "id": "b2743390",
   "metadata": {},
   "outputs": [],
   "source": [
    "# Functions for tp, fn, tn, fp with varying thresholds\n",
    "def tp(threshold, data):\n",
    "    df = data[(data['wastewater_signal'] == 1) & (data['num_shedding'] >= threshold)]\n",
    "    return df.shape[0]\n",
    "\n",
    "def fn(threshold, data):\n",
    "    df = data[(data['wastewater_signal'] == 0) & (data['num_shedding'] >= threshold)]\n",
    "    return df.shape[0]\n",
    "\n",
    "def tn(threshold, data):\n",
    "    df = data[(data['wastewater_signal'] == 0) & (data['num_shedding'] < threshold)]\n",
    "    return df.shape[0]\n",
    "\n",
    "def fp(threshold, data):\n",
    "    df = data[(data['wastewater_signal'] == 1) & (data['num_shedding'] < threshold)]\n",
    "    return df.shape[0]  "
   ]
  },
  {
   "cell_type": "code",
   "execution_count": 20,
   "id": "8ed3727b",
   "metadata": {},
   "outputs": [],
   "source": [
    "# Sensitivity, PPV, NPV functions\n",
    "def sensitivity(threshold, data):\n",
    "    return (tp(threshold, data) / (tp(threshold, data) + fn(threshold, data)))\n",
    "\n",
    "def ppv(threshold, data):\n",
    "    return tp(threshold, data) / (tp(threshold, data) + fp(threshold, data))\n",
    "\n",
    "def npv(threshold, data):\n",
    "    return tn(threshold, data) / (tn(threshold, data) + fn(threshold, data))"
   ]
  },
  {
   "cell_type": "code",
   "execution_count": 21,
   "id": "9202710e",
   "metadata": {},
   "outputs": [
    {
     "name": "stdout",
     "output_type": "stream",
     "text": [
      "sensitivity: 0.8421052631578947, ppv: 0.21333333333333335, npv: 0.9464285714285714\n"
     ]
    }
   ],
   "source": [
    "# For 2 individuals\n",
    "sensitivity_2 = sensitivity(2, aim1)\n",
    "ppv_2 = ppv(2, aim1)\n",
    "npv_2 = npv(2, aim1)\n",
    "print(f'sensitivity: {sensitivity_2}, ppv: {ppv_2}, npv: {npv_2}')"
   ]
  },
  {
   "cell_type": "code",
   "execution_count": 22,
   "id": "fcc13b7d",
   "metadata": {},
   "outputs": [
    {
     "name": "stdout",
     "output_type": "stream",
     "text": [
      "sensitivity: 0.8333333333333334, ppv: 0.2, npv: 0.9464285714285714\n"
     ]
    }
   ],
   "source": [
    "# For 3 individuals\n",
    "sensitivity_3 = sensitivity(3, aim1)\n",
    "ppv_3 = ppv(3, aim1)\n",
    "npv_3 = npv(3, aim1)\n",
    "print(f'sensitivity: {sensitivity_3}, ppv: {ppv_3}, npv: {npv_3}')"
   ]
  },
  {
   "cell_type": "code",
   "execution_count": 23,
   "id": "b7268886",
   "metadata": {},
   "outputs": [
    {
     "name": "stdout",
     "output_type": "stream",
     "text": [
      "sensitivity: 0.9166666666666666, ppv: 0.14666666666666667, npv: 0.9821428571428571\n"
     ]
    }
   ],
   "source": [
    "# For 4 individuals\n",
    "sensitivity_4 = sensitivity(4, aim1)\n",
    "ppv_4 = ppv(4, aim1)\n",
    "npv_4 = npv(4, aim1)\n",
    "print(f'sensitivity: {sensitivity_4}, ppv: {ppv_4}, npv: {npv_4}')"
   ]
  },
  {
   "cell_type": "markdown",
   "id": "ee6d520a",
   "metadata": {},
   "source": [
    "### Varying Shedding Period"
   ]
  },
  {
   "cell_type": "code",
   "execution_count": 26,
   "id": "6d3f804c",
   "metadata": {},
   "outputs": [],
   "source": [
    "s1 = pd.read_csv('s1.csv')\n",
    "s2 = pd.read_csv('s2.csv')\n",
    "s3 = pd.read_csv('s3.csv')"
   ]
  },
  {
   "cell_type": "code",
   "execution_count": 27,
   "id": "4869f351",
   "metadata": {},
   "outputs": [
    {
     "data": {
      "text/plain": [
       "4.0"
      ]
     },
     "execution_count": 27,
     "metadata": {},
     "output_type": "execute_result"
    }
   ],
   "source": [
    "# Sensitivity s1: 1 week before 1 week after\n",
    "s1_testing=s1[s1['testing_day'] == 1]\n",
    "s1_testing['num_shedding'].max()"
   ]
  },
  {
   "cell_type": "code",
   "execution_count": 29,
   "id": "ab074e90",
   "metadata": {},
   "outputs": [
    {
     "name": "stdout",
     "output_type": "stream",
     "text": [
      "1: 0.8292682926829268, 2: 1.0, 3: 1.0, 4: 1.0\n"
     ]
    }
   ],
   "source": [
    "s1_1 = sensitivity(1, s1_testing)\n",
    "s1_2 = sensitivity(2, s1_testing)\n",
    "s1_3 = sensitivity(3, s1_testing)\n",
    "s1_4 = sensitivity(4, s1_testing)\n",
    "print(f'1: {s1_1}, 2: {s1_2}, 3: {s1_3}, 4: {s1_4}')"
   ]
  },
  {
   "cell_type": "code",
   "execution_count": 30,
   "id": "3b924366",
   "metadata": {},
   "outputs": [
    {
     "data": {
      "text/plain": [
       "5"
      ]
     },
     "execution_count": 30,
     "metadata": {},
     "output_type": "execute_result"
    }
   ],
   "source": [
    "# Sensitivity s2: 1 week before, 4 weeks after\n",
    "s2_testing = s2[s2['testing_day'] == 1]\n",
    "s2_testing['num_shedding'].max()"
   ]
  },
  {
   "cell_type": "code",
   "execution_count": 32,
   "id": "9c6f3d8a",
   "metadata": {},
   "outputs": [
    {
     "name": "stdout",
     "output_type": "stream",
     "text": [
      "1: 0.6973684210526315, 2: 0.8064516129032258, 3: 0.8, 4: 0.875, 5: 1.0\n"
     ]
    }
   ],
   "source": [
    "s2_1 = sensitivity(1, s2_testing)\n",
    "s2_2 = sensitivity(2, s2_testing)\n",
    "s2_3 = sensitivity(3, s2_testing)\n",
    "s2_4 = sensitivity(4, s2_testing)\n",
    "s2_5 = sensitivity(5, s2_testing)\n",
    "print(f'1: {s2_1}, 2: {s2_2}, 3: {s2_3}, 4: {s2_4}, 5: {s2_5}')"
   ]
  },
  {
   "cell_type": "code",
   "execution_count": 33,
   "id": "75a2a38e",
   "metadata": {},
   "outputs": [
    {
     "data": {
      "text/plain": [
       "5"
      ]
     },
     "execution_count": 33,
     "metadata": {},
     "output_type": "execute_result"
    }
   ],
   "source": [
    "# Sensitivity s3: 2 weeks before, 4 weeks after\n",
    "s3_testing = s3[s3['testing_day'] == 1]\n",
    "s3_testing['num_shedding'].max()"
   ]
  },
  {
   "cell_type": "code",
   "execution_count": 35,
   "id": "7bf22147",
   "metadata": {},
   "outputs": [
    {
     "name": "stdout",
     "output_type": "stream",
     "text": [
      "1: 0.6511627906976745, 2: 0.7368421052631579, 3: 0.75, 4: 0.8666666666666667, 5: 1.0\n"
     ]
    }
   ],
   "source": [
    "s3_1 = sensitivity(1, s3_testing)\n",
    "s3_2 = sensitivity(2, s3_testing)\n",
    "s3_3 = sensitivity(3, s3_testing)\n",
    "s3_4 = sensitivity(4, s3_testing)\n",
    "s3_5 = sensitivity(5, s3_testing)\n",
    "print(f'1: {s3_1}, 2: {s3_2}, 3: {s3_3}, 4: {s3_4}, 5: {s3_5}')"
   ]
  },
  {
   "cell_type": "markdown",
   "id": "af912f2f",
   "metadata": {},
   "source": [
    "### PPV and NPV for Various Shedding Periods"
   ]
  },
  {
   "cell_type": "code",
   "execution_count": 36,
   "id": "d36e991b",
   "metadata": {},
   "outputs": [
    {
     "name": "stdout",
     "output_type": "stream",
     "text": [
      "Shedding period 1 (1 week before and 1 week after): 0.44571428571428573\n",
      "CDC Shedding period (2 weeks before 1 week after): 0.49333333333333335\n",
      "Shedding period 2 (1 week before and 4 weeks after): 0.7142857142857143\n",
      "Shedding period 3 (2 weeks before 4 weeks after): 0.7371428571428571\n"
     ]
    }
   ],
   "source": [
    "\n",
    "# PPV\n",
    "ppv_shedding_1 = ppv(1, s1)\n",
    "ppv_shedding_2 = ppv(1, s2)\n",
    "ppv_shedding_3 = ppv(1, s3)\n",
    "print(f'Shedding period 1 (1 week before and 1 week after): {ppv_shedding_1}\\nCDC Shedding period (2 weeks before 1 week after): {ppv_cdc}\\nShedding period 2 (1 week before and 4 weeks after): {ppv_shedding_2}\\nShedding period 3 (2 weeks before 4 weeks after): {ppv_shedding_3}')\n",
    "\n"
   ]
  },
  {
   "cell_type": "code",
   "execution_count": 37,
   "id": "fa305e61",
   "metadata": {},
   "outputs": [
    {
     "name": "stdout",
     "output_type": "stream",
     "text": [
      "Shedding period 1 (1 week before and 1 week after): 0.849624060150376\n",
      "CDC Shedding period (2 weeks before 1 week after): 0.7321428571428571\n",
      "Shedding period 2 (1 week before and 4 weeks after): 0.5714285714285714\n",
      "Shedding period 3 (2 weeks before 4 weeks after): 0.43609022556390975\n"
     ]
    }
   ],
   "source": [
    "# NPV\n",
    "npv_shedding_1 = npv(1, s1)\n",
    "npv_shedding_2 = npv(1, s2)\n",
    "npv_shedding_3 = npv(1, s3)\n",
    "print(f'Shedding period 1 (1 week before and 1 week after): {npv_shedding_1}\\nCDC Shedding period (2 weeks before 1 week after): {npv_cdc}\\nShedding period 2 (1 week before and 4 weeks after): {npv_shedding_2}\\nShedding period 3 (2 weeks before 4 weeks after): {npv_shedding_3}')\n"
   ]
  },
  {
   "cell_type": "code",
   "execution_count": 38,
   "id": "63c17441",
   "metadata": {},
   "outputs": [
    {
     "data": {
      "text/html": [
       "<div>\n",
       "<style scoped>\n",
       "    .dataframe tbody tr th:only-of-type {\n",
       "        vertical-align: middle;\n",
       "    }\n",
       "\n",
       "    .dataframe tbody tr th {\n",
       "        vertical-align: top;\n",
       "    }\n",
       "\n",
       "    .dataframe thead th {\n",
       "        text-align: right;\n",
       "    }\n",
       "</style>\n",
       "<table border=\"1\" class=\"dataframe\">\n",
       "  <thead>\n",
       "    <tr style=\"text-align: right;\">\n",
       "      <th></th>\n",
       "      <th>num_shedding</th>\n",
       "      <th>shedding_period</th>\n",
       "      <th>sensitivity</th>\n",
       "    </tr>\n",
       "  </thead>\n",
       "  <tbody>\n",
       "    <tr>\n",
       "      <th>0</th>\n",
       "      <td>≥1</td>\n",
       "      <td>SP1: 1 week before, 1 week after symptom onset</td>\n",
       "      <td>0.829268</td>\n",
       "    </tr>\n",
       "    <tr>\n",
       "      <th>1</th>\n",
       "      <td>≥2</td>\n",
       "      <td>SP1: 1 week before, 1 week after symptom onset</td>\n",
       "      <td>1.000000</td>\n",
       "    </tr>\n",
       "    <tr>\n",
       "      <th>2</th>\n",
       "      <td>≥3</td>\n",
       "      <td>SP1: 1 week before, 1 week after symptom onset</td>\n",
       "      <td>1.000000</td>\n",
       "    </tr>\n",
       "    <tr>\n",
       "      <th>3</th>\n",
       "      <td>≥4</td>\n",
       "      <td>SP1: 1 week before, 1 week after symptom onset</td>\n",
       "      <td>1.000000</td>\n",
       "    </tr>\n",
       "    <tr>\n",
       "      <th>4</th>\n",
       "      <td>≥1</td>\n",
       "      <td>SP2: 1 week before, 4 weeks after symptom onset</td>\n",
       "      <td>0.697368</td>\n",
       "    </tr>\n",
       "  </tbody>\n",
       "</table>\n",
       "</div>"
      ],
      "text/plain": [
       "  num_shedding                                  shedding_period  sensitivity\n",
       "0           ≥1   SP1: 1 week before, 1 week after symptom onset     0.829268\n",
       "1           ≥2   SP1: 1 week before, 1 week after symptom onset     1.000000\n",
       "2           ≥3   SP1: 1 week before, 1 week after symptom onset     1.000000\n",
       "3           ≥4   SP1: 1 week before, 1 week after symptom onset     1.000000\n",
       "4           ≥1  SP2: 1 week before, 4 weeks after symptom onset     0.697368"
      ]
     },
     "execution_count": 38,
     "metadata": {},
     "output_type": "execute_result"
    }
   ],
   "source": [
    "sensitivity_data = pd.read_csv('sensitivities.csv')\n",
    "sensitivity_data.head()"
   ]
  },
  {
   "cell_type": "markdown",
   "id": "ce6161c5",
   "metadata": {},
   "source": [
    "### Plotting"
   ]
  },
  {
   "cell_type": "code",
   "execution_count": 39,
   "id": "70e34673",
   "metadata": {
    "scrolled": false
   },
   "outputs": [
    {
     "data": {
      "image/png": "[encoded data removed]",
      "text/plain": [
       "<Figure size 1000x600 with 1 Axes>"
      ]
     },
     "metadata": {},
     "output_type": "display_data"
    }
   ],
   "source": [
    "# Define a darker color palette for the shedding periods with different shades of blue and red for CDC\n",
    "darker_palette = sns.color_palette(\"colorblind\", 3)  # Darker shades of blue for SP1, SP2, SP3\n",
    "colors = {\n",
    "    'SP1: 1 week before, 1 week after symptom onset': darker_palette[0],\n",
    "    'SP2: 1 week before, 4 weeks after symptom onset': darker_palette[1],\n",
    "    'SP3: 2 weeks before, 4 weeks after symptom onset': darker_palette[2],\n",
    "    'CDC: 2 weeks before, 1 week after symptom onset': 'red'\n",
    "}\n",
    "linestyles = {\n",
    "    'SP1: 1 week before, 1 week after symptom onset': 'dashed',\n",
    "    'SP2: 1 week before, 4 weeks after symptom onset': 'dotted',\n",
    "    'SP3: 2 weeks before, 4 weeks after symptom onset': 'dashdot',\n",
    "    'CDC: 2 weeks before, 1 week after symptom onset': 'solid'\n",
    "}\n",
    "\n",
    "# Plot all lines with the specified colors and linestyles\n",
    "plt.figure(figsize=(10, 6))\n",
    "for period in sensitivity_data['shedding_period'].unique():\n",
    "    period_data = sensitivity_data[sensitivity_data['shedding_period'] == period]\n",
    "    sns.lineplot(data=period_data, x='num_shedding', y='sensitivity', \n",
    "                 color=colors[period], linestyle=linestyles[period], label=period)\n",
    "\n",
    "# Customize the x-axis labels\n",
    "plt.xticks(ticks=sensitivity_data['num_shedding'].unique(), \n",
    "           labels=sensitivity_data['num_shedding'].unique())\n",
    "\n",
    "# Customize the plot\n",
    "plt.title('Sensitivity when WW Label Assigned By Week')\n",
    "plt.xlabel('No. of persons shedding Hepatitis A Virus')\n",
    "plt.ylabel('Sensitivity (%)')\n",
    "\n",
    "# Update the legend order to have CDC second\n",
    "handles, labels = plt.gca().get_legend_handles_labels()\n",
    "order = [0, 2, 1, 3]  # Reordering to place CDC second\n",
    "plt.legend([handles[idx] for idx in order], [labels[idx] for idx in order], bbox_to_anchor=(1.05, 1), loc='upper left')\n",
    "\n",
    "# Show the plot\n",
    "plt.show()"
   ]
  },
  {
   "cell_type": "code",
   "execution_count": null,
   "id": "21924bef",
   "metadata": {},
   "outputs": [],
   "source": []
  }
 ],
 "metadata": {
  "kernelspec": {
   "display_name": "Python 3 (ipykernel)",
   "language": "python",
   "name": "python3"
  },
  "language_info": {
   "codemirror_mode": {
    "name": "ipython",
    "version": 3
   },
   "file_extension": ".py",
   "mimetype": "text/x-python",
   "name": "python",
   "nbconvert_exporter": "python",
   "pygments_lexer": "ipython3",
   "version": "3.11.5"
  }
 },
 "nbformat": 4,
 "nbformat_minor": 5
}
