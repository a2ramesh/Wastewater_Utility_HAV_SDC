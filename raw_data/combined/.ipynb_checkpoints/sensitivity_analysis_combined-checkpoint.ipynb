{
 "cells": [
  {
   "cell_type": "markdown",
   "id": "c1fd5102",
   "metadata": {},
   "source": [
    "## Aim 1 Analysis (units of days)\n",
    "\n",
    "Sensitivity, PPV, NPV, sensitivity analysis of varying numbers of shedding individuals and shedding periods"
   ]
  },
  {
   "cell_type": "code",
   "execution_count": 1,
   "id": "4c86a10d",
   "metadata": {},
   "outputs": [],
   "source": [
    "import pandas as pd\n",
    "import numpy as np\n",
    "import matplotlib.pyplot as plt\n",
    "import seaborn as sns"
   ]
  },
  {
   "cell_type": "markdown",
   "id": "8925e06f",
   "metadata": {},
   "source": [
    "## About the Data\n",
    "\n",
    "- Shedding period was considered uniform 2 weeks before episode date, and one week after\n",
    "- A day is considered wastewater positive if there was a wastewater nucleic acid detection on any of the three days tested that week"
   ]
  },
  {
   "cell_type": "code",
   "execution_count": 2,
   "id": "b23cfa8d",
   "metadata": {},
   "outputs": [],
   "source": [
    "aim1 = pd.read_csv(\"combined_day_week.csv\")"
   ]
  },
  {
   "cell_type": "code",
   "execution_count": 3,
   "id": "c7e19b65",
   "metadata": {},
   "outputs": [
    {
     "data": {
      "text/html": [
       "<div>\n",
       "<style scoped>\n",
       "    .dataframe tbody tr th:only-of-type {\n",
       "        vertical-align: middle;\n",
       "    }\n",
       "\n",
       "    .dataframe tbody tr th {\n",
       "        vertical-align: top;\n",
       "    }\n",
       "\n",
       "    .dataframe thead th {\n",
       "        text-align: right;\n",
       "    }\n",
       "</style>\n",
       "<table border=\"1\" class=\"dataframe\">\n",
       "  <thead>\n",
       "    <tr style=\"text-align: right;\">\n",
       "      <th></th>\n",
       "      <th>day</th>\n",
       "      <th>testing_day</th>\n",
       "      <th>case</th>\n",
       "      <th>num_shedding</th>\n",
       "      <th>wastewater_signal</th>\n",
       "    </tr>\n",
       "  </thead>\n",
       "  <tbody>\n",
       "    <tr>\n",
       "      <th>0</th>\n",
       "      <td>10-Sep-2023</td>\n",
       "      <td>1</td>\n",
       "      <td>0</td>\n",
       "      <td>0</td>\n",
       "      <td>0</td>\n",
       "    </tr>\n",
       "    <tr>\n",
       "      <th>1</th>\n",
       "      <td>11-Sep-2023</td>\n",
       "      <td>1</td>\n",
       "      <td>0</td>\n",
       "      <td>0</td>\n",
       "      <td>0</td>\n",
       "    </tr>\n",
       "    <tr>\n",
       "      <th>2</th>\n",
       "      <td>12-Sep-2023</td>\n",
       "      <td>0</td>\n",
       "      <td>0</td>\n",
       "      <td>0</td>\n",
       "      <td>0</td>\n",
       "    </tr>\n",
       "    <tr>\n",
       "      <th>3</th>\n",
       "      <td>13-Sep-2023</td>\n",
       "      <td>1</td>\n",
       "      <td>0</td>\n",
       "      <td>0</td>\n",
       "      <td>0</td>\n",
       "    </tr>\n",
       "    <tr>\n",
       "      <th>4</th>\n",
       "      <td>14-Sep-2023</td>\n",
       "      <td>0</td>\n",
       "      <td>0</td>\n",
       "      <td>0</td>\n",
       "      <td>0</td>\n",
       "    </tr>\n",
       "  </tbody>\n",
       "</table>\n",
       "</div>"
      ],
      "text/plain": [
       "           day  testing_day  case  num_shedding  wastewater_signal\n",
       "0  10-Sep-2023            1     0             0                  0\n",
       "1  11-Sep-2023            1     0             0                  0\n",
       "2  12-Sep-2023            0     0             0                  0\n",
       "3  13-Sep-2023            1     0             0                  0\n",
       "4  14-Sep-2023            0     0             0                  0"
      ]
     },
     "execution_count": 3,
     "metadata": {},
     "output_type": "execute_result"
    }
   ],
   "source": [
    "aim1.head()"
   ]
  },
  {
   "cell_type": "code",
   "execution_count": 4,
   "id": "0c0919ac",
   "metadata": {},
   "outputs": [
    {
     "data": {
      "text/plain": [
       "day                  object\n",
       "testing_day           int64\n",
       "case                  int64\n",
       "num_shedding          int64\n",
       "wastewater_signal     int64\n",
       "dtype: object"
      ]
     },
     "execution_count": 4,
     "metadata": {},
     "output_type": "execute_result"
    }
   ],
   "source": [
    "aim1.dtypes"
   ]
  },
  {
   "cell_type": "markdown",
   "id": "be31e95d",
   "metadata": {},
   "source": [
    "First, finding **true positives (TP)**, **true negatives (TN)**, **false positives (FP)** and **false negatives (FN)**\n",
    "- True positives (TP) will be defined as days when Hepatitis A virus was detected in wastewater that week and there are cases of individuals shedding the virus on that day. \n",
    "- False negatives (FN) will be defined as days when the virus is not detected in wastewater that week, but there are still cases of individuals shedding the virus on that day. \n",
    "- True negatives (TN) will be defined as days with no virus detections in wastewater that week and no individuals shedding the virus on that day. \n",
    "- False positives (FP) will be defined as days when the virus is detected in wastewater that week, but no individuals are shedding virus on that day"
   ]
  },
  {
   "cell_type": "code",
   "execution_count": 5,
   "id": "e5c8ad62",
   "metadata": {},
   "outputs": [],
   "source": [
    "tp = aim1[(aim1['wastewater_signal'] == 1) & (aim1['num_shedding'] > 0)]\n",
    "fn = aim1[(aim1['wastewater_signal'] == 0) & (aim1['num_shedding'] > 0)]\n",
    "tn = aim1[(aim1['wastewater_signal'] == 0) & (aim1['num_shedding'] == 0)]\n",
    "fp = aim1[(aim1['wastewater_signal'] == 1) & (aim1['num_shedding'] == 0)]"
   ]
  },
  {
   "cell_type": "markdown",
   "id": "96a6e799",
   "metadata": {},
   "source": [
    "### Sensitivity Overall\n",
    "\n",
    "Sensitivity will be defined as the probability of a wastewater detection given that one or more persons are shedding the virus (TP / (TP+FN))"
   ]
  },
  {
   "cell_type": "code",
   "execution_count": 6,
   "id": "6385cdce",
   "metadata": {},
   "outputs": [
    {
     "data": {
      "text/plain": [
       "0.7702702702702703"
      ]
     },
     "execution_count": 6,
     "metadata": {},
     "output_type": "execute_result"
    }
   ],
   "source": [
    "sensitivity = len(tp) / (len(tp) +len(fn))\n",
    "sensitivity"
   ]
  },
  {
   "cell_type": "markdown",
   "id": "948a1719",
   "metadata": {},
   "source": [
    "### Positive Predictive Value\n",
    "Positive predictive value (PPV) will be the probability that at least one person is shedding the virus when a wastewater detection occurs (TP / (TP+FP))"
   ]
  },
  {
   "cell_type": "code",
   "execution_count": 7,
   "id": "c9745725",
   "metadata": {},
   "outputs": [
    {
     "data": {
      "text/plain": [
       "0.6031746031746031"
      ]
     },
     "execution_count": 7,
     "metadata": {},
     "output_type": "execute_result"
    }
   ],
   "source": [
    "ppv = len(tp) / (len(tp) + len(fp))\n",
    "ppv"
   ]
  },
  {
   "cell_type": "markdown",
   "id": "6b5d10c7",
   "metadata": {},
   "source": [
    "### Negative Predictive Value\n",
    "Negative predictive value (NPV) will be the probability that no persons are shedding the virus in the absence of wastewater detections (TN / (TN+FN))"
   ]
  },
  {
   "cell_type": "code",
   "execution_count": 8,
   "id": "e3899b9f",
   "metadata": {},
   "outputs": [
    {
     "data": {
      "text/plain": [
       "0.7235772357723578"
      ]
     },
     "execution_count": 8,
     "metadata": {},
     "output_type": "execute_result"
    }
   ],
   "source": [
    "npv = len(tn) / (len(tn) + len(fn))\n",
    "npv"
   ]
  },
  {
   "cell_type": "markdown",
   "id": "a255f14d",
   "metadata": {},
   "source": [
    "### Sensitivity for Specific Numbers of People Shedding\n",
    "For this, the definitions of true positive (TP), false negative (FN), true negative (TN), and false positive (FP) will be adjusted based on the specified number of cases shedding. \n",
    "- True positives (TP) will be defined as days when Hepatitis A virus is detected in wastewater and at least the specified number of cases are shedding the virus.\n",
    "- False negatives (FN) will be days when the virus is not detected in wastewater, but at least the specified number of cases are shedding the virus. \n",
    "- True negatives (TN) will be days with no virus detections and fewer than the specified number of cases shedding the virus. \n",
    "- False positives (FP) will be days when the virus is detected in wastewater, but fewer than the specified number of cases are shedding the virus."
   ]
  },
  {
   "cell_type": "code",
   "execution_count": 9,
   "id": "0d231eb7",
   "metadata": {},
   "outputs": [
    {
     "data": {
      "text/plain": [
       "4"
      ]
     },
     "execution_count": 9,
     "metadata": {},
     "output_type": "execute_result"
    }
   ],
   "source": [
    "# Finding the maximum number of individuals assumed to be shedding at any given time in our data\n",
    "max_shedding = aim1['num_shedding'].max()\n",
    "max_shedding"
   ]
  },
  {
   "cell_type": "markdown",
   "id": "541ddfbc",
   "metadata": {},
   "source": [
    "**Since the max number of individuals shedding at any given time is 4 based on our assumptions and criteria, we will do the sensitivity analysis for 2, 3 and 4 individuals shedding**"
   ]
  },
  {
   "cell_type": "code",
   "execution_count": 10,
   "id": "b2743390",
   "metadata": {},
   "outputs": [],
   "source": [
    "# Functions for tp, fn, tn, fp with varying thresholds\n",
    "def tp(threshold, data):\n",
    "    df = data[(data['wastewater_signal'] == 1) & (data['num_shedding'] >= threshold)]\n",
    "    return df.shape[0]\n",
    "\n",
    "def fn(threshold, data):\n",
    "    df = data[(data['wastewater_signal'] == 0) & (data['num_shedding'] >= threshold)]\n",
    "    return df.shape[0]\n",
    "\n",
    "def tn(threshold, data):\n",
    "    df = data[(data['wastewater_signal'] == 0) & (data['num_shedding'] < threshold)]\n",
    "    return df.shape[0]\n",
    "\n",
    "def fp(threshold, data):\n",
    "    df = data[(data['wastewater_signal'] == 1) & (data['num_shedding'] < threshold)]\n",
    "    return df.shape[0]  "
   ]
  },
  {
   "cell_type": "code",
   "execution_count": 11,
   "id": "8ed3727b",
   "metadata": {},
   "outputs": [],
   "source": [
    "# Sensitivity, PPV, NPV functions\n",
    "def sensitivity(threshold, data):\n",
    "    return (tp(threshold, data) / (tp(threshold, data) + fn(threshold, data)))\n",
    "\n",
    "def ppv(threshold, data):\n",
    "    return tp(threshold, data) / (tp(threshold, data) + fp(threshold, data))\n",
    "\n",
    "def npv(threshold, data):\n",
    "    return tn(threshold, data) / (tn(threshold, data) + fn(threshold, data))"
   ]
  },
  {
   "cell_type": "code",
   "execution_count": 12,
   "id": "9202710e",
   "metadata": {},
   "outputs": [
    {
     "name": "stdout",
     "output_type": "stream",
     "text": [
      "sensitivity: 0.8085106382978723, ppv: 0.20105820105820105, npv: 0.926829268292683\n"
     ]
    }
   ],
   "source": [
    "# For 2 individuals\n",
    "sensitivity_2 = sensitivity(2, aim1)\n",
    "ppv_2 = ppv(2, aim1)\n",
    "npv_2 = npv(2, aim1)\n",
    "print(f'sensitivity: {sensitivity_2}, ppv: {ppv_2}, npv: {npv_2}')"
   ]
  },
  {
   "cell_type": "code",
   "execution_count": 13,
   "id": "fcc13b7d",
   "metadata": {},
   "outputs": [
    {
     "name": "stdout",
     "output_type": "stream",
     "text": [
      "sensitivity: 0.813953488372093, ppv: 0.18518518518518517, npv: 0.9349593495934959\n"
     ]
    }
   ],
   "source": [
    "# For 3 individuals\n",
    "sensitivity_3 = sensitivity(3, aim1)\n",
    "ppv_3 = ppv(3, aim1)\n",
    "npv_3 = npv(3, aim1)\n",
    "print(f'sensitivity: {sensitivity_3}, ppv: {ppv_3}, npv: {npv_3}')"
   ]
  },
  {
   "cell_type": "code",
   "execution_count": 14,
   "id": "b7268886",
   "metadata": {},
   "outputs": [
    {
     "name": "stdout",
     "output_type": "stream",
     "text": [
      "sensitivity: 0.8076923076923077, ppv: 0.1111111111111111, npv: 0.959349593495935\n"
     ]
    }
   ],
   "source": [
    "# For 4 individuals\n",
    "sensitivity_4 = sensitivity(4, aim1)\n",
    "ppv_4 = ppv(4, aim1)\n",
    "npv_4 = npv(4, aim1)\n",
    "print(f'sensitivity: {sensitivity_4}, ppv: {ppv_4}, npv: {npv_4}')"
   ]
  },
  {
   "cell_type": "markdown",
   "id": "e7c0cff4",
   "metadata": {},
   "source": [
    "## Secondary: Using only testing days\n",
    "\n",
    "The previous analysis used all days regardless of whether the water was tested on that day. The following analysis uses specifically the days on which the water was tested to calculate sensitivity, PPV and NPV."
   ]
  },
  {
   "cell_type": "code",
   "execution_count": 15,
   "id": "78583d05",
   "metadata": {},
   "outputs": [
    {
     "data": {
      "text/html": [
       "<div>\n",
       "<style scoped>\n",
       "    .dataframe tbody tr th:only-of-type {\n",
       "        vertical-align: middle;\n",
       "    }\n",
       "\n",
       "    .dataframe tbody tr th {\n",
       "        vertical-align: top;\n",
       "    }\n",
       "\n",
       "    .dataframe thead th {\n",
       "        text-align: right;\n",
       "    }\n",
       "</style>\n",
       "<table border=\"1\" class=\"dataframe\">\n",
       "  <thead>\n",
       "    <tr style=\"text-align: right;\">\n",
       "      <th></th>\n",
       "      <th>day</th>\n",
       "      <th>testing_day</th>\n",
       "      <th>case</th>\n",
       "      <th>num_shedding</th>\n",
       "      <th>wastewater_signal</th>\n",
       "    </tr>\n",
       "  </thead>\n",
       "  <tbody>\n",
       "    <tr>\n",
       "      <th>0</th>\n",
       "      <td>10-Sep-2023</td>\n",
       "      <td>1</td>\n",
       "      <td>0</td>\n",
       "      <td>0</td>\n",
       "      <td>0</td>\n",
       "    </tr>\n",
       "    <tr>\n",
       "      <th>1</th>\n",
       "      <td>11-Sep-2023</td>\n",
       "      <td>1</td>\n",
       "      <td>0</td>\n",
       "      <td>0</td>\n",
       "      <td>0</td>\n",
       "    </tr>\n",
       "    <tr>\n",
       "      <th>3</th>\n",
       "      <td>13-Sep-2023</td>\n",
       "      <td>1</td>\n",
       "      <td>0</td>\n",
       "      <td>0</td>\n",
       "      <td>0</td>\n",
       "    </tr>\n",
       "    <tr>\n",
       "      <th>7</th>\n",
       "      <td>17-Sep-2023</td>\n",
       "      <td>1</td>\n",
       "      <td>0</td>\n",
       "      <td>0</td>\n",
       "      <td>0</td>\n",
       "    </tr>\n",
       "    <tr>\n",
       "      <th>8</th>\n",
       "      <td>18-Sep-2023</td>\n",
       "      <td>1</td>\n",
       "      <td>0</td>\n",
       "      <td>0</td>\n",
       "      <td>0</td>\n",
       "    </tr>\n",
       "  </tbody>\n",
       "</table>\n",
       "</div>"
      ],
      "text/plain": [
       "           day  testing_day  case  num_shedding  wastewater_signal\n",
       "0  10-Sep-2023            1     0             0                  0\n",
       "1  11-Sep-2023            1     0             0                  0\n",
       "3  13-Sep-2023            1     0             0                  0\n",
       "7  17-Sep-2023            1     0             0                  0\n",
       "8  18-Sep-2023            1     0             0                  0"
      ]
     },
     "execution_count": 15,
     "metadata": {},
     "output_type": "execute_result"
    }
   ],
   "source": [
    "aim1_testing = aim1[aim1['testing_day'] == 1]\n",
    "aim1_testing.head()"
   ]
  },
  {
   "cell_type": "code",
   "execution_count": 16,
   "id": "45219765",
   "metadata": {},
   "outputs": [
    {
     "data": {
      "text/plain": [
       "0.8032786885245902"
      ]
     },
     "execution_count": 16,
     "metadata": {},
     "output_type": "execute_result"
    }
   ],
   "source": [
    "# Sensitivity\n",
    "sensitivity_s = sensitivity(1, aim1_testing)\n",
    "sensitivity_s"
   ]
  },
  {
   "cell_type": "code",
   "execution_count": 17,
   "id": "eb741ef0",
   "metadata": {},
   "outputs": [
    {
     "data": {
      "text/plain": [
       "0.6049382716049383"
      ]
     },
     "execution_count": 17,
     "metadata": {},
     "output_type": "execute_result"
    }
   ],
   "source": [
    "# PPV\n",
    "ppv_s = ppv(1, aim1_testing)\n",
    "ppv_s"
   ]
  },
  {
   "cell_type": "code",
   "execution_count": 18,
   "id": "8c8bb6fd",
   "metadata": {},
   "outputs": [
    {
     "data": {
      "text/plain": [
       "0.76"
      ]
     },
     "execution_count": 18,
     "metadata": {},
     "output_type": "execute_result"
    }
   ],
   "source": [
    "# NPV\n",
    "npv_s = npv(1, aim1_testing)\n",
    "npv_s"
   ]
  },
  {
   "cell_type": "markdown",
   "id": "3d426a3a",
   "metadata": {},
   "source": [
    "## Varying the Shedding Period\n",
    "\n",
    "The shedding period for Hepatitis A virus given by the CDC is two weeks prior to symptom onset, and one week following symptom onset. \n",
    "\n",
    "Here, the following shedding periods are tested:\n",
    "1. Shedding Period 1: 4 days before and 2 days after symptom onset (inclusive)\n",
    "2. Shedding Period 2: 1 week before and 3 days after symptom onset (inclusive)\n",
    "3. Shedding Period 3: 3 weeks before and 1 week and 3 days after symptom onset (inclusive)\n",
    "4. Shedding Period 4: 4 weeks before and 2 weeks after symptom onset (inclusive)\n",
    "\n",
    "Sensitivity is calculated for all 4 of them"
   ]
  },
  {
   "cell_type": "code",
   "execution_count": 19,
   "id": "541a2cb8",
   "metadata": {},
   "outputs": [],
   "source": [
    "# Importing the different data files\n",
    "shedding_1 = pd.read_csv(\"shedding_1.csv\")\n",
    "shedding_2 = pd.read_csv(\"shedding_2.csv\")\n",
    "shedding_3 = pd.read_csv(\"shedding_3.csv\")\n",
    "shedding_4 = pd.read_csv(\"shedding_4.csv\")"
   ]
  },
  {
   "cell_type": "code",
   "execution_count": 20,
   "id": "356a0ac7",
   "metadata": {},
   "outputs": [
    {
     "data": {
      "text/html": [
       "<div>\n",
       "<style scoped>\n",
       "    .dataframe tbody tr th:only-of-type {\n",
       "        vertical-align: middle;\n",
       "    }\n",
       "\n",
       "    .dataframe tbody tr th {\n",
       "        vertical-align: top;\n",
       "    }\n",
       "\n",
       "    .dataframe thead th {\n",
       "        text-align: right;\n",
       "    }\n",
       "</style>\n",
       "<table border=\"1\" class=\"dataframe\">\n",
       "  <thead>\n",
       "    <tr style=\"text-align: right;\">\n",
       "      <th></th>\n",
       "      <th>day</th>\n",
       "      <th>testing_day</th>\n",
       "      <th>case</th>\n",
       "      <th>num_shedding</th>\n",
       "      <th>wastewater_signal</th>\n",
       "    </tr>\n",
       "  </thead>\n",
       "  <tbody>\n",
       "    <tr>\n",
       "      <th>0</th>\n",
       "      <td>10-Sep-2023</td>\n",
       "      <td>1</td>\n",
       "      <td>0</td>\n",
       "      <td>0</td>\n",
       "      <td>0</td>\n",
       "    </tr>\n",
       "    <tr>\n",
       "      <th>1</th>\n",
       "      <td>11-Sep-2023</td>\n",
       "      <td>1</td>\n",
       "      <td>0</td>\n",
       "      <td>0</td>\n",
       "      <td>0</td>\n",
       "    </tr>\n",
       "    <tr>\n",
       "      <th>2</th>\n",
       "      <td>12-Sep-2023</td>\n",
       "      <td>0</td>\n",
       "      <td>0</td>\n",
       "      <td>0</td>\n",
       "      <td>0</td>\n",
       "    </tr>\n",
       "    <tr>\n",
       "      <th>3</th>\n",
       "      <td>13-Sep-2023</td>\n",
       "      <td>1</td>\n",
       "      <td>0</td>\n",
       "      <td>0</td>\n",
       "      <td>0</td>\n",
       "    </tr>\n",
       "    <tr>\n",
       "      <th>4</th>\n",
       "      <td>14-Sep-2023</td>\n",
       "      <td>0</td>\n",
       "      <td>0</td>\n",
       "      <td>0</td>\n",
       "      <td>0</td>\n",
       "    </tr>\n",
       "  </tbody>\n",
       "</table>\n",
       "</div>"
      ],
      "text/plain": [
       "           day  testing_day  case  num_shedding  wastewater_signal\n",
       "0  10-Sep-2023            1     0             0                  0\n",
       "1  11-Sep-2023            1     0             0                  0\n",
       "2  12-Sep-2023            0     0             0                  0\n",
       "3  13-Sep-2023            1     0             0                  0\n",
       "4  14-Sep-2023            0     0             0                  0"
      ]
     },
     "execution_count": 20,
     "metadata": {},
     "output_type": "execute_result"
    }
   ],
   "source": [
    "# Examining the data\n",
    "shedding_4.head()"
   ]
  },
  {
   "cell_type": "markdown",
   "id": "50b52994",
   "metadata": {},
   "source": [
    "### Shedding Period 1\n",
    "\n",
    "4 days before and 2 days after symptom onset (inclusive)"
   ]
  },
  {
   "cell_type": "code",
   "execution_count": 21,
   "id": "1668b607",
   "metadata": {},
   "outputs": [
    {
     "data": {
      "text/plain": [
       "0.8524590163934426"
      ]
     },
     "execution_count": 21,
     "metadata": {},
     "output_type": "execute_result"
    }
   ],
   "source": [
    "# Sensitivity for Shedding Period 1\n",
    "sensitivity_s1 = sensitivity(1, shedding_1)\n",
    "sensitivity_s1"
   ]
  },
  {
   "cell_type": "code",
   "execution_count": 22,
   "id": "139577b6",
   "metadata": {},
   "outputs": [
    {
     "data": {
      "text/plain": [
       "3"
      ]
     },
     "execution_count": 22,
     "metadata": {},
     "output_type": "execute_result"
    }
   ],
   "source": [
    "# Max shedding assuming Shedding Period 1\n",
    "max_1 = shedding_1['num_shedding'].max()\n",
    "max_1"
   ]
  },
  {
   "cell_type": "code",
   "execution_count": 23,
   "id": "b731fa7f",
   "metadata": {},
   "outputs": [
    {
     "name": "stdout",
     "output_type": "stream",
     "text": [
      "2  or more individuals shedding: 1.0\n",
      "3  or more individuals shedding: 1.0\n"
     ]
    }
   ],
   "source": [
    "# Sensitivity for varying numbers of people shedding\n",
    "ss1_2 = sensitivity(2, shedding_1)\n",
    "ss1_3 = sensitivity(3, shedding_1)\n",
    "#ss1_4 = sensitivity (4, shedding_1)\n",
    "print(f'2  or more individuals shedding: {ss1_2}\\n3  or more individuals shedding: {ss1_3}')"
   ]
  },
  {
   "cell_type": "markdown",
   "id": "39845120",
   "metadata": {},
   "source": [
    "### Shedding Period 2\n",
    "\n",
    "1 week before and 3 days after symptom onset (inclusive)"
   ]
  },
  {
   "cell_type": "code",
   "execution_count": 24,
   "id": "34e3c14f",
   "metadata": {},
   "outputs": [
    {
     "data": {
      "text/plain": [
       "0.7865168539325843"
      ]
     },
     "execution_count": 24,
     "metadata": {},
     "output_type": "execute_result"
    }
   ],
   "source": [
    "# Sensitivity for Shedding Period 2\n",
    "sensitivity_s2 = sensitivity(1, shedding_2)\n",
    "sensitivity_s2"
   ]
  },
  {
   "cell_type": "code",
   "execution_count": 25,
   "id": "638fe87f",
   "metadata": {},
   "outputs": [
    {
     "data": {
      "text/plain": [
       "4"
      ]
     },
     "execution_count": 25,
     "metadata": {},
     "output_type": "execute_result"
    }
   ],
   "source": [
    "# Max shedding assuming Shedding Period 2\n",
    "max_2 = shedding_2['num_shedding'].max()\n",
    "max_2"
   ]
  },
  {
   "cell_type": "code",
   "execution_count": 26,
   "id": "5598e3f8",
   "metadata": {},
   "outputs": [
    {
     "name": "stdout",
     "output_type": "stream",
     "text": [
      "2 or more individuals shedding: 0.9565217391304348\n",
      "3 or more individuals shedding: 1.0\n",
      "4 or more individuals shedding: 1.0\n"
     ]
    }
   ],
   "source": [
    "# Sensitivity for varying numbers of people shedding\n",
    "ss2_2 = sensitivity(2, shedding_2) \n",
    "ss2_3 = sensitivity(3, shedding_2)\n",
    "ss2_4 = sensitivity (4, shedding_2)\n",
    "print(f'2 or more individuals shedding: {ss2_2}\\n3 or more individuals shedding: {ss2_3}\\n4 or more individuals shedding: {ss2_4}')"
   ]
  },
  {
   "cell_type": "markdown",
   "id": "fba92ac2",
   "metadata": {},
   "source": [
    "### Note: CDC Shedding Period\n",
    "\n",
    "\n",
    "In between shedding period 2 and 3, we have the shedding period ascribed by the CDC which is 2 weeks before and upto 1 week after symptom onset\n",
    " - Sensitivity of 0.7702702702702703 for identifying a single person\n",
    " - 2 individuals shedding: 0.8085106382978723\n",
    " - 3 individuals shedding: 0.813953488372093\n",
    " - 4 individuals shedding: 0.8076923076923077"
   ]
  },
  {
   "cell_type": "markdown",
   "id": "a58a29ef",
   "metadata": {},
   "source": [
    "### Shedding Period 3\n",
    " 3 weeks before and 1 week and 3 days after symptom onset (inclusive)\n",
    " "
   ]
  },
  {
   "cell_type": "code",
   "execution_count": 27,
   "id": "e35b59ad",
   "metadata": {},
   "outputs": [
    {
     "data": {
      "text/plain": [
       "0.7474747474747475"
      ]
     },
     "execution_count": 27,
     "metadata": {},
     "output_type": "execute_result"
    }
   ],
   "source": [
    "# Sensitivity for Shedding Period 3\n",
    "sensitivity_s3 = sensitivity(1, shedding_3)\n",
    "sensitivity_s3"
   ]
  },
  {
   "cell_type": "code",
   "execution_count": 28,
   "id": "9f3d88f1",
   "metadata": {},
   "outputs": [
    {
     "data": {
      "text/plain": [
       "5"
      ]
     },
     "execution_count": 28,
     "metadata": {},
     "output_type": "execute_result"
    }
   ],
   "source": [
    "# Max shedding assuming Shedding Period 3\n",
    "max_3 = shedding_3['num_shedding'].max()\n",
    "max_3"
   ]
  },
  {
   "cell_type": "code",
   "execution_count": 29,
   "id": "120e437c",
   "metadata": {},
   "outputs": [
    {
     "name": "stdout",
     "output_type": "stream",
     "text": [
      "2 or more individuals shedding: 0.7611940298507462\n",
      "3 or more individuals shedding: 0.7619047619047619\n",
      "4 or more individuals shedding: 0.7446808510638298\n",
      "5 or more individuals shedding: 1.0\n"
     ]
    }
   ],
   "source": [
    "# Sensitivity for varying numbers of people shedding\n",
    "ss3_2 = sensitivity(2, shedding_3)\n",
    "ss3_3 = sensitivity(3, shedding_3)\n",
    "ss3_4 = sensitivity (4, shedding_3)\n",
    "ss3_5 = sensitivity (5, shedding_3)\n",
    "print(f'2 or more individuals shedding: {ss3_2}\\n3 or more individuals shedding: {ss3_3}\\n4 or more individuals shedding: {ss3_4}\\n5 or more individuals shedding: {ss3_5}')"
   ]
  },
  {
   "cell_type": "markdown",
   "id": "d9db975a",
   "metadata": {},
   "source": [
    "### Shedding Period 4\n",
    "4 weeks before and 2 weeks after symptom onset (inclusive)\n",
    " "
   ]
  },
  {
   "cell_type": "code",
   "execution_count": 30,
   "id": "059b510e",
   "metadata": {},
   "outputs": [
    {
     "data": {
      "text/plain": [
       "0.7254098360655737"
      ]
     },
     "execution_count": 30,
     "metadata": {},
     "output_type": "execute_result"
    }
   ],
   "source": [
    "# Sensitivity for Shedding Period 4\n",
    "sensitivity_s4 = sensitivity(1, shedding_4)\n",
    "sensitivity_s4"
   ]
  },
  {
   "cell_type": "code",
   "execution_count": 31,
   "id": "9036f350",
   "metadata": {},
   "outputs": [
    {
     "data": {
      "text/plain": [
       "5"
      ]
     },
     "execution_count": 31,
     "metadata": {},
     "output_type": "execute_result"
    }
   ],
   "source": [
    "# Max shedding assuming Shedding Period 4\n",
    "max_4 = shedding_4['num_shedding'].max()\n",
    "max_4"
   ]
  },
  {
   "cell_type": "code",
   "execution_count": 32,
   "id": "5f0a72f5",
   "metadata": {},
   "outputs": [
    {
     "name": "stdout",
     "output_type": "stream",
     "text": [
      "2 or more individuals shedding: 0.7857142857142857\n",
      "3 or more individuals shedding: 0.7529411764705882\n",
      "4 or more individuals shedding: 0.7246376811594203\n",
      "5 or more individuals shedding: 1.0\n"
     ]
    }
   ],
   "source": [
    "# Sensitivity for varying numbers of people shedding\n",
    "ss4_2 = sensitivity(2, shedding_4)\n",
    "ss4_3 = sensitivity(3, shedding_4)\n",
    "ss4_4 = sensitivity (4, shedding_4)\n",
    "ss4_5 = sensitivity (5, shedding_4)\n",
    "print(f'2 or more individuals shedding: {ss4_2}\\n3 or more individuals shedding: {ss4_3}\\n4 or more individuals shedding: {ss4_4}\\n5 or more individuals shedding: {ss4_5}')"
   ]
  },
  {
   "cell_type": "markdown",
   "id": "f9a8efa3",
   "metadata": {},
   "source": [
    "## Plotting"
   ]
  },
  {
   "cell_type": "code",
   "execution_count": 40,
   "id": "f703d87b",
   "metadata": {},
   "outputs": [
    {
     "data": {
      "text/html": [
       "<div>\n",
       "<style scoped>\n",
       "    .dataframe tbody tr th:only-of-type {\n",
       "        vertical-align: middle;\n",
       "    }\n",
       "\n",
       "    .dataframe tbody tr th {\n",
       "        vertical-align: top;\n",
       "    }\n",
       "\n",
       "    .dataframe thead th {\n",
       "        text-align: right;\n",
       "    }\n",
       "</style>\n",
       "<table border=\"1\" class=\"dataframe\">\n",
       "  <thead>\n",
       "    <tr style=\"text-align: right;\">\n",
       "      <th></th>\n",
       "      <th>day</th>\n",
       "      <th>testing_day</th>\n",
       "      <th>case</th>\n",
       "      <th>num_shedding</th>\n",
       "      <th>wastewater_signal</th>\n",
       "    </tr>\n",
       "  </thead>\n",
       "  <tbody>\n",
       "    <tr>\n",
       "      <th>0</th>\n",
       "      <td>10-Sep-2023</td>\n",
       "      <td>1</td>\n",
       "      <td>0</td>\n",
       "      <td>0</td>\n",
       "      <td>0</td>\n",
       "    </tr>\n",
       "    <tr>\n",
       "      <th>1</th>\n",
       "      <td>11-Sep-2023</td>\n",
       "      <td>1</td>\n",
       "      <td>0</td>\n",
       "      <td>0</td>\n",
       "      <td>0</td>\n",
       "    </tr>\n",
       "    <tr>\n",
       "      <th>2</th>\n",
       "      <td>12-Sep-2023</td>\n",
       "      <td>0</td>\n",
       "      <td>0</td>\n",
       "      <td>0</td>\n",
       "      <td>0</td>\n",
       "    </tr>\n",
       "    <tr>\n",
       "      <th>3</th>\n",
       "      <td>13-Sep-2023</td>\n",
       "      <td>1</td>\n",
       "      <td>0</td>\n",
       "      <td>0</td>\n",
       "      <td>0</td>\n",
       "    </tr>\n",
       "    <tr>\n",
       "      <th>4</th>\n",
       "      <td>14-Sep-2023</td>\n",
       "      <td>0</td>\n",
       "      <td>0</td>\n",
       "      <td>0</td>\n",
       "      <td>0</td>\n",
       "    </tr>\n",
       "    <tr>\n",
       "      <th>5</th>\n",
       "      <td>15-Sep-2023</td>\n",
       "      <td>0</td>\n",
       "      <td>0</td>\n",
       "      <td>0</td>\n",
       "      <td>0</td>\n",
       "    </tr>\n",
       "    <tr>\n",
       "      <th>6</th>\n",
       "      <td>16-Sep-2023</td>\n",
       "      <td>0</td>\n",
       "      <td>0</td>\n",
       "      <td>0</td>\n",
       "      <td>0</td>\n",
       "    </tr>\n",
       "    <tr>\n",
       "      <th>7</th>\n",
       "      <td>17-Sep-2023</td>\n",
       "      <td>1</td>\n",
       "      <td>0</td>\n",
       "      <td>0</td>\n",
       "      <td>0</td>\n",
       "    </tr>\n",
       "    <tr>\n",
       "      <th>8</th>\n",
       "      <td>18-Sep-2023</td>\n",
       "      <td>1</td>\n",
       "      <td>0</td>\n",
       "      <td>0</td>\n",
       "      <td>0</td>\n",
       "    </tr>\n",
       "    <tr>\n",
       "      <th>9</th>\n",
       "      <td>19-Sep-2023</td>\n",
       "      <td>0</td>\n",
       "      <td>0</td>\n",
       "      <td>0</td>\n",
       "      <td>0</td>\n",
       "    </tr>\n",
       "    <tr>\n",
       "      <th>10</th>\n",
       "      <td>20-Sep-2023</td>\n",
       "      <td>1</td>\n",
       "      <td>0</td>\n",
       "      <td>0</td>\n",
       "      <td>0</td>\n",
       "    </tr>\n",
       "    <tr>\n",
       "      <th>11</th>\n",
       "      <td>21-Sep-2023</td>\n",
       "      <td>0</td>\n",
       "      <td>0</td>\n",
       "      <td>0</td>\n",
       "      <td>0</td>\n",
       "    </tr>\n",
       "    <tr>\n",
       "      <th>12</th>\n",
       "      <td>22-Sep-2023</td>\n",
       "      <td>0</td>\n",
       "      <td>0</td>\n",
       "      <td>0</td>\n",
       "      <td>0</td>\n",
       "    </tr>\n",
       "    <tr>\n",
       "      <th>13</th>\n",
       "      <td>23-Sep-2023</td>\n",
       "      <td>0</td>\n",
       "      <td>0</td>\n",
       "      <td>0</td>\n",
       "      <td>0</td>\n",
       "    </tr>\n",
       "    <tr>\n",
       "      <th>14</th>\n",
       "      <td>24-Sep-2023</td>\n",
       "      <td>1</td>\n",
       "      <td>0</td>\n",
       "      <td>0</td>\n",
       "      <td>0</td>\n",
       "    </tr>\n",
       "    <tr>\n",
       "      <th>15</th>\n",
       "      <td>25-Sep-2023</td>\n",
       "      <td>1</td>\n",
       "      <td>0</td>\n",
       "      <td>0</td>\n",
       "      <td>0</td>\n",
       "    </tr>\n",
       "    <tr>\n",
       "      <th>16</th>\n",
       "      <td>26-Sep-2023</td>\n",
       "      <td>0</td>\n",
       "      <td>0</td>\n",
       "      <td>0</td>\n",
       "      <td>0</td>\n",
       "    </tr>\n",
       "    <tr>\n",
       "      <th>17</th>\n",
       "      <td>27-Sep-2023</td>\n",
       "      <td>1</td>\n",
       "      <td>0</td>\n",
       "      <td>0</td>\n",
       "      <td>0</td>\n",
       "    </tr>\n",
       "    <tr>\n",
       "      <th>18</th>\n",
       "      <td>28-Sep-2023</td>\n",
       "      <td>0</td>\n",
       "      <td>0</td>\n",
       "      <td>0</td>\n",
       "      <td>0</td>\n",
       "    </tr>\n",
       "    <tr>\n",
       "      <th>19</th>\n",
       "      <td>29-Sep-2023</td>\n",
       "      <td>0</td>\n",
       "      <td>0</td>\n",
       "      <td>0</td>\n",
       "      <td>0</td>\n",
       "    </tr>\n",
       "    <tr>\n",
       "      <th>20</th>\n",
       "      <td>30-Sep-2023</td>\n",
       "      <td>0</td>\n",
       "      <td>0</td>\n",
       "      <td>0</td>\n",
       "      <td>0</td>\n",
       "    </tr>\n",
       "    <tr>\n",
       "      <th>21</th>\n",
       "      <td>1-Oct-2023</td>\n",
       "      <td>1</td>\n",
       "      <td>0</td>\n",
       "      <td>0</td>\n",
       "      <td>0</td>\n",
       "    </tr>\n",
       "    <tr>\n",
       "      <th>22</th>\n",
       "      <td>2-Oct-2023</td>\n",
       "      <td>1</td>\n",
       "      <td>0</td>\n",
       "      <td>0</td>\n",
       "      <td>0</td>\n",
       "    </tr>\n",
       "    <tr>\n",
       "      <th>23</th>\n",
       "      <td>3-Oct-2023</td>\n",
       "      <td>0</td>\n",
       "      <td>0</td>\n",
       "      <td>0</td>\n",
       "      <td>0</td>\n",
       "    </tr>\n",
       "    <tr>\n",
       "      <th>24</th>\n",
       "      <td>4-Oct-2023</td>\n",
       "      <td>1</td>\n",
       "      <td>0</td>\n",
       "      <td>0</td>\n",
       "      <td>0</td>\n",
       "    </tr>\n",
       "    <tr>\n",
       "      <th>25</th>\n",
       "      <td>5-Oct-2023</td>\n",
       "      <td>0</td>\n",
       "      <td>0</td>\n",
       "      <td>0</td>\n",
       "      <td>0</td>\n",
       "    </tr>\n",
       "    <tr>\n",
       "      <th>26</th>\n",
       "      <td>6-Oct-2023</td>\n",
       "      <td>0</td>\n",
       "      <td>0</td>\n",
       "      <td>0</td>\n",
       "      <td>0</td>\n",
       "    </tr>\n",
       "    <tr>\n",
       "      <th>27</th>\n",
       "      <td>7-Oct-2023</td>\n",
       "      <td>0</td>\n",
       "      <td>0</td>\n",
       "      <td>0</td>\n",
       "      <td>0</td>\n",
       "    </tr>\n",
       "    <tr>\n",
       "      <th>28</th>\n",
       "      <td>8-Oct-2023</td>\n",
       "      <td>1</td>\n",
       "      <td>0</td>\n",
       "      <td>0</td>\n",
       "      <td>1</td>\n",
       "    </tr>\n",
       "    <tr>\n",
       "      <th>29</th>\n",
       "      <td>9-Oct-2023</td>\n",
       "      <td>1</td>\n",
       "      <td>0</td>\n",
       "      <td>0</td>\n",
       "      <td>1</td>\n",
       "    </tr>\n",
       "  </tbody>\n",
       "</table>\n",
       "</div>"
      ],
      "text/plain": [
       "            day  testing_day  case  num_shedding  wastewater_signal\n",
       "0   10-Sep-2023            1     0             0                  0\n",
       "1   11-Sep-2023            1     0             0                  0\n",
       "2   12-Sep-2023            0     0             0                  0\n",
       "3   13-Sep-2023            1     0             0                  0\n",
       "4   14-Sep-2023            0     0             0                  0\n",
       "5   15-Sep-2023            0     0             0                  0\n",
       "6   16-Sep-2023            0     0             0                  0\n",
       "7   17-Sep-2023            1     0             0                  0\n",
       "8   18-Sep-2023            1     0             0                  0\n",
       "9   19-Sep-2023            0     0             0                  0\n",
       "10  20-Sep-2023            1     0             0                  0\n",
       "11  21-Sep-2023            0     0             0                  0\n",
       "12  22-Sep-2023            0     0             0                  0\n",
       "13  23-Sep-2023            0     0             0                  0\n",
       "14  24-Sep-2023            1     0             0                  0\n",
       "15  25-Sep-2023            1     0             0                  0\n",
       "16  26-Sep-2023            0     0             0                  0\n",
       "17  27-Sep-2023            1     0             0                  0\n",
       "18  28-Sep-2023            0     0             0                  0\n",
       "19  29-Sep-2023            0     0             0                  0\n",
       "20  30-Sep-2023            0     0             0                  0\n",
       "21   1-Oct-2023            1     0             0                  0\n",
       "22   2-Oct-2023            1     0             0                  0\n",
       "23   3-Oct-2023            0     0             0                  0\n",
       "24   4-Oct-2023            1     0             0                  0\n",
       "25   5-Oct-2023            0     0             0                  0\n",
       "26   6-Oct-2023            0     0             0                  0\n",
       "27   7-Oct-2023            0     0             0                  0\n",
       "28   8-Oct-2023            1     0             0                  1\n",
       "29   9-Oct-2023            1     0             0                  1"
      ]
     },
     "execution_count": 40,
     "metadata": {},
     "output_type": "execute_result"
    }
   ],
   "source": [
    "aim1.head(30)"
   ]
  },
  {
   "cell_type": "code",
   "execution_count": 33,
   "id": "9609d951",
   "metadata": {},
   "outputs": [
    {
     "data": {
      "text/html": [
       "<div>\n",
       "<style scoped>\n",
       "    .dataframe tbody tr th:only-of-type {\n",
       "        vertical-align: middle;\n",
       "    }\n",
       "\n",
       "    .dataframe tbody tr th {\n",
       "        vertical-align: top;\n",
       "    }\n",
       "\n",
       "    .dataframe thead th {\n",
       "        text-align: right;\n",
       "    }\n",
       "</style>\n",
       "<table border=\"1\" class=\"dataframe\">\n",
       "  <thead>\n",
       "    <tr style=\"text-align: right;\">\n",
       "      <th></th>\n",
       "      <th>num_shedding</th>\n",
       "      <th>shedding_period</th>\n",
       "      <th>sensitivity</th>\n",
       "    </tr>\n",
       "  </thead>\n",
       "  <tbody>\n",
       "    <tr>\n",
       "      <th>0</th>\n",
       "      <td>1</td>\n",
       "      <td>1</td>\n",
       "      <td>0.852459</td>\n",
       "    </tr>\n",
       "    <tr>\n",
       "      <th>1</th>\n",
       "      <td>2</td>\n",
       "      <td>1</td>\n",
       "      <td>1.000000</td>\n",
       "    </tr>\n",
       "    <tr>\n",
       "      <th>2</th>\n",
       "      <td>3</td>\n",
       "      <td>1</td>\n",
       "      <td>1.000000</td>\n",
       "    </tr>\n",
       "    <tr>\n",
       "      <th>3</th>\n",
       "      <td>1</td>\n",
       "      <td>2</td>\n",
       "      <td>0.786517</td>\n",
       "    </tr>\n",
       "    <tr>\n",
       "      <th>4</th>\n",
       "      <td>2</td>\n",
       "      <td>2</td>\n",
       "      <td>0.956522</td>\n",
       "    </tr>\n",
       "  </tbody>\n",
       "</table>\n",
       "</div>"
      ],
      "text/plain": [
       "   num_shedding shedding_period  sensitivity\n",
       "0             1               1     0.852459\n",
       "1             2               1     1.000000\n",
       "2             3               1     1.000000\n",
       "3             1               2     0.786517\n",
       "4             2               2     0.956522"
      ]
     },
     "execution_count": 33,
     "metadata": {},
     "output_type": "execute_result"
    }
   ],
   "source": [
    "sensitivities = pd.read_csv('sensitivities.csv')\n",
    "sensitivities.head()"
   ]
  },
  {
   "cell_type": "code",
   "execution_count": 38,
   "id": "dcb55b8a",
   "metadata": {},
   "outputs": [
    {
     "data": {
      "image/png": "[encoded data removed]",
      "text/plain": [
       "<Figure size 640x480 with 1 Axes>"
      ]
     },
     "metadata": {},
     "output_type": "display_data"
    }
   ],
   "source": [
    "# Plot all lines with different line styles\n",
    "sns.lineplot(data=sensitivities, x='num_shedding', y='sensitivity', hue='shedding_period', style='shedding_period', palette='Blues', dashes=True, linewidth=1.5)\n",
    "\n",
    "# Highlight the \"CDC\" line\n",
    "cdc_data = sensitivities[sensitivities['shedding_period'] == 'CDC']\n",
    "sns.lineplot(data=cdc_data, x='num_shedding', y='sensitivity', color='red', linewidth=2, linestyle='solid', legend=False)\n",
    "\n",
    "# Customize the x-axis labels\n",
    "plt.xticks(ticks=sensitivities['num_shedding'].unique(), labels=[f'≥{int(x)}' for x in sensitivities['num_shedding'].unique()])\n",
    "\n",
    "# Customize the plot\n",
    "plt.title('Sensitivity')\n",
    "plt.xlabel('No. of persons shedding Hepatitis A Virus')\n",
    "plt.ylabel('Sensitivity (%)')\n",
    "\n",
    "# Manage legend to avoid duplicates\n",
    "handles, labels = plt.gca().get_legend_handles_labels()\n",
    "by_label = dict(zip(labels, handles))\n",
    "# Update the 'CDC' label color to red\n",
    "new_handles = [plt.Line2D([0], [0], color='red', linewidth=2, linestyle='solid') if label == 'CDC' else handle for handle, label in zip(handles, labels)]\n",
    "plt.legend(new_handles, by_label.keys(), title='Shedding Period', loc='upper left', bbox_to_anchor=(1, 1))\n",
    "\n",
    "# Show the plot\n",
    "plt.show()"
   ]
  },
  {
   "cell_type": "code",
   "execution_count": 45,
   "id": "21f663f7",
   "metadata": {},
   "outputs": [
    {
     "data": {
      "image/png": "[encoded data removed]",
      "text/plain": [
       "<Figure size 1400x1000 with 2 Axes>"
      ]
     },
     "metadata": {},
     "output_type": "display_data"
    }
   ],
   "source": [
    "df['day'] = pd.to_datetime(df['day'])\n",
    "\n",
    "# Split the data into two parts\n",
    "df1 = df.iloc[:15]\n",
    "df2 = df.iloc[15:]\n",
    "\n",
    "# Create the plots\n",
    "fig, (ax1, ax2) = plt.subplots(2, 1, figsize=(14, 10), sharey=True)\n",
    "\n",
    "# Plot for the first half\n",
    "ax1.plot(df1['day'], df1['case'], marker='o', label='Cases', color='blue')\n",
    "for i in range(len(df1)):\n",
    "    if df1['wastewater_signal'][i] == 1:\n",
    "        ax1.axvspan(df1['day'].iloc[i], df1['day'].iloc[i], color='red', alpha=0.3)\n",
    "ax1.set_ylabel('Number of Cases')\n",
    "ax1.set_title('Hepatitis A Cases and Wastewater Signal (First Half)')\n",
    "ax1.legend()\n",
    "ax1.grid(True)\n",
    "\n",
    "# Plot for the second half\n",
    "ax2.plot(df2['day'], df2['case'], marker='o', label='Cases', color='blue')\n",
    "for i in range(len(df2)):\n",
    "    if df2['wastewater_signal'][i] == 1:\n",
    "        ax2.axvspan(df2['day'].iloc[i], df2['day'].iloc[i], color='red', alpha=0.3)\n",
    "ax2.set_xlabel('Day')\n",
    "ax2.set_ylabel('Number of Cases')\n",
    "ax2.set_title('Hepatitis A Cases and Wastewater Signal (Second Half)')\n",
    "ax2.legend()\n",
    "ax2.grid(True)\n",
    "\n",
    "# Rotate day labels to be vertical\n",
    "plt.xticks(rotation=90)\n",
    "\n",
    "plt.tight_layout()\n",
    "plt.show()"
   ]
  },
  {
   "cell_type": "code",
   "execution_count": null,
   "id": "05c8a6b5",
   "metadata": {},
   "outputs": [],
   "source": []
  }
 ],
 "metadata": {
  "kernelspec": {
   "display_name": "Python 3 (ipykernel)",
   "language": "python",
   "name": "python3"
  },
  "language_info": {
   "codemirror_mode": {
    "name": "ipython",
    "version": 3
   },
   "file_extension": ".py",
   "mimetype": "text/x-python",
   "name": "python",
   "nbconvert_exporter": "python",
   "pygments_lexer": "ipython3",
   "version": "3.11.5"
  }
 },
 "nbformat": 4,
 "nbformat_minor": 5
}
